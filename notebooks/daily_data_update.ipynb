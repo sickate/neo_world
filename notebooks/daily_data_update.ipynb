{
 "cells": [
  {
   "cell_type": "code",
   "execution_count": 1,
   "id": "9a50fe54-fe8c-43fb-b66e-b3c469820c9c",
   "metadata": {},
   "outputs": [
    {
     "name": "stdout",
     "output_type": "stream",
     "text": [
      "[2022-03-14T20:09:37.053383+08:00] Enviroment loaded. Working Dir: /Users/tzhu/work/lab/neo_world/notebooks\n",
      "Today is 2022-03-14, Working from 2021-02-25 to 2022-03-14\n"
     ]
    }
   ],
   "source": [
    "%run nb-env.ipynb"
   ]
  },
  {
   "cell_type": "code",
   "execution_count": 12,
   "id": "cfce8121-e0be-46d4-a917-66f122d044f4",
   "metadata": {},
   "outputs": [],
   "source": [
    "\n",
    "sample = ['600077.SH', '603778.SH']\n",
    "stk_basic = get_stock_basic(today_date=end_date)"
   ]
  },
  {
   "cell_type": "code",
   "execution_count": 13,
   "id": "67d21f6e-8fd9-40d1-bf08-7e8724be4b36",
   "metadata": {
    "tags": []
   },
   "outputs": [
    {
     "data": {
      "application/vnd.jupyter.widget-view+json": {
       "model_id": "2a8e7bc7010e47b5870f8b0a48808566",
       "version_major": 2,
       "version_minor": 0
      },
      "text/plain": [
       "  0%|          | 0/4745 [00:00<?, ?it/s]"
      ]
     },
     "metadata": {},
     "output_type": "display_data"
    },
    {
     "name": "stdout",
     "output_type": "stream",
     "text": [
      "4657\n",
      "CPU times: user 4min 58s, sys: 15.5 s, total: 5min 13s\n",
      "Wall time: 12min 8s\n"
     ]
    }
   ],
   "source": [
    "%%time\n",
    "auc = ak_today_auctions(ts_codes=stk_basic.index, save_db=True)\n",
    "print(len(auc))"
   ]
  },
  {
   "cell_type": "code",
   "execution_count": 6,
   "id": "1a290cdc-bab3-4a96-b6d3-f7f3aa93ccf8",
   "metadata": {},
   "outputs": [
    {
     "name": "stderr",
     "output_type": "stream",
     "text": [
      "                                                                                                                                                                                                                                                                                \r"
     ]
    },
    {
     "name": "stdout",
     "output_type": "stream",
     "text": [
      "Loading 0 concepts...\n"
     ]
    },
    {
     "name": "stderr",
     "output_type": "stream",
     "text": [
      "                                                                                                                                                                                                                                                                                \r"
     ]
    },
    {
     "name": "stdout",
     "output_type": "stream",
     "text": [
      "Loading 29855 industries...\n"
     ]
    },
    {
     "name": "stderr",
     "output_type": "stream",
     "text": [
      "                                                                                                                                                                                                                                                                                \r"
     ]
    },
    {
     "ename": "KeyboardInterrupt",
     "evalue": "",
     "output_type": "error",
     "traceback": [
      "\u001b[0;31m---------------------------------------------------------------------------\u001b[0m",
      "\u001b[0;31mKeyboardInterrupt\u001b[0m                         Traceback (most recent call last)",
      "\u001b[0;32m<timed exec>\u001b[0m in \u001b[0;36m<module>\u001b[0;34m\u001b[0m\n",
      "\u001b[0;32m~/work/lab/neo_world/utils/datasource.py\u001b[0m in \u001b[0;36mak_all_plates\u001b[0;34m(use_cache, verbose)\u001b[0m\n\u001b[1;32m     67\u001b[0m             \u001b[0mtmp\u001b[0m \u001b[0;34m=\u001b[0m \u001b[0mak\u001b[0m\u001b[0;34m.\u001b[0m\u001b[0mstock_board_industry_cons_ths\u001b[0m\u001b[0;34m(\u001b[0m\u001b[0msymbol\u001b[0m\u001b[0;34m=\u001b[0m\u001b[0mname\u001b[0m\u001b[0;34m)\u001b[0m\u001b[0;34m\u001b[0m\u001b[0;34m\u001b[0m\u001b[0m\n\u001b[1;32m     68\u001b[0m             \u001b[0mtmp\u001b[0m\u001b[0;34m[\u001b[0m\u001b[0;34m'plate_type'\u001b[0m\u001b[0;34m]\u001b[0m \u001b[0;34m=\u001b[0m \u001b[0;34m'industry'\u001b[0m\u001b[0;34m\u001b[0m\u001b[0;34m\u001b[0m\u001b[0m\n\u001b[0;32m---> 69\u001b[0;31m             \u001b[0mcon_df\u001b[0m\u001b[0;34m,\u001b[0m \u001b[0msleep_counter\u001b[0m \u001b[0;34m=\u001b[0m \u001b[0mprocess_plate_res\u001b[0m\u001b[0;34m(\u001b[0m\u001b[0mcon_df\u001b[0m\u001b[0;34m,\u001b[0m \u001b[0mtmp\u001b[0m\u001b[0;34m,\u001b[0m \u001b[0mname\u001b[0m\u001b[0;34m,\u001b[0m \u001b[0msleep_counter\u001b[0m\u001b[0;34m)\u001b[0m\u001b[0;34m\u001b[0m\u001b[0;34m\u001b[0m\u001b[0m\n\u001b[0m\u001b[1;32m     70\u001b[0m         \u001b[0mcon_df\u001b[0m\u001b[0;34m.\u001b[0m\u001b[0mreset_index\u001b[0m\u001b[0;34m(\u001b[0m\u001b[0;34m)\u001b[0m\u001b[0;34m.\u001b[0m\u001b[0mto_feather\u001b[0m\u001b[0;34m(\u001b[0m\u001b[0mcons_file\u001b[0m\u001b[0;34m)\u001b[0m\u001b[0;34m\u001b[0m\u001b[0;34m\u001b[0m\u001b[0m\n\u001b[1;32m     71\u001b[0m         \u001b[0mprint\u001b[0m\u001b[0;34m(\u001b[0m\u001b[0;34mf'{len(con_df)} plates are loaded.'\u001b[0m\u001b[0;34m)\u001b[0m\u001b[0;34m\u001b[0m\u001b[0;34m\u001b[0m\u001b[0m\n",
      "\u001b[0;32m~/work/lab/neo_world/utils/datasource.py\u001b[0m in \u001b[0;36mprocess_plate_res\u001b[0;34m(con_df, tmp, name, sleep_counter)\u001b[0m\n\u001b[1;32m    290\u001b[0m     \u001b[0mtmp1\u001b[0m\u001b[0;34m.\u001b[0m\u001b[0mts_code\u001b[0m \u001b[0;34m=\u001b[0m \u001b[0mtmp1\u001b[0m\u001b[0;34m.\u001b[0m\u001b[0mts_code\u001b[0m\u001b[0;34m.\u001b[0m\u001b[0mapply\u001b[0m\u001b[0;34m(\u001b[0m\u001b[0madd_postfix\u001b[0m\u001b[0;34m)\u001b[0m\u001b[0;34m\u001b[0m\u001b[0;34m\u001b[0m\u001b[0m\n\u001b[1;32m    291\u001b[0m     \u001b[0mtmp1\u001b[0m\u001b[0;34m[\u001b[0m\u001b[0;34m'plate_name'\u001b[0m\u001b[0;34m]\u001b[0m \u001b[0;34m=\u001b[0m \u001b[0mname\u001b[0m\u001b[0;34m\u001b[0m\u001b[0;34m\u001b[0m\u001b[0m\n\u001b[0;32m--> 292\u001b[0;31m     \u001b[0;32mif\u001b[0m \u001b[0mlen\u001b[0m\u001b[0;34m(\u001b[0m\u001b[0mcon_df\u001b[0m\u001b[0;34m)\u001b[0m \u001b[0;34m==\u001b[0m \u001b[0;36m0\u001b[0m\u001b[0;34m:\u001b[0m\u001b[0;34m\u001b[0m\u001b[0;34m\u001b[0m\u001b[0m\n\u001b[0m\u001b[1;32m    293\u001b[0m         \u001b[0mcon_df\u001b[0m \u001b[0;34m=\u001b[0m \u001b[0mtmp1\u001b[0m\u001b[0;34m\u001b[0m\u001b[0;34m\u001b[0m\u001b[0m\n\u001b[1;32m    294\u001b[0m     \u001b[0;32melse\u001b[0m\u001b[0;34m:\u001b[0m\u001b[0;34m\u001b[0m\u001b[0;34m\u001b[0m\u001b[0m\n",
      "\u001b[0;31mKeyboardInterrupt\u001b[0m: "
     ]
    }
   ],
   "source": [
    "%%time\n",
    "\n",
    "pre_cons = ak_all_plates(use_cache=True)\n",
    "cons = ak_all_plates(use_cache=False)\n",
    "print(f'Before: {len(pre_cons)}, after: {len(cons)}')"
   ]
  },
  {
   "cell_type": "code",
   "execution_count": null,
   "id": "136aefda-976b-403b-835c-8e777f931c63",
   "metadata": {},
   "outputs": [],
   "source": []
  }
 ],
 "metadata": {
  "kernelspec": {
   "display_name": "Python 3 (ipykernel)",
   "language": "python",
   "name": "python3"
  },
  "language_info": {
   "codemirror_mode": {
    "name": "ipython",
    "version": 3
   },
   "file_extension": ".py",
   "mimetype": "text/x-python",
   "name": "python",
   "nbconvert_exporter": "python",
   "pygments_lexer": "ipython3",
   "version": "3.8.9"
  }
 },
 "nbformat": 4,
 "nbformat_minor": 5
}
