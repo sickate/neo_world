{
 "cells": [
  {
   "cell_type": "code",
   "execution_count": 1,
   "id": "a5ac9e06-27fd-4bd5-8b9d-78fb5aa1fd46",
   "metadata": {},
   "outputs": [],
   "source": [
    "%load_ext autoreload\n",
    "%autoreload 2\n",
    "%config Completer.use_jedi = False "
   ]
  },
  {
   "cell_type": "code",
   "execution_count": 2,
   "id": "2dda9f6c-5410-4c20-8802-66051343bd2c",
   "metadata": {},
   "outputs": [
    {
     "name": "stdout",
     "output_type": "stream",
     "text": [
      "[2022-03-04T23:15:33.102584+08:00] Enviroment loaded. Working Dir: /Users/tzhu/work/lab/neo_world/notebooks\n",
      "Today is 2022-03-04, Working from 2021-02-10 to 2022-03-04\n"
     ]
    }
   ],
   "source": [
    "# Env module \n",
    "import sys\n",
    "sys.path.append('../')\n",
    "\n",
    "\n",
    "from env import os, glob, pdl, pd, msno, trange, tqdm, sleep, timeit, timedelta\n",
    "from IPython.display import clear_output\n",
    "\n",
    "from utils.datetimes import start_date, end_date, yesterday_date, today_date, \\\n",
    "    week_ago_date, month_ago_date, biquater_ago_date, bimonth_ago_date, quater_ago_date, \\\n",
    "    biquater_ago_date, triquater_ago_date, trade_day_util as tdu\n",
    "\n",
    "from utils.calculators import *\n",
    "from utils.psql_client import load_table, insert_df, load_stock_prices\n",
    "from utils.stock_utils import *\n",
    "from utils.datasource import *\n",
    "from data_center import DataCenter\n",
    "from utils.stock_filter import StockFilter\n",
    "print(f'Today is {today_date}, Working from {start_date} to {end_date}')\n",
    "\n",
    "from utils.strategy import *\n",
    "\n",
    "from models import *\n",
    "\n",
    "pd.set_option('display.max_columns', None)\n",
    "pd.set_option('display.max_rows', 100)\n",
    "# 列名与数据对其显示 (ak?)\n",
    "pd.set_option('display.unicode.ambiguous_as_wide', True)\n",
    "pd.set_option('display.unicode.east_asian_width', True)\n",
    "\n",
    "from __future__ import (absolute_import, division, print_function,\n",
    "                        unicode_literals)"
   ]
  },
  {
   "cell_type": "code",
   "execution_count": 3,
   "id": "17042cf6-dccd-48b7-8378-c6f25d0ced6e",
   "metadata": {},
   "outputs": [],
   "source": [
    "# BT module \n",
    "\n",
    "import backtrader as bt\n",
    "import backtrader.indicators as btind\n",
    "import backtrader.feeds as btfeeds"
   ]
  },
  {
   "cell_type": "code",
   "execution_count": 4,
   "id": "dc09a3cf-f198-4761-afb9-f9a7b7ce1c82",
   "metadata": {},
   "outputs": [],
   "source": [
    "%matplotlib inline\n",
    "\n",
    "from utils.plot_plotly import *\n",
    "from utils.plot_mpl import *\n",
    "from utils.plot_bokeh import *"
   ]
  },
  {
   "cell_type": "code",
   "execution_count": 5,
   "id": "d35f7221-056f-4bc2-99cc-5e4f0495eb10",
   "metadata": {},
   "outputs": [],
   "source": [
    "def init_data(start_date, end_date, expire_days=30):\n",
    "    print(f'Initializing data from {start_date} to {end_date}...')\n",
    "    dc = DataCenter(start_date, end_date)\n",
    "    \n",
    "    search_pattern = glob.glob(f'../tmp/price_{start_date}_{end_date}_*.feather')\n",
    "    for f in search_pattern:\n",
    "        # read cache\n",
    "        print(f'Found cache file: {f}, loading...')\n",
    "        df_init = pd.read_feather(f).set_index(['ts_code', 'trade_date'])\n",
    "        break\n",
    "    else:\n",
    "        df_init = dc.merge_all()\n",
    "        # cache it\n",
    "        expire_date = pdl.today().add(days=expire_days).to_date_string()\n",
    "        df_file_path = f'../tmp/price_{start_date}_{end_date}_{expire_date}.feather'\n",
    "        df_init.reset_index().to_feather(df_file_path)      \n",
    "    return dc, df_init    "
   ]
  },
  {
   "cell_type": "code",
   "execution_count": 6,
   "id": "51d44189-de21-42b4-bd45-0c17f6db2f8a",
   "metadata": {},
   "outputs": [],
   "source": [
    "def clean_cache_files():\n",
    "    files = glob.glob('../tmp/price_*')\n",
    "    for f in files:\n",
    "        file_name = f.split('/')[-1]\n",
    "        file_params = file_name.split('.')[0].split('_')\n",
    "        if len(file_params) == 4 and pdl.parse(file_params[3]).set(tz='Asia/Shanghai') >= pdl.today():\n",
    "            print(f'Preserving recent file {file_name}')\n",
    "        else:\n",
    "            print(f'Deleting old file {file_name}')\n",
    "            try:       \n",
    "                os.remove(f)\n",
    "            except OSError as e:\n",
    "                print(\"Error: %s : %s\" % (f, e.strerror))"
   ]
  },
  {
   "cell_type": "code",
   "execution_count": 7,
   "id": "1902c91a-47c8-4977-b23d-185c6237dd27",
   "metadata": {},
   "outputs": [],
   "source": [
    "def cache_data(df, name='custom', expire_days=30):\n",
    "    expire_date = pdl.today().add(days=expire_days).to_date_string()\n",
    "    start_date = df.index[0][1].strftime('%Y-%m-%d')\n",
    "    end_date = df.index[-1][1].strftime('%Y-%m-%d')\n",
    "    df_file_path = f'../tmp/{name}_{start_date}_{end_date}_{expire_date}.feather'\n",
    "    df.reset_index().to_feather(df_file_path)\n",
    "    return df_file_path\n",
    "\n",
    "    \n",
    "def read_cache(name='custom', start_date='*', end_date='*'):\n",
    "    search_pattern = glob.glob(f'../tmp/{name}_{start_date}_{end_date}_*.feather')\n",
    "    for f in search_pattern:\n",
    "        print(f'Found cache file: {f}, loading...')\n",
    "        df = pd.read_feather(f).set_index(['ts_code', 'trade_date'])\n",
    "        break\n",
    "    return df"
   ]
  },
  {
   "cell_type": "code",
   "execution_count": 8,
   "id": "67fede63-4344-448e-b534-34d402806e19",
   "metadata": {},
   "outputs": [],
   "source": [
    "def stock_summary(df, ts_code, end_date):\n",
    "    if len(ts_code) != 6 and len(ts_code) != 9:\n",
    "        ts_code = get_ts_code_from_name(ts_code)\n",
    "    row = df.loc[ts_code, end_date]\n",
    "    ak_code = add_postfix(type='ak', ts_code=ts_code)\n",
    "    stock_zh_a_tick_tx_js_df = ak.stock_zh_a_tick_tx_js(code=ak_code)\n",
    "    auc_amount = stock_zh_a_tick_tx_js_df.iloc[0]['成交金额']\n",
    "    print(f'[{row[\"name\"]}] 竞价成交{round(auc_amount/10000, 2)}万，开盘{round(row.open_pct, 2)}%，收盘{round(row.pct_chg,2)}%，量比{round(row.vol_ratio,2)}，成交额：{round(row.amount/100000, 2)}亿，实际换手率{round(row.turnover_rate_f,2)}%')"
   ]
  },
  {
   "cell_type": "code",
   "execution_count": 9,
   "id": "008c878b-151e-4287-aa20-b07cb357035e",
   "metadata": {},
   "outputs": [],
   "source": [
    "from functools import reduce\n",
    "\n",
    "def str_join(series):\n",
    "    return reduce(lambda x, y: f'{x},{y}', series)\n",
    "\n",
    "    \n",
    "def merge_plate_names(lst):\n",
    "    if isinstance(lst, str):\n",
    "        return '+'.join(set(map(lambda c: c.strip(), lst.split(','))))\n",
    "    else:\n",
    "        return 'NA'\n",
    "    \n",
    "def stock_summaries(df, ts_codes, end_date, cols=None, get_auc=False, top_cons=None):\n",
    "    ts_codes = list(map(lambda c: get_ts_code_from_name(c) if len(c) != 6 and len(c) != 9 else c, ts_codes))\n",
    "    today_df = df.xs(end_date, level='trade_date', drop_level=True)\n",
    "    target_df = today_df[today_df.index.isin(ts_codes)]\n",
    "    if top_cons is not None:\n",
    "        target_df = target_df.join(top_cons)\n",
    "    if cols is None:\n",
    "        cols = ['name', 'close', 'pre5_pct_chg', 'pre20_pct_chg', 'circ_mv', 'total_mv', 'vol', 'turnover_rate_f', 'amount', 'conseq_up_num', 'strth', 'first_time', 'last_time', 'fd_amount']\n",
    "    if get_auc:\n",
    "        for ts_code in tqdm(ts_codes):\n",
    "            ak_code = add_postfix(type='ak', ts_code=ts_code)\n",
    "            stock_zh_a_tick_tx_js_df = ak.stock_zh_a_tick_tx_js(code=ak_code)\n",
    "            target_df.loc[ts_code, 'auc_amt'] = stock_zh_a_tick_tx_js_df.iloc[0]['成交金额']\n",
    "            open_pct = target_df.loc[ts_code, 'open_pct']\n",
    "            auc_amt = target_df.loc[ts_code, 'auc_amt']\n",
    "            pct_chg =  target_df.loc[ts_code, 'pct_chg']\n",
    "            auc_v_pre_vol_ratio =(auc_amt / target_df.loc[ts_code, 'pre_amount'] / 1000)\n",
    "            if target_df.loc[ts_code, 'limit'] == 'U':\n",
    "                up = '【涨停】'\n",
    "            elif target_df.loc[ts_code, 'limit'] == 'D':\n",
    "                up = '【跌停】'\n",
    "            else:\n",
    "                up = ''\n",
    "            print(f'[{target_df.loc[ts_code, \"name\"]}] 开{round(open_pct,2)}%，竞价成交{round(auc_amt/100000000, 2)}亿 ({round(auc_v_pre_vol_ratio, 2)})，收{round(pct_chg,2)}%。{up}')\n",
    "        cols = cols + ['auc_amt', 'open_pct', 'pct_chg']\n",
    "    else:\n",
    "        for i, ts_code in enumerate(ts_codes):\n",
    "            row = target_df.loc[ts_code]\n",
    "            print(f'{i+1}. {row[\"name\"]} ({merge_plate_names(row.plate_name)}, {row.conseq_up_num}板 ({row.up_type})，流值{round(row.circ_mv/10000, 2)}亿，量比{round(row.vol_ratio,2)}，{round(row.amount/100000, 2)}亿，trf{round(row.turnover_rate_f,0)}%)：')\n",
    "    return target_df[cols]"
   ]
  },
  {
   "cell_type": "code",
   "execution_count": null,
   "id": "d0305b85-61dd-4a55-a87e-0c10a195cf64",
   "metadata": {},
   "outputs": [],
   "source": [
    "def calc_top_cons(cons_today, cons):\n",
    "    top_cons= (\n",
    "         cons_today.reset_index()[['ts_code', 'name','plate_name']]\n",
    "            .merge(cons[['upstop_num', 'pct_chg', 'p5_pct_chg']], on=['plate_name'])\n",
    "            .sort_values(['pct_chg'], ascending=False)\n",
    "            .groupby('name').head(3)\n",
    "            .groupby('ts_code').agg({'plate_name': str_join})\n",
    "    )\n",
    "    return top_cons\n"
   ]
  },
  {
   "cell_type": "code",
   "execution_count": null,
   "id": "87afca04-5c4b-43ba-bc33-e2d8584ebc1b",
   "metadata": {},
   "outputs": [],
   "source": [
    "def market_summary(df, end_date):\n",
    "    today_df = df.xs(end_date, level='trade_date', drop_level=True)\n",
    "    today_hs = StockFilter(end_date=end_date).hs().filter(today_df)\n",
    "    \n",
    "    total_amt = round(today_hs.amount.sum()/100000, 2)\n",
    "    \n",
    "    bs_amount = round(ak.stock_em_hsgt_north_net_flow_in(indicator=\"北上\").rename(columns={'date': 'trade_date'}).set_index('trade_date').loc[end_date].value / 10000, 2)\n",
    "    hgt_amount = round(ak.stock_em_hsgt_north_net_flow_in(indicator=\"沪股通\").rename(columns={'date': 'trade_date'}).set_index('trade_date').loc[end_date].value / 10000, 2)\n",
    "    sgt_amount = round(ak.stock_em_hsgt_north_net_flow_in(indicator=\"深股通\").rename(columns={'date': 'trade_date'}).set_index('trade_date').loc[end_date].value / 10000, 2)\n",
    "\n",
    "    median_pct_chg = round(today_hs.pct_chg.mean(),2)\n",
    "    emo = read_pg(table='activities')\n",
    "    emo['trade_date'] = emo.trade_date.apply(lambda x: pdl.parse(x))\n",
    "    emo.set_index('trade_date', inplace=True)\n",
    "    emo = emo.loc[end_date]\n",
    "    \n",
    "    #upstops\n",
    "    today_hs = StockFilter(end_date=end_date).hs().not_st().filter(today_df)\n",
    "    today_uped = today_hs[today_hs.high == today_hs.upstop_price]\n",
    "    today_up = today_hs[today_hs.limit=='U']\n",
    "    today_dn = today_hs[today_hs.limit=='D']\n",
    "    up_fail_rate = round((len(today_uped)-len(today_up))/len(today_uped)*100,2)\n",
    "    \n",
    "    # trend  pre_up_pct\tpre_ups_pct\tp_up_t_noup_pct\n",
    "    upstop_trend_df = upstop_trend(df, end_date, n_days=3)\n",
    "    pre_up_pct = round(upstop_trend_df.tail(1).pre_up_pct.iat[-1], 2)\n",
    "    pre_ups_pct = round(upstop_trend_df.tail(1).pre_ups_pct.iat[-1], 2)\n",
    "    p_up_t_noup_pct = round(upstop_trend_df.tail(1).p_up_t_noup_pct.iat[-1], 2)\n",
    "    \n",
    "    print(f'【{end_date}】')\n",
    "    print(f'总成交{total_amt}亿，北上总流入{bs_amount}亿（沪{hgt_amount}亿, 深{sgt_amount}亿）。涨跌比：{emo.up.astype(\"int\")}/{emo.dn.astype(\"int\")}，中位涨幅：{median_pct_chg}%，热度：{emo.vitality}。')\n",
    "    print(f'涨跌停：{emo.real_upstop.astype(\"int\")}/{emo.real_dnstop.astype(\"int\")}，炸板率{up_fail_rate}%，连板高度{today_up.conseq_up_num.max()}板。昨涨停平均涨幅{pre_up_pct}%，掉队股平均涨幅{p_up_t_noup_pct}%。')"
   ]
  },
  {
   "cell_type": "code",
   "execution_count": null,
   "id": "4a7a6eae-cf85-4cc2-b253-50937f0cbd21",
   "metadata": {},
   "outputs": [],
   "source": [
    "def get_tfp(end_date):\n",
    "    end_date_ak = pdl.parse(end_date).strftime('%Y%m%d')\n",
    "    stock_em_tfp_df = ak.stock_tfp_em(date=end_date_ak)\n",
    "    stock_em_tfp_df.set_index('代码', inplace=True)\n",
    "    stock_em_tfp_df = stock_em_tfp_df[~stock_em_tfp_df.index.str.startswith('8')]\n",
    "    if len(stock_em_tfp_df[stock_em_tfp_df['停牌原因']=='交易异常波动'])>0:\n",
    "        display(stock_em_tfp_df[stock_em_tfp_df['停牌原因']=='交易异常波动'])\n",
    "    print('=================================================================================')\n",
    "    display(stock_em_tfp_df[stock_em_tfp_df['停牌原因']!='交易异常波动'])\n",
    "    return stock_em_tfp_df\n"
   ]
  },
  {
   "cell_type": "code",
   "execution_count": null,
   "id": "5ace0b8e-b7c2-4fce-acc2-273be09f293a",
   "metadata": {},
   "outputs": [],
   "source": [
    "import re\n",
    "def round_print(text, *numbers):\n",
    "    regex = re.compile('{}')\n",
    "    if len(regex.findall(text)) != len(numbers):\n",
    "        raise ValueError('Number of numbers does not match the pattern')\n",
    "    for num in numbers:\n",
    "        text = regex.sub(str(round(num, 2)), text, 1)\n",
    "    print(text)"
   ]
  },
  {
   "cell_type": "code",
   "execution_count": null,
   "id": "8411da7d-adf0-4d79-947e-fb18c6fa3313",
   "metadata": {},
   "outputs": [],
   "source": [
    "def check_performance(df):\n",
    "    round_print('[Total] [CVO] Min: {}%, Max: {}%, Avg: {}%, Median: {}%', df.cvo.min(), df.cvo.max(), df.cvo.mean(), df.cvo.median())\n",
    "    df1 = df[df.open_pct >= 0]\n",
    "    round_print('[Open >=0][CVO] Min: {}%, Max: {}%, Avg: {}%, Median: {}%', df1.cvo.min(), df1.cvo.max(), df1.cvo.mean(), df1.cvo.median())\n",
    "    print(f'[Count] Upstop: {len(df[df.limit==\"U\"])}, Non_Y: {len(df[(df.limit==\"U\") & (df.up_type != \"Y\")])}, Total {len(df)}')\n"
   ]
  },
  {
   "cell_type": "code",
   "execution_count": 10,
   "id": "31326284-cc53-46f0-83a2-1cd6e125dd80",
   "metadata": {},
   "outputs": [],
   "source": [
    "norm_cols = ['name', 'close', 'circ_mv', 'turnover_rate_f', 'amount']\n",
    "up_cols = ['name', 'close', 'pre5_pct_chg', 'pre20_pct_chg', 'circ_mv', 'total_mv', 'vol', 'turnover_rate_f', 'amount', 'conseq_up_num', 'strth', 'first_time', 'last_time', 'fd_amount']\n",
    "UPSTOP_COLS = ['name', 'open', 'high', 'close', 'circ_mv', 'total_mv', 'vol', 'vol_type', 'vol_ratio', 'amount', 'open_pct', 'pct_chg', 'up_type', 'first_time', 'last_time', 'open_times', 'strth', 'turnover_rate_f', 'fl_ratio', 'fc_ratio']\n"
   ]
  },
  {
   "cell_type": "code",
   "execution_count": null,
   "id": "8cbb4459-245c-4445-8ba5-77cb7be2a382",
   "metadata": {},
   "outputs": [],
   "source": []
  }
 ],
 "metadata": {
  "kernelspec": {
   "display_name": "Python 3 (ipykernel)",
   "language": "python",
   "name": "python3"
  },
  "language_info": {
   "codemirror_mode": {
    "name": "ipython",
    "version": 3
   },
   "file_extension": ".py",
   "mimetype": "text/x-python",
   "name": "python",
   "nbconvert_exporter": "python",
   "pygments_lexer": "ipython3",
   "version": "3.8.9"
  }
 },
 "nbformat": 4,
 "nbformat_minor": 5
}
