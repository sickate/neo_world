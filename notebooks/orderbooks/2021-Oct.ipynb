{
 "cells": [
  {
   "cell_type": "code",
   "execution_count": 1,
   "id": "forbidden-dining",
   "metadata": {
    "tags": []
   },
   "outputs": [
    {
     "name": "stdout",
     "output_type": "stream",
     "text": [
      "[2021-11-14T16:05:43.445386+08:00] Enviroment loaded. Working Dir: /Users/tzhu/work/lab/neo_world/notebooks\n",
      "Today is 2021-11-14, Working from 2020-10-28 to 2021-11-12\n"
     ]
    }
   ],
   "source": [
    "%run nb-env.ipynb"
   ]
  },
  {
   "cell_type": "code",
   "execution_count": 4,
   "id": "67c00f44-3fba-4b0e-addb-704cb72e6c5b",
   "metadata": {},
   "outputs": [
    {
     "name": "stdout",
     "output_type": "stream",
     "text": [
      "Initializing data from 2021-09-20 to 2021-10-29...\n",
      "Merging all data...\n",
      "Start loading stock data from PG...\n",
      "Start loading adjfactor data from PG...\n",
      "Start loading daily_basic data from PG...\n",
      "Merging...\n",
      "Processing price variables...\n",
      "Calculating upstop data...\n",
      "Calculating MAs...\n",
      "Calculating list_days...\n",
      "CPU times: user 57.4 s, sys: 2.77 s, total: 1min\n",
      "Wall time: 1min 16s\n"
     ]
    }
   ],
   "source": [
    "%%time\n",
    "\n",
    "start_date = '2021-09-20'\n",
    "end_date = tdu.past_trade_days('2021-10-31')[-1]\n",
    "\n",
    "date=end_date + 'T'\n",
    "_, df_init = init_data(start_date, end_date, expire_days=60)\n",
    "df = df_init.copy(deep=True)"
   ]
  },
  {
   "cell_type": "markdown",
   "id": "4693ee6a-975b-4082-bf8b-e0ac278d1525",
   "metadata": {},
   "source": [
    "### 1. Daily Trade"
   ]
  },
  {
   "cell_type": "markdown",
   "id": "a51f5fdb-6c4b-4f2f-a17f-72576df5aa34",
   "metadata": {},
   "source": [
    "#### October"
   ]
  },
  {
   "cell_type": "code",
   "execution_count": 35,
   "id": "6a4a2e60-e076-4c8a-9490-63feb63a6466",
   "metadata": {
    "jupyter": {
     "source_hidden": true
    },
    "tags": []
   },
   "outputs": [
    {
     "data": {
      "text/html": [
       "[2021-10-15T09:40:04] <text style=color:red>买入</text> <b>荃银高科</b> 400 股, 均价 31.7 元, 总金额 12680.0 元, 税费 5.00 元."
      ],
      "text/plain": [
       "<IPython.core.display.HTML object>"
      ]
     },
     "metadata": {},
     "output_type": "display_data"
    },
    {
     "data": {
      "text/html": [
       "[2021-10-15T09:49:13] <text style=color:red>买入</text> <b>南大光电</b> 200 股, 均价 51.98 元, 总金额 10396.0 元, 税费 5.00 元."
      ],
      "text/plain": [
       "<IPython.core.display.HTML object>"
      ]
     },
     "metadata": {},
     "output_type": "display_data"
    },
    {
     "data": {
      "text/html": [
       "[2021-10-15T10:19:14] <text style=color:green>卖出</text> <b>雷曼光电</b> 1700 股, 均价 12.72 元, 总金额 21624.0 元, 税费 26.62 元."
      ],
      "text/plain": [
       "<IPython.core.display.HTML object>"
      ]
     },
     "metadata": {},
     "output_type": "display_data"
    },
    {
     "data": {
      "text/html": [
       "[2021-10-15T13:27:30] <text style=color:red>买入</text> <b>雷曼光电</b> 500 股, 均价 12.25 元, 总金额 6125.0 元, 税费 5.00 元."
      ],
      "text/plain": [
       "<IPython.core.display.HTML object>"
      ]
     },
     "metadata": {},
     "output_type": "display_data"
    },
    {
     "data": {
      "text/html": [
       "[2021-10-15T13:26:11] <text style=color:green>卖出</text> <b>宝色股份</b> 800 股, 均价 24.65 元, 总金额 19720.0 元, 税费 24.72 元."
      ],
      "text/plain": [
       "<IPython.core.display.HTML object>"
      ]
     },
     "metadata": {},
     "output_type": "display_data"
    },
    {
     "data": {
      "text/html": [
       "[2021-10-15T11:11:06] <text style=color:red>买入</text> <b>南大光电</b> 200 股, 均价 52.11 元, 总金额 10422.0 元, 税费 5.00 元."
      ],
      "text/plain": [
       "<IPython.core.display.HTML object>"
      ]
     },
     "metadata": {},
     "output_type": "display_data"
    },
    {
     "data": {
      "text/html": [
       "[2021-10-15T15:00:00] <text style=color:green>卖出</text> <b>爱施德</b> 1400 股, 均价 10.65 元, 总金额 14910.0 元, 税费 19.91 元."
      ],
      "text/plain": [
       "<IPython.core.display.HTML object>"
      ]
     },
     "metadata": {},
     "output_type": "display_data"
    },
    {
     "data": {
      "text/html": [
       "[2021-10-15T15:00:00] <text style=color:green>卖出</text> <b>华宝股份</b> 300 股, 均价 44.05 元, 总金额 13215.0 元, 税费 18.22 元."
      ],
      "text/plain": [
       "<IPython.core.display.HTML object>"
      ]
     },
     "metadata": {},
     "output_type": "display_data"
    }
   ],
   "source": [
    "date='2021-10-15T'\n",
    "\n",
    "order, html_output = write_log('300087', date+'09:40:04', 400, 31.7, '早上沿均线上攻，追高买入，日面 10%。')\n",
    "display(html_output)\n",
    "\n",
    "order, html_output = write_log('300346', date+'09:49:13', 200, 51.98, '前期大幅下跌后有企稳迹象，日内光刻胶板块也低开高走，感觉大幅下杀可能不高')\n",
    "display(html_output)\n",
    "\n",
    "order, html_output = write_log('300162', date+'10:19:14', -1700, 12.72, '典型 macd 分时顶背离卖出')\n",
    "display(html_output)\n",
    "\n",
    "order, html_output = write_log('300162', date+'13:27:30', 500, 12.25, '尾盘企稳，接回小部分')\n",
    "display(html_output)\n",
    "\n",
    "order, html_output = write_log('300402', date+'13:26:11', -800, 24.65, '试图抓fib的节点反弹不成功，及时撤出')\n",
    "display(html_output)\n",
    "\n",
    "order, html_output = write_log('300346', date+'11:11:06', 200, 52.11, '冲高回调均线，继续加仓')\n",
    "display(html_output)\n",
    "\n",
    "order, html_output = write_log('002416', date+'15:00:00', -1400, 10.65, '一天没有起色，清仓')\n",
    "display(html_output)\n",
    "\n",
    "order, html_output = write_log('300741', date+'15:00:00', -300, 44.05, '一天没有起色，清仓')\n",
    "display(html_output)"
   ]
  },
  {
   "cell_type": "code",
   "execution_count": 38,
   "id": "6ff23fca-8f2c-4848-87f6-2e7b45e53f08",
   "metadata": {
    "jupyter": {
     "source_hidden": true
    },
    "tags": []
   },
   "outputs": [
    {
     "data": {
      "text/html": [
       "[2021-10-18T10:02:56] <text style=color:green>卖出</text> <b>聚飞光电</b> 3200 股, 均价 6.18 元, 总金额 19776.0 元, 税费 24.78 元."
      ],
      "text/plain": [
       "<IPython.core.display.HTML object>"
      ]
     },
     "metadata": {},
     "output_type": "display_data"
    },
    {
     "data": {
      "text/html": [
       "[2021-10-18T14:15:05] <text style=color:green>卖出</text> <b>荃银高科</b> 400 股, 均价 31.49 元, 总金额 12596.0 元, 税费 17.60 元."
      ],
      "text/plain": [
       "<IPython.core.display.HTML object>"
      ]
     },
     "metadata": {},
     "output_type": "display_data"
    },
    {
     "data": {
      "text/html": [
       "[2021-10-18T13:26:11] <text style=color:red>买入</text> <b>合盛硅业</b> 100 股, 均价 172.87 元, 总金额 17287.0 元, 税费 5.00 元."
      ],
      "text/plain": [
       "<IPython.core.display.HTML object>"
      ]
     },
     "metadata": {},
     "output_type": "display_data"
    }
   ],
   "source": [
    "date='2021-10-18T'\n",
    "order, html_output = write_log('300850', date+'09:37:51', 100, 194.15, '风电走强，双一科技20cm封板，低吸后排低位')\n",
    "display(html_output)\n",
    "\n",
    "order, html_output = write_log('300690', date+'09:38:44', 300, 31.18, '风电第一个 20cm，上板后直接炸了。前期从高位下来很多，底部没有很大换手，套牢盘太多')\n",
    "display(html_output)\n",
    "\n",
    "order, html_output = write_log('300162', date+'09:43:01', -500, 12.44, '直线冲高12cm 后回落，清仓')\n",
    "display(html_output)\n",
    "\n",
    "order, html_output = write_log('300303', date+'10:02:56', -3200, 6.18, '跌破 ma5 且没有起色，清仓')\n",
    "display(html_output)\n",
    "\n",
    "order, html_output = write_log('300087', date+'14:15:05', -400, 31.49, '盘前有种业利好，仍然低开-5%，随后慢慢上冲，跟随转基因冲高到 10%附近macd 顶背离清仓')\n",
    "display(html_output)\n",
    "\n",
    "order, html_output = write_log('603260', date+'13:26:11', 100, 172.87, '前期强势，近期跌去 3 成，考虑到近期板块轮流修复，博弈一个轮动超跌反弹')\n",
    "display(html_output)"
   ]
  },
  {
   "cell_type": "markdown",
   "id": "6ff06177-2313-45b5-be7a-005f5142448a",
   "metadata": {},
   "source": [
    "* 计划\n",
    "双一应该可以等冲高，"
   ]
  },
  {
   "cell_type": "code",
   "execution_count": 5,
   "id": "179814a6-8d71-4181-b9a9-75f3f46cdf94",
   "metadata": {
    "jupyter": {
     "source_hidden": true
    },
    "tags": []
   },
   "outputs": [
    {
     "data": {
      "text/html": [
       "[2021-10-19T14:52:15] <text style=color:red>买入</text> <b>读客文化</b> 800 股, 均价 17.3 元, 总金额 13840.0 元, 税费 5.00 元."
      ],
      "text/plain": [
       "<IPython.core.display.HTML object>"
      ]
     },
     "metadata": {},
     "output_type": "display_data"
    },
    {
     "data": {
      "text/html": [
       "[2021-10-19T14:44:26] <text style=color:green>卖出</text> <b>南大光电</b> 400 股, 均价 52.55 元, 总金额 21020.0 元, 税费 26.02 元."
      ],
      "text/plain": [
       "<IPython.core.display.HTML object>"
      ]
     },
     "metadata": {},
     "output_type": "display_data"
    },
    {
     "data": {
      "text/html": [
       "[2021-10-19T09:48:37] <text style=color:red>买入</text> <b>英维克</b> 100 股, 均价 39.01 元, 总金额 3901.0 元, 税费 5.00 元."
      ],
      "text/plain": [
       "<IPython.core.display.HTML object>"
      ]
     },
     "metadata": {},
     "output_type": "display_data"
    },
    {
     "data": {
      "text/html": [
       "[2021-10-19T09:38:37] <text style=color:red>买入</text> <b>天泽信息</b> 1600 股, 均价 7.92 元, 总金额 12672.0 元, 税费 5.00 元."
      ],
      "text/plain": [
       "<IPython.core.display.HTML object>"
      ]
     },
     "metadata": {},
     "output_type": "display_data"
    }
   ],
   "source": [
    "date='2021-10-19T'\n",
    "\n",
    "order, html_output = write_log('301025', date+'14:52:15', 800, 17.3, '底部回升，回试均线，今日站稳均线，明天不突破就走')\n",
    "display(html_output)\n",
    "\n",
    "order, html_output = write_log('300346', date+'14:44:26', -400, 52.55, '缩量，没有有动作的迹象，先出去')\n",
    "display(html_output)\n",
    "\n",
    "order, html_output = write_log('002837', date+'09:48:37', 100, 39.01, '储能概念，今日大火。但是该股突破平台板，打完就炸了')\n",
    "display(html_output)\n",
    "\n",
    "order, html_output = write_log('300209', date+'09:38:37', 1600, 7.92, '跨境电商，前期活跃，回调5日线')\n",
    "display(html_output)"
   ]
  },
  {
   "cell_type": "code",
   "execution_count": null,
   "id": "14c7e073-ab33-4f8a-b27d-2e7964ef3038",
   "metadata": {},
   "outputs": [],
   "source": [
    "# 英维克和昊华科技，炸板量和次日行情关系，储能 ok 的话可以低吸做 T\n",
    "# 合盛硅业考虑下杀低吸做T\n",
    "# 双一科技下杀不破阳县底部可以低吸\n",
    "#\n",
    "# 新强联和天泽信息不到 ma5 可以继续拿一下\n",
    "# 赌客文化站不住 ma5 就走"
   ]
  },
  {
   "cell_type": "code",
   "execution_count": 5,
   "id": "8f1ee7f9-18c7-4293-a63c-08d484f2df2b",
   "metadata": {
    "jupyter": {
     "source_hidden": true
    },
    "tags": []
   },
   "outputs": [
    {
     "data": {
      "text/html": [
       "[2021-10-20T09:44:56] <text style=color:red>买入</text> <b>华辰装备</b> 300 股, 均价 54.21 元, 总金额 16263.0 元, 税费 5.00 元."
      ],
      "text/plain": [
       "<IPython.core.display.HTML object>"
      ]
     },
     "metadata": {},
     "output_type": "display_data"
    },
    {
     "data": {
      "text/html": [
       "[2021-10-20T09:48:37] <text style=color:red>买入</text> <b>天泽信息</b> 1100 股, 均价 7.66 元, 总金额 8426.0 元, 税费 5.00 元."
      ],
      "text/plain": [
       "<IPython.core.display.HTML object>"
      ]
     },
     "metadata": {},
     "output_type": "display_data"
    },
    {
     "data": {
      "text/html": [
       "[2021-10-20T10:12:43] <text style=color:green>卖出</text> <b>读客文化</b> 800 股, 均价 16.93 元, 总金额 13544.0 元, 税费 18.54 元."
      ],
      "text/plain": [
       "<IPython.core.display.HTML object>"
      ]
     },
     "metadata": {},
     "output_type": "display_data"
    },
    {
     "data": {
      "text/html": [
       "[2021-10-20T13:22:48] <text style=color:green>卖出</text> <b>天泽信息</b> 1600 股, 均价 8.15 元, 总金额 13040.0 元, 税费 18.04 元."
      ],
      "text/plain": [
       "<IPython.core.display.HTML object>"
      ]
     },
     "metadata": {},
     "output_type": "display_data"
    }
   ],
   "source": [
    "order, html_output = write_log('300809', date+'09:44:56', 300, 54.21, '工业母鸡前期龙头，连阳站稳 5 日线，今日板块上涨')\n",
    "display(html_output)\n",
    "\n",
    "order, html_output = write_log('300209', date+'09:48:37', 1100, 7.66, '反弹自动单买入')\n",
    "display(html_output)\n",
    "\n",
    "order, html_output = write_log('301025', date+'10:12:43', -800, 16.93, '昨日尾盘站不住均线，今天也没有企稳迹象，跑路')\n",
    "display(html_output)\n",
    "\n",
    "order, html_output = write_log('300209', date+'13:22:48', -1600, 8.15, '直线拉高回落，担心不反弹直接卖了，错误：MACD没有背离，应等日内背离再卖')\n",
    "display(html_output) "
   ]
  },
  {
   "cell_type": "code",
   "execution_count": 3,
   "id": "60e15010-7585-42d6-b275-9d22c55ee04b",
   "metadata": {
    "jupyter": {
     "source_hidden": true
    },
    "tags": []
   },
   "outputs": [
    {
     "data": {
      "text/html": [
       "[2021-10-21T09:32:12] <text style=color:red>买入</text> <b>和胜股份</b> 400 股, 均价 38.89 元, 总金额 15556.0 元, 税费 5.00 元."
      ],
      "text/plain": [
       "<IPython.core.display.HTML object>"
      ]
     },
     "metadata": {},
     "output_type": "display_data"
    },
    {
     "data": {
      "text/html": [
       "[2021-10-21T09:39:50] <text style=color:red>买入</text> <b>首华燃气</b> 600 股, 均价 22.05 元, 总金额 13230.0 元, 税费 5.00 元."
      ],
      "text/plain": [
       "<IPython.core.display.HTML object>"
      ]
     },
     "metadata": {},
     "output_type": "display_data"
    },
    {
     "data": {
      "text/html": [
       "[2021-10-21T09:59:21] <text style=color:green>卖出</text> <b>新强联</b> 100 股, 均价 195.36 元, 总金额 19536.0 元, 税费 24.54 元."
      ],
      "text/plain": [
       "<IPython.core.display.HTML object>"
      ]
     },
     "metadata": {},
     "output_type": "display_data"
    },
    {
     "data": {
      "text/html": [
       "[2021-10-21T10:18:38] <text style=color:green>卖出</text> <b>天泽信息</b> 1100 股, 均价 8.92 元, 总金额 9812.0 元, 税费 14.81 元."
      ],
      "text/plain": [
       "<IPython.core.display.HTML object>"
      ]
     },
     "metadata": {},
     "output_type": "display_data"
    },
    {
     "data": {
      "text/html": [
       "[2021-10-21T15:00:00] <text style=color:green>卖出</text> <b>华辰装备</b> 300 股, 均价 51 元, 总金额 15300 元, 税费 20.30 元."
      ],
      "text/plain": [
       "<IPython.core.display.HTML object>"
      ]
     },
     "metadata": {},
     "output_type": "display_data"
    }
   ],
   "source": [
    "# \n",
    "order, html_output = write_log('002824', date+'09:32:12', 400, 38.89, '新能车，铝，回调 ma5')\n",
    "display(html_output)\n",
    "\n",
    "order, html_output = write_log('300483', date+'09:39:50', 600, 22.05, '早盘天然气冲高，个股已经横盘若干天。错误：应该买入强势的而不是前期买过的，自己熟悉的')\n",
    "display(html_output)\n",
    "\n",
    "order, html_output = write_log('300850', date+'09:59:21', -100, 195.36, '早上一直很弱，跌破ma5，板块绿盘，大盘绿盘')\n",
    "display(html_output)\n",
    "\n",
    "order, html_output = write_log('300209', date+'10:18:38', -1100, 8.92, '冲高14cm 急剧回落，小幅反弹后继续杀跌到 7.2%卖出')\n",
    "display(html_output)\n",
    "\n",
    "order, html_output = write_log('300809', date+'15:00:00', -300, 51, '跌破 5 日线，且板块走弱，大盘弱势。降低仓位降低风险')\n",
    "display(html_output)"
   ]
  },
  {
   "cell_type": "code",
   "execution_count": 3,
   "id": "73e21ddd-9feb-4ee8-bf39-9850379c885a",
   "metadata": {
    "jupyter": {
     "source_hidden": true
    },
    "tags": []
   },
   "outputs": [
    {
     "data": {
      "text/html": [
       "[2021-10-22T09:34:05] <text style=color:red>买入</text> <b>聚灿光电</b> 700 股, 均价 19.2 元, 总金额 13440.0 元, 税费 5.00 元."
      ],
      "text/plain": [
       "<IPython.core.display.HTML object>"
      ]
     },
     "metadata": {},
     "output_type": "display_data"
    },
    {
     "data": {
      "text/html": [
       "[2021-10-22T09:35:52] <text style=color:red>买入</text> <b>南大光电</b> 300 股, 均价 53.49 元, 总金额 16047.0 元, 税费 5.00 元."
      ],
      "text/plain": [
       "<IPython.core.display.HTML object>"
      ]
     },
     "metadata": {},
     "output_type": "display_data"
    },
    {
     "data": {
      "text/html": [
       "[2021-10-22T11:06:11] <text style=color:green>卖出</text> <b>英维克</b> 100 股, 均价 42.7 元, 总金额 4270.0 元, 税费 9.27 元."
      ],
      "text/plain": [
       "<IPython.core.display.HTML object>"
      ]
     },
     "metadata": {},
     "output_type": "display_data"
    }
   ],
   "source": [
    "order, html_output = write_log('300708', date+'09:34:05', 700, 19.2, '早盘国科微封板科技拉高，MiniLED 板块中位置不错')\n",
    "display(html_output)\n",
    "\n",
    "order, html_output = write_log('300346', date+'09:35:52', 300, 53.49, '早盘国科微封板科技拉高，光刻胶板块中位置不错')\n",
    "display(html_output)\n",
    "\n",
    "order, html_output = write_log('002837', date+'11:06:11', -100, 42.7, '二次开板后走势疲软，大盘下行')\n",
    "display(html_output)"
   ]
  },
  {
   "cell_type": "code",
   "execution_count": 3,
   "id": "71ad55c6-5fe8-420e-9c4b-28e5849c9fea",
   "metadata": {
    "jupyter": {
     "source_hidden": true
    },
    "tags": []
   },
   "outputs": [
    {
     "data": {
      "text/html": [
       "[2021-10-25T09:37:36] <text style=color:red>买入</text> <b>双一科技</b> 300 股, 均价 27.82 元, 总金额 8346.0 元, 税费 5.00 元."
      ],
      "text/plain": [
       "<IPython.core.display.HTML object>"
      ]
     },
     "metadata": {},
     "output_type": "display_data"
    },
    {
     "data": {
      "text/html": [
       "[2021-10-25T09:40:44] <text style=color:red>买入</text> <b>泉峰汽车</b> 400 股, 均价 26.61 元, 总金额 10644.0 元, 税费 5.00 元."
      ],
      "text/plain": [
       "<IPython.core.display.HTML object>"
      ]
     },
     "metadata": {},
     "output_type": "display_data"
    },
    {
     "data": {
      "text/html": [
       "[2021-10-25T10:53:45] <text style=color:green>卖出</text> <b>双一科技</b> 300 股, 均价 29.11 元, 总金额 8733.0 元, 税费 13.73 元."
      ],
      "text/plain": [
       "<IPython.core.display.HTML object>"
      ]
     },
     "metadata": {},
     "output_type": "display_data"
    },
    {
     "data": {
      "text/html": [
       "[2021-10-25T11:11:11] <text style=color:red>买入</text> <b>五矿稀土</b> 200 股, 均价 40.57 元, 总金额 8114.0 元, 税费 5.00 元."
      ],
      "text/plain": [
       "<IPython.core.display.HTML object>"
      ]
     },
     "metadata": {},
     "output_type": "display_data"
    },
    {
     "data": {
      "text/html": [
       "[2021-10-25T11:11:31] <text style=color:red>买入</text> <b>正海磁材</b> 700 股, 均价 12.05 元, 总金额 8435.0 元, 税费 5.00 元."
      ],
      "text/plain": [
       "<IPython.core.display.HTML object>"
      ]
     },
     "metadata": {},
     "output_type": "display_data"
    },
    {
     "data": {
      "text/html": [
       "[2021-10-25T11:12:59] <text style=color:green>卖出</text> <b>合盛硅业</b> 100 股, 均价 185.33 元, 总金额 18533.0 元, 税费 23.53 元."
      ],
      "text/plain": [
       "<IPython.core.display.HTML object>"
      ]
     },
     "metadata": {},
     "output_type": "display_data"
    },
    {
     "data": {
      "text/html": [
       "[2021-10-25T14:16:19] <text style=color:green>卖出</text> <b>首华燃气</b> 600 股, 均价 22.36 元, 总金额 13416.0 元, 税费 18.42 元."
      ],
      "text/plain": [
       "<IPython.core.display.HTML object>"
      ]
     },
     "metadata": {},
     "output_type": "display_data"
    },
    {
     "data": {
      "text/html": [
       "[2021-10-25T15:00:00] <text style=color:green>卖出</text> <b>南大光电</b> 300 股, 均价 55.6 元, 总金额 16680.0 元, 税费 21.68 元."
      ],
      "text/plain": [
       "<IPython.core.display.HTML object>"
      ]
     },
     "metadata": {},
     "output_type": "display_data"
    }
   ],
   "source": [
    "order, html_output = write_log('300690', date+'09:37:36', 300, 27.82, '风电走高，加仓准备做T')\n",
    "display(html_output)\n",
    "\n",
    "order, html_output = write_log('603982', date+'09:40:44', 400, 26.61, '回调5日线站稳，博弈冲高')\n",
    "display(html_output)\n",
    "\n",
    "order, html_output = write_log('300690', date+'10:53:45', -300, 29.11, 'MACD 顶背离成功 T 出仓位')\n",
    "display(html_output)\n",
    "\n",
    "order, html_output = write_log('000831', date+'11:11:11', 200, 40.57, '越甲提示稀土矿机会')\n",
    "display(html_output)\n",
    "\n",
    "order, html_output = write_log('300224', date+'11:11:31', 700, 12.05, '越甲提示稀土矿机会，近期站稳10日线')\n",
    "display(html_output)\n",
    "\n",
    "order, html_output = write_log('603260', date+'11:12:59', -100, 185.33, 'MACD 顶背离卖出')\n",
    "display(html_output)\n",
    "\n",
    "order, html_output = write_log('300483', date+'14:16:19', -600, 22.36, '跌破分时均线止盈')\n",
    "display(html_output)\n",
    "\n",
    "order, html_output = write_log('300346', date+'15:00:00', -300, 55.6, '日内反弹到接近水线，为降低总仓位暂时止盈')\n",
    "display(html_output)"
   ]
  },
  {
   "cell_type": "code",
   "execution_count": 3,
   "id": "f79b7ca1-a06f-41fa-a900-a69037387f4d",
   "metadata": {
    "jupyter": {
     "source_hidden": true
    },
    "tags": []
   },
   "outputs": [
    {
     "data": {
      "text/html": [
       "[2021-10-26T09:32:12] <text style=color:green>卖出</text> <b>和胜股份</b> 400 股, 均价 36.54 元, 总金额 14616.0 元, 税费 19.62 元."
      ],
      "text/plain": [
       "<IPython.core.display.HTML object>"
      ]
     },
     "metadata": {},
     "output_type": "display_data"
    },
    {
     "data": {
      "text/html": [
       "[2021-10-26T09:32:51] <text style=color:red>买入</text> <b>申菱环境</b> 300 股, 均价 32.95 元, 总金额 9885.0 元, 税费 5.00 元."
      ],
      "text/plain": [
       "<IPython.core.display.HTML object>"
      ]
     },
     "metadata": {},
     "output_type": "display_data"
    },
    {
     "data": {
      "text/html": [
       "[2021-10-26T09:34:03] <text style=color:green>卖出</text> <b>泉峰汽车</b> 400 股, 均价 27.56 元, 总金额 11024.0 元, 税费 16.02 元."
      ],
      "text/plain": [
       "<IPython.core.display.HTML object>"
      ]
     },
     "metadata": {},
     "output_type": "display_data"
    },
    {
     "data": {
      "text/html": [
       "[2021-10-26T09:55:44] <text style=color:red>买入</text> <b>申菱环境</b> 300 股, 均价 29.61 元, 总金额 8883.0 元, 税费 5.00 元."
      ],
      "text/plain": [
       "<IPython.core.display.HTML object>"
      ]
     },
     "metadata": {},
     "output_type": "display_data"
    },
    {
     "data": {
      "text/html": [
       "[2021-10-26T10:25:24] <text style=color:red>买入</text> <b>正海生物</b> 200 股, 均价 58.15 元, 总金额 11630.0 元, 税费 5.00 元."
      ],
      "text/plain": [
       "<IPython.core.display.HTML object>"
      ]
     },
     "metadata": {},
     "output_type": "display_data"
    }
   ],
   "source": [
    "# 标的\n",
    "# 申菱环境（储能次新）\n",
    "# 长信科技（300元宇宙）\n",
    "# 凤凰光学，广宇发展（前期龙头）\n",
    "# 新元科技（300强势，举牌）\n",
    "# 美格智能（消费电子），信濠光电（次新 300，消费电子）\n",
    "# 持仓\n",
    "# 和胜股份，聚灿光电找机会走\n",
    "# 双一继续 T，泉峰找机会止盈\n",
    "# 五矿正海等\n",
    "order, html_output = write_log('002824', date+'09:32:12', -400, 36.54, '竞价结束前突然冲高4%+，开盘后又直线杀跌到-4%，为规避更大风险选择割肉')\n",
    "display(html_output)\n",
    "\n",
    "order, html_output = write_log('301018', date+'09:32:51', 300, 32.95, '300次新储能，昨日涨停，今日竞价从 12%+走低，最终高开8%，一度冲高到 9%。早盘局势不明的时候追高买入是个大错误。')\n",
    "display(html_output)\n",
    "\n",
    "order, html_output = write_log('603982', date+'09:34:03', -400, 27.56, '竞价结束前突然冲高2%，开盘后急速下杀，担心翻绿卖出。错误：早盘急杀是洗盘')\n",
    "display(html_output)\n",
    "\n",
    "order, html_output = write_log('301018', date+'09:55:44', 300, 29.61, '错误！条件单反弹买入试图摊平损失。')\n",
    "display(html_output)\n",
    "\n",
    "order, html_output = write_log('300653', date+'10:25:24', 200, 58.15, '缩量回踩 ma5，博弈后续冲高')\n",
    "display(html_output)"
   ]
  },
  {
   "cell_type": "code",
   "execution_count": 6,
   "id": "178d591c-a14b-4173-931d-b2aac32d3786",
   "metadata": {
    "jupyter": {
     "source_hidden": true
    },
    "tags": []
   },
   "outputs": [
    {
     "data": {
      "text/html": [
       "[2021-10-27T09:33:57] <text style=color:red>买入</text> <b>隆利科技</b> 500 股, 均价 23.27 元, 总金额 11635.0 元, 税费 5.00 元."
      ],
      "text/plain": [
       "<IPython.core.display.HTML object>"
      ]
     },
     "metadata": {},
     "output_type": "display_data"
    },
    {
     "data": {
      "text/html": [
       "[2021-10-27T09:47:55] <text style=color:red>买入</text> <b>双一科技</b> 300 股, 均价 26.39 元, 总金额 7917.0 元, 税费 5.00 元."
      ],
      "text/plain": [
       "<IPython.core.display.HTML object>"
      ]
     },
     "metadata": {},
     "output_type": "display_data"
    }
   ],
   "source": [
    "# 今日申菱环境冲高回落没有卖掉，最后跟随大盘回落，但是均线附近支撑还可以，明天继续观察\n",
    "date='2021-10-27T'\n",
    "order, html_output = write_log('300752', date+'09:33:57', 500, 23.27, '昨日涨停，今日开盘后拉升，在1%附近买入')\n",
    "display(html_output)\n",
    "order, html_output = write_log('300690', date+'09:47:55', 300, 26.39, '低开-10.9%后上攻，回踩均线附近买入试图日内做T')\n",
    "display(html_output)"
   ]
  },
  {
   "cell_type": "markdown",
   "id": "519cd5f9-df03-4009-a380-8217c73386af",
   "metadata": {},
   "source": [
    "* 活跃：国科微（前高附近盘整），建业股份（冲高回落缩量）\n",
    "  * 国科微走低，建业股份 -8% 深 v 拉起 \n",
    "* 炸板：兴发集团（上方高位成交较大），天壕环境（3 季报已出，烂而不弱。如果早盘急杀可低吸）\n",
    "  * 兴发平开收-2%，天壕环境缓慢杀跌-7.4%\n",
    "* 300均线回调：广信材料（年线回调），金银河（有机硅锂电池，新高回调）\n",
    "  * 广信-1.3%到-4%，金银河暴跌-8.7%\n",
    "* 前高：康隆达（服装），东方雨虹（跌停机构爆买）\n",
    "  * 康隆达-3%，东方雨虹1.1%"
   ]
  },
  {
   "cell_type": "code",
   "execution_count": 7,
   "id": "3e242b0f-1f95-4ed8-82af-0c40146675bf",
   "metadata": {
    "jupyter": {
     "source_hidden": true
    },
    "tags": []
   },
   "outputs": [
    {
     "data": {
      "text/html": [
       "[2021-10-28T09:41:34] <text style=color:green>卖出</text> <b>申菱环境</b> 600 股, 均价 31.41 元, 总金额 18846.0 元, 税费 23.85 元."
      ],
      "text/plain": [
       "<IPython.core.display.HTML object>"
      ]
     },
     "metadata": {},
     "output_type": "display_data"
    },
    {
     "data": {
      "text/html": [
       "[2021-10-28T09:43:51] <text style=color:red>买入</text> <b>广信材料</b> 400 股, 均价 17.6 元, 总金额 7040.000000000001 元, 税费 5.00 元."
      ],
      "text/plain": [
       "<IPython.core.display.HTML object>"
      ]
     },
     "metadata": {},
     "output_type": "display_data"
    },
    {
     "data": {
      "text/html": [
       "[2021-10-28T09:44:30] <text style=color:red>买入</text> <b>隆利科技</b> 500 股, 均价 22.94 元, 总金额 11470.0 元, 税费 5.00 元."
      ],
      "text/plain": [
       "<IPython.core.display.HTML object>"
      ]
     },
     "metadata": {},
     "output_type": "display_data"
    }
   ],
   "source": [
    "order, html_output = write_log('301018', date+'09:41:34', -600, 31.41, '冲高7.5%回落到5.3%，自动单卖出。后有小幅冲高到8.4%形成顶背离')\n",
    "display(html_output)\n",
    "order, html_output = write_log('300537', date+'09:43:51', 400, 17.6, '回踩 ma5 买入，大盘不好导致继续下跌')\n",
    "display(html_output)\n",
    "order, html_output = write_log('300752', date+'09:44:30', 500, 22.94, '低开-7%上冲到-4%回探均线买入，后一度冲高到-2.5%，尾盘又回到-5.9%')\n",
    "display(html_output)"
   ]
  },
  {
   "cell_type": "markdown",
   "id": "8907ee52-5405-4acc-b0ae-5d011c5b5466",
   "metadata": {},
   "source": [
    "* 炸板：**天顺风能**（trf11%，涨停后开板补量，今日突破新高），北汽蓝谷（trf10%，全天封住尾盘集合竞价开板，日 k 还在箱体内部运行）\n",
    "* 活跃：共达电声（trf14%，最近一波涨幅 30%+），上海电力（trf19%，前高很近可能有抛压）\n",
    "* 涨停：无"
   ]
  },
  {
   "cell_type": "code",
   "execution_count": 7,
   "id": "76c58148-432a-4726-a375-dceac062a640",
   "metadata": {
    "jupyter": {
     "source_hidden": true
    },
    "tags": []
   },
   "outputs": [
    {
     "data": {
      "text/html": [
       "[98] [2021-10-29T09:56:29] <text style=color:red>买入</text> <b>国科微</b> 100 股, 均价 168.89 元, 总金额 16889.0 元, 税费 5.00 元."
      ],
      "text/plain": [
       "<IPython.core.display.HTML object>"
      ]
     },
     "metadata": {},
     "output_type": "display_data"
    },
    {
     "data": {
      "text/html": [
       "[99] [2021-10-29T10:36:43] <text style=color:green>卖出</text> <b>五矿稀土</b> 200 股, 均价 38.33 元, 总金额 7666.0 元, 税费 12.67 元."
      ],
      "text/plain": [
       "<IPython.core.display.HTML object>"
      ]
     },
     "metadata": {},
     "output_type": "display_data"
    },
    {
     "data": {
      "text/html": [
       "[100] [2021-10-29T10:50:30] <text style=color:green>卖出</text> <b>正海生物</b> 200 股, 均价 59.07 元, 总金额 11814.0 元, 税费 16.81 元."
      ],
      "text/plain": [
       "<IPython.core.display.HTML object>"
      ]
     },
     "metadata": {},
     "output_type": "display_data"
    },
    {
     "data": {
      "text/html": [
       "[101] [2021-10-29T14:13:53] <text style=color:green>卖出</text> <b>聚灿光电</b> 700 股, 均价 18.4 元, 总金额 12880.0 元, 税费 17.88 元."
      ],
      "text/plain": [
       "<IPython.core.display.HTML object>"
      ]
     },
     "metadata": {},
     "output_type": "display_data"
    },
    {
     "data": {
      "text/html": [
       "[102] [2021-10-29T14:15:34] <text style=color:green>卖出</text> <b>隆利科技</b> 1000 股, 均价 25.45 元, 总金额 25450.0 元, 税费 30.54 元."
      ],
      "text/plain": [
       "<IPython.core.display.HTML object>"
      ]
     },
     "metadata": {},
     "output_type": "display_data"
    },
    {
     "data": {
      "text/html": [
       "[103] [2021-10-29T14:39:49] <text style=color:red>买入</text> <b>东方雨虹</b> 300 股, 均价 41.77 元, 总金额 12531.0 元, 税费 5.00 元."
      ],
      "text/plain": [
       "<IPython.core.display.HTML object>"
      ]
     },
     "metadata": {},
     "output_type": "display_data"
    }
   ],
   "source": [
    "date='2021-10-29T'\n",
    "order, html_output = write_log('国科微', date+'095629', 100, 168.89, '接近前高位置缩量整理不破 MA5')\n",
    "display(html_output)\n",
    "\n",
    "order, html_output = write_log('000831', date+'103643', -200, 38.33, '日内 macd 顶背离，趁机止损')\n",
    "display(html_output)\n",
    "\n",
    "order, html_output = write_log('正海生物', date+'10:50:30', -200, 59.07, '冲高到 7%已经抹平浮亏，上攻乏力量能萎缩，趁没有回调前离场')\n",
    "display(html_output)\n",
    "\n",
    "order, html_output = write_log('300708', date+'141353', -700, 18.4, '日内小幅冲高后已经走弱，此时出现一个小高峰，虽然不及前高，但觉得后续会没有后劲，提前止损')\n",
    "display(html_output)\n",
    "\n",
    "order, html_output = write_log('隆利科技', date+'141534', -1000, 25.45, '上午冲高到 16.6%之后逐渐缩量走弱，为了降低仓位和下周回调的风险，选择兑现')\n",
    "display(html_output)\n",
    "\n",
    "order, html_output = write_log('东方雨虹', date+'143949', 300, 41.77, '前2 日跌停龙虎榜机构大买，昨日已经企稳，博弈一个机构套利预期')\n",
    "display(html_output)"
   ]
  },
  {
   "cell_type": "markdown",
   "id": "a9500ee9-89b5-4ea8-86f7-ca23363b35f5",
   "metadata": {},
   "source": [
    "### 2. Order Summary"
   ]
  },
  {
   "cell_type": "code",
   "execution_count": 5,
   "id": "14791316-2761-42e1-a7ab-9290e555787d",
   "metadata": {},
   "outputs": [
    {
     "name": "stdout",
     "output_type": "stream",
     "text": [
      "From 2021-09-20 to 2021-10-29 summary:\n",
      "Total profit: 725.87, Max profit: 2304.46, Max lost: -1238.22.\n",
      "Winning rate: 53.57% (15/28), Avg profit: 661.31, Avg loses: -612.91\n",
      "Current holding: 5 stocks [￥59151.0]. Current profit: -2676.73.\n"
     ]
    }
   ],
   "source": [
    "finished, holding, orders = trade_summary2(start_date, end_date, df)"
   ]
  },
  {
   "cell_type": "code",
   "execution_count": 6,
   "id": "6f60e625-5d9e-44a1-a193-b5b671aa0ba1",
   "metadata": {},
   "outputs": [
    {
     "data": {
      "text/html": [
       "<div>\n",
       "<style scoped>\n",
       "    .dataframe tbody tr th:only-of-type {\n",
       "        vertical-align: middle;\n",
       "    }\n",
       "\n",
       "    .dataframe tbody tr th {\n",
       "        vertical-align: top;\n",
       "    }\n",
       "\n",
       "    .dataframe thead th {\n",
       "        text-align: right;\n",
       "    }\n",
       "</style>\n",
       "<table border=\"1\" class=\"dataframe\">\n",
       "  <thead>\n",
       "    <tr style=\"text-align: right;\">\n",
       "      <th></th>\n",
       "      <th></th>\n",
       "      <th>name</th>\n",
       "      <th>op_num</th>\n",
       "      <th>vol</th>\n",
       "      <th>price</th>\n",
       "      <th>expense</th>\n",
       "      <th>close</th>\n",
       "      <th>total_vol</th>\n",
       "      <th>total_expense</th>\n",
       "      <th>hold_value</th>\n",
       "      <th>profit</th>\n",
       "      <th>reason</th>\n",
       "    </tr>\n",
       "    <tr>\n",
       "      <th>ts_code</th>\n",
       "      <th>trade_date</th>\n",
       "      <th></th>\n",
       "      <th></th>\n",
       "      <th></th>\n",
       "      <th></th>\n",
       "      <th></th>\n",
       "      <th></th>\n",
       "      <th></th>\n",
       "      <th></th>\n",
       "      <th></th>\n",
       "      <th></th>\n",
       "      <th></th>\n",
       "    </tr>\n",
       "  </thead>\n",
       "  <tbody>\n",
       "    <tr>\n",
       "      <th>002271.SZ</th>\n",
       "      <th>2021-10-29</th>\n",
       "      <td>东方雨虹</td>\n",
       "      <td>1</td>\n",
       "      <td>300</td>\n",
       "      <td>41.77</td>\n",
       "      <td>-12536.0</td>\n",
       "      <td>41.75</td>\n",
       "      <td>300</td>\n",
       "      <td>-12536.00</td>\n",
       "      <td>12525.0</td>\n",
       "      <td>-11.00</td>\n",
       "      <td>前2 日跌停龙虎榜机构大买，昨日已经企稳，博弈一个机构套利预期...</td>\n",
       "    </tr>\n",
       "    <tr>\n",
       "      <th>300224.SZ</th>\n",
       "      <th>2021-10-25</th>\n",
       "      <td>正海磁材</td>\n",
       "      <td>1</td>\n",
       "      <td>700</td>\n",
       "      <td>12.05</td>\n",
       "      <td>-8440.0</td>\n",
       "      <td>11.28</td>\n",
       "      <td>700</td>\n",
       "      <td>-8440.00</td>\n",
       "      <td>7896.0</td>\n",
       "      <td>-544.00</td>\n",
       "      <td>越甲提示稀土矿机会，近期站稳10日线</td>\n",
       "    </tr>\n",
       "    <tr>\n",
       "      <th>300537.SZ</th>\n",
       "      <th>2021-10-28</th>\n",
       "      <td>广信材料</td>\n",
       "      <td>1</td>\n",
       "      <td>400</td>\n",
       "      <td>17.60</td>\n",
       "      <td>-7045.0</td>\n",
       "      <td>17.08</td>\n",
       "      <td>400</td>\n",
       "      <td>-7045.00</td>\n",
       "      <td>6832.0</td>\n",
       "      <td>-213.00</td>\n",
       "      <td>回踩 ma5 买入，大盘不好导致继续下跌</td>\n",
       "    </tr>\n",
       "    <tr>\n",
       "      <th>300672.SZ</th>\n",
       "      <th>2021-10-29</th>\n",
       "      <td>国科微</td>\n",
       "      <td>1</td>\n",
       "      <td>100</td>\n",
       "      <td>168.89</td>\n",
       "      <td>-16894.0</td>\n",
       "      <td>168.32</td>\n",
       "      <td>100</td>\n",
       "      <td>-16894.00</td>\n",
       "      <td>16832.0</td>\n",
       "      <td>-62.00</td>\n",
       "      <td>接近前高位置缩量整理不破 MA5</td>\n",
       "    </tr>\n",
       "    <tr>\n",
       "      <th>300690.SZ</th>\n",
       "      <th>2021-10-27</th>\n",
       "      <td>双一科技</td>\n",
       "      <td>1</td>\n",
       "      <td>300</td>\n",
       "      <td>26.39</td>\n",
       "      <td>-7922.0</td>\n",
       "      <td>25.11</td>\n",
       "      <td>600</td>\n",
       "      <td>-16912.73</td>\n",
       "      <td>15066.0</td>\n",
       "      <td>-1846.73</td>\n",
       "      <td>低开-10.9%后上攻，回踩均线附近买入试图日内做T</td>\n",
       "    </tr>\n",
       "  </tbody>\n",
       "</table>\n",
       "</div>"
      ],
      "text/plain": [
       "                          name  op_num  vol   price  expense   close  \\\n",
       "ts_code   trade_date                                                   \n",
       "002271.SZ 2021-10-29  东方雨虹       1  300   41.77 -12536.0   41.75   \n",
       "300224.SZ 2021-10-25  正海磁材       1  700   12.05  -8440.0   11.28   \n",
       "300537.SZ 2021-10-28  广信材料       1  400   17.60  -7045.0   17.08   \n",
       "300672.SZ 2021-10-29    国科微       1  100  168.89 -16894.0  168.32   \n",
       "300690.SZ 2021-10-27  双一科技       1  300   26.39  -7922.0   25.11   \n",
       "\n",
       "                      total_vol  total_expense  hold_value   profit  \\\n",
       "ts_code   trade_date                                                  \n",
       "002271.SZ 2021-10-29        300      -12536.00     12525.0   -11.00   \n",
       "300224.SZ 2021-10-25        700       -8440.00      7896.0  -544.00   \n",
       "300537.SZ 2021-10-28        400       -7045.00      6832.0  -213.00   \n",
       "300672.SZ 2021-10-29        100      -16894.00     16832.0   -62.00   \n",
       "300690.SZ 2021-10-27        600      -16912.73     15066.0 -1846.73   \n",
       "\n",
       "                                                                                  reason  \n",
       "ts_code   trade_date                                                                      \n",
       "002271.SZ 2021-10-29  前2 日跌停龙虎榜机构大买，昨日已经企稳，博弈一个机构套利预期......  \n",
       "300224.SZ 2021-10-25                 越甲提示稀土矿机会，近期站稳10日线                   \n",
       "300537.SZ 2021-10-28                回踩 ma5 买入，大盘不好导致继续下跌                   \n",
       "300672.SZ 2021-10-29                       接近前高位置缩量整理不破 MA5                   \n",
       "300690.SZ 2021-10-27      低开-10.9%后上攻，回踩均线附近买入试图日内做T                   "
      ]
     },
     "execution_count": 6,
     "metadata": {},
     "output_type": "execute_result"
    }
   ],
   "source": [
    "holding[OREDER_COLS]"
   ]
  },
  {
   "cell_type": "code",
   "execution_count": 7,
   "id": "6322646c-0fdd-466a-bbb8-a71ff401dfde",
   "metadata": {},
   "outputs": [
    {
     "data": {
      "text/html": [
       "<div>\n",
       "<style scoped>\n",
       "    .dataframe tbody tr th:only-of-type {\n",
       "        vertical-align: middle;\n",
       "    }\n",
       "\n",
       "    .dataframe tbody tr th {\n",
       "        vertical-align: top;\n",
       "    }\n",
       "\n",
       "    .dataframe thead th {\n",
       "        text-align: right;\n",
       "    }\n",
       "</style>\n",
       "<table border=\"1\" class=\"dataframe\">\n",
       "  <thead>\n",
       "    <tr style=\"text-align: right;\">\n",
       "      <th></th>\n",
       "      <th></th>\n",
       "      <th>name</th>\n",
       "      <th>op_num</th>\n",
       "      <th>vol</th>\n",
       "      <th>price</th>\n",
       "      <th>expense</th>\n",
       "      <th>close</th>\n",
       "      <th>total_vol</th>\n",
       "      <th>total_expense</th>\n",
       "      <th>hold_value</th>\n",
       "      <th>profit</th>\n",
       "      <th>reason</th>\n",
       "      <th>buy_reason</th>\n",
       "    </tr>\n",
       "    <tr>\n",
       "      <th>ts_code</th>\n",
       "      <th>trade_date</th>\n",
       "      <th></th>\n",
       "      <th></th>\n",
       "      <th></th>\n",
       "      <th></th>\n",
       "      <th></th>\n",
       "      <th></th>\n",
       "      <th></th>\n",
       "      <th></th>\n",
       "      <th></th>\n",
       "      <th></th>\n",
       "      <th></th>\n",
       "      <th></th>\n",
       "    </tr>\n",
       "  </thead>\n",
       "  <tbody>\n",
       "    <tr>\n",
       "      <th>000591.SZ</th>\n",
       "      <th>2021-09-30</th>\n",
       "      <td>太阳能</td>\n",
       "      <td>1</td>\n",
       "      <td>-1800</td>\n",
       "      <td>11.11</td>\n",
       "      <td>19973.00</td>\n",
       "      <td>12.57</td>\n",
       "      <td>0</td>\n",
       "      <td>-1201.44</td>\n",
       "      <td>0.0</td>\n",
       "      <td>-1201.44</td>\n",
       "      <td>NaN</td>\n",
       "      <td>None</td>\n",
       "    </tr>\n",
       "    <tr>\n",
       "      <th>000812.SZ</th>\n",
       "      <th>2021-10-14</th>\n",
       "      <td>陕西金叶</td>\n",
       "      <td>1</td>\n",
       "      <td>-2400</td>\n",
       "      <td>3.40</td>\n",
       "      <td>8146.84</td>\n",
       "      <td>3.49</td>\n",
       "      <td>0</td>\n",
       "      <td>-1194.16</td>\n",
       "      <td>0.0</td>\n",
       "      <td>-1194.16</td>\n",
       "      <td>买入当日就炸板9%大面，次日低开直接下杀，为了避免跌停直接卖出...</td>\n",
       "      <td>教育受利好刺激集体上涨，标的一字板，排板买入</td>\n",
       "    </tr>\n",
       "    <tr>\n",
       "      <th>000831.SZ</th>\n",
       "      <th>2021-10-29</th>\n",
       "      <td>五矿稀土</td>\n",
       "      <td>1</td>\n",
       "      <td>-200</td>\n",
       "      <td>38.33</td>\n",
       "      <td>7653.33</td>\n",
       "      <td>37.83</td>\n",
       "      <td>0</td>\n",
       "      <td>-465.67</td>\n",
       "      <td>0.0</td>\n",
       "      <td>-465.67</td>\n",
       "      <td>日内 macd 顶背离，趁机止损</td>\n",
       "      <td>越甲提示稀土矿机会</td>\n",
       "    </tr>\n",
       "    <tr>\n",
       "      <th>002416.SZ</th>\n",
       "      <th>2021-10-15</th>\n",
       "      <td>爱施德</td>\n",
       "      <td>1</td>\n",
       "      <td>-1400</td>\n",
       "      <td>10.65</td>\n",
       "      <td>14890.09</td>\n",
       "      <td>10.65</td>\n",
       "      <td>0</td>\n",
       "      <td>-640.91</td>\n",
       "      <td>0.0</td>\n",
       "      <td>-640.91</td>\n",
       "      <td>一天没有起色，清仓</td>\n",
       "      <td>老王推荐，电子烟题材</td>\n",
       "    </tr>\n",
       "    <tr>\n",
       "      <th>002824.SZ</th>\n",
       "      <th>2021-10-26</th>\n",
       "      <td>和胜股份</td>\n",
       "      <td>1</td>\n",
       "      <td>-400</td>\n",
       "      <td>36.54</td>\n",
       "      <td>14596.38</td>\n",
       "      <td>37.20</td>\n",
       "      <td>0</td>\n",
       "      <td>-964.62</td>\n",
       "      <td>0.0</td>\n",
       "      <td>-964.62</td>\n",
       "      <td>竞价结束前突然冲高4%+，开盘后又直线杀跌到-4%，为规避更大风险选择割肉...</td>\n",
       "      <td>新能车，铝，回调 ma5</td>\n",
       "    </tr>\n",
       "    <tr>\n",
       "      <th>002837.SZ</th>\n",
       "      <th>2021-10-22</th>\n",
       "      <td>英维克</td>\n",
       "      <td>1</td>\n",
       "      <td>-100</td>\n",
       "      <td>42.70</td>\n",
       "      <td>4260.73</td>\n",
       "      <td>40.04</td>\n",
       "      <td>0</td>\n",
       "      <td>354.73</td>\n",
       "      <td>0.0</td>\n",
       "      <td>354.73</td>\n",
       "      <td>二次开板后走势疲软，大盘下行</td>\n",
       "      <td>储能概念，今日大火。但是该股突破平台板，打完就炸了...</td>\n",
       "    </tr>\n",
       "    <tr>\n",
       "      <th>300087.SZ</th>\n",
       "      <th>2021-10-18</th>\n",
       "      <td>荃银高科</td>\n",
       "      <td>1</td>\n",
       "      <td>-400</td>\n",
       "      <td>31.49</td>\n",
       "      <td>12578.40</td>\n",
       "      <td>31.64</td>\n",
       "      <td>0</td>\n",
       "      <td>-106.60</td>\n",
       "      <td>0.0</td>\n",
       "      <td>-106.60</td>\n",
       "      <td>盘前有种业利好，仍然低开-5%，随后慢慢上冲，跟随转基因冲高到 10%附近macd 顶背离清...</td>\n",
       "      <td>早上沿均线上攻，追高买入，日面 10%。</td>\n",
       "    </tr>\n",
       "    <tr>\n",
       "      <th>300102.SZ</th>\n",
       "      <th>2021-10-14</th>\n",
       "      <td>乾照光电</td>\n",
       "      <td>1</td>\n",
       "      <td>-1700</td>\n",
       "      <td>8.11</td>\n",
       "      <td>13768.21</td>\n",
       "      <td>8.11</td>\n",
       "      <td>0</td>\n",
       "      <td>-227.79</td>\n",
       "      <td>0.0</td>\n",
       "      <td>-227.79</td>\n",
       "      <td>开盘在均线下方一路走低，MiniLed 板块也不坚挺，感觉当天不会有行情了...</td>\n",
       "      <td>MINILED业绩向好，K 线触底反弹，30min 2 买</td>\n",
       "    </tr>\n",
       "    <tr>\n",
       "      <th rowspan=\"2\" valign=\"top\">300162.SZ</th>\n",
       "      <th>2021-10-15</th>\n",
       "      <td>雷曼光电</td>\n",
       "      <td>1</td>\n",
       "      <td>-1700</td>\n",
       "      <td>12.72</td>\n",
       "      <td>21597.38</td>\n",
       "      <td>12.22</td>\n",
       "      <td>0</td>\n",
       "      <td>1566.38</td>\n",
       "      <td>0.0</td>\n",
       "      <td>1566.38</td>\n",
       "      <td>典型 macd 分时顶背离卖出</td>\n",
       "      <td>强势回调均线，日内站住分时，k 线也站住 ma5，感觉随时可能上攻，拿个先手...</td>\n",
       "    </tr>\n",
       "    <tr>\n",
       "      <th>2021-10-18</th>\n",
       "      <td>雷曼光电</td>\n",
       "      <td>2</td>\n",
       "      <td>-500</td>\n",
       "      <td>12.44</td>\n",
       "      <td>6208.78</td>\n",
       "      <td>12.63</td>\n",
       "      <td>0</td>\n",
       "      <td>78.78</td>\n",
       "      <td>0.0</td>\n",
       "      <td>78.78</td>\n",
       "      <td>直线冲高12cm 后回落，清仓</td>\n",
       "      <td>尾盘企稳，接回小部分</td>\n",
       "    </tr>\n",
       "    <tr>\n",
       "      <th>300209.SZ</th>\n",
       "      <th>2021-10-21</th>\n",
       "      <td>天泽信息</td>\n",
       "      <td>1</td>\n",
       "      <td>-1100</td>\n",
       "      <td>8.92</td>\n",
       "      <td>9797.19</td>\n",
       "      <td>9.05</td>\n",
       "      <td>0</td>\n",
       "      <td>1711.15</td>\n",
       "      <td>0.0</td>\n",
       "      <td>1711.15</td>\n",
       "      <td>冲高14cm 急剧回落，小幅反弹后继续杀跌到 7.2%卖出</td>\n",
       "      <td>跨境电商，前期活跃，回调5日线</td>\n",
       "    </tr>\n",
       "    <tr>\n",
       "      <th>300296.SZ</th>\n",
       "      <th>2021-10-14</th>\n",
       "      <td>利亚德</td>\n",
       "      <td>1</td>\n",
       "      <td>-1400</td>\n",
       "      <td>10.06</td>\n",
       "      <td>14064.92</td>\n",
       "      <td>9.99</td>\n",
       "      <td>0</td>\n",
       "      <td>73.92</td>\n",
       "      <td>0.0</td>\n",
       "      <td>73.92</td>\n",
       "      <td>低开围绕均线波动，MiniLed 板块也不坚挺，感觉当天不会有行情了...</td>\n",
       "      <td>MINILED业绩向好，图形还可以</td>\n",
       "    </tr>\n",
       "    <tr>\n",
       "      <th rowspan=\"2\" valign=\"top\">300303.SZ</th>\n",
       "      <th>2021-10-14</th>\n",
       "      <td>聚飞光电</td>\n",
       "      <td>1</td>\n",
       "      <td>-3000</td>\n",
       "      <td>6.32</td>\n",
       "      <td>18936.04</td>\n",
       "      <td>6.36</td>\n",
       "      <td>0</td>\n",
       "      <td>1021.04</td>\n",
       "      <td>0.0</td>\n",
       "      <td>1021.04</td>\n",
       "      <td>低开冲上均线又急剧回落，MiniLed 板块也不坚挺，感觉当天不会有行情了...</td>\n",
       "      <td>低开冲上均线又急剧回落，MiniLed 板块也不坚挺，感觉当天不会有行情了...</td>\n",
       "    </tr>\n",
       "    <tr>\n",
       "      <th>2021-10-18</th>\n",
       "      <td>聚飞光电</td>\n",
       "      <td>2</td>\n",
       "      <td>-3200</td>\n",
       "      <td>6.18</td>\n",
       "      <td>19751.22</td>\n",
       "      <td>6.24</td>\n",
       "      <td>0</td>\n",
       "      <td>-477.78</td>\n",
       "      <td>0.0</td>\n",
       "      <td>-477.78</td>\n",
       "      <td>跌破 ma5 且没有起色，清仓</td>\n",
       "      <td>感觉站稳均线，还是希望在低位的 MiniLED 拿个先手</td>\n",
       "    </tr>\n",
       "    <tr>\n",
       "      <th rowspan=\"2\" valign=\"top\">300346.SZ</th>\n",
       "      <th>2021-10-19</th>\n",
       "      <td>南大光电</td>\n",
       "      <td>1</td>\n",
       "      <td>-400</td>\n",
       "      <td>52.55</td>\n",
       "      <td>20993.98</td>\n",
       "      <td>52.67</td>\n",
       "      <td>0</td>\n",
       "      <td>165.98</td>\n",
       "      <td>0.0</td>\n",
       "      <td>165.98</td>\n",
       "      <td>缩量，没有有动作的迹象，先出去</td>\n",
       "      <td>前期大幅下跌后有企稳迹象，日内光刻胶板块也低开高走，感觉大幅下杀可能不高...</td>\n",
       "    </tr>\n",
       "    <tr>\n",
       "      <th>2021-10-25</th>\n",
       "      <td>南大光电</td>\n",
       "      <td>2</td>\n",
       "      <td>-300</td>\n",
       "      <td>55.60</td>\n",
       "      <td>16658.32</td>\n",
       "      <td>55.60</td>\n",
       "      <td>0</td>\n",
       "      <td>606.32</td>\n",
       "      <td>0.0</td>\n",
       "      <td>606.32</td>\n",
       "      <td>日内反弹到接近水线，为降低总仓位暂时止盈</td>\n",
       "      <td>早盘国科微封板科技拉高，光刻胶板块中位置不错</td>\n",
       "    </tr>\n",
       "    <tr>\n",
       "      <th>300483.SZ</th>\n",
       "      <th>2021-10-25</th>\n",
       "      <td>首华燃气</td>\n",
       "      <td>1</td>\n",
       "      <td>-600</td>\n",
       "      <td>22.36</td>\n",
       "      <td>13397.58</td>\n",
       "      <td>22.31</td>\n",
       "      <td>0</td>\n",
       "      <td>162.58</td>\n",
       "      <td>0.0</td>\n",
       "      <td>162.58</td>\n",
       "      <td>跌破分时均线止盈</td>\n",
       "      <td>早盘天然气冲高，个股已经横盘若干天。错误：应该买入强势的而不是前期买过的，自己熟悉的...</td>\n",
       "    </tr>\n",
       "    <tr>\n",
       "      <th>300653.SZ</th>\n",
       "      <th>2021-10-29</th>\n",
       "      <td>正海生物</td>\n",
       "      <td>1</td>\n",
       "      <td>-200</td>\n",
       "      <td>59.07</td>\n",
       "      <td>11797.19</td>\n",
       "      <td>59.48</td>\n",
       "      <td>0</td>\n",
       "      <td>162.19</td>\n",
       "      <td>0.0</td>\n",
       "      <td>162.19</td>\n",
       "      <td>冲高到 7%已经抹平浮亏，上攻乏力量能萎缩，趁没有回调前离场...</td>\n",
       "      <td>缩量回踩 ma5，博弈后续冲高</td>\n",
       "    </tr>\n",
       "    <tr>\n",
       "      <th>300708.SZ</th>\n",
       "      <th>2021-10-29</th>\n",
       "      <td>聚灿光电</td>\n",
       "      <td>1</td>\n",
       "      <td>-700</td>\n",
       "      <td>18.40</td>\n",
       "      <td>12862.12</td>\n",
       "      <td>18.32</td>\n",
       "      <td>0</td>\n",
       "      <td>-582.88</td>\n",
       "      <td>0.0</td>\n",
       "      <td>-582.88</td>\n",
       "      <td>日内小幅冲高后已经走弱，此时出现一个小高峰，虽然不及前高，但觉得后续会没有后劲，提前止损...</td>\n",
       "      <td>早盘国科微封板科技拉高，MiniLED 板块中位置不错</td>\n",
       "    </tr>\n",
       "    <tr>\n",
       "      <th>300741.SZ</th>\n",
       "      <th>2021-10-15</th>\n",
       "      <td>华宝股份</td>\n",
       "      <td>1</td>\n",
       "      <td>-300</td>\n",
       "      <td>44.05</td>\n",
       "      <td>13196.78</td>\n",
       "      <td>44.05</td>\n",
       "      <td>0</td>\n",
       "      <td>-1238.22</td>\n",
       "      <td>0.0</td>\n",
       "      <td>-1238.22</td>\n",
       "      <td>一天没有起色，清仓</td>\n",
       "      <td>老王推荐，电子烟题材</td>\n",
       "    </tr>\n",
       "    <tr>\n",
       "      <th>300752.SZ</th>\n",
       "      <th>2021-10-29</th>\n",
       "      <td>隆利科技</td>\n",
       "      <td>1</td>\n",
       "      <td>-1000</td>\n",
       "      <td>25.45</td>\n",
       "      <td>25419.46</td>\n",
       "      <td>25.18</td>\n",
       "      <td>0</td>\n",
       "      <td>2304.46</td>\n",
       "      <td>0.0</td>\n",
       "      <td>2304.46</td>\n",
       "      <td>上午冲高到 16.6%之后逐渐缩量走弱，为了降低仓位和下周回调的风险，选择兑现...</td>\n",
       "      <td>昨日涨停，今日开盘后拉升，在1%附近买入</td>\n",
       "    </tr>\n",
       "    <tr>\n",
       "      <th>300809.SZ</th>\n",
       "      <th>2021-10-21</th>\n",
       "      <td>华辰装备</td>\n",
       "      <td>1</td>\n",
       "      <td>-300</td>\n",
       "      <td>51.00</td>\n",
       "      <td>15279.70</td>\n",
       "      <td>51.00</td>\n",
       "      <td>0</td>\n",
       "      <td>-988.30</td>\n",
       "      <td>0.0</td>\n",
       "      <td>-988.30</td>\n",
       "      <td>跌破 5 日线，且板块走弱，大盘弱势。降低仓位降低风险...</td>\n",
       "      <td>工业母鸡前期龙头，连阳站稳 5 日线，今日板块上涨</td>\n",
       "    </tr>\n",
       "    <tr>\n",
       "      <th>300850.SZ</th>\n",
       "      <th>2021-10-21</th>\n",
       "      <td>新强联</td>\n",
       "      <td>1</td>\n",
       "      <td>-100</td>\n",
       "      <td>195.36</td>\n",
       "      <td>19511.46</td>\n",
       "      <td>196.89</td>\n",
       "      <td>0</td>\n",
       "      <td>91.46</td>\n",
       "      <td>0.0</td>\n",
       "      <td>91.46</td>\n",
       "      <td>早上一直很弱，跌破ma5，板块绿盘，大盘绿盘</td>\n",
       "      <td>风电走强，双一科技20cm封板，低吸后排低位</td>\n",
       "    </tr>\n",
       "    <tr>\n",
       "      <th>301018.SZ</th>\n",
       "      <th>2021-10-28</th>\n",
       "      <td>申菱环境</td>\n",
       "      <td>1</td>\n",
       "      <td>-600</td>\n",
       "      <td>31.41</td>\n",
       "      <td>18822.15</td>\n",
       "      <td>29.95</td>\n",
       "      <td>0</td>\n",
       "      <td>44.15</td>\n",
       "      <td>0.0</td>\n",
       "      <td>44.15</td>\n",
       "      <td>冲高7.5%回落到5.3%，自动单卖出。后有小幅冲高到8.4%形成顶背离...</td>\n",
       "      <td>300次新储能，昨日涨停，今日竞价从 12%+走低，最终高开8%，一度冲高到 9%。早盘局势...</td>\n",
       "    </tr>\n",
       "    <tr>\n",
       "      <th>301025.SZ</th>\n",
       "      <th>2021-10-20</th>\n",
       "      <td>读客文化</td>\n",
       "      <td>1</td>\n",
       "      <td>-800</td>\n",
       "      <td>16.93</td>\n",
       "      <td>13525.46</td>\n",
       "      <td>17.66</td>\n",
       "      <td>0</td>\n",
       "      <td>-319.54</td>\n",
       "      <td>0.0</td>\n",
       "      <td>-319.54</td>\n",
       "      <td>昨日尾盘站不住均线，今天也没有企稳迹象，跑路</td>\n",
       "      <td>底部回升，回试均线，今日站稳均线，明天不突破就走</td>\n",
       "    </tr>\n",
       "    <tr>\n",
       "      <th>600508.SH</th>\n",
       "      <th>2021-10-13</th>\n",
       "      <td>上海能源</td>\n",
       "      <td>1</td>\n",
       "      <td>-600</td>\n",
       "      <td>13.02</td>\n",
       "      <td>7799.19</td>\n",
       "      <td>12.90</td>\n",
       "      <td>0</td>\n",
       "      <td>-785.81</td>\n",
       "      <td>0.0</td>\n",
       "      <td>-785.81</td>\n",
       "      <td>NaN</td>\n",
       "      <td>None</td>\n",
       "    </tr>\n",
       "    <tr>\n",
       "      <th>603260.SH</th>\n",
       "      <th>2021-10-25</th>\n",
       "      <td>合盛硅业</td>\n",
       "      <td>1</td>\n",
       "      <td>-100</td>\n",
       "      <td>185.33</td>\n",
       "      <td>18509.47</td>\n",
       "      <td>183.85</td>\n",
       "      <td>0</td>\n",
       "      <td>1217.47</td>\n",
       "      <td>0.0</td>\n",
       "      <td>1217.47</td>\n",
       "      <td>MACD 顶背离卖出</td>\n",
       "      <td>前期强势，近期跌去 3 成，考虑到近期板块轮流修复，博弈一个轮动超跌反弹...</td>\n",
       "    </tr>\n",
       "    <tr>\n",
       "      <th>603982.SH</th>\n",
       "      <th>2021-10-26</th>\n",
       "      <td>泉峰汽车</td>\n",
       "      <td>1</td>\n",
       "      <td>-400</td>\n",
       "      <td>27.56</td>\n",
       "      <td>11007.98</td>\n",
       "      <td>28.30</td>\n",
       "      <td>0</td>\n",
       "      <td>358.98</td>\n",
       "      <td>0.0</td>\n",
       "      <td>358.98</td>\n",
       "      <td>竞价结束前突然冲高2%，开盘后急速下杀，担心翻绿卖出。错误：早盘急杀是洗盘...</td>\n",
       "      <td>回调5日线站稳，博弈冲高</td>\n",
       "    </tr>\n",
       "  </tbody>\n",
       "</table>\n",
       "</div>"
      ],
      "text/plain": [
       "                          name  op_num   vol   price   expense   close  \\\n",
       "ts_code   trade_date                                                     \n",
       "000591.SZ 2021-09-30    太阳能       1 -1800   11.11  19973.00   12.57   \n",
       "000812.SZ 2021-10-14  陕西金叶       1 -2400    3.40   8146.84    3.49   \n",
       "000831.SZ 2021-10-29  五矿稀土       1  -200   38.33   7653.33   37.83   \n",
       "002416.SZ 2021-10-15    爱施德       1 -1400   10.65  14890.09   10.65   \n",
       "002824.SZ 2021-10-26  和胜股份       1  -400   36.54  14596.38   37.20   \n",
       "002837.SZ 2021-10-22    英维克       1  -100   42.70   4260.73   40.04   \n",
       "300087.SZ 2021-10-18  荃银高科       1  -400   31.49  12578.40   31.64   \n",
       "300102.SZ 2021-10-14  乾照光电       1 -1700    8.11  13768.21    8.11   \n",
       "300162.SZ 2021-10-15  雷曼光电       1 -1700   12.72  21597.38   12.22   \n",
       "          2021-10-18  雷曼光电       2  -500   12.44   6208.78   12.63   \n",
       "300209.SZ 2021-10-21  天泽信息       1 -1100    8.92   9797.19    9.05   \n",
       "300296.SZ 2021-10-14    利亚德       1 -1400   10.06  14064.92    9.99   \n",
       "300303.SZ 2021-10-14  聚飞光电       1 -3000    6.32  18936.04    6.36   \n",
       "          2021-10-18  聚飞光电       2 -3200    6.18  19751.22    6.24   \n",
       "300346.SZ 2021-10-19  南大光电       1  -400   52.55  20993.98   52.67   \n",
       "          2021-10-25  南大光电       2  -300   55.60  16658.32   55.60   \n",
       "300483.SZ 2021-10-25  首华燃气       1  -600   22.36  13397.58   22.31   \n",
       "300653.SZ 2021-10-29  正海生物       1  -200   59.07  11797.19   59.48   \n",
       "300708.SZ 2021-10-29  聚灿光电       1  -700   18.40  12862.12   18.32   \n",
       "300741.SZ 2021-10-15  华宝股份       1  -300   44.05  13196.78   44.05   \n",
       "300752.SZ 2021-10-29  隆利科技       1 -1000   25.45  25419.46   25.18   \n",
       "300809.SZ 2021-10-21  华辰装备       1  -300   51.00  15279.70   51.00   \n",
       "300850.SZ 2021-10-21    新强联       1  -100  195.36  19511.46  196.89   \n",
       "301018.SZ 2021-10-28  申菱环境       1  -600   31.41  18822.15   29.95   \n",
       "301025.SZ 2021-10-20  读客文化       1  -800   16.93  13525.46   17.66   \n",
       "600508.SH 2021-10-13  上海能源       1  -600   13.02   7799.19   12.90   \n",
       "603260.SH 2021-10-25  合盛硅业       1  -100  185.33  18509.47  183.85   \n",
       "603982.SH 2021-10-26  泉峰汽车       1  -400   27.56  11007.98   28.30   \n",
       "\n",
       "                      total_vol  total_expense  hold_value   profit  \\\n",
       "ts_code   trade_date                                                  \n",
       "000591.SZ 2021-09-30          0       -1201.44         0.0 -1201.44   \n",
       "000812.SZ 2021-10-14          0       -1194.16         0.0 -1194.16   \n",
       "000831.SZ 2021-10-29          0        -465.67         0.0  -465.67   \n",
       "002416.SZ 2021-10-15          0        -640.91         0.0  -640.91   \n",
       "002824.SZ 2021-10-26          0        -964.62         0.0  -964.62   \n",
       "002837.SZ 2021-10-22          0         354.73         0.0   354.73   \n",
       "300087.SZ 2021-10-18          0        -106.60         0.0  -106.60   \n",
       "300102.SZ 2021-10-14          0        -227.79         0.0  -227.79   \n",
       "300162.SZ 2021-10-15          0        1566.38         0.0  1566.38   \n",
       "          2021-10-18          0          78.78         0.0    78.78   \n",
       "300209.SZ 2021-10-21          0        1711.15         0.0  1711.15   \n",
       "300296.SZ 2021-10-14          0          73.92         0.0    73.92   \n",
       "300303.SZ 2021-10-14          0        1021.04         0.0  1021.04   \n",
       "          2021-10-18          0        -477.78         0.0  -477.78   \n",
       "300346.SZ 2021-10-19          0         165.98         0.0   165.98   \n",
       "          2021-10-25          0         606.32         0.0   606.32   \n",
       "300483.SZ 2021-10-25          0         162.58         0.0   162.58   \n",
       "300653.SZ 2021-10-29          0         162.19         0.0   162.19   \n",
       "300708.SZ 2021-10-29          0        -582.88         0.0  -582.88   \n",
       "300741.SZ 2021-10-15          0       -1238.22         0.0 -1238.22   \n",
       "300752.SZ 2021-10-29          0        2304.46         0.0  2304.46   \n",
       "300809.SZ 2021-10-21          0        -988.30         0.0  -988.30   \n",
       "300850.SZ 2021-10-21          0          91.46         0.0    91.46   \n",
       "301018.SZ 2021-10-28          0          44.15         0.0    44.15   \n",
       "301025.SZ 2021-10-20          0        -319.54         0.0  -319.54   \n",
       "600508.SH 2021-10-13          0        -785.81         0.0  -785.81   \n",
       "603260.SH 2021-10-25          0        1217.47         0.0  1217.47   \n",
       "603982.SH 2021-10-26          0         358.98         0.0   358.98   \n",
       "\n",
       "                                                                                                             reason  \\\n",
       "ts_code   trade_date                                                                                                  \n",
       "000591.SZ 2021-09-30                                                NaN                                               \n",
       "000812.SZ 2021-10-14  买入当日就炸板9%大面，次日低开直接下杀，为了避免跌停直接卖出......                              \n",
       "000831.SZ 2021-10-29                         日内 macd 顶背离，趁机止损                                               \n",
       "002416.SZ 2021-10-15                                 一天没有起色，清仓                                               \n",
       "002824.SZ 2021-10-26  竞价结束前突然冲高4%+，开盘后又直线杀跌到-4%，为规避更大风险选择割肉......                      \n",
       "002837.SZ 2021-10-22                       二次开板后走势疲软，大盘下行                                               \n",
       "300087.SZ 2021-10-18  盘前有种业利好，仍然低开-5%，随后慢慢上冲，跟随转基因冲高到 10%附近macd 顶背离清...             \n",
       "300102.SZ 2021-10-14  开盘在均线下方一路走低，MiniLed 板块也不坚挺，感觉当天不会有行情了......                        \n",
       "300162.SZ 2021-10-15                           典型 macd 分时顶背离卖出                                               \n",
       "          2021-10-18                          直线冲高12cm 后回落，清仓                                               \n",
       "300209.SZ 2021-10-21   冲高14cm 急剧回落，小幅反弹后继续杀跌到 7.2%卖出                                               \n",
       "300296.SZ 2021-10-14  低开围绕均线波动，MiniLed 板块也不坚挺，感觉当天不会有行情了......                              \n",
       "300303.SZ 2021-10-14  低开冲上均线又急剧回落，MiniLed 板块也不坚挺，感觉当天不会有行情了......                        \n",
       "          2021-10-18                          跌破 ma5 且没有起色，清仓                                               \n",
       "300346.SZ 2021-10-19                     缩量，没有有动作的迹象，先出去                                               \n",
       "          2021-10-25           日内反弹到接近水线，为降低总仓位暂时止盈                                               \n",
       "300483.SZ 2021-10-25                                   跌破分时均线止盈                                               \n",
       "300653.SZ 2021-10-29  冲高到 7%已经抹平浮亏，上攻乏力量能萎缩，趁没有回调前离场......                                 \n",
       "300708.SZ 2021-10-29  日内小幅冲高后已经走弱，此时出现一个小高峰，虽然不及前高，但觉得后续会没有后劲，提前止损.....   \n",
       "300741.SZ 2021-10-15                                 一天没有起色，清仓                                               \n",
       "300752.SZ 2021-10-29  上午冲高到 16.6%之后逐渐缩量走弱，为了降低仓位和下周回调的风险，选择兑现......                  \n",
       "300809.SZ 2021-10-21  跌破 5 日线，且板块走弱，大盘弱势。降低仓位降低风险......                                       \n",
       "300850.SZ 2021-10-21          早上一直很弱，跌破ma5，板块绿盘，大盘绿盘                                               \n",
       "301018.SZ 2021-10-28  冲高7.5%回落到5.3%，自动单卖出。后有小幅冲高到8.4%形成顶背离......                              \n",
       "301025.SZ 2021-10-20       昨日尾盘站不住均线，今天也没有企稳迹象，跑路                                               \n",
       "600508.SH 2021-10-13                                                NaN                                               \n",
       "603260.SH 2021-10-25                                    MACD 顶背离卖出                                               \n",
       "603982.SH 2021-10-26  竞价结束前突然冲高2%，开盘后急速下杀，担心翻绿卖出。错误：早盘急杀是洗盘......                  \n",
       "\n",
       "                                                                                                      buy_reason  \n",
       "ts_code   trade_date                                                                                              \n",
       "000591.SZ 2021-09-30                                               None                                           \n",
       "000812.SZ 2021-10-14       教育受利好刺激集体上涨，标的一字板，排板买入                                           \n",
       "000831.SZ 2021-10-29                                 越甲提示稀土矿机会                                           \n",
       "002416.SZ 2021-10-15                               老王推荐，电子烟题材                                           \n",
       "002824.SZ 2021-10-26                               新能车，铝，回调 ma5                                           \n",
       "002837.SZ 2021-10-22  储能概念，今日大火。但是该股突破平台板，打完就炸了......                                    \n",
       "300087.SZ 2021-10-18               早上沿均线上攻，追高买入，日面 10%。                                           \n",
       "300102.SZ 2021-10-14          MINILED业绩向好，K 线触底反弹，30min 2 买                                           \n",
       "300162.SZ 2021-10-15  强势回调均线，日内站住分时，k 线也站住 ma5，感觉随时可能上攻，拿个先手......                \n",
       "          2021-10-18                               尾盘企稳，接回小部分                                           \n",
       "300209.SZ 2021-10-21                      跨境电商，前期活跃，回调5日线                                           \n",
       "300296.SZ 2021-10-14                        MINILED业绩向好，图形还可以                                           \n",
       "300303.SZ 2021-10-14  低开冲上均线又急剧回落，MiniLed 板块也不坚挺，感觉当天不会有行情了......                    \n",
       "          2021-10-18    感觉站稳均线，还是希望在低位的 MiniLED 拿个先手                                           \n",
       "300346.SZ 2021-10-19  前期大幅下跌后有企稳迹象，日内光刻胶板块也低开高走，感觉大幅下杀可能不高......              \n",
       "          2021-10-25       早盘国科微封板科技拉高，光刻胶板块中位置不错                                           \n",
       "300483.SZ 2021-10-25  早盘天然气冲高，个股已经横盘若干天。错误：应该买入强势的而不是前期买过的，自己熟悉的......  \n",
       "300653.SZ 2021-10-29                         缩量回踩 ma5，博弈后续冲高                                           \n",
       "300708.SZ 2021-10-29     早盘国科微封板科技拉高，MiniLED 板块中位置不错                                           \n",
       "300741.SZ 2021-10-15                               老王推荐，电子烟题材                                           \n",
       "300752.SZ 2021-10-29             昨日涨停，今日开盘后拉升，在1%附近买入                                           \n",
       "300809.SZ 2021-10-21    工业母鸡前期龙头，连阳站稳 5 日线，今日板块上涨                                           \n",
       "300850.SZ 2021-10-21           风电走强，双一科技20cm封板，低吸后排低位                                           \n",
       "301018.SZ 2021-10-28  300次新储能，昨日涨停，今日竞价从 12%+走低，最终高开8%，一度冲高到 9%。早盘局势...          \n",
       "301025.SZ 2021-10-20   底部回升，回试均线，今日站稳均线，明天不突破就走                                           \n",
       "600508.SH 2021-10-13                                               None                                           \n",
       "603260.SH 2021-10-25  前期强势，近期跌去 3 成，考虑到近期板块轮流修复，博弈一个轮动超跌反弹......                 \n",
       "603982.SH 2021-10-26                            回调5日线站稳，博弈冲高                                           "
      ]
     },
     "execution_count": 7,
     "metadata": {},
     "output_type": "execute_result"
    }
   ],
   "source": [
    "finished.reset_index().set_index(['ts_code', 'op_num']).join(orders.reset_index().groupby(['ts_code', 'op_num']).first()[['reason']].rename(columns={'reason':'buy_reason'})).reset_index().set_index(['ts_code', 'trade_date'])[OREDER_COLS+['buy_reason']]"
   ]
  },
  {
   "cell_type": "code",
   "execution_count": 8,
   "id": "393cfc24-b0d8-4a16-916d-f489721ce4bd",
   "metadata": {},
   "outputs": [
    {
     "data": {
      "text/html": [
       "<div>\n",
       "<style scoped>\n",
       "    .dataframe tbody tr th:only-of-type {\n",
       "        vertical-align: middle;\n",
       "    }\n",
       "\n",
       "    .dataframe tbody tr th {\n",
       "        vertical-align: top;\n",
       "    }\n",
       "\n",
       "    .dataframe thead th {\n",
       "        text-align: right;\n",
       "    }\n",
       "</style>\n",
       "<table border=\"1\" class=\"dataframe\">\n",
       "  <thead>\n",
       "    <tr style=\"text-align: right;\">\n",
       "      <th></th>\n",
       "      <th>name</th>\n",
       "      <th>op_num</th>\n",
       "      <th>vol</th>\n",
       "      <th>price</th>\n",
       "      <th>expense</th>\n",
       "      <th>close</th>\n",
       "      <th>total_vol</th>\n",
       "      <th>total_expense</th>\n",
       "      <th>hold_value</th>\n",
       "      <th>profit</th>\n",
       "      <th>reason</th>\n",
       "    </tr>\n",
       "    <tr>\n",
       "      <th>trade_date</th>\n",
       "      <th></th>\n",
       "      <th></th>\n",
       "      <th></th>\n",
       "      <th></th>\n",
       "      <th></th>\n",
       "      <th></th>\n",
       "      <th></th>\n",
       "      <th></th>\n",
       "      <th></th>\n",
       "      <th></th>\n",
       "      <th></th>\n",
       "    </tr>\n",
       "  </thead>\n",
       "  <tbody>\n",
       "    <tr>\n",
       "      <th>2021-10-25</th>\n",
       "      <td>合盛硅业</td>\n",
       "      <td>1</td>\n",
       "      <td>-100</td>\n",
       "      <td>185.33</td>\n",
       "      <td>18509.47</td>\n",
       "      <td>183.85</td>\n",
       "      <td>0</td>\n",
       "      <td>1217.47</td>\n",
       "      <td>0.0</td>\n",
       "      <td>1217.47</td>\n",
       "      <td>MACD 顶背离卖出</td>\n",
       "    </tr>\n",
       "    <tr>\n",
       "      <th>2021-10-25</th>\n",
       "      <td>南大光电</td>\n",
       "      <td>2</td>\n",
       "      <td>-300</td>\n",
       "      <td>55.60</td>\n",
       "      <td>16658.32</td>\n",
       "      <td>55.60</td>\n",
       "      <td>0</td>\n",
       "      <td>606.32</td>\n",
       "      <td>0.0</td>\n",
       "      <td>606.32</td>\n",
       "      <td>日内反弹到接近水线，为降低总仓位暂时止盈</td>\n",
       "    </tr>\n",
       "    <tr>\n",
       "      <th>2021-10-25</th>\n",
       "      <td>首华燃气</td>\n",
       "      <td>1</td>\n",
       "      <td>-600</td>\n",
       "      <td>22.36</td>\n",
       "      <td>13397.58</td>\n",
       "      <td>22.31</td>\n",
       "      <td>0</td>\n",
       "      <td>162.58</td>\n",
       "      <td>0.0</td>\n",
       "      <td>162.58</td>\n",
       "      <td>跌破分时均线止盈</td>\n",
       "    </tr>\n",
       "    <tr>\n",
       "      <th>2021-10-26</th>\n",
       "      <td>泉峰汽车</td>\n",
       "      <td>1</td>\n",
       "      <td>-400</td>\n",
       "      <td>27.56</td>\n",
       "      <td>11007.98</td>\n",
       "      <td>28.30</td>\n",
       "      <td>0</td>\n",
       "      <td>358.98</td>\n",
       "      <td>0.0</td>\n",
       "      <td>358.98</td>\n",
       "      <td>竞价结束前突然冲高2%，开盘后急速下杀，担心翻绿卖出。错误：早盘急杀是洗盘...</td>\n",
       "    </tr>\n",
       "    <tr>\n",
       "      <th>2021-10-26</th>\n",
       "      <td>和胜股份</td>\n",
       "      <td>1</td>\n",
       "      <td>-400</td>\n",
       "      <td>36.54</td>\n",
       "      <td>14596.38</td>\n",
       "      <td>37.20</td>\n",
       "      <td>0</td>\n",
       "      <td>-964.62</td>\n",
       "      <td>0.0</td>\n",
       "      <td>-964.62</td>\n",
       "      <td>竞价结束前突然冲高4%+，开盘后又直线杀跌到-4%，为规避更大风险选择割肉...</td>\n",
       "    </tr>\n",
       "    <tr>\n",
       "      <th>2021-10-28</th>\n",
       "      <td>申菱环境</td>\n",
       "      <td>1</td>\n",
       "      <td>-600</td>\n",
       "      <td>31.41</td>\n",
       "      <td>18822.15</td>\n",
       "      <td>29.95</td>\n",
       "      <td>0</td>\n",
       "      <td>44.15</td>\n",
       "      <td>0.0</td>\n",
       "      <td>44.15</td>\n",
       "      <td>冲高7.5%回落到5.3%，自动单卖出。后有小幅冲高到8.4%形成顶背离...</td>\n",
       "    </tr>\n",
       "    <tr>\n",
       "      <th>2021-10-29</th>\n",
       "      <td>正海生物</td>\n",
       "      <td>1</td>\n",
       "      <td>-200</td>\n",
       "      <td>59.07</td>\n",
       "      <td>11797.19</td>\n",
       "      <td>59.48</td>\n",
       "      <td>0</td>\n",
       "      <td>162.19</td>\n",
       "      <td>0.0</td>\n",
       "      <td>162.19</td>\n",
       "      <td>冲高到 7%已经抹平浮亏，上攻乏力量能萎缩，趁没有回调前离场...</td>\n",
       "    </tr>\n",
       "    <tr>\n",
       "      <th>2021-10-29</th>\n",
       "      <td>五矿稀土</td>\n",
       "      <td>1</td>\n",
       "      <td>-200</td>\n",
       "      <td>38.33</td>\n",
       "      <td>7653.33</td>\n",
       "      <td>37.83</td>\n",
       "      <td>0</td>\n",
       "      <td>-465.67</td>\n",
       "      <td>0.0</td>\n",
       "      <td>-465.67</td>\n",
       "      <td>日内 macd 顶背离，趁机止损</td>\n",
       "    </tr>\n",
       "    <tr>\n",
       "      <th>2021-10-29</th>\n",
       "      <td>隆利科技</td>\n",
       "      <td>1</td>\n",
       "      <td>-1000</td>\n",
       "      <td>25.45</td>\n",
       "      <td>25419.46</td>\n",
       "      <td>25.18</td>\n",
       "      <td>0</td>\n",
       "      <td>2304.46</td>\n",
       "      <td>0.0</td>\n",
       "      <td>2304.46</td>\n",
       "      <td>上午冲高到 16.6%之后逐渐缩量走弱，为了降低仓位和下周回调的风险，选择兑现...</td>\n",
       "    </tr>\n",
       "    <tr>\n",
       "      <th>2021-10-29</th>\n",
       "      <td>聚灿光电</td>\n",
       "      <td>1</td>\n",
       "      <td>-700</td>\n",
       "      <td>18.40</td>\n",
       "      <td>12862.12</td>\n",
       "      <td>18.32</td>\n",
       "      <td>0</td>\n",
       "      <td>-582.88</td>\n",
       "      <td>0.0</td>\n",
       "      <td>-582.88</td>\n",
       "      <td>日内小幅冲高后已经走弱，此时出现一个小高峰，虽然不及前高，但觉得后续会没有后劲，提前止损...</td>\n",
       "    </tr>\n",
       "  </tbody>\n",
       "</table>\n",
       "</div>"
      ],
      "text/plain": [
       "                name  op_num   vol   price   expense   close  total_vol  \\\n",
       "trade_date                                                                \n",
       "2021-10-25  合盛硅业       1  -100  185.33  18509.47  183.85          0   \n",
       "2021-10-25  南大光电       2  -300   55.60  16658.32   55.60          0   \n",
       "2021-10-25  首华燃气       1  -600   22.36  13397.58   22.31          0   \n",
       "2021-10-26  泉峰汽车       1  -400   27.56  11007.98   28.30          0   \n",
       "2021-10-26  和胜股份       1  -400   36.54  14596.38   37.20          0   \n",
       "2021-10-28  申菱环境       1  -600   31.41  18822.15   29.95          0   \n",
       "2021-10-29  正海生物       1  -200   59.07  11797.19   59.48          0   \n",
       "2021-10-29  五矿稀土       1  -200   38.33   7653.33   37.83          0   \n",
       "2021-10-29  隆利科技       1 -1000   25.45  25419.46   25.18          0   \n",
       "2021-10-29  聚灿光电       1  -700   18.40  12862.12   18.32          0   \n",
       "\n",
       "            total_expense  hold_value   profit  \\\n",
       "trade_date                                       \n",
       "2021-10-25        1217.47         0.0  1217.47   \n",
       "2021-10-25         606.32         0.0   606.32   \n",
       "2021-10-25         162.58         0.0   162.58   \n",
       "2021-10-26         358.98         0.0   358.98   \n",
       "2021-10-26        -964.62         0.0  -964.62   \n",
       "2021-10-28          44.15         0.0    44.15   \n",
       "2021-10-29         162.19         0.0   162.19   \n",
       "2021-10-29        -465.67         0.0  -465.67   \n",
       "2021-10-29        2304.46         0.0  2304.46   \n",
       "2021-10-29        -582.88         0.0  -582.88   \n",
       "\n",
       "                                                                                                   reason  \n",
       "trade_date                                                                                                 \n",
       "2021-10-25                                    MACD 顶背离卖出                                              \n",
       "2021-10-25           日内反弹到接近水线，为降低总仓位暂时止盈                                              \n",
       "2021-10-25                                   跌破分时均线止盈                                              \n",
       "2021-10-26  竞价结束前突然冲高2%，开盘后急速下杀，担心翻绿卖出。错误：早盘急杀是洗盘......                 \n",
       "2021-10-26  竞价结束前突然冲高4%+，开盘后又直线杀跌到-4%，为规避更大风险选择割肉......                     \n",
       "2021-10-28  冲高7.5%回落到5.3%，自动单卖出。后有小幅冲高到8.4%形成顶背离......                             \n",
       "2021-10-29  冲高到 7%已经抹平浮亏，上攻乏力量能萎缩，趁没有回调前离场......                                \n",
       "2021-10-29                         日内 macd 顶背离，趁机止损                                              \n",
       "2021-10-29  上午冲高到 16.6%之后逐渐缩量走弱，为了降低仓位和下周回调的风险，选择兑现......                 \n",
       "2021-10-29  日内小幅冲高后已经走弱，此时出现一个小高峰，虽然不及前高，但觉得后续会没有后劲，提前止损.....  "
      ]
     },
     "execution_count": 8,
     "metadata": {},
     "output_type": "execute_result"
    }
   ],
   "source": [
    "finished.reset_index().set_index('trade_date').sort_index()[OREDER_COLS].tail(10)"
   ]
  },
  {
   "cell_type": "code",
   "execution_count": 11,
   "id": "efc260c6-4bfb-46b0-b25c-64bc9fe0805f",
   "metadata": {
    "tags": []
   },
   "outputs": [
    {
     "data": {
      "text/html": [
       "<div>\n",
       "<style scoped>\n",
       "    .dataframe tbody tr th:only-of-type {\n",
       "        vertical-align: middle;\n",
       "    }\n",
       "\n",
       "    .dataframe tbody tr th {\n",
       "        vertical-align: top;\n",
       "    }\n",
       "\n",
       "    .dataframe thead th {\n",
       "        text-align: right;\n",
       "    }\n",
       "</style>\n",
       "<table border=\"1\" class=\"dataframe\">\n",
       "  <thead>\n",
       "    <tr style=\"text-align: right;\">\n",
       "      <th></th>\n",
       "      <th></th>\n",
       "      <th>name</th>\n",
       "      <th>op_num</th>\n",
       "      <th>vol</th>\n",
       "      <th>price</th>\n",
       "      <th>expense</th>\n",
       "      <th>close</th>\n",
       "      <th>total_vol</th>\n",
       "      <th>total_expense</th>\n",
       "      <th>hold_value</th>\n",
       "      <th>profit</th>\n",
       "      <th>reason</th>\n",
       "    </tr>\n",
       "    <tr>\n",
       "      <th>ts_code</th>\n",
       "      <th>trade_date</th>\n",
       "      <th></th>\n",
       "      <th></th>\n",
       "      <th></th>\n",
       "      <th></th>\n",
       "      <th></th>\n",
       "      <th></th>\n",
       "      <th></th>\n",
       "      <th></th>\n",
       "      <th></th>\n",
       "      <th></th>\n",
       "      <th></th>\n",
       "    </tr>\n",
       "  </thead>\n",
       "  <tbody>\n",
       "    <tr>\n",
       "      <th>000591.SZ</th>\n",
       "      <th>2021-09-30</th>\n",
       "      <td>太阳能</td>\n",
       "      <td>1</td>\n",
       "      <td>-1800</td>\n",
       "      <td>11.11</td>\n",
       "      <td>19973.00</td>\n",
       "      <td>12.57</td>\n",
       "      <td>0</td>\n",
       "      <td>-1201.44</td>\n",
       "      <td>0.0</td>\n",
       "      <td>-1201.44</td>\n",
       "      <td>NaN</td>\n",
       "    </tr>\n",
       "    <tr>\n",
       "      <th>000812.SZ</th>\n",
       "      <th>2021-10-14</th>\n",
       "      <td>陕西金叶</td>\n",
       "      <td>1</td>\n",
       "      <td>-2400</td>\n",
       "      <td>3.40</td>\n",
       "      <td>8146.84</td>\n",
       "      <td>3.49</td>\n",
       "      <td>0</td>\n",
       "      <td>-1194.16</td>\n",
       "      <td>0.0</td>\n",
       "      <td>-1194.16</td>\n",
       "      <td>买入当日就炸板9%大面，次日低开直接下杀，为了避免跌停直接卖出...</td>\n",
       "    </tr>\n",
       "    <tr>\n",
       "      <th>000831.SZ</th>\n",
       "      <th>2021-10-29</th>\n",
       "      <td>五矿稀土</td>\n",
       "      <td>1</td>\n",
       "      <td>-200</td>\n",
       "      <td>38.33</td>\n",
       "      <td>7653.33</td>\n",
       "      <td>37.83</td>\n",
       "      <td>0</td>\n",
       "      <td>-465.67</td>\n",
       "      <td>0.0</td>\n",
       "      <td>-465.67</td>\n",
       "      <td>日内 macd 顶背离，趁机止损</td>\n",
       "    </tr>\n",
       "    <tr>\n",
       "      <th>002271.SZ</th>\n",
       "      <th>2021-11-02</th>\n",
       "      <td>东方雨虹</td>\n",
       "      <td>1</td>\n",
       "      <td>-300</td>\n",
       "      <td>39.81</td>\n",
       "      <td>11926.06</td>\n",
       "      <td>39.70</td>\n",
       "      <td>0</td>\n",
       "      <td>-609.94</td>\n",
       "      <td>0.0</td>\n",
       "      <td>-609.94</td>\n",
       "      <td>大盘急跌，为控制风险割肉</td>\n",
       "    </tr>\n",
       "    <tr>\n",
       "      <th>002416.SZ</th>\n",
       "      <th>2021-10-15</th>\n",
       "      <td>爱施德</td>\n",
       "      <td>1</td>\n",
       "      <td>-1400</td>\n",
       "      <td>10.65</td>\n",
       "      <td>14890.09</td>\n",
       "      <td>10.65</td>\n",
       "      <td>0</td>\n",
       "      <td>-640.91</td>\n",
       "      <td>0.0</td>\n",
       "      <td>-640.91</td>\n",
       "      <td>一天没有起色，清仓</td>\n",
       "    </tr>\n",
       "    <tr>\n",
       "      <th>002487.SZ</th>\n",
       "      <th>2021-11-05</th>\n",
       "      <td>大金重工</td>\n",
       "      <td>1</td>\n",
       "      <td>-400</td>\n",
       "      <td>43.80</td>\n",
       "      <td>17497.48</td>\n",
       "      <td>45.72</td>\n",
       "      <td>0</td>\n",
       "      <td>2097.48</td>\n",
       "      <td>0.0</td>\n",
       "      <td>2097.48</td>\n",
       "      <td>风电萎靡为了锁定利润，在 5%止盈。错误：大金重工在风电板块很强势，不该割肉，尾盘封板...</td>\n",
       "    </tr>\n",
       "    <tr>\n",
       "      <th>002824.SZ</th>\n",
       "      <th>2021-10-26</th>\n",
       "      <td>和胜股份</td>\n",
       "      <td>1</td>\n",
       "      <td>-400</td>\n",
       "      <td>36.54</td>\n",
       "      <td>14596.38</td>\n",
       "      <td>37.20</td>\n",
       "      <td>0</td>\n",
       "      <td>-964.62</td>\n",
       "      <td>0.0</td>\n",
       "      <td>-964.62</td>\n",
       "      <td>竞价结束前突然冲高4%+，开盘后又直线杀跌到-4%，为规避更大风险选择割肉...</td>\n",
       "    </tr>\n",
       "    <tr>\n",
       "      <th>002837.SZ</th>\n",
       "      <th>2021-10-22</th>\n",
       "      <td>英维克</td>\n",
       "      <td>1</td>\n",
       "      <td>-100</td>\n",
       "      <td>42.70</td>\n",
       "      <td>4260.73</td>\n",
       "      <td>40.04</td>\n",
       "      <td>0</td>\n",
       "      <td>354.73</td>\n",
       "      <td>0.0</td>\n",
       "      <td>354.73</td>\n",
       "      <td>二次开板后走势疲软，大盘下行</td>\n",
       "    </tr>\n",
       "    <tr>\n",
       "      <th>300031.SZ</th>\n",
       "      <th>2021-11-04</th>\n",
       "      <td>宝通科技</td>\n",
       "      <td>1</td>\n",
       "      <td>-400</td>\n",
       "      <td>22.47</td>\n",
       "      <td>8974.01</td>\n",
       "      <td>23.15</td>\n",
       "      <td>0</td>\n",
       "      <td>293.01</td>\n",
       "      <td>0.0</td>\n",
       "      <td>293.01</td>\n",
       "      <td>元宇宙连续两天冲高回落，个股从4%回落到水面附近，为避免风险清仓...</td>\n",
       "    </tr>\n",
       "    <tr>\n",
       "      <th>300087.SZ</th>\n",
       "      <th>2021-10-18</th>\n",
       "      <td>荃银高科</td>\n",
       "      <td>1</td>\n",
       "      <td>-400</td>\n",
       "      <td>31.49</td>\n",
       "      <td>12578.40</td>\n",
       "      <td>31.64</td>\n",
       "      <td>0</td>\n",
       "      <td>-106.60</td>\n",
       "      <td>0.0</td>\n",
       "      <td>-106.60</td>\n",
       "      <td>盘前有种业利好，仍然低开-5%，随后慢慢上冲，跟随转基因冲高到 10%附近macd 顶背离清...</td>\n",
       "    </tr>\n",
       "    <tr>\n",
       "      <th>300088.SZ</th>\n",
       "      <th>2021-11-02</th>\n",
       "      <td>长信科技</td>\n",
       "      <td>1</td>\n",
       "      <td>-1900</td>\n",
       "      <td>10.64</td>\n",
       "      <td>20190.78</td>\n",
       "      <td>10.63</td>\n",
       "      <td>0</td>\n",
       "      <td>369.78</td>\n",
       "      <td>0.0</td>\n",
       "      <td>369.78</td>\n",
       "      <td>两次触碰均线都下跌，但卖出时机不好</td>\n",
       "    </tr>\n",
       "    <tr>\n",
       "      <th>300102.SZ</th>\n",
       "      <th>2021-10-14</th>\n",
       "      <td>乾照光电</td>\n",
       "      <td>1</td>\n",
       "      <td>-1700</td>\n",
       "      <td>8.11</td>\n",
       "      <td>13768.21</td>\n",
       "      <td>8.11</td>\n",
       "      <td>0</td>\n",
       "      <td>-227.79</td>\n",
       "      <td>0.0</td>\n",
       "      <td>-227.79</td>\n",
       "      <td>开盘在均线下方一路走低，MiniLed 板块也不坚挺，感觉当天不会有行情了...</td>\n",
       "    </tr>\n",
       "    <tr>\n",
       "      <th rowspan=\"2\" valign=\"top\">300162.SZ</th>\n",
       "      <th>2021-10-15</th>\n",
       "      <td>雷曼光电</td>\n",
       "      <td>1</td>\n",
       "      <td>-1700</td>\n",
       "      <td>12.72</td>\n",
       "      <td>21597.38</td>\n",
       "      <td>12.22</td>\n",
       "      <td>0</td>\n",
       "      <td>1566.38</td>\n",
       "      <td>0.0</td>\n",
       "      <td>1566.38</td>\n",
       "      <td>典型 macd 分时顶背离卖出</td>\n",
       "    </tr>\n",
       "    <tr>\n",
       "      <th>2021-10-18</th>\n",
       "      <td>雷曼光电</td>\n",
       "      <td>2</td>\n",
       "      <td>-500</td>\n",
       "      <td>12.44</td>\n",
       "      <td>6208.78</td>\n",
       "      <td>12.63</td>\n",
       "      <td>0</td>\n",
       "      <td>78.78</td>\n",
       "      <td>0.0</td>\n",
       "      <td>78.78</td>\n",
       "      <td>直线冲高12cm 后回落，清仓</td>\n",
       "    </tr>\n",
       "    <tr>\n",
       "      <th>300209.SZ</th>\n",
       "      <th>2021-10-21</th>\n",
       "      <td>天泽信息</td>\n",
       "      <td>1</td>\n",
       "      <td>-1100</td>\n",
       "      <td>8.92</td>\n",
       "      <td>9797.19</td>\n",
       "      <td>9.05</td>\n",
       "      <td>0</td>\n",
       "      <td>1711.15</td>\n",
       "      <td>0.0</td>\n",
       "      <td>1711.15</td>\n",
       "      <td>冲高14cm 急剧回落，小幅反弹后继续杀跌到 7.2%卖出</td>\n",
       "    </tr>\n",
       "    <tr>\n",
       "      <th>300224.SZ</th>\n",
       "      <th>2021-11-01</th>\n",
       "      <td>正海磁材</td>\n",
       "      <td>1</td>\n",
       "      <td>-700</td>\n",
       "      <td>11.64</td>\n",
       "      <td>8134.85</td>\n",
       "      <td>11.60</td>\n",
       "      <td>0</td>\n",
       "      <td>-305.15</td>\n",
       "      <td>0.0</td>\n",
       "      <td>-305.15</td>\n",
       "      <td>日内macd顶背离逢高止损</td>\n",
       "    </tr>\n",
       "    <tr>\n",
       "      <th>300296.SZ</th>\n",
       "      <th>2021-10-14</th>\n",
       "      <td>利亚德</td>\n",
       "      <td>1</td>\n",
       "      <td>-1400</td>\n",
       "      <td>10.06</td>\n",
       "      <td>14064.92</td>\n",
       "      <td>9.99</td>\n",
       "      <td>0</td>\n",
       "      <td>73.92</td>\n",
       "      <td>0.0</td>\n",
       "      <td>73.92</td>\n",
       "      <td>低开围绕均线波动，MiniLed 板块也不坚挺，感觉当天不会有行情了...</td>\n",
       "    </tr>\n",
       "    <tr>\n",
       "      <th rowspan=\"2\" valign=\"top\">300303.SZ</th>\n",
       "      <th>2021-10-14</th>\n",
       "      <td>聚飞光电</td>\n",
       "      <td>1</td>\n",
       "      <td>-3000</td>\n",
       "      <td>6.32</td>\n",
       "      <td>18936.04</td>\n",
       "      <td>6.36</td>\n",
       "      <td>0</td>\n",
       "      <td>1021.04</td>\n",
       "      <td>0.0</td>\n",
       "      <td>1021.04</td>\n",
       "      <td>低开冲上均线又急剧回落，MiniLed 板块也不坚挺，感觉当天不会有行情了...</td>\n",
       "    </tr>\n",
       "    <tr>\n",
       "      <th>2021-10-18</th>\n",
       "      <td>聚飞光电</td>\n",
       "      <td>2</td>\n",
       "      <td>-3200</td>\n",
       "      <td>6.18</td>\n",
       "      <td>19751.22</td>\n",
       "      <td>6.24</td>\n",
       "      <td>0</td>\n",
       "      <td>-477.78</td>\n",
       "      <td>0.0</td>\n",
       "      <td>-477.78</td>\n",
       "      <td>跌破 ma5 且没有起色，清仓</td>\n",
       "    </tr>\n",
       "    <tr>\n",
       "      <th rowspan=\"2\" valign=\"top\">300346.SZ</th>\n",
       "      <th>2021-10-19</th>\n",
       "      <td>南大光电</td>\n",
       "      <td>1</td>\n",
       "      <td>-400</td>\n",
       "      <td>52.55</td>\n",
       "      <td>20993.98</td>\n",
       "      <td>52.67</td>\n",
       "      <td>0</td>\n",
       "      <td>165.98</td>\n",
       "      <td>0.0</td>\n",
       "      <td>165.98</td>\n",
       "      <td>缩量，没有有动作的迹象，先出去</td>\n",
       "    </tr>\n",
       "    <tr>\n",
       "      <th>2021-10-25</th>\n",
       "      <td>南大光电</td>\n",
       "      <td>2</td>\n",
       "      <td>-300</td>\n",
       "      <td>55.60</td>\n",
       "      <td>16658.32</td>\n",
       "      <td>55.60</td>\n",
       "      <td>0</td>\n",
       "      <td>606.32</td>\n",
       "      <td>0.0</td>\n",
       "      <td>606.32</td>\n",
       "      <td>日内反弹到接近水线，为降低总仓位暂时止盈</td>\n",
       "    </tr>\n",
       "    <tr>\n",
       "      <th>300483.SZ</th>\n",
       "      <th>2021-10-25</th>\n",
       "      <td>首华燃气</td>\n",
       "      <td>1</td>\n",
       "      <td>-600</td>\n",
       "      <td>22.36</td>\n",
       "      <td>13397.58</td>\n",
       "      <td>22.31</td>\n",
       "      <td>0</td>\n",
       "      <td>162.58</td>\n",
       "      <td>0.0</td>\n",
       "      <td>162.58</td>\n",
       "      <td>跌破分时均线止盈</td>\n",
       "    </tr>\n",
       "    <tr>\n",
       "      <th>300537.SZ</th>\n",
       "      <th>2021-11-02</th>\n",
       "      <td>广信材料</td>\n",
       "      <td>1</td>\n",
       "      <td>-800</td>\n",
       "      <td>17.50</td>\n",
       "      <td>13981.00</td>\n",
       "      <td>17.46</td>\n",
       "      <td>0</td>\n",
       "      <td>143.00</td>\n",
       "      <td>0.0</td>\n",
       "      <td>143.00</td>\n",
       "      <td>大盘急跌，为控制风险，清仓</td>\n",
       "    </tr>\n",
       "    <tr>\n",
       "      <th>300650.SZ</th>\n",
       "      <th>2021-11-04</th>\n",
       "      <td>太龙股份</td>\n",
       "      <td>1</td>\n",
       "      <td>-400</td>\n",
       "      <td>22.39</td>\n",
       "      <td>8942.04</td>\n",
       "      <td>22.47</td>\n",
       "      <td>0</td>\n",
       "      <td>-222.96</td>\n",
       "      <td>0.0</td>\n",
       "      <td>-222.96</td>\n",
       "      <td>日内走势较疲软，没有跟随 MINILED 走强，趁高位出掉</td>\n",
       "    </tr>\n",
       "    <tr>\n",
       "      <th>300653.SZ</th>\n",
       "      <th>2021-10-29</th>\n",
       "      <td>正海生物</td>\n",
       "      <td>1</td>\n",
       "      <td>-200</td>\n",
       "      <td>59.07</td>\n",
       "      <td>11797.19</td>\n",
       "      <td>59.48</td>\n",
       "      <td>0</td>\n",
       "      <td>162.19</td>\n",
       "      <td>0.0</td>\n",
       "      <td>162.19</td>\n",
       "      <td>冲高到 7%已经抹平浮亏，上攻乏力量能萎缩，趁没有回调前离场...</td>\n",
       "    </tr>\n",
       "    <tr>\n",
       "      <th>300672.SZ</th>\n",
       "      <th>2021-11-02</th>\n",
       "      <td>国科微</td>\n",
       "      <td>1</td>\n",
       "      <td>-100</td>\n",
       "      <td>168.80</td>\n",
       "      <td>16858.12</td>\n",
       "      <td>168.05</td>\n",
       "      <td>0</td>\n",
       "      <td>-35.88</td>\n",
       "      <td>0.0</td>\n",
       "      <td>-35.88</td>\n",
       "      <td>大盘急跌，为控制风险，清仓</td>\n",
       "    </tr>\n",
       "    <tr>\n",
       "      <th rowspan=\"2\" valign=\"top\">300690.SZ</th>\n",
       "      <th>2021-11-01</th>\n",
       "      <td>双一科技</td>\n",
       "      <td>1</td>\n",
       "      <td>-300</td>\n",
       "      <td>28.01</td>\n",
       "      <td>8389.60</td>\n",
       "      <td>27.01</td>\n",
       "      <td>0</td>\n",
       "      <td>-496.17</td>\n",
       "      <td>0.0</td>\n",
       "      <td>-496.17</td>\n",
       "      <td>macd 顶背离后继续上冲，回落到11.5%后，自动单卖出</td>\n",
       "    </tr>\n",
       "    <tr>\n",
       "      <th>2021-11-05</th>\n",
       "      <td>双一科技</td>\n",
       "      <td>2</td>\n",
       "      <td>-300</td>\n",
       "      <td>33.70</td>\n",
       "      <td>10094.89</td>\n",
       "      <td>32.02</td>\n",
       "      <td>0</td>\n",
       "      <td>1986.89</td>\n",
       "      <td>0.0</td>\n",
       "      <td>1986.89</td>\n",
       "      <td>风电走弱，回探分时均线逢高出局</td>\n",
       "    </tr>\n",
       "    <tr>\n",
       "      <th>300708.SZ</th>\n",
       "      <th>2021-10-29</th>\n",
       "      <td>聚灿光电</td>\n",
       "      <td>1</td>\n",
       "      <td>-700</td>\n",
       "      <td>18.40</td>\n",
       "      <td>12862.12</td>\n",
       "      <td>18.32</td>\n",
       "      <td>0</td>\n",
       "      <td>-582.88</td>\n",
       "      <td>0.0</td>\n",
       "      <td>-582.88</td>\n",
       "      <td>日内小幅冲高后已经走弱，此时出现一个小高峰，虽然不及前高，但觉得后续会没有后劲，提前止损...</td>\n",
       "    </tr>\n",
       "    <tr>\n",
       "      <th>300741.SZ</th>\n",
       "      <th>2021-10-15</th>\n",
       "      <td>华宝股份</td>\n",
       "      <td>1</td>\n",
       "      <td>-300</td>\n",
       "      <td>44.05</td>\n",
       "      <td>13196.78</td>\n",
       "      <td>44.05</td>\n",
       "      <td>0</td>\n",
       "      <td>-1238.22</td>\n",
       "      <td>0.0</td>\n",
       "      <td>-1238.22</td>\n",
       "      <td>一天没有起色，清仓</td>\n",
       "    </tr>\n",
       "    <tr>\n",
       "      <th>300752.SZ</th>\n",
       "      <th>2021-10-29</th>\n",
       "      <td>隆利科技</td>\n",
       "      <td>1</td>\n",
       "      <td>-1000</td>\n",
       "      <td>25.45</td>\n",
       "      <td>25419.46</td>\n",
       "      <td>25.18</td>\n",
       "      <td>0</td>\n",
       "      <td>2304.46</td>\n",
       "      <td>0.0</td>\n",
       "      <td>2304.46</td>\n",
       "      <td>上午冲高到 16.6%之后逐渐缩量走弱，为了降低仓位和下周回调的风险，选择兑现...</td>\n",
       "    </tr>\n",
       "    <tr>\n",
       "      <th>300809.SZ</th>\n",
       "      <th>2021-10-21</th>\n",
       "      <td>华辰装备</td>\n",
       "      <td>1</td>\n",
       "      <td>-300</td>\n",
       "      <td>51.00</td>\n",
       "      <td>15279.70</td>\n",
       "      <td>51.00</td>\n",
       "      <td>0</td>\n",
       "      <td>-988.30</td>\n",
       "      <td>0.0</td>\n",
       "      <td>-988.30</td>\n",
       "      <td>跌破 5 日线，且板块走弱，大盘弱势。降低仓位降低风险...</td>\n",
       "    </tr>\n",
       "    <tr>\n",
       "      <th>300850.SZ</th>\n",
       "      <th>2021-10-21</th>\n",
       "      <td>新强联</td>\n",
       "      <td>1</td>\n",
       "      <td>-100</td>\n",
       "      <td>195.36</td>\n",
       "      <td>19511.46</td>\n",
       "      <td>196.89</td>\n",
       "      <td>0</td>\n",
       "      <td>91.46</td>\n",
       "      <td>0.0</td>\n",
       "      <td>91.46</td>\n",
       "      <td>早上一直很弱，跌破ma5，板块绿盘，大盘绿盘</td>\n",
       "    </tr>\n",
       "    <tr>\n",
       "      <th>301018.SZ</th>\n",
       "      <th>2021-10-28</th>\n",
       "      <td>申菱环境</td>\n",
       "      <td>1</td>\n",
       "      <td>-600</td>\n",
       "      <td>31.41</td>\n",
       "      <td>18822.15</td>\n",
       "      <td>29.95</td>\n",
       "      <td>0</td>\n",
       "      <td>44.15</td>\n",
       "      <td>0.0</td>\n",
       "      <td>44.15</td>\n",
       "      <td>冲高7.5%回落到5.3%，自动单卖出。后有小幅冲高到8.4%形成顶背离...</td>\n",
       "    </tr>\n",
       "    <tr>\n",
       "      <th>301025.SZ</th>\n",
       "      <th>2021-10-20</th>\n",
       "      <td>读客文化</td>\n",
       "      <td>1</td>\n",
       "      <td>-800</td>\n",
       "      <td>16.93</td>\n",
       "      <td>13525.46</td>\n",
       "      <td>17.66</td>\n",
       "      <td>0</td>\n",
       "      <td>-319.54</td>\n",
       "      <td>0.0</td>\n",
       "      <td>-319.54</td>\n",
       "      <td>昨日尾盘站不住均线，今天也没有企稳迹象，跑路</td>\n",
       "    </tr>\n",
       "    <tr>\n",
       "      <th>600508.SH</th>\n",
       "      <th>2021-10-13</th>\n",
       "      <td>上海能源</td>\n",
       "      <td>1</td>\n",
       "      <td>-600</td>\n",
       "      <td>13.02</td>\n",
       "      <td>7799.19</td>\n",
       "      <td>12.90</td>\n",
       "      <td>0</td>\n",
       "      <td>-785.81</td>\n",
       "      <td>0.0</td>\n",
       "      <td>-785.81</td>\n",
       "      <td>NaN</td>\n",
       "    </tr>\n",
       "    <tr>\n",
       "      <th>603260.SH</th>\n",
       "      <th>2021-10-25</th>\n",
       "      <td>合盛硅业</td>\n",
       "      <td>1</td>\n",
       "      <td>-100</td>\n",
       "      <td>185.33</td>\n",
       "      <td>18509.47</td>\n",
       "      <td>183.85</td>\n",
       "      <td>0</td>\n",
       "      <td>1217.47</td>\n",
       "      <td>0.0</td>\n",
       "      <td>1217.47</td>\n",
       "      <td>MACD 顶背离卖出</td>\n",
       "    </tr>\n",
       "    <tr>\n",
       "      <th>603982.SH</th>\n",
       "      <th>2021-10-26</th>\n",
       "      <td>泉峰汽车</td>\n",
       "      <td>1</td>\n",
       "      <td>-400</td>\n",
       "      <td>27.56</td>\n",
       "      <td>11007.98</td>\n",
       "      <td>28.30</td>\n",
       "      <td>0</td>\n",
       "      <td>358.98</td>\n",
       "      <td>0.0</td>\n",
       "      <td>358.98</td>\n",
       "      <td>竞价结束前突然冲高2%，开盘后急速下杀，担心翻绿卖出。错误：早盘急杀是洗盘...</td>\n",
       "    </tr>\n",
       "  </tbody>\n",
       "</table>\n",
       "</div>"
      ],
      "text/plain": [
       "                          name  op_num   vol   price   expense   close  \\\n",
       "ts_code   trade_date                                                     \n",
       "000591.SZ 2021-09-30    太阳能       1 -1800   11.11  19973.00   12.57   \n",
       "000812.SZ 2021-10-14  陕西金叶       1 -2400    3.40   8146.84    3.49   \n",
       "000831.SZ 2021-10-29  五矿稀土       1  -200   38.33   7653.33   37.83   \n",
       "002271.SZ 2021-11-02  东方雨虹       1  -300   39.81  11926.06   39.70   \n",
       "002416.SZ 2021-10-15    爱施德       1 -1400   10.65  14890.09   10.65   \n",
       "002487.SZ 2021-11-05  大金重工       1  -400   43.80  17497.48   45.72   \n",
       "002824.SZ 2021-10-26  和胜股份       1  -400   36.54  14596.38   37.20   \n",
       "002837.SZ 2021-10-22    英维克       1  -100   42.70   4260.73   40.04   \n",
       "300031.SZ 2021-11-04  宝通科技       1  -400   22.47   8974.01   23.15   \n",
       "300087.SZ 2021-10-18  荃银高科       1  -400   31.49  12578.40   31.64   \n",
       "300088.SZ 2021-11-02  长信科技       1 -1900   10.64  20190.78   10.63   \n",
       "300102.SZ 2021-10-14  乾照光电       1 -1700    8.11  13768.21    8.11   \n",
       "300162.SZ 2021-10-15  雷曼光电       1 -1700   12.72  21597.38   12.22   \n",
       "          2021-10-18  雷曼光电       2  -500   12.44   6208.78   12.63   \n",
       "300209.SZ 2021-10-21  天泽信息       1 -1100    8.92   9797.19    9.05   \n",
       "300224.SZ 2021-11-01  正海磁材       1  -700   11.64   8134.85   11.60   \n",
       "300296.SZ 2021-10-14    利亚德       1 -1400   10.06  14064.92    9.99   \n",
       "300303.SZ 2021-10-14  聚飞光电       1 -3000    6.32  18936.04    6.36   \n",
       "          2021-10-18  聚飞光电       2 -3200    6.18  19751.22    6.24   \n",
       "300346.SZ 2021-10-19  南大光电       1  -400   52.55  20993.98   52.67   \n",
       "          2021-10-25  南大光电       2  -300   55.60  16658.32   55.60   \n",
       "300483.SZ 2021-10-25  首华燃气       1  -600   22.36  13397.58   22.31   \n",
       "300537.SZ 2021-11-02  广信材料       1  -800   17.50  13981.00   17.46   \n",
       "300650.SZ 2021-11-04  太龙股份       1  -400   22.39   8942.04   22.47   \n",
       "300653.SZ 2021-10-29  正海生物       1  -200   59.07  11797.19   59.48   \n",
       "300672.SZ 2021-11-02    国科微       1  -100  168.80  16858.12  168.05   \n",
       "300690.SZ 2021-11-01  双一科技       1  -300   28.01   8389.60   27.01   \n",
       "          2021-11-05  双一科技       2  -300   33.70  10094.89   32.02   \n",
       "300708.SZ 2021-10-29  聚灿光电       1  -700   18.40  12862.12   18.32   \n",
       "300741.SZ 2021-10-15  华宝股份       1  -300   44.05  13196.78   44.05   \n",
       "300752.SZ 2021-10-29  隆利科技       1 -1000   25.45  25419.46   25.18   \n",
       "300809.SZ 2021-10-21  华辰装备       1  -300   51.00  15279.70   51.00   \n",
       "300850.SZ 2021-10-21    新强联       1  -100  195.36  19511.46  196.89   \n",
       "301018.SZ 2021-10-28  申菱环境       1  -600   31.41  18822.15   29.95   \n",
       "301025.SZ 2021-10-20  读客文化       1  -800   16.93  13525.46   17.66   \n",
       "600508.SH 2021-10-13  上海能源       1  -600   13.02   7799.19   12.90   \n",
       "603260.SH 2021-10-25  合盛硅业       1  -100  185.33  18509.47  183.85   \n",
       "603982.SH 2021-10-26  泉峰汽车       1  -400   27.56  11007.98   28.30   \n",
       "\n",
       "                      total_vol  total_expense  hold_value   profit  \\\n",
       "ts_code   trade_date                                                  \n",
       "000591.SZ 2021-09-30          0       -1201.44         0.0 -1201.44   \n",
       "000812.SZ 2021-10-14          0       -1194.16         0.0 -1194.16   \n",
       "000831.SZ 2021-10-29          0        -465.67         0.0  -465.67   \n",
       "002271.SZ 2021-11-02          0        -609.94         0.0  -609.94   \n",
       "002416.SZ 2021-10-15          0        -640.91         0.0  -640.91   \n",
       "002487.SZ 2021-11-05          0        2097.48         0.0  2097.48   \n",
       "002824.SZ 2021-10-26          0        -964.62         0.0  -964.62   \n",
       "002837.SZ 2021-10-22          0         354.73         0.0   354.73   \n",
       "300031.SZ 2021-11-04          0         293.01         0.0   293.01   \n",
       "300087.SZ 2021-10-18          0        -106.60         0.0  -106.60   \n",
       "300088.SZ 2021-11-02          0         369.78         0.0   369.78   \n",
       "300102.SZ 2021-10-14          0        -227.79         0.0  -227.79   \n",
       "300162.SZ 2021-10-15          0        1566.38         0.0  1566.38   \n",
       "          2021-10-18          0          78.78         0.0    78.78   \n",
       "300209.SZ 2021-10-21          0        1711.15         0.0  1711.15   \n",
       "300224.SZ 2021-11-01          0        -305.15         0.0  -305.15   \n",
       "300296.SZ 2021-10-14          0          73.92         0.0    73.92   \n",
       "300303.SZ 2021-10-14          0        1021.04         0.0  1021.04   \n",
       "          2021-10-18          0        -477.78         0.0  -477.78   \n",
       "300346.SZ 2021-10-19          0         165.98         0.0   165.98   \n",
       "          2021-10-25          0         606.32         0.0   606.32   \n",
       "300483.SZ 2021-10-25          0         162.58         0.0   162.58   \n",
       "300537.SZ 2021-11-02          0         143.00         0.0   143.00   \n",
       "300650.SZ 2021-11-04          0        -222.96         0.0  -222.96   \n",
       "300653.SZ 2021-10-29          0         162.19         0.0   162.19   \n",
       "300672.SZ 2021-11-02          0         -35.88         0.0   -35.88   \n",
       "300690.SZ 2021-11-01          0        -496.17         0.0  -496.17   \n",
       "          2021-11-05          0        1986.89         0.0  1986.89   \n",
       "300708.SZ 2021-10-29          0        -582.88         0.0  -582.88   \n",
       "300741.SZ 2021-10-15          0       -1238.22         0.0 -1238.22   \n",
       "300752.SZ 2021-10-29          0        2304.46         0.0  2304.46   \n",
       "300809.SZ 2021-10-21          0        -988.30         0.0  -988.30   \n",
       "300850.SZ 2021-10-21          0          91.46         0.0    91.46   \n",
       "301018.SZ 2021-10-28          0          44.15         0.0    44.15   \n",
       "301025.SZ 2021-10-20          0        -319.54         0.0  -319.54   \n",
       "600508.SH 2021-10-13          0        -785.81         0.0  -785.81   \n",
       "603260.SH 2021-10-25          0        1217.47         0.0  1217.47   \n",
       "603982.SH 2021-10-26          0         358.98         0.0   358.98   \n",
       "\n",
       "                                                                                                             reason  \n",
       "ts_code   trade_date                                                                                                 \n",
       "000591.SZ 2021-09-30                                                NaN                                              \n",
       "000812.SZ 2021-10-14  买入当日就炸板9%大面，次日低开直接下杀，为了避免跌停直接卖出......                             \n",
       "000831.SZ 2021-10-29                         日内 macd 顶背离，趁机止损                                              \n",
       "002271.SZ 2021-11-02                           大盘急跌，为控制风险割肉                                              \n",
       "002416.SZ 2021-10-15                                 一天没有起色，清仓                                              \n",
       "002487.SZ 2021-11-05  风电萎靡为了锁定利润，在 5%止盈。错误：大金重工在风电板块很强势，不该割肉，尾盘封板......      \n",
       "002824.SZ 2021-10-26  竞价结束前突然冲高4%+，开盘后又直线杀跌到-4%，为规避更大风险选择割肉......                     \n",
       "002837.SZ 2021-10-22                       二次开板后走势疲软，大盘下行                                              \n",
       "300031.SZ 2021-11-04  元宇宙连续两天冲高回落，个股从4%回落到水面附近，为避免风险清仓......                           \n",
       "300087.SZ 2021-10-18  盘前有种业利好，仍然低开-5%，随后慢慢上冲，跟随转基因冲高到 10%附近macd 顶背离清...            \n",
       "300088.SZ 2021-11-02                 两次触碰均线都下跌，但卖出时机不好                                              \n",
       "300102.SZ 2021-10-14  开盘在均线下方一路走低，MiniLed 板块也不坚挺，感觉当天不会有行情了......                       \n",
       "300162.SZ 2021-10-15                           典型 macd 分时顶背离卖出                                              \n",
       "          2021-10-18                          直线冲高12cm 后回落，清仓                                              \n",
       "300209.SZ 2021-10-21   冲高14cm 急剧回落，小幅反弹后继续杀跌到 7.2%卖出                                              \n",
       "300224.SZ 2021-11-01                             日内macd顶背离逢高止损                                              \n",
       "300296.SZ 2021-10-14  低开围绕均线波动，MiniLed 板块也不坚挺，感觉当天不会有行情了......                             \n",
       "300303.SZ 2021-10-14  低开冲上均线又急剧回落，MiniLed 板块也不坚挺，感觉当天不会有行情了......                       \n",
       "          2021-10-18                          跌破 ma5 且没有起色，清仓                                              \n",
       "300346.SZ 2021-10-19                     缩量，没有有动作的迹象，先出去                                              \n",
       "          2021-10-25           日内反弹到接近水线，为降低总仓位暂时止盈                                              \n",
       "300483.SZ 2021-10-25                                   跌破分时均线止盈                                              \n",
       "300537.SZ 2021-11-02                         大盘急跌，为控制风险，清仓                                              \n",
       "300650.SZ 2021-11-04  日内走势较疲软，没有跟随 MINILED 走强，趁高位出掉                                              \n",
       "300653.SZ 2021-10-29  冲高到 7%已经抹平浮亏，上攻乏力量能萎缩，趁没有回调前离场......                                \n",
       "300672.SZ 2021-11-02                         大盘急跌，为控制风险，清仓                                              \n",
       "300690.SZ 2021-11-01   macd 顶背离后继续上冲，回落到11.5%后，自动单卖出                                              \n",
       "          2021-11-05                     风电走弱，回探分时均线逢高出局                                              \n",
       "300708.SZ 2021-10-29  日内小幅冲高后已经走弱，此时出现一个小高峰，虽然不及前高，但觉得后续会没有后劲，提前止损.....  \n",
       "300741.SZ 2021-10-15                                 一天没有起色，清仓                                              \n",
       "300752.SZ 2021-10-29  上午冲高到 16.6%之后逐渐缩量走弱，为了降低仓位和下周回调的风险，选择兑现......                 \n",
       "300809.SZ 2021-10-21  跌破 5 日线，且板块走弱，大盘弱势。降低仓位降低风险......                                      \n",
       "300850.SZ 2021-10-21          早上一直很弱，跌破ma5，板块绿盘，大盘绿盘                                              \n",
       "301018.SZ 2021-10-28  冲高7.5%回落到5.3%，自动单卖出。后有小幅冲高到8.4%形成顶背离......                             \n",
       "301025.SZ 2021-10-20       昨日尾盘站不住均线，今天也没有企稳迹象，跑路                                              \n",
       "600508.SH 2021-10-13                                                NaN                                              \n",
       "603260.SH 2021-10-25                                    MACD 顶背离卖出                                              \n",
       "603982.SH 2021-10-26  竞价结束前突然冲高2%，开盘后急速下杀，担心翻绿卖出。错误：早盘急杀是洗盘......                 "
      ]
     },
     "execution_count": 11,
     "metadata": {},
     "output_type": "execute_result"
    }
   ],
   "source": [
    "finished[OREDER_COLS]"
   ]
  },
  {
   "cell_type": "code",
   "execution_count": 11,
   "id": "0908649c-bfc6-4745-badc-1c3ae89dda09",
   "metadata": {
    "collapsed": true,
    "jupyter": {
     "outputs_hidden": true
    },
    "tags": []
   },
   "outputs": [
    {
     "data": {
      "text/html": [
       "<div>\n",
       "<style scoped>\n",
       "    .dataframe tbody tr th:only-of-type {\n",
       "        vertical-align: middle;\n",
       "    }\n",
       "\n",
       "    .dataframe tbody tr th {\n",
       "        vertical-align: top;\n",
       "    }\n",
       "\n",
       "    .dataframe thead th {\n",
       "        text-align: right;\n",
       "    }\n",
       "</style>\n",
       "<table border=\"1\" class=\"dataframe\">\n",
       "  <thead>\n",
       "    <tr style=\"text-align: right;\">\n",
       "      <th></th>\n",
       "      <th></th>\n",
       "      <th>name</th>\n",
       "      <th>op_num</th>\n",
       "      <th>vol</th>\n",
       "      <th>price</th>\n",
       "      <th>expense</th>\n",
       "      <th>close</th>\n",
       "      <th>total_vol</th>\n",
       "      <th>total_expense</th>\n",
       "      <th>hold_value</th>\n",
       "      <th>profit</th>\n",
       "      <th>reason</th>\n",
       "    </tr>\n",
       "    <tr>\n",
       "      <th>ts_code</th>\n",
       "      <th>trade_date</th>\n",
       "      <th></th>\n",
       "      <th></th>\n",
       "      <th></th>\n",
       "      <th></th>\n",
       "      <th></th>\n",
       "      <th></th>\n",
       "      <th></th>\n",
       "      <th></th>\n",
       "      <th></th>\n",
       "      <th></th>\n",
       "      <th></th>\n",
       "    </tr>\n",
       "  </thead>\n",
       "  <tbody>\n",
       "    <tr>\n",
       "      <th>000831.SZ</th>\n",
       "      <th>2021-10-29</th>\n",
       "      <td>五矿稀土</td>\n",
       "      <td>1</td>\n",
       "      <td>-200</td>\n",
       "      <td>38.33</td>\n",
       "      <td>7653.33</td>\n",
       "      <td>37.83</td>\n",
       "      <td>0</td>\n",
       "      <td>-465.67</td>\n",
       "      <td>0.0</td>\n",
       "      <td>-465.67</td>\n",
       "      <td>日内 macd 顶背离，趁机止损</td>\n",
       "    </tr>\n",
       "    <tr>\n",
       "      <th>002271.SZ</th>\n",
       "      <th>2021-10-29</th>\n",
       "      <td>东方雨虹</td>\n",
       "      <td>1</td>\n",
       "      <td>300</td>\n",
       "      <td>41.77</td>\n",
       "      <td>-12536.00</td>\n",
       "      <td>41.75</td>\n",
       "      <td>300</td>\n",
       "      <td>-12536.00</td>\n",
       "      <td>12525.0</td>\n",
       "      <td>-11.00</td>\n",
       "      <td>前2 日跌停龙虎榜机构大买，昨日已经企稳，博弈一个机构套利预期...</td>\n",
       "    </tr>\n",
       "    <tr>\n",
       "      <th>300653.SZ</th>\n",
       "      <th>2021-10-29</th>\n",
       "      <td>正海生物</td>\n",
       "      <td>1</td>\n",
       "      <td>-200</td>\n",
       "      <td>59.07</td>\n",
       "      <td>11797.19</td>\n",
       "      <td>59.48</td>\n",
       "      <td>0</td>\n",
       "      <td>162.19</td>\n",
       "      <td>0.0</td>\n",
       "      <td>162.19</td>\n",
       "      <td>冲高到 7%已经抹平浮亏，上攻乏力量能萎缩，趁没有回调前离场...</td>\n",
       "    </tr>\n",
       "    <tr>\n",
       "      <th>300672.SZ</th>\n",
       "      <th>2021-10-29</th>\n",
       "      <td>国科微</td>\n",
       "      <td>1</td>\n",
       "      <td>100</td>\n",
       "      <td>168.89</td>\n",
       "      <td>-16894.00</td>\n",
       "      <td>168.32</td>\n",
       "      <td>100</td>\n",
       "      <td>-16894.00</td>\n",
       "      <td>16832.0</td>\n",
       "      <td>-62.00</td>\n",
       "      <td>接近前高位置缩量整理不破 MA5</td>\n",
       "    </tr>\n",
       "    <tr>\n",
       "      <th>300708.SZ</th>\n",
       "      <th>2021-10-29</th>\n",
       "      <td>聚灿光电</td>\n",
       "      <td>1</td>\n",
       "      <td>-700</td>\n",
       "      <td>18.40</td>\n",
       "      <td>12862.12</td>\n",
       "      <td>18.32</td>\n",
       "      <td>0</td>\n",
       "      <td>-582.88</td>\n",
       "      <td>0.0</td>\n",
       "      <td>-582.88</td>\n",
       "      <td>日内小幅冲高后已经走弱，此时出现一个小高峰，虽然不及前高，但觉得后续会没有后劲，提前止损...</td>\n",
       "    </tr>\n",
       "    <tr>\n",
       "      <th>300752.SZ</th>\n",
       "      <th>2021-10-29</th>\n",
       "      <td>隆利科技</td>\n",
       "      <td>1</td>\n",
       "      <td>-1000</td>\n",
       "      <td>25.45</td>\n",
       "      <td>25419.46</td>\n",
       "      <td>25.18</td>\n",
       "      <td>0</td>\n",
       "      <td>2304.46</td>\n",
       "      <td>0.0</td>\n",
       "      <td>2304.46</td>\n",
       "      <td>上午冲高到 16.6%之后逐渐缩量走弱，为了降低仓位和下周回调的风险，选择兑现...</td>\n",
       "    </tr>\n",
       "  </tbody>\n",
       "</table>\n",
       "</div>"
      ],
      "text/plain": [
       "                          name  op_num   vol   price   expense   close  \\\n",
       "ts_code   trade_date                                                     \n",
       "000831.SZ 2021-10-29  五矿稀土       1  -200   38.33   7653.33   37.83   \n",
       "002271.SZ 2021-10-29  东方雨虹       1   300   41.77 -12536.00   41.75   \n",
       "300653.SZ 2021-10-29  正海生物       1  -200   59.07  11797.19   59.48   \n",
       "300672.SZ 2021-10-29    国科微       1   100  168.89 -16894.00  168.32   \n",
       "300708.SZ 2021-10-29  聚灿光电       1  -700   18.40  12862.12   18.32   \n",
       "300752.SZ 2021-10-29  隆利科技       1 -1000   25.45  25419.46   25.18   \n",
       "\n",
       "                      total_vol  total_expense  hold_value   profit  \\\n",
       "ts_code   trade_date                                                  \n",
       "000831.SZ 2021-10-29          0        -465.67         0.0  -465.67   \n",
       "002271.SZ 2021-10-29        300      -12536.00     12525.0   -11.00   \n",
       "300653.SZ 2021-10-29          0         162.19         0.0   162.19   \n",
       "300672.SZ 2021-10-29        100      -16894.00     16832.0   -62.00   \n",
       "300708.SZ 2021-10-29          0        -582.88         0.0  -582.88   \n",
       "300752.SZ 2021-10-29          0        2304.46         0.0  2304.46   \n",
       "\n",
       "                                                                                                             reason  \n",
       "ts_code   trade_date                                                                                                 \n",
       "000831.SZ 2021-10-29                         日内 macd 顶背离，趁机止损                                              \n",
       "002271.SZ 2021-10-29  前2 日跌停龙虎榜机构大买，昨日已经企稳，博弈一个机构套利预期......                             \n",
       "300653.SZ 2021-10-29  冲高到 7%已经抹平浮亏，上攻乏力量能萎缩，趁没有回调前离场......                                \n",
       "300672.SZ 2021-10-29                       接近前高位置缩量整理不破 MA5                                              \n",
       "300708.SZ 2021-10-29  日内小幅冲高后已经走弱，此时出现一个小高峰，虽然不及前高，但觉得后续会没有后劲，提前止损.....  \n",
       "300752.SZ 2021-10-29  上午冲高到 16.6%之后逐渐缩量走弱，为了降低仓位和下周回调的风险，选择兑现......                 "
      ]
     },
     "execution_count": 11,
     "metadata": {},
     "output_type": "execute_result"
    }
   ],
   "source": [
    "orders.xs(slice(end_date, end_date), level=1, drop_level=False)[OREDER_COLS]"
   ]
  },
  {
   "cell_type": "markdown",
   "id": "4fdd728e-8502-41cc-a95a-12d170a53cef",
   "metadata": {},
   "source": [
    "### 3. Lessons Learned"
   ]
  },
  {
   "cell_type": "markdown",
   "id": "2bbcd148-e05d-4420-b224-4ed5725ec91e",
   "metadata": {},
   "source": [
    "#### 炸板股的选择要点\n",
    "* 不能放量，上方不能有大量压力\n",
    "* 最好接近破前高或者创新高\n",
    "* 上午触板的比下午触板的好，封板时间较长的好，长期在板上封不住又总想封的不好"
   ]
  },
  {
   "cell_type": "markdown",
   "id": "ebdca550-2c56-462b-8d5a-07ad946d0da7",
   "metadata": {},
   "source": [
    "#### 大活跃的要点\n",
    "* 实际换手率太大的不好，最好在 15% 以内，5%以上\n",
    "* 最近的一波冲高不能太高，否则抛压重"
   ]
  },
  {
   "cell_type": "markdown",
   "id": "1672f1e7-a615-463e-871b-e814c8b5adc9",
   "metadata": {},
   "source": [
    "#### 情绪的要点\n",
    "* 大涨票，最好能在大盘弱势的时候，缩量回调均线，此时介入盈亏比较高"
   ]
  },
  {
   "cell_type": "markdown",
   "id": "ee927db1-5ffb-426b-82fe-0893dd9b0b73",
   "metadata": {},
   "source": [
    "#### 斐波那契空间\n",
    "* 连续上涨的票见顶下跌后，从底部到顶点回调到 50%时通常有一个反抽机会"
   ]
  },
  {
   "cell_type": "markdown",
   "id": "4f694d35-1104-42cf-998f-fbd30842ec58",
   "metadata": {},
   "source": [
    "#### 急杀低吸的要点\n",
    "* 待观察"
   ]
  },
  {
   "cell_type": "markdown",
   "id": "7b16c621-d784-4bc2-9a1a-07cd5e80e1a2",
   "metadata": {},
   "source": [
    "#### 日内走弱卖出的要点\n",
    "* 高开低走的，回调均线再回落，果断卖出\n",
    "* 如果回调均线不准备卖，就坚决等反弹，或者破位（日内跌破 5%以上且日线跌破 ma5）后再卖。不能情绪化杀跌！"
   ]
  },
  {
   "cell_type": "markdown",
   "id": "ada522d9-d50e-404a-864c-680d131b6ba9",
   "metadata": {},
   "source": [
    "#### 冲高卖出要点\n",
    "* 早盘急拉高的可速卖：300 的9%回1.5%，主板的7%回1%\n",
    "* 11 点以后可以把条件单撤了，这个时候拉高的日内不回撤的可能性较大"
   ]
  },
  {
   "cell_type": "markdown",
   "id": "728945e5-9711-4d0c-9d89-15c450ab22b2",
   "metadata": {},
   "source": [
    "#### 笔记\n",
    "* 老邪：\n",
    "  * 选股标准：新高，多头趋势，赛道股 （森特股份，露笑科技，科华数据）\n",
    "  * 入场机会：缩量回踩 ma5 和 ma10\n",
    "  * 情绪判断：今天（1110）盘中虽然创了新低，但却并没有恐慌，大跌的时候甚至一家跌停都没有，所以虽然是大长腿，但这个含“腿”量并不高。\n",
    "  * 11 月是公募业绩考核期，远离基金重仓，防止神仙打架殃及池鱼"
   ]
  },
  {
   "cell_type": "code",
   "execution_count": null,
   "id": "77a07721-e173-4b16-8343-6ce6060a199f",
   "metadata": {},
   "outputs": [],
   "source": []
  }
 ],
 "metadata": {
  "kernelspec": {
   "display_name": "Python 3",
   "language": "python",
   "name": "python3"
  },
  "language_info": {
   "codemirror_mode": {
    "name": "ipython",
    "version": 3
   },
   "file_extension": ".py",
   "mimetype": "text/x-python",
   "name": "python",
   "nbconvert_exporter": "python",
   "pygments_lexer": "ipython3",
   "version": "3.8.2"
  }
 },
 "nbformat": 4,
 "nbformat_minor": 5
}
