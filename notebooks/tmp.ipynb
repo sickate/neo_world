{
 "cells": [
  {
   "cell_type": "code",
   "execution_count": 2,
   "id": "7b4535b9-ebab-43a8-bfa4-a8872125f434",
   "metadata": {},
   "outputs": [
    {
     "name": "stdout",
     "output_type": "stream",
     "text": [
      "[2021-11-21T16:21:45.017978+08:00] Enviroment loaded. Working Dir: /Users/tzhu/work/lab/neo_world/notebooks\n",
      "Today is 2021-11-21, Working from 2020-11-04 to 2021-11-19\n"
     ]
    }
   ],
   "source": [
    "%run nb-env.ipynb"
   ]
  },
  {
   "cell_type": "code",
   "execution_count": 5,
   "id": "7f95f591-3a1a-45cf-b40e-c657e33fc70e",
   "metadata": {},
   "outputs": [
    {
     "name": "stdout",
     "output_type": "stream",
     "text": [
      "Initializing data from 2021-11-18 to 2021-11-19...\n",
      "Merging all data...\n",
      "Start loading stock data from PG...\n",
      "Start loading adjfactor data from PG...\n",
      "Start loading daily_basic data from PG...\n",
      "Merging...\n",
      "Processing price variables...\n",
      "Calculating upstop data...\n",
      "Calculating MAs...\n",
      "Calculating list_days...\n",
      "CPU times: user 33.8 s, sys: 640 ms, total: 34.4 s\n",
      "Wall time: 36 s\n"
     ]
    }
   ],
   "source": [
    "%%time\n",
    "\n",
    "date=today_date + 'T'\n",
    "\n",
    "dc, df_init = init_data(yesterday_date, end_date, expire_days=30)\n",
    "df = df_init.copy(deep=True)"
   ]
  },
  {
   "cell_type": "markdown",
   "id": "81626b40-a43c-4f99-b3cd-b743500e86ef",
   "metadata": {},
   "source": [
    "#### Auction"
   ]
  },
  {
   "cell_type": "code",
   "execution_count": 6,
   "id": "be8be77f-e9bd-4713-8e21-ff2c493ca871",
   "metadata": {
    "tags": []
   },
   "outputs": [
    {
     "data": {
      "application/vnd.jupyter.widget-view+json": {
       "model_id": "13b34d03498544b1bdab590fa5d9626a",
       "version_major": 2,
       "version_minor": 0
      },
      "text/plain": [
       "  0%|          | 0/4628 [00:00<?, ?it/s]"
      ]
     },
     "metadata": {},
     "output_type": "display_data"
    },
    {
     "name": "stdout",
     "output_type": "stream",
     "text": [
      "CPU times: user 3min 23s, sys: 12.9 s, total: 3min 36s\n",
      "Wall time: 13min 8s\n"
     ]
    }
   ],
   "source": [
    "%%time\n",
    "\n",
    "stk_basic = dc.get_stock_basics()\n",
    "auc = ak_today_auctions(stk_basic, save_db=True)"
   ]
  },
  {
   "cell_type": "code",
   "execution_count": null,
   "id": "680b8c75-596e-4152-91dd-93b8342fe8e7",
   "metadata": {},
   "outputs": [],
   "source": [
    "aucs = load_table(model=Auction, start_date=week_ago_date, end_date=today_date)\n",
    "aucs.sort_index(inplace=True)\n",
    "aucs"
   ]
  }
 ],
 "metadata": {
  "kernelspec": {
   "display_name": "Python 3 (ipykernel)",
   "language": "python",
   "name": "python3"
  },
  "language_info": {
   "codemirror_mode": {
    "name": "ipython",
    "version": 3
   },
   "file_extension": ".py",
   "mimetype": "text/x-python",
   "name": "python",
   "nbconvert_exporter": "python",
   "pygments_lexer": "ipython3",
   "version": "3.8.9"
  }
 },
 "nbformat": 4,
 "nbformat_minor": 5
}
