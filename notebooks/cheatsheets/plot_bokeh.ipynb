{
 "cells": [
  {
   "cell_type": "code",
   "execution_count": 1,
   "metadata": {},
   "outputs": [
    {
     "data": {
      "text/html": [
       "\n",
       "    <div class=\"bk-root\">\n",
       "        <a href=\"https://bokeh.org\" target=\"_blank\" class=\"bk-logo bk-logo-small bk-logo-notebook\"></a>\n",
       "        <span id=\"1001\">Loading BokehJS ...</span>\n",
       "    </div>"
      ]
     },
     "metadata": {},
     "output_type": "display_data"
    },
    {
     "data": {
      "application/javascript": [
       "\n",
       "(function(root) {\n",
       "  function now() {\n",
       "    return new Date();\n",
       "  }\n",
       "\n",
       "  var force = true;\n",
       "\n",
       "  if (typeof root._bokeh_onload_callbacks === \"undefined\" || force === true) {\n",
       "    root._bokeh_onload_callbacks = [];\n",
       "    root._bokeh_is_loading = undefined;\n",
       "  }\n",
       "\n",
       "  var JS_MIME_TYPE = 'application/javascript';\n",
       "  var HTML_MIME_TYPE = 'text/html';\n",
       "  var EXEC_MIME_TYPE = 'application/vnd.bokehjs_exec.v0+json';\n",
       "  var CLASS_NAME = 'output_bokeh rendered_html';\n",
       "\n",
       "  /**\n",
       "   * Render data to the DOM node\n",
       "   */\n",
       "  function render(props, node) {\n",
       "    var script = document.createElement(\"script\");\n",
       "    node.appendChild(script);\n",
       "  }\n",
       "\n",
       "  /**\n",
       "   * Handle when an output is cleared or removed\n",
       "   */\n",
       "  function handleClearOutput(event, handle) {\n",
       "    var cell = handle.cell;\n",
       "\n",
       "    var id = cell.output_area._bokeh_element_id;\n",
       "    var server_id = cell.output_area._bokeh_server_id;\n",
       "    // Clean up Bokeh references\n",
       "    if (id != null && id in Bokeh.index) {\n",
       "      Bokeh.index[id].model.document.clear();\n",
       "      delete Bokeh.index[id];\n",
       "    }\n",
       "\n",
       "    if (server_id !== undefined) {\n",
       "      // Clean up Bokeh references\n",
       "      var cmd = \"from bokeh.io.state import curstate; print(curstate().uuid_to_server['\" + server_id + \"'].get_sessions()[0].document.roots[0]._id)\";\n",
       "      cell.notebook.kernel.execute(cmd, {\n",
       "        iopub: {\n",
       "          output: function(msg) {\n",
       "            var id = msg.content.text.trim();\n",
       "            if (id in Bokeh.index) {\n",
       "              Bokeh.index[id].model.document.clear();\n",
       "              delete Bokeh.index[id];\n",
       "            }\n",
       "          }\n",
       "        }\n",
       "      });\n",
       "      // Destroy server and session\n",
       "      var cmd = \"import bokeh.io.notebook as ion; ion.destroy_server('\" + server_id + \"')\";\n",
       "      cell.notebook.kernel.execute(cmd);\n",
       "    }\n",
       "  }\n",
       "\n",
       "  /**\n",
       "   * Handle when a new output is added\n",
       "   */\n",
       "  function handleAddOutput(event, handle) {\n",
       "    var output_area = handle.output_area;\n",
       "    var output = handle.output;\n",
       "\n",
       "    // limit handleAddOutput to display_data with EXEC_MIME_TYPE content only\n",
       "    if ((output.output_type != \"display_data\") || (!output.data.hasOwnProperty(EXEC_MIME_TYPE))) {\n",
       "      return\n",
       "    }\n",
       "\n",
       "    var toinsert = output_area.element.find(\".\" + CLASS_NAME.split(' ')[0]);\n",
       "\n",
       "    if (output.metadata[EXEC_MIME_TYPE][\"id\"] !== undefined) {\n",
       "      toinsert[toinsert.length - 1].firstChild.textContent = output.data[JS_MIME_TYPE];\n",
       "      // store reference to embed id on output_area\n",
       "      output_area._bokeh_element_id = output.metadata[EXEC_MIME_TYPE][\"id\"];\n",
       "    }\n",
       "    if (output.metadata[EXEC_MIME_TYPE][\"server_id\"] !== undefined) {\n",
       "      var bk_div = document.createElement(\"div\");\n",
       "      bk_div.innerHTML = output.data[HTML_MIME_TYPE];\n",
       "      var script_attrs = bk_div.children[0].attributes;\n",
       "      for (var i = 0; i < script_attrs.length; i++) {\n",
       "        toinsert[toinsert.length - 1].firstChild.setAttribute(script_attrs[i].name, script_attrs[i].value);\n",
       "      }\n",
       "      // store reference to server id on output_area\n",
       "      output_area._bokeh_server_id = output.metadata[EXEC_MIME_TYPE][\"server_id\"];\n",
       "    }\n",
       "  }\n",
       "\n",
       "  function register_renderer(events, OutputArea) {\n",
       "\n",
       "    function append_mime(data, metadata, element) {\n",
       "      // create a DOM node to render to\n",
       "      var toinsert = this.create_output_subarea(\n",
       "        metadata,\n",
       "        CLASS_NAME,\n",
       "        EXEC_MIME_TYPE\n",
       "      );\n",
       "      this.keyboard_manager.register_events(toinsert);\n",
       "      // Render to node\n",
       "      var props = {data: data, metadata: metadata[EXEC_MIME_TYPE]};\n",
       "      render(props, toinsert[toinsert.length - 1]);\n",
       "      element.append(toinsert);\n",
       "      return toinsert\n",
       "    }\n",
       "\n",
       "    /* Handle when an output is cleared or removed */\n",
       "    events.on('clear_output.CodeCell', handleClearOutput);\n",
       "    events.on('delete.Cell', handleClearOutput);\n",
       "\n",
       "    /* Handle when a new output is added */\n",
       "    events.on('output_added.OutputArea', handleAddOutput);\n",
       "\n",
       "    /**\n",
       "     * Register the mime type and append_mime function with output_area\n",
       "     */\n",
       "    OutputArea.prototype.register_mime_type(EXEC_MIME_TYPE, append_mime, {\n",
       "      /* Is output safe? */\n",
       "      safe: true,\n",
       "      /* Index of renderer in `output_area.display_order` */\n",
       "      index: 0\n",
       "    });\n",
       "  }\n",
       "\n",
       "  // register the mime type if in Jupyter Notebook environment and previously unregistered\n",
       "  if (root.Jupyter !== undefined) {\n",
       "    var events = require('base/js/events');\n",
       "    var OutputArea = require('notebook/js/outputarea').OutputArea;\n",
       "\n",
       "    if (OutputArea.prototype.mime_types().indexOf(EXEC_MIME_TYPE) == -1) {\n",
       "      register_renderer(events, OutputArea);\n",
       "    }\n",
       "  }\n",
       "\n",
       "  \n",
       "  if (typeof (root._bokeh_timeout) === \"undefined\" || force === true) {\n",
       "    root._bokeh_timeout = Date.now() + 5000;\n",
       "    root._bokeh_failed_load = false;\n",
       "  }\n",
       "\n",
       "  var NB_LOAD_WARNING = {'data': {'text/html':\n",
       "     \"<div style='background-color: #fdd'>\\n\"+\n",
       "     \"<p>\\n\"+\n",
       "     \"BokehJS does not appear to have successfully loaded. If loading BokehJS from CDN, this \\n\"+\n",
       "     \"may be due to a slow or bad network connection. Possible fixes:\\n\"+\n",
       "     \"</p>\\n\"+\n",
       "     \"<ul>\\n\"+\n",
       "     \"<li>re-rerun `output_notebook()` to attempt to load from CDN again, or</li>\\n\"+\n",
       "     \"<li>use INLINE resources instead, as so:</li>\\n\"+\n",
       "     \"</ul>\\n\"+\n",
       "     \"<code>\\n\"+\n",
       "     \"from bokeh.resources import INLINE\\n\"+\n",
       "     \"output_notebook(resources=INLINE)\\n\"+\n",
       "     \"</code>\\n\"+\n",
       "     \"</div>\"}};\n",
       "\n",
       "  function display_loaded() {\n",
       "    var el = document.getElementById(\"1001\");\n",
       "    if (el != null) {\n",
       "      el.textContent = \"BokehJS is loading...\";\n",
       "    }\n",
       "    if (root.Bokeh !== undefined) {\n",
       "      if (el != null) {\n",
       "        el.textContent = \"BokehJS \" + root.Bokeh.version + \" successfully loaded.\";\n",
       "      }\n",
       "    } else if (Date.now() < root._bokeh_timeout) {\n",
       "      setTimeout(display_loaded, 100)\n",
       "    }\n",
       "  }\n",
       "\n",
       "\n",
       "  function run_callbacks() {\n",
       "    try {\n",
       "      root._bokeh_onload_callbacks.forEach(function(callback) {\n",
       "        if (callback != null)\n",
       "          callback();\n",
       "      });\n",
       "    } finally {\n",
       "      delete root._bokeh_onload_callbacks\n",
       "    }\n",
       "    console.debug(\"Bokeh: all callbacks have finished\");\n",
       "  }\n",
       "\n",
       "  function load_libs(css_urls, js_urls, callback) {\n",
       "    if (css_urls == null) css_urls = [];\n",
       "    if (js_urls == null) js_urls = [];\n",
       "\n",
       "    root._bokeh_onload_callbacks.push(callback);\n",
       "    if (root._bokeh_is_loading > 0) {\n",
       "      console.debug(\"Bokeh: BokehJS is being loaded, scheduling callback at\", now());\n",
       "      return null;\n",
       "    }\n",
       "    if (js_urls == null || js_urls.length === 0) {\n",
       "      run_callbacks();\n",
       "      return null;\n",
       "    }\n",
       "    console.debug(\"Bokeh: BokehJS not loaded, scheduling load and callback at\", now());\n",
       "    root._bokeh_is_loading = css_urls.length + js_urls.length;\n",
       "\n",
       "    function on_load() {\n",
       "      root._bokeh_is_loading--;\n",
       "      if (root._bokeh_is_loading === 0) {\n",
       "        console.debug(\"Bokeh: all BokehJS libraries/stylesheets loaded\");\n",
       "        run_callbacks()\n",
       "      }\n",
       "    }\n",
       "\n",
       "    function on_error() {\n",
       "      console.error(\"failed to load \" + url);\n",
       "    }\n",
       "\n",
       "    for (var i = 0; i < css_urls.length; i++) {\n",
       "      var url = css_urls[i];\n",
       "      const element = document.createElement(\"link\");\n",
       "      element.onload = on_load;\n",
       "      element.onerror = on_error;\n",
       "      element.rel = \"stylesheet\";\n",
       "      element.type = \"text/css\";\n",
       "      element.href = url;\n",
       "      console.debug(\"Bokeh: injecting link tag for BokehJS stylesheet: \", url);\n",
       "      document.body.appendChild(element);\n",
       "    }\n",
       "\n",
       "    for (var i = 0; i < js_urls.length; i++) {\n",
       "      var url = js_urls[i];\n",
       "      var element = document.createElement('script');\n",
       "      element.onload = on_load;\n",
       "      element.onerror = on_error;\n",
       "      element.async = false;\n",
       "      element.src = url;\n",
       "      console.debug(\"Bokeh: injecting script tag for BokehJS library: \", url);\n",
       "      document.head.appendChild(element);\n",
       "    }\n",
       "  };var element = document.getElementById(\"1001\");\n",
       "  if (element == null) {\n",
       "    console.error(\"Bokeh: ERROR: autoload.js configured with elementid '1001' but no matching script tag was found. \")\n",
       "    return false;\n",
       "  }\n",
       "\n",
       "  function inject_raw_css(css) {\n",
       "    const element = document.createElement(\"style\");\n",
       "    element.appendChild(document.createTextNode(css));\n",
       "    document.body.appendChild(element);\n",
       "  }\n",
       "\n",
       "  \n",
       "  var js_urls = [\"https://cdn.pydata.org/bokeh/release/bokeh-1.4.0.min.js\", \"https://cdn.pydata.org/bokeh/release/bokeh-widgets-1.4.0.min.js\", \"https://cdn.pydata.org/bokeh/release/bokeh-tables-1.4.0.min.js\", \"https://cdn.pydata.org/bokeh/release/bokeh-gl-1.4.0.min.js\"];\n",
       "  var css_urls = [];\n",
       "  \n",
       "\n",
       "  var inline_js = [\n",
       "    function(Bokeh) {\n",
       "      Bokeh.set_log_level(\"info\");\n",
       "    },\n",
       "    function(Bokeh) {\n",
       "    \n",
       "    \n",
       "    }\n",
       "  ];\n",
       "\n",
       "  function run_inline_js() {\n",
       "    \n",
       "    if (root.Bokeh !== undefined || force === true) {\n",
       "      \n",
       "    for (var i = 0; i < inline_js.length; i++) {\n",
       "      inline_js[i].call(root, root.Bokeh);\n",
       "    }\n",
       "    if (force === true) {\n",
       "        display_loaded();\n",
       "      }} else if (Date.now() < root._bokeh_timeout) {\n",
       "      setTimeout(run_inline_js, 100);\n",
       "    } else if (!root._bokeh_failed_load) {\n",
       "      console.log(\"Bokeh: BokehJS failed to load within specified timeout.\");\n",
       "      root._bokeh_failed_load = true;\n",
       "    } else if (force !== true) {\n",
       "      var cell = $(document.getElementById(\"1001\")).parents('.cell').data().cell;\n",
       "      cell.output_area.append_execute_result(NB_LOAD_WARNING)\n",
       "    }\n",
       "\n",
       "  }\n",
       "\n",
       "  if (root._bokeh_is_loading === 0) {\n",
       "    console.debug(\"Bokeh: BokehJS loaded, going straight to plotting\");\n",
       "    run_inline_js();\n",
       "  } else {\n",
       "    load_libs(css_urls, js_urls, function() {\n",
       "      console.debug(\"Bokeh: BokehJS plotting callback run at\", now());\n",
       "      run_inline_js();\n",
       "    });\n",
       "  }\n",
       "}(window));"
      ],
      "application/vnd.bokehjs_load.v0+json": "\n(function(root) {\n  function now() {\n    return new Date();\n  }\n\n  var force = true;\n\n  if (typeof root._bokeh_onload_callbacks === \"undefined\" || force === true) {\n    root._bokeh_onload_callbacks = [];\n    root._bokeh_is_loading = undefined;\n  }\n\n  \n\n  \n  if (typeof (root._bokeh_timeout) === \"undefined\" || force === true) {\n    root._bokeh_timeout = Date.now() + 5000;\n    root._bokeh_failed_load = false;\n  }\n\n  var NB_LOAD_WARNING = {'data': {'text/html':\n     \"<div style='background-color: #fdd'>\\n\"+\n     \"<p>\\n\"+\n     \"BokehJS does not appear to have successfully loaded. If loading BokehJS from CDN, this \\n\"+\n     \"may be due to a slow or bad network connection. Possible fixes:\\n\"+\n     \"</p>\\n\"+\n     \"<ul>\\n\"+\n     \"<li>re-rerun `output_notebook()` to attempt to load from CDN again, or</li>\\n\"+\n     \"<li>use INLINE resources instead, as so:</li>\\n\"+\n     \"</ul>\\n\"+\n     \"<code>\\n\"+\n     \"from bokeh.resources import INLINE\\n\"+\n     \"output_notebook(resources=INLINE)\\n\"+\n     \"</code>\\n\"+\n     \"</div>\"}};\n\n  function display_loaded() {\n    var el = document.getElementById(\"1001\");\n    if (el != null) {\n      el.textContent = \"BokehJS is loading...\";\n    }\n    if (root.Bokeh !== undefined) {\n      if (el != null) {\n        el.textContent = \"BokehJS \" + root.Bokeh.version + \" successfully loaded.\";\n      }\n    } else if (Date.now() < root._bokeh_timeout) {\n      setTimeout(display_loaded, 100)\n    }\n  }\n\n\n  function run_callbacks() {\n    try {\n      root._bokeh_onload_callbacks.forEach(function(callback) {\n        if (callback != null)\n          callback();\n      });\n    } finally {\n      delete root._bokeh_onload_callbacks\n    }\n    console.debug(\"Bokeh: all callbacks have finished\");\n  }\n\n  function load_libs(css_urls, js_urls, callback) {\n    if (css_urls == null) css_urls = [];\n    if (js_urls == null) js_urls = [];\n\n    root._bokeh_onload_callbacks.push(callback);\n    if (root._bokeh_is_loading > 0) {\n      console.debug(\"Bokeh: BokehJS is being loaded, scheduling callback at\", now());\n      return null;\n    }\n    if (js_urls == null || js_urls.length === 0) {\n      run_callbacks();\n      return null;\n    }\n    console.debug(\"Bokeh: BokehJS not loaded, scheduling load and callback at\", now());\n    root._bokeh_is_loading = css_urls.length + js_urls.length;\n\n    function on_load() {\n      root._bokeh_is_loading--;\n      if (root._bokeh_is_loading === 0) {\n        console.debug(\"Bokeh: all BokehJS libraries/stylesheets loaded\");\n        run_callbacks()\n      }\n    }\n\n    function on_error() {\n      console.error(\"failed to load \" + url);\n    }\n\n    for (var i = 0; i < css_urls.length; i++) {\n      var url = css_urls[i];\n      const element = document.createElement(\"link\");\n      element.onload = on_load;\n      element.onerror = on_error;\n      element.rel = \"stylesheet\";\n      element.type = \"text/css\";\n      element.href = url;\n      console.debug(\"Bokeh: injecting link tag for BokehJS stylesheet: \", url);\n      document.body.appendChild(element);\n    }\n\n    for (var i = 0; i < js_urls.length; i++) {\n      var url = js_urls[i];\n      var element = document.createElement('script');\n      element.onload = on_load;\n      element.onerror = on_error;\n      element.async = false;\n      element.src = url;\n      console.debug(\"Bokeh: injecting script tag for BokehJS library: \", url);\n      document.head.appendChild(element);\n    }\n  };var element = document.getElementById(\"1001\");\n  if (element == null) {\n    console.error(\"Bokeh: ERROR: autoload.js configured with elementid '1001' but no matching script tag was found. \")\n    return false;\n  }\n\n  function inject_raw_css(css) {\n    const element = document.createElement(\"style\");\n    element.appendChild(document.createTextNode(css));\n    document.body.appendChild(element);\n  }\n\n  \n  var js_urls = [\"https://cdn.pydata.org/bokeh/release/bokeh-1.4.0.min.js\", \"https://cdn.pydata.org/bokeh/release/bokeh-widgets-1.4.0.min.js\", \"https://cdn.pydata.org/bokeh/release/bokeh-tables-1.4.0.min.js\", \"https://cdn.pydata.org/bokeh/release/bokeh-gl-1.4.0.min.js\"];\n  var css_urls = [];\n  \n\n  var inline_js = [\n    function(Bokeh) {\n      Bokeh.set_log_level(\"info\");\n    },\n    function(Bokeh) {\n    \n    \n    }\n  ];\n\n  function run_inline_js() {\n    \n    if (root.Bokeh !== undefined || force === true) {\n      \n    for (var i = 0; i < inline_js.length; i++) {\n      inline_js[i].call(root, root.Bokeh);\n    }\n    if (force === true) {\n        display_loaded();\n      }} else if (Date.now() < root._bokeh_timeout) {\n      setTimeout(run_inline_js, 100);\n    } else if (!root._bokeh_failed_load) {\n      console.log(\"Bokeh: BokehJS failed to load within specified timeout.\");\n      root._bokeh_failed_load = true;\n    } else if (force !== true) {\n      var cell = $(document.getElementById(\"1001\")).parents('.cell').data().cell;\n      cell.output_area.append_execute_result(NB_LOAD_WARNING)\n    }\n\n  }\n\n  if (root._bokeh_is_loading === 0) {\n    console.debug(\"Bokeh: BokehJS loaded, going straight to plotting\");\n    run_inline_js();\n  } else {\n    load_libs(css_urls, js_urls, function() {\n      console.debug(\"Bokeh: BokehJS plotting callback run at\", now());\n      run_inline_js();\n    });\n  }\n}(window));"
     },
     "metadata": {},
     "output_type": "display_data"
    }
   ],
   "source": [
    "import pandas as pd\n",
    "import numpy as np\n",
    "from bokeh.plotting import figure\n",
    "from bokeh.io import show, output_notebook, output_file\n",
    "from bokeh.palettes import Category20_16\n",
    "from bokeh.layouts import column, row, WidgetBox\n",
    "from bokeh.models import Panel, ColumnDataSource, HoverTool\n",
    "from bokeh.models.widgets import Tabs, CheckboxGroup, Slider, RangeSlider\n",
    "\n",
    "# 设置为在笔记本中输出情节\n",
    "output_notebook()\n",
    "# output_file('/Users/tzhu/Downloads/hist1.html')\n",
    "\n",
    "# 参考：http://liyangbit.com/pythonvisualization/Bokeh-Data-Visualization/\n",
    "# 另一个：https://zhuanlan.zhihu.com/p/28334595\n",
    "# 教程：https://github.com/DonaldDai/Bokeh-CN#PlottingwithBasicGlyphs"
   ]
  },
  {
   "cell_type": "markdown",
   "metadata": {},
   "source": [
    "* Plot: plots是bokeh的核心，是包含图形、导航、数据以及其他工具的容器。和matplotlib中的figure差不多吧，个人理解为画布。\n",
    "* Glyphs: glyph我理解为图形标记，基本图形结构，也就是线条line等。\n",
    "* Guides and Annotations: Guide就是导航按钮，如缩放、拖拽按钮等，Annotation就是一些标签、图例等。\n",
    "* Ranges: 数据的展示范围，也就是坐标轴范围。p = figure(x_range=[0,10], y_range=(10, 20))\n",
    "* Resoures: 主要是相关JS和CSS文件，默认会从cdn服务器上加载，这样的话展示可能需要联网才行。如果希望生成离线文件，设置output_file的model参数为inline（output_file(mode='inline')）。下面再来个散点图。"
   ]
  },
  {
   "cell_type": "code",
   "execution_count": 2,
   "metadata": {},
   "outputs": [
    {
     "data": {
      "text/plain": [
       "count    327346.000000\n",
       "mean          6.895377\n",
       "std          44.633292\n",
       "min         -86.000000\n",
       "25%         -17.000000\n",
       "50%          -5.000000\n",
       "75%          14.000000\n",
       "max        1272.000000\n",
       "Name: arr_delay, dtype: float64"
      ]
     },
     "execution_count": 2,
     "metadata": {},
     "output_type": "execute_result"
    }
   ],
   "source": [
    "hpth='/Users/tzhu/work/opensource/Bokeh-Python-Visualization/application'\n",
    "# 将 CSV 中的数据读入\n",
    "flights = pd.read_csv(f'{hpth}/data/flights.csv', index_col=0)\n",
    "\n",
    "# 兴趣栏的统计数据汇总\n",
    "flights['arr_delay'].describe()"
   ]
  },
  {
   "cell_type": "code",
   "execution_count": 26,
   "metadata": {
    "collapsed": true,
    "jupyter": {
     "outputs_hidden": true
    }
   },
   "outputs": [
    {
     "data": {
      "text/html": [
       "\n",
       "\n",
       "\n",
       "\n",
       "\n",
       "\n",
       "  <div class=\"bk-root\" id=\"a21a4b6e-6676-4e55-829d-d0a21a733aec\" data-root-id=\"1720\"></div>\n"
      ]
     },
     "metadata": {},
     "output_type": "display_data"
    },
    {
     "data": {
      "application/javascript": [
       "(function(root) {\n",
       "  function embed_document(root) {\n",
       "    \n",
       "  var docs_json = {\"fb7b4069-bc82-417e-bd13-24ca0fecf30c\":{\"roots\":{\"references\":[{\"attributes\":{\"below\":[{\"id\":\"1731\",\"type\":\"LinearAxis\"}],\"center\":[{\"id\":\"1735\",\"type\":\"Grid\"},{\"id\":\"1740\",\"type\":\"Grid\"}],\"left\":[{\"id\":\"1736\",\"type\":\"LinearAxis\"}],\"renderers\":[{\"id\":\"1757\",\"type\":\"GlyphRenderer\"},{\"id\":\"1762\",\"type\":\"GlyphRenderer\"}],\"title\":{\"id\":\"1721\",\"type\":\"Title\"},\"toolbar\":{\"id\":\"1747\",\"type\":\"Toolbar\"},\"x_range\":{\"id\":\"1723\",\"type\":\"DataRange1d\"},\"x_scale\":{\"id\":\"1727\",\"type\":\"LinearScale\"},\"y_range\":{\"id\":\"1725\",\"type\":\"DataRange1d\"},\"y_scale\":{\"id\":\"1729\",\"type\":\"LinearScale\"}},\"id\":\"1720\",\"subtype\":\"Figure\",\"type\":\"Plot\"},{\"attributes\":{\"overlay\":{\"id\":\"1809\",\"type\":\"BoxAnnotation\"}},\"id\":\"1743\",\"type\":\"BoxZoomTool\"},{\"attributes\":{},\"id\":\"1729\",\"type\":\"LinearScale\"},{\"attributes\":{\"fill_alpha\":{\"value\":0.1},\"fill_color\":{\"value\":\"#1f77b4\"},\"line_alpha\":{\"value\":0.1},\"line_color\":{\"value\":\"#1f77b4\"},\"size\":{\"units\":\"screen\",\"value\":12},\"x\":{\"field\":\"x\"},\"y\":{\"field\":\"y\"}},\"id\":\"1756\",\"type\":\"Square\"},{\"attributes\":{\"fill_alpha\":{\"value\":0.1},\"fill_color\":{\"value\":\"#1f77b4\"},\"line_alpha\":{\"value\":0.1},\"line_color\":{\"value\":\"#1f77b4\"},\"size\":{\"units\":\"screen\",\"value\":12},\"x\":{\"field\":\"x\"},\"y\":{\"field\":\"y\"}},\"id\":\"1761\",\"type\":\"Circle\"},{\"attributes\":{},\"id\":\"1812\",\"type\":\"Selection\"},{\"attributes\":{\"data_source\":{\"id\":\"1754\",\"type\":\"ColumnDataSource\"},\"glyph\":{\"id\":\"1755\",\"type\":\"Square\"},\"hover_glyph\":null,\"muted_glyph\":null,\"nonselection_glyph\":{\"id\":\"1756\",\"type\":\"Square\"},\"selection_glyph\":null,\"view\":{\"id\":\"1758\",\"type\":\"CDSView\"}},\"id\":\"1757\",\"type\":\"GlyphRenderer\"},{\"attributes\":{\"dimension\":1,\"ticker\":{\"id\":\"1737\",\"type\":\"BasicTicker\"}},\"id\":\"1740\",\"type\":\"Grid\"},{\"attributes\":{\"active_drag\":\"auto\",\"active_inspect\":\"auto\",\"active_multi\":null,\"active_scroll\":\"auto\",\"active_tap\":\"auto\",\"tools\":[{\"id\":\"1741\",\"type\":\"PanTool\"},{\"id\":\"1742\",\"type\":\"WheelZoomTool\"},{\"id\":\"1743\",\"type\":\"BoxZoomTool\"},{\"id\":\"1744\",\"type\":\"SaveTool\"},{\"id\":\"1745\",\"type\":\"ResetTool\"},{\"id\":\"1746\",\"type\":\"HelpTool\"}]},\"id\":\"1747\",\"type\":\"Toolbar\"},{\"attributes\":{\"callback\":null,\"data\":{\"x\":[1,3,4,5,8],\"y\":[8,7,3,1,10]},\"selected\":{\"id\":\"1810\",\"type\":\"Selection\"},\"selection_policy\":{\"id\":\"1811\",\"type\":\"UnionRenderers\"}},\"id\":\"1754\",\"type\":\"ColumnDataSource\"},{\"attributes\":{},\"id\":\"1732\",\"type\":\"BasicTicker\"},{\"attributes\":{\"callback\":null},\"id\":\"1725\",\"type\":\"DataRange1d\"},{\"attributes\":{\"source\":{\"id\":\"1759\",\"type\":\"ColumnDataSource\"}},\"id\":\"1763\",\"type\":\"CDSView\"},{\"attributes\":{},\"id\":\"1810\",\"type\":\"Selection\"},{\"attributes\":{},\"id\":\"1744\",\"type\":\"SaveTool\"},{\"attributes\":{},\"id\":\"1737\",\"type\":\"BasicTicker\"},{\"attributes\":{},\"id\":\"1741\",\"type\":\"PanTool\"},{\"attributes\":{},\"id\":\"1807\",\"type\":\"BasicTickFormatter\"},{\"attributes\":{\"callback\":null},\"id\":\"1723\",\"type\":\"DataRange1d\"},{\"attributes\":{\"data_source\":{\"id\":\"1759\",\"type\":\"ColumnDataSource\"},\"glyph\":{\"id\":\"1760\",\"type\":\"Circle\"},\"hover_glyph\":null,\"muted_glyph\":null,\"nonselection_glyph\":{\"id\":\"1761\",\"type\":\"Circle\"},\"selection_glyph\":null,\"view\":{\"id\":\"1763\",\"type\":\"CDSView\"}},\"id\":\"1762\",\"type\":\"GlyphRenderer\"},{\"attributes\":{},\"id\":\"1811\",\"type\":\"UnionRenderers\"},{\"attributes\":{},\"id\":\"1745\",\"type\":\"ResetTool\"},{\"attributes\":{\"source\":{\"id\":\"1754\",\"type\":\"ColumnDataSource\"}},\"id\":\"1758\",\"type\":\"CDSView\"},{\"attributes\":{\"ticker\":{\"id\":\"1732\",\"type\":\"BasicTicker\"}},\"id\":\"1735\",\"type\":\"Grid\"},{\"attributes\":{},\"id\":\"1813\",\"type\":\"UnionRenderers\"},{\"attributes\":{\"axis_label\":\"Y\",\"formatter\":{\"id\":\"1807\",\"type\":\"BasicTickFormatter\"},\"ticker\":{\"id\":\"1737\",\"type\":\"BasicTicker\"}},\"id\":\"1736\",\"type\":\"LinearAxis\"},{\"attributes\":{\"callback\":null,\"data\":{\"x\":[9,12,4,3,15],\"y\":[8,4,11,6,10]},\"selected\":{\"id\":\"1812\",\"type\":\"Selection\"},\"selection_policy\":{\"id\":\"1813\",\"type\":\"UnionRenderers\"}},\"id\":\"1759\",\"type\":\"ColumnDataSource\"},{\"attributes\":{\"bottom_units\":\"screen\",\"fill_alpha\":{\"value\":0.5},\"fill_color\":{\"value\":\"lightgrey\"},\"left_units\":\"screen\",\"level\":\"overlay\",\"line_alpha\":{\"value\":1.0},\"line_color\":{\"value\":\"black\"},\"line_dash\":[4,4],\"line_width\":{\"value\":2},\"render_mode\":\"css\",\"right_units\":\"screen\",\"top_units\":\"screen\"},\"id\":\"1809\",\"type\":\"BoxAnnotation\"},{\"attributes\":{\"fill_alpha\":{\"value\":0.6},\"fill_color\":{\"value\":\"navy\"},\"line_alpha\":{\"value\":0.6},\"line_color\":{\"value\":\"navy\"},\"size\":{\"units\":\"screen\",\"value\":12},\"x\":{\"field\":\"x\"},\"y\":{\"field\":\"y\"}},\"id\":\"1755\",\"type\":\"Square\"},{\"attributes\":{},\"id\":\"1746\",\"type\":\"HelpTool\"},{\"attributes\":{\"fill_color\":{\"value\":\"red\"},\"line_color\":{\"value\":\"red\"},\"size\":{\"units\":\"screen\",\"value\":12},\"x\":{\"field\":\"x\"},\"y\":{\"field\":\"y\"}},\"id\":\"1760\",\"type\":\"Circle\"},{\"attributes\":{\"axis_label\":\"X\",\"formatter\":{\"id\":\"1805\",\"type\":\"BasicTickFormatter\"},\"ticker\":{\"id\":\"1732\",\"type\":\"BasicTicker\"}},\"id\":\"1731\",\"type\":\"LinearAxis\"},{\"attributes\":{},\"id\":\"1727\",\"type\":\"LinearScale\"},{\"attributes\":{},\"id\":\"1805\",\"type\":\"BasicTickFormatter\"},{\"attributes\":{},\"id\":\"1742\",\"type\":\"WheelZoomTool\"},{\"attributes\":{\"text\":\"Example Glyphs\"},\"id\":\"1721\",\"type\":\"Title\"}],\"root_ids\":[\"1720\"]},\"title\":\"Bokeh Application\",\"version\":\"1.4.0\"}};\n",
       "  var render_items = [{\"docid\":\"fb7b4069-bc82-417e-bd13-24ca0fecf30c\",\"roots\":{\"1720\":\"a21a4b6e-6676-4e55-829d-d0a21a733aec\"}}];\n",
       "  root.Bokeh.embed.embed_items_notebook(docs_json, render_items);\n",
       "\n",
       "  }\n",
       "  if (root.Bokeh !== undefined) {\n",
       "    embed_document(root);\n",
       "  } else {\n",
       "    var attempts = 0;\n",
       "    var timer = setInterval(function(root) {\n",
       "      if (root.Bokeh !== undefined) {\n",
       "        clearInterval(timer);\n",
       "        embed_document(root);\n",
       "      } else {\n",
       "        attempts++;\n",
       "        if (attempts > 100) {\n",
       "          clearInterval(timer);\n",
       "          console.log(\"Bokeh: ERROR: Unable to run BokehJS code because BokehJS library is missing\");\n",
       "        }\n",
       "      }\n",
       "    }, 10, root)\n",
       "  }\n",
       "})(window);"
      ],
      "application/vnd.bokehjs_exec.v0+json": ""
     },
     "metadata": {
      "application/vnd.bokehjs_exec.v0+json": {
       "id": "1720"
      }
     },
     "output_type": "display_data"
    }
   ],
   "source": [
    "# 创建带标签的空白图\n",
    "def show_tmp_plot():\n",
    "    tmpplot = figure(plot_width = 600, plot_height = 600, \n",
    "               title = 'Example Glyphs',\n",
    "               x_axis_label = 'X', y_axis_label = 'Y')\n",
    "\n",
    "    # 示例数据\n",
    "    squares_x = [1, 3, 4, 5, 8]\n",
    "    squares_y = [8, 7, 3, 1, 10]\n",
    "    circles_x = [9, 12, 4, 3, 15]\n",
    "    circles_y = [8, 4, 11, 6, 10]\n",
    "\n",
    "    # 添加方形 glyph\n",
    "    tmpplot.square(squares_x, squares_y, size = 12, color = 'navy', alpha = 0.6)\n",
    "    # 添加圆形 glyph\n",
    "    tmpplot.circle(circles_x, circles_y, size = 12, color = 'red')\n",
    "\n",
    "    # 显示绘图\n",
    "    show(tmpplot)\n",
    "\n",
    "show_tmp_plot()"
   ]
  },
  {
   "cell_type": "code",
   "execution_count": 3,
   "metadata": {},
   "outputs": [
    {
     "name": "stderr",
     "output_type": "stream",
     "text": [
      "/Users/tzhu/.virtualenv/stock/lib/python3.7/site-packages/numpy/lib/histograms.py:839: RuntimeWarning: invalid value encountered in greater_equal\n",
      "  keep = (tmp_a >= first_edge)\n",
      "/Users/tzhu/.virtualenv/stock/lib/python3.7/site-packages/numpy/lib/histograms.py:840: RuntimeWarning: invalid value encountered in less_equal\n",
      "  keep &= (tmp_a <= last_edge)\n"
     ]
    }
   ],
   "source": [
    "arr_hist, edges = np.histogram(flights['arr_delay'], bins = int(180/5), range = [-60, 120])\n",
    "\n",
    "# 将信息放入 dataframe\n",
    "delays = pd.DataFrame({'flights': arr_hist, 'left': edges[:-1], 'right': edges[1:]})"
   ]
  },
  {
   "cell_type": "code",
   "execution_count": 28,
   "metadata": {},
   "outputs": [
    {
     "data": {
      "text/html": [
       "\n",
       "\n",
       "\n",
       "\n",
       "\n",
       "\n",
       "  <div class=\"bk-root\" id=\"fab0f181-0b7c-4f67-a75a-8596b89ba828\" data-root-id=\"2116\"></div>\n"
      ]
     },
     "metadata": {},
     "output_type": "display_data"
    },
    {
     "data": {
      "application/javascript": [
       "(function(root) {\n",
       "  function embed_document(root) {\n",
       "    \n",
       "  var docs_json = {\"a1d86a29-d76b-4f01-91f0-74c13927ebf6\":{\"roots\":{\"references\":[{\"attributes\":{\"below\":[{\"id\":\"2127\",\"type\":\"LinearAxis\"}],\"center\":[{\"id\":\"2131\",\"type\":\"Grid\"},{\"id\":\"2136\",\"type\":\"Grid\"}],\"left\":[{\"id\":\"2132\",\"type\":\"LinearAxis\"}],\"plot_height\":400,\"renderers\":[{\"id\":\"2153\",\"type\":\"GlyphRenderer\"}],\"title\":{\"id\":\"2117\",\"type\":\"Title\"},\"toolbar\":{\"id\":\"2143\",\"type\":\"Toolbar\"},\"x_range\":{\"id\":\"2119\",\"type\":\"DataRange1d\"},\"x_scale\":{\"id\":\"2123\",\"type\":\"LinearScale\"},\"y_range\":{\"id\":\"2121\",\"type\":\"DataRange1d\"},\"y_scale\":{\"id\":\"2125\",\"type\":\"LinearScale\"}},\"id\":\"2116\",\"subtype\":\"Figure\",\"type\":\"Plot\"},{\"attributes\":{\"axis_label\":\"Number of Flights\",\"formatter\":{\"id\":\"2202\",\"type\":\"BasicTickFormatter\"},\"ticker\":{\"id\":\"2133\",\"type\":\"BasicTicker\"}},\"id\":\"2132\",\"type\":\"LinearAxis\"},{\"attributes\":{},\"id\":\"2128\",\"type\":\"BasicTicker\"},{\"attributes\":{\"ticker\":{\"id\":\"2128\",\"type\":\"BasicTicker\"}},\"id\":\"2131\",\"type\":\"Grid\"},{\"attributes\":{},\"id\":\"2142\",\"type\":\"HelpTool\"},{\"attributes\":{\"bottom\":{\"value\":0},\"fill_alpha\":{\"value\":0.1},\"fill_color\":{\"value\":\"#1f77b4\"},\"left\":{\"field\":\"left\"},\"line_alpha\":{\"value\":0.1},\"line_color\":{\"value\":\"#1f77b4\"},\"right\":{\"field\":\"right\"},\"top\":{\"field\":\"top\"}},\"id\":\"2152\",\"type\":\"Quad\"},{\"attributes\":{\"bottom\":{\"value\":0},\"fill_color\":{\"value\":\"red\"},\"left\":{\"field\":\"left\"},\"right\":{\"field\":\"right\"},\"top\":{\"field\":\"top\"}},\"id\":\"2151\",\"type\":\"Quad\"},{\"attributes\":{\"callback\":null,\"data\":{\"left\":{\"__ndarray__\":\"AAAAAAAATsAAAAAAAIBLwAAAAAAAAEnAAAAAAACARsAAAAAAAABEwAAAAAAAgEHAAAAAAAAAPsAAAAAAAAA5wAAAAAAAADTAAAAAAAAALsAAAAAAAAAkwAAAAAAAABTAAAAAAAAAAAAAAAAAAAAUQAAAAAAAACRAAAAAAAAALkAAAAAAAAA0QAAAAAAAADlAAAAAAAAAPkAAAAAAAIBBQAAAAAAAAERAAAAAAACARkAAAAAAAABJQAAAAAAAgEtAAAAAAAAATkAAAAAAAEBQQAAAAAAAgFFAAAAAAADAUkAAAAAAAABUQAAAAAAAQFVAAAAAAACAVkAAAAAAAMBXQAAAAAAAAFlAAAAAAABAWkAAAAAAAIBbQAAAAAAAwFxA\",\"dtype\":\"float64\",\"shape\":[36]},\"right\":{\"__ndarray__\":\"AAAAAACAS8AAAAAAAABJwAAAAAAAgEbAAAAAAAAARMAAAAAAAIBBwAAAAAAAAD7AAAAAAAAAOcAAAAAAAAA0wAAAAAAAAC7AAAAAAAAAJMAAAAAAAAAUwAAAAAAAAAAAAAAAAAAAFEAAAAAAAAAkQAAAAAAAAC5AAAAAAAAANEAAAAAAAAA5QAAAAAAAAD5AAAAAAACAQUAAAAAAAABEQAAAAAAAgEZAAAAAAAAASUAAAAAAAIBLQAAAAAAAAE5AAAAAAABAUEAAAAAAAIBRQAAAAAAAwFJAAAAAAAAAVEAAAAAAAEBVQAAAAAAAgFZAAAAAAADAV0AAAAAAAABZQAAAAAAAQFpAAAAAAACAW0AAAAAAAMBcQAAAAAAAAF5A\",\"dtype\":\"float64\",\"shape\":[36]},\"top\":[276,636,1394,2820,5339,9420,15551,23546,31319,34857,33790,29786,24391,19028,14894,11324,8815,7159,5908,4896,4130,3630,3139,2782,2455,2179,1973,1805,1646,1454,1360,1286,1167,1013,945,1000]},\"selected\":{\"id\":\"2206\",\"type\":\"Selection\"},\"selection_policy\":{\"id\":\"2207\",\"type\":\"UnionRenderers\"}},\"id\":\"2150\",\"type\":\"ColumnDataSource\"},{\"attributes\":{\"data_source\":{\"id\":\"2150\",\"type\":\"ColumnDataSource\"},\"glyph\":{\"id\":\"2151\",\"type\":\"Quad\"},\"hover_glyph\":null,\"muted_glyph\":null,\"nonselection_glyph\":{\"id\":\"2152\",\"type\":\"Quad\"},\"selection_glyph\":null,\"view\":{\"id\":\"2154\",\"type\":\"CDSView\"}},\"id\":\"2153\",\"type\":\"GlyphRenderer\"},{\"attributes\":{\"bottom_units\":\"screen\",\"fill_alpha\":{\"value\":0.5},\"fill_color\":{\"value\":\"lightgrey\"},\"left_units\":\"screen\",\"level\":\"overlay\",\"line_alpha\":{\"value\":1.0},\"line_color\":{\"value\":\"black\"},\"line_dash\":[4,4],\"line_width\":{\"value\":2},\"render_mode\":\"css\",\"right_units\":\"screen\",\"top_units\":\"screen\"},\"id\":\"2208\",\"type\":\"BoxAnnotation\"},{\"attributes\":{},\"id\":\"2123\",\"type\":\"LinearScale\"},{\"attributes\":{},\"id\":\"2141\",\"type\":\"ResetTool\"},{\"attributes\":{\"source\":{\"id\":\"2150\",\"type\":\"ColumnDataSource\"}},\"id\":\"2154\",\"type\":\"CDSView\"},{\"attributes\":{},\"id\":\"2125\",\"type\":\"LinearScale\"},{\"attributes\":{},\"id\":\"2207\",\"type\":\"UnionRenderers\"},{\"attributes\":{},\"id\":\"2138\",\"type\":\"WheelZoomTool\"},{\"attributes\":{},\"id\":\"2206\",\"type\":\"Selection\"},{\"attributes\":{\"callback\":null},\"id\":\"2121\",\"type\":\"DataRange1d\"},{\"attributes\":{\"text\":\"Histogram of Arrival Delays\"},\"id\":\"2117\",\"type\":\"Title\"},{\"attributes\":{\"overlay\":{\"id\":\"2208\",\"type\":\"BoxAnnotation\"}},\"id\":\"2139\",\"type\":\"BoxZoomTool\"},{\"attributes\":{\"axis_label\":\"Delay (min)]\",\"formatter\":{\"id\":\"2204\",\"type\":\"BasicTickFormatter\"},\"ticker\":{\"id\":\"2128\",\"type\":\"BasicTicker\"}},\"id\":\"2127\",\"type\":\"LinearAxis\"},{\"attributes\":{\"dimension\":1,\"ticker\":{\"id\":\"2133\",\"type\":\"BasicTicker\"}},\"id\":\"2136\",\"type\":\"Grid\"},{\"attributes\":{\"callback\":null},\"id\":\"2119\",\"type\":\"DataRange1d\"},{\"attributes\":{},\"id\":\"2204\",\"type\":\"BasicTickFormatter\"},{\"attributes\":{\"active_drag\":\"auto\",\"active_inspect\":\"auto\",\"active_multi\":null,\"active_scroll\":\"auto\",\"active_tap\":\"auto\",\"tools\":[{\"id\":\"2137\",\"type\":\"PanTool\"},{\"id\":\"2138\",\"type\":\"WheelZoomTool\"},{\"id\":\"2139\",\"type\":\"BoxZoomTool\"},{\"id\":\"2140\",\"type\":\"SaveTool\"},{\"id\":\"2141\",\"type\":\"ResetTool\"},{\"id\":\"2142\",\"type\":\"HelpTool\"}]},\"id\":\"2143\",\"type\":\"Toolbar\"},{\"attributes\":{},\"id\":\"2133\",\"type\":\"BasicTicker\"},{\"attributes\":{},\"id\":\"2137\",\"type\":\"PanTool\"},{\"attributes\":{},\"id\":\"2202\",\"type\":\"BasicTickFormatter\"},{\"attributes\":{},\"id\":\"2140\",\"type\":\"SaveTool\"}],\"root_ids\":[\"2116\"]},\"title\":\"Bokeh Application\",\"version\":\"1.4.0\"}};\n",
       "  var render_items = [{\"docid\":\"a1d86a29-d76b-4f01-91f0-74c13927ebf6\",\"roots\":{\"2116\":\"fab0f181-0b7c-4f67-a75a-8596b89ba828\"}}];\n",
       "  root.Bokeh.embed.embed_items_notebook(docs_json, render_items);\n",
       "\n",
       "  }\n",
       "  if (root.Bokeh !== undefined) {\n",
       "    embed_document(root);\n",
       "  } else {\n",
       "    var attempts = 0;\n",
       "    var timer = setInterval(function(root) {\n",
       "      if (root.Bokeh !== undefined) {\n",
       "        clearInterval(timer);\n",
       "        embed_document(root);\n",
       "      } else {\n",
       "        attempts++;\n",
       "        if (attempts > 100) {\n",
       "          clearInterval(timer);\n",
       "          console.log(\"Bokeh: ERROR: Unable to run BokehJS code because BokehJS library is missing\");\n",
       "        }\n",
       "      }\n",
       "    }, 10, root)\n",
       "  }\n",
       "})(window);"
      ],
      "application/vnd.bokehjs_exec.v0+json": ""
     },
     "metadata": {
      "application/vnd.bokehjs_exec.v0+json": {
       "id": "2116"
      }
     },
     "output_type": "display_data"
    }
   ],
   "source": [
    "# 创建空白绘图\n",
    "def show_simple_hist():\n",
    "    p = figure(plot_height = 400, plot_width = 600, title = 'Histogram of Arrival Delays', x_axis_label = 'Delay (min)]', y_axis_label = 'Number of Flights')\n",
    "\n",
    "    # 添加一个 quad glphy\n",
    "    p.quad(bottom=0, top=delays['flights'], \n",
    "           left=delays['left'], right=delays['right'], \n",
    "           fill_color='red', line_color='black')\n",
    "\n",
    "    # 显示绘图\n",
    "    show(p)\n",
    "    \n",
    "show_simple_hist()"
   ]
  },
  {
   "cell_type": "code",
   "execution_count": 4,
   "metadata": {},
   "outputs": [
    {
     "data": {
      "text/plain": [
       "<matplotlib.axes._subplots.AxesSubplot at 0x11fce1e90>"
      ]
     },
     "execution_count": 4,
     "metadata": {},
     "output_type": "execute_result"
    },
    {
     "data": {
      "image/png": "[encoded data removed]",
      "text/plain": [
       "<Figure size 432x288 with 1 Axes>"
      ]
     },
     "metadata": {
      "needs_background": "light"
     },
     "output_type": "display_data"
    }
   ],
   "source": [
    "# 同样的图，用 pd 自带的 hist\n",
    "flights[(flights.arr_delay > -60) & (flights.arr_delay < 120)].arr_delay.hist(bins=36)"
   ]
  },
  {
   "cell_type": "code",
   "execution_count": 5,
   "metadata": {},
   "outputs": [
    {
     "name": "stdout",
     "output_type": "stream",
     "text": [
      "dict_keys(['index', 'flights', 'left', 'right'])\n"
     ]
    },
    {
     "data": {
      "text/html": [
       "\n",
       "\n",
       "\n",
       "\n",
       "\n",
       "\n",
       "  <div class=\"bk-root\" id=\"dddb4f1c-8f0d-4510-9f94-6000af6e0eae\" data-root-id=\"1117\"></div>\n"
      ]
     },
     "metadata": {},
     "output_type": "display_data"
    },
    {
     "data": {
      "application/javascript": [
       "(function(root) {\n",
       "  function embed_document(root) {\n",
       "    \n",
       "  var docs_json = {\"e9a1403b-7aeb-4f3e-b0b5-38ecf8715e96\":{\"roots\":{\"references\":[{\"attributes\":{\"below\":[{\"id\":\"1128\",\"type\":\"LinearAxis\"}],\"center\":[{\"id\":\"1132\",\"type\":\"Grid\"},{\"id\":\"1137\",\"type\":\"Grid\"}],\"left\":[{\"id\":\"1133\",\"type\":\"LinearAxis\"}],\"plot_height\":400,\"renderers\":[{\"id\":\"1154\",\"type\":\"GlyphRenderer\"}],\"title\":{\"id\":\"1118\",\"type\":\"Title\"},\"toolbar\":{\"id\":\"1144\",\"type\":\"Toolbar\"},\"x_range\":{\"id\":\"1120\",\"type\":\"DataRange1d\"},\"x_scale\":{\"id\":\"1124\",\"type\":\"LinearScale\"},\"y_range\":{\"id\":\"1122\",\"type\":\"DataRange1d\"},\"y_scale\":{\"id\":\"1126\",\"type\":\"LinearScale\"}},\"id\":\"1117\",\"subtype\":\"Figure\",\"type\":\"Plot\"},{\"attributes\":{},\"id\":\"1134\",\"type\":\"BasicTicker\"},{\"attributes\":{},\"id\":\"1170\",\"type\":\"BasicTickFormatter\"},{\"attributes\":{\"bottom_units\":\"screen\",\"fill_alpha\":{\"value\":0.5},\"fill_color\":{\"value\":\"lightgrey\"},\"left_units\":\"screen\",\"level\":\"overlay\",\"line_alpha\":{\"value\":1.0},\"line_color\":{\"value\":\"black\"},\"line_dash\":[4,4],\"line_width\":{\"value\":2},\"render_mode\":\"css\",\"right_units\":\"screen\",\"top_units\":\"screen\"},\"id\":\"1173\",\"type\":\"BoxAnnotation\"},{\"attributes\":{},\"id\":\"1175\",\"type\":\"Selection\"},{\"attributes\":{\"active_drag\":\"auto\",\"active_inspect\":\"auto\",\"active_multi\":null,\"active_scroll\":\"auto\",\"active_tap\":\"auto\",\"tools\":[{\"id\":\"1138\",\"type\":\"PanTool\"},{\"id\":\"1139\",\"type\":\"WheelZoomTool\"},{\"id\":\"1140\",\"type\":\"BoxZoomTool\"},{\"id\":\"1141\",\"type\":\"SaveTool\"},{\"id\":\"1142\",\"type\":\"ResetTool\"},{\"id\":\"1143\",\"type\":\"HelpTool\"},{\"id\":\"1156\",\"type\":\"HoverTool\"}]},\"id\":\"1144\",\"type\":\"Toolbar\"},{\"attributes\":{\"callback\":null,\"data\":{\"flights\":[276,636,1394,2820,5339,9420,15551,23546,31319,34857,33790,29786,24391,19028,14894,11324,8815,7159,5908,4896,4130,3630,3139,2782,2455,2179,1973,1805,1646,1454,1360,1286,1167,1013,945,1000],\"index\":[0,1,2,3,4,5,6,7,8,9,10,11,12,13,14,15,16,17,18,19,20,21,22,23,24,25,26,27,28,29,30,31,32,33,34,35],\"left\":{\"__ndarray__\":\"AAAAAAAATsAAAAAAAIBLwAAAAAAAAEnAAAAAAACARsAAAAAAAABEwAAAAAAAgEHAAAAAAAAAPsAAAAAAAAA5wAAAAAAAADTAAAAAAAAALsAAAAAAAAAkwAAAAAAAABTAAAAAAAAAAAAAAAAAAAAUQAAAAAAAACRAAAAAAAAALkAAAAAAAAA0QAAAAAAAADlAAAAAAAAAPkAAAAAAAIBBQAAAAAAAAERAAAAAAACARkAAAAAAAABJQAAAAAAAgEtAAAAAAAAATkAAAAAAAEBQQAAAAAAAgFFAAAAAAADAUkAAAAAAAABUQAAAAAAAQFVAAAAAAACAVkAAAAAAAMBXQAAAAAAAAFlAAAAAAABAWkAAAAAAAIBbQAAAAAAAwFxA\",\"dtype\":\"float64\",\"shape\":[36]},\"right\":{\"__ndarray__\":\"AAAAAACAS8AAAAAAAABJwAAAAAAAgEbAAAAAAAAARMAAAAAAAIBBwAAAAAAAAD7AAAAAAAAAOcAAAAAAAAA0wAAAAAAAAC7AAAAAAAAAJMAAAAAAAAAUwAAAAAAAAAAAAAAAAAAAFEAAAAAAAAAkQAAAAAAAAC5AAAAAAAAANEAAAAAAAAA5QAAAAAAAAD5AAAAAAACAQUAAAAAAAABEQAAAAAAAgEZAAAAAAAAASUAAAAAAAIBLQAAAAAAAAE5AAAAAAABAUEAAAAAAAIBRQAAAAAAAwFJAAAAAAAAAVEAAAAAAAEBVQAAAAAAAgFZAAAAAAADAV0AAAAAAAABZQAAAAAAAQFpAAAAAAACAW0AAAAAAAMBcQAAAAAAAAF5A\",\"dtype\":\"float64\",\"shape\":[36]}},\"selected\":{\"id\":\"1175\",\"type\":\"Selection\"},\"selection_policy\":{\"id\":\"1174\",\"type\":\"UnionRenderers\"}},\"id\":\"1116\",\"type\":\"ColumnDataSource\"},{\"attributes\":{},\"id\":\"1138\",\"type\":\"PanTool\"},{\"attributes\":{},\"id\":\"1129\",\"type\":\"BasicTicker\"},{\"attributes\":{},\"id\":\"1172\",\"type\":\"BasicTickFormatter\"},{\"attributes\":{\"dimension\":1,\"ticker\":{\"id\":\"1134\",\"type\":\"BasicTicker\"}},\"id\":\"1137\",\"type\":\"Grid\"},{\"attributes\":{},\"id\":\"1174\",\"type\":\"UnionRenderers\"},{\"attributes\":{},\"id\":\"1143\",\"type\":\"HelpTool\"},{\"attributes\":{\"data_source\":{\"id\":\"1116\",\"type\":\"ColumnDataSource\"},\"glyph\":{\"id\":\"1152\",\"type\":\"Quad\"},\"hover_glyph\":null,\"muted_glyph\":null,\"nonselection_glyph\":{\"id\":\"1153\",\"type\":\"Quad\"},\"selection_glyph\":null,\"view\":{\"id\":\"1155\",\"type\":\"CDSView\"}},\"id\":\"1154\",\"type\":\"GlyphRenderer\"},{\"attributes\":{},\"id\":\"1142\",\"type\":\"ResetTool\"},{\"attributes\":{\"bottom\":{\"value\":0},\"fill_color\":{\"value\":\"red\"},\"left\":{\"field\":\"left\"},\"right\":{\"field\":\"right\"},\"top\":{\"field\":\"flights\"}},\"id\":\"1152\",\"type\":\"Quad\"},{\"attributes\":{\"source\":{\"id\":\"1116\",\"type\":\"ColumnDataSource\"}},\"id\":\"1155\",\"type\":\"CDSView\"},{\"attributes\":{},\"id\":\"1139\",\"type\":\"WheelZoomTool\"},{\"attributes\":{\"axis_label\":\"Delay (min)]\",\"formatter\":{\"id\":\"1172\",\"type\":\"BasicTickFormatter\"},\"ticker\":{\"id\":\"1129\",\"type\":\"BasicTicker\"}},\"id\":\"1128\",\"type\":\"LinearAxis\"},{\"attributes\":{\"callback\":null,\"tooltips\":[[\"Delay Interval Left \",\"@left\"],[\"(x,y)\",\"($x, $y)\"]]},\"id\":\"1156\",\"type\":\"HoverTool\"},{\"attributes\":{\"bottom\":{\"value\":0},\"fill_alpha\":{\"value\":0.1},\"fill_color\":{\"value\":\"#1f77b4\"},\"left\":{\"field\":\"left\"},\"line_alpha\":{\"value\":0.1},\"line_color\":{\"value\":\"#1f77b4\"},\"right\":{\"field\":\"right\"},\"top\":{\"field\":\"flights\"}},\"id\":\"1153\",\"type\":\"Quad\"},{\"attributes\":{\"callback\":null},\"id\":\"1120\",\"type\":\"DataRange1d\"},{\"attributes\":{\"axis_label\":\"Number of Flights\",\"formatter\":{\"id\":\"1170\",\"type\":\"BasicTickFormatter\"},\"ticker\":{\"id\":\"1134\",\"type\":\"BasicTicker\"}},\"id\":\"1133\",\"type\":\"LinearAxis\"},{\"attributes\":{\"ticker\":{\"id\":\"1129\",\"type\":\"BasicTicker\"}},\"id\":\"1132\",\"type\":\"Grid\"},{\"attributes\":{\"overlay\":{\"id\":\"1173\",\"type\":\"BoxAnnotation\"}},\"id\":\"1140\",\"type\":\"BoxZoomTool\"},{\"attributes\":{\"text\":\"Histogram of Arrival Delays\"},\"id\":\"1118\",\"type\":\"Title\"},{\"attributes\":{},\"id\":\"1141\",\"type\":\"SaveTool\"},{\"attributes\":{\"callback\":null},\"id\":\"1122\",\"type\":\"DataRange1d\"},{\"attributes\":{},\"id\":\"1124\",\"type\":\"LinearScale\"},{\"attributes\":{},\"id\":\"1126\",\"type\":\"LinearScale\"}],\"root_ids\":[\"1117\"]},\"title\":\"Bokeh Application\",\"version\":\"1.4.0\"}};\n",
       "  var render_items = [{\"docid\":\"e9a1403b-7aeb-4f3e-b0b5-38ecf8715e96\",\"roots\":{\"1117\":\"dddb4f1c-8f0d-4510-9f94-6000af6e0eae\"}}];\n",
       "  root.Bokeh.embed.embed_items_notebook(docs_json, render_items);\n",
       "\n",
       "  }\n",
       "  if (root.Bokeh !== undefined) {\n",
       "    embed_document(root);\n",
       "  } else {\n",
       "    var attempts = 0;\n",
       "    var timer = setInterval(function(root) {\n",
       "      if (root.Bokeh !== undefined) {\n",
       "        clearInterval(timer);\n",
       "        embed_document(root);\n",
       "      } else {\n",
       "        attempts++;\n",
       "        if (attempts > 100) {\n",
       "          clearInterval(timer);\n",
       "          console.log(\"Bokeh: ERROR: Unable to run BokehJS code because BokehJS library is missing\");\n",
       "        }\n",
       "      }\n",
       "    }, 10, root)\n",
       "  }\n",
       "})(window);"
      ],
      "application/vnd.bokehjs_exec.v0+json": ""
     },
     "metadata": {
      "application/vnd.bokehjs_exec.v0+json": {
       "id": "1117"
      }
     },
     "output_type": "display_data"
    }
   ],
   "source": [
    "def show_hover_hist():\n",
    "    # 将 dataframe 转换为 列数据源\n",
    "    src = ColumnDataSource(delays)\n",
    "    print(src.data.keys())\n",
    "\n",
    "    p1 = figure(plot_height = 400, plot_width = 600, title = 'Histogram of Arrival Delays', x_axis_label = 'Delay (min)]', y_axis_label = 'Number of Flights')\n",
    "    p1.quad(source = src, bottom=0, top='flights',  left='left', right='right', fill_color='red', line_color='black')\n",
    "\n",
    "\n",
    "    # hover\n",
    "    h = HoverTool(tooltips = [('Delay Interval Left ', '@left'),\n",
    "                              ('(x,y)', '($x, $y)')])\n",
    "\n",
    "    # 绘图样式\n",
    "    # p = style(p)\n",
    "\n",
    "    # 将悬停工具添加到图中\n",
    "    p1.add_tools(h)\n",
    "\n",
    "    show(p1)"
   ]
  },
  {
   "cell_type": "code",
   "execution_count": 4,
   "metadata": {},
   "outputs": [],
   "source": [
    "# 制作数据集的完整代码，该函数接收我们想要包括的航空公司列表，要绘制的最小和最大延迟，以及以分钟为单位的指定 bin 宽度。\n",
    "def make_dataset(carrier_list, range_start = -60, range_end = 120, bin_width = 5):\n",
    "\n",
    "    assert range_start < range_end, \"Start must be less than end!\"\n",
    "    \n",
    "    by_carrier = pd.DataFrame(columns=['proportion', 'left', 'right',\n",
    "                                       'f_proportion', 'f_interval',\n",
    "                                       'name', 'color'])\n",
    "    range_extent = range_end - range_start\n",
    "    # Iterate through all the carriers\n",
    "    for i, carrier_name in enumerate(carrier_list):\n",
    "\n",
    "        # Subset to the carrier\n",
    "        subset = flights[flights['name'] == carrier_name]\n",
    "\n",
    "        # Create a histogram with specified bins and range\n",
    "        arr_hist, edges = np.histogram(subset['arr_delay'], bins = int(range_extent / bin_width), range = [range_start, range_end])\n",
    "\n",
    "        # Divide the counts by the total to get a proportion and create df\n",
    "        arr_df = pd.DataFrame({'proportion': arr_hist / np.sum(arr_hist), 'left': edges[:-1], 'right': edges[1:] })\n",
    "\n",
    "        # Format the proportion\n",
    "        arr_df['f_proportion'] = ['%0.5f' % proportion for proportion in arr_df['proportion']]\n",
    "\n",
    "        # Format the interval\n",
    "        arr_df['f_interval'] = ['%d to %d minutes' % (left, right) for left,\n",
    "                                right in zip(arr_df['left'], arr_df['right'])]\n",
    "\n",
    "        # Assign the carrier for labels\n",
    "        arr_df['name'] = carrier_name\n",
    "\n",
    "        # Color each carrier differently\n",
    "        arr_df['color'] = Category20_16[i]\n",
    "\n",
    "        # Add to the overall dataframe\n",
    "        by_carrier = by_carrier.append(arr_df)\n",
    "\n",
    "    # Overall dataframe\n",
    "    by_carrier = by_carrier.sort_values(['name', 'left'])  \n",
    "    # Convert dataframe to column data source\n",
    "    return ColumnDataSource(by_carrier)"
   ]
  },
  {
   "cell_type": "code",
   "execution_count": 15,
   "metadata": {},
   "outputs": [],
   "source": [
    "def make_plot(src):\n",
    "    # Blank plot with correct labels\n",
    "    p = figure(plot_width = 700, plot_height = 700,\n",
    "              title = 'Histogram of Arrival Delays by Carrier',\n",
    "              x_axis_label = 'Delay (min)', y_axis_label = 'Proportion')\n",
    "\n",
    "    # Quad glyphs to create a histogram\n",
    "    p.quad(source = src, bottom = 0, top = 'proportion', left = 'left', right = 'right',\n",
    "           color = 'color', fill_alpha = 0.7, hover_fill_color = 'color', legend_field='name',\n",
    "           hover_fill_alpha = 1.0, line_color = 'black')\n",
    "\n",
    "    # Hover tool with vline mode\n",
    "    hover = HoverTool(tooltips=[('Carrier', '@name'), ('Delay', '@f_interval'), ('Proportion', '@f_proportion')], mode='vline')\n",
    "\n",
    "    p.add_tools(hover)\n",
    "\n",
    "    # Styling\n",
    "#         p = style(p)\n",
    "\n",
    "    return p"
   ]
  },
  {
   "cell_type": "code",
   "execution_count": 16,
   "metadata": {},
   "outputs": [
    {
     "data": {
      "text/html": [
       "\n",
       "\n",
       "\n",
       "\n",
       "\n",
       "\n",
       "  <div class=\"bk-root\" id=\"703da084-dbe5-497b-8315-8f27a9421b8e\" data-root-id=\"1415\"></div>\n"
      ]
     },
     "metadata": {},
     "output_type": "display_data"
    },
    {
     "data": {
      "application/javascript": [
       "(function(root) {\n",
       "  function embed_document(root) {\n",
       "    \n",
       "  var docs_json = {\"b0f5ff56-edd2-4ad4-9c78-197128c745a8\":{\"roots\":{\"references\":[{\"attributes\":{\"below\":[{\"id\":\"1426\",\"type\":\"LinearAxis\"}],\"center\":[{\"id\":\"1430\",\"type\":\"Grid\"},{\"id\":\"1435\",\"type\":\"Grid\"},{\"id\":\"1461\",\"type\":\"Legend\"}],\"left\":[{\"id\":\"1431\",\"type\":\"LinearAxis\"}],\"plot_height\":700,\"plot_width\":700,\"renderers\":[{\"id\":\"1453\",\"type\":\"GlyphRenderer\"}],\"title\":{\"id\":\"1416\",\"type\":\"Title\"},\"toolbar\":{\"id\":\"1442\",\"type\":\"Toolbar\"},\"x_range\":{\"id\":\"1418\",\"type\":\"DataRange1d\"},\"x_scale\":{\"id\":\"1422\",\"type\":\"LinearScale\"},\"y_range\":{\"id\":\"1420\",\"type\":\"DataRange1d\"},\"y_scale\":{\"id\":\"1424\",\"type\":\"LinearScale\"}},\"id\":\"1415\",\"subtype\":\"Figure\",\"type\":\"Plot\"},{\"attributes\":{},\"id\":\"1424\",\"type\":\"LinearScale\"},{\"attributes\":{\"callback\":null,\"data\":{\"color\":[\"#c5b0d5\",\"#c5b0d5\",\"#c5b0d5\",\"#c5b0d5\",\"#c5b0d5\",\"#c5b0d5\",\"#c5b0d5\",\"#c5b0d5\",\"#c5b0d5\",\"#c5b0d5\",\"#c5b0d5\",\"#c5b0d5\",\"#c5b0d5\",\"#c5b0d5\",\"#c5b0d5\",\"#c5b0d5\",\"#c5b0d5\",\"#c5b0d5\",\"#c5b0d5\",\"#c5b0d5\",\"#c5b0d5\",\"#c5b0d5\",\"#c5b0d5\",\"#c5b0d5\",\"#c5b0d5\",\"#c5b0d5\",\"#c5b0d5\",\"#c5b0d5\",\"#c5b0d5\",\"#c5b0d5\",\"#c5b0d5\",\"#c5b0d5\",\"#c5b0d5\",\"#c5b0d5\",\"#c5b0d5\",\"#c5b0d5\",\"#8c564b\",\"#8c564b\",\"#8c564b\",\"#8c564b\",\"#8c564b\",\"#8c564b\",\"#8c564b\",\"#8c564b\",\"#8c564b\",\"#8c564b\",\"#8c564b\",\"#8c564b\",\"#8c564b\",\"#8c564b\",\"#8c564b\",\"#8c564b\",\"#8c564b\",\"#8c564b\",\"#8c564b\",\"#8c564b\",\"#8c564b\",\"#8c564b\",\"#8c564b\",\"#8c564b\",\"#8c564b\",\"#8c564b\",\"#8c564b\",\"#8c564b\",\"#8c564b\",\"#8c564b\",\"#8c564b\",\"#8c564b\",\"#8c564b\",\"#8c564b\",\"#8c564b\",\"#8c564b\",\"#aec7e8\",\"#aec7e8\",\"#aec7e8\",\"#aec7e8\",\"#aec7e8\",\"#aec7e8\",\"#aec7e8\",\"#aec7e8\",\"#aec7e8\",\"#aec7e8\",\"#aec7e8\",\"#aec7e8\",\"#aec7e8\",\"#aec7e8\",\"#aec7e8\",\"#aec7e8\",\"#aec7e8\",\"#aec7e8\",\"#aec7e8\",\"#aec7e8\",\"#aec7e8\",\"#aec7e8\",\"#aec7e8\",\"#aec7e8\",\"#aec7e8\",\"#aec7e8\",\"#aec7e8\",\"#aec7e8\",\"#aec7e8\",\"#aec7e8\",\"#aec7e8\",\"#aec7e8\",\"#aec7e8\",\"#aec7e8\",\"#aec7e8\",\"#aec7e8\",\"#ffbb78\",\"#ffbb78\",\"#ffbb78\",\"#ffbb78\",\"#ffbb78\",\"#ffbb78\",\"#ffbb78\",\"#ffbb78\",\"#ffbb78\",\"#ffbb78\",\"#ffbb78\",\"#ffbb78\",\"#ffbb78\",\"#ffbb78\",\"#ffbb78\",\"#ffbb78\",\"#ffbb78\",\"#ffbb78\",\"#ffbb78\",\"#ffbb78\",\"#ffbb78\",\"#ffbb78\",\"#ffbb78\",\"#ffbb78\",\"#ffbb78\",\"#ffbb78\",\"#ffbb78\",\"#ffbb78\",\"#ffbb78\",\"#ffbb78\",\"#ffbb78\",\"#ffbb78\",\"#ffbb78\",\"#ffbb78\",\"#ffbb78\",\"#ffbb78\",\"#c49c94\",\"#c49c94\",\"#c49c94\",\"#c49c94\",\"#c49c94\",\"#c49c94\",\"#c49c94\",\"#c49c94\",\"#c49c94\",\"#c49c94\",\"#c49c94\",\"#c49c94\",\"#c49c94\",\"#c49c94\",\"#c49c94\",\"#c49c94\",\"#c49c94\",\"#c49c94\",\"#c49c94\",\"#c49c94\",\"#c49c94\",\"#c49c94\",\"#c49c94\",\"#c49c94\",\"#c49c94\",\"#c49c94\",\"#c49c94\",\"#c49c94\",\"#c49c94\",\"#c49c94\",\"#c49c94\",\"#c49c94\",\"#c49c94\",\"#c49c94\",\"#c49c94\",\"#c49c94\",\"#98df8a\",\"#98df8a\",\"#98df8a\",\"#98df8a\",\"#98df8a\",\"#98df8a\",\"#98df8a\",\"#98df8a\",\"#98df8a\",\"#98df8a\",\"#98df8a\",\"#98df8a\",\"#98df8a\",\"#98df8a\",\"#98df8a\",\"#98df8a\",\"#98df8a\",\"#98df8a\",\"#98df8a\",\"#98df8a\",\"#98df8a\",\"#98df8a\",\"#98df8a\",\"#98df8a\",\"#98df8a\",\"#98df8a\",\"#98df8a\",\"#98df8a\",\"#98df8a\",\"#98df8a\",\"#98df8a\",\"#98df8a\",\"#98df8a\",\"#98df8a\",\"#98df8a\",\"#98df8a\",\"#2ca02c\",\"#2ca02c\",\"#2ca02c\",\"#2ca02c\",\"#2ca02c\",\"#2ca02c\",\"#2ca02c\",\"#2ca02c\",\"#2ca02c\",\"#2ca02c\",\"#2ca02c\",\"#2ca02c\",\"#2ca02c\",\"#2ca02c\",\"#2ca02c\",\"#2ca02c\",\"#2ca02c\",\"#2ca02c\",\"#2ca02c\",\"#2ca02c\",\"#2ca02c\",\"#2ca02c\",\"#2ca02c\",\"#2ca02c\",\"#2ca02c\",\"#2ca02c\",\"#2ca02c\",\"#2ca02c\",\"#2ca02c\",\"#2ca02c\",\"#2ca02c\",\"#2ca02c\",\"#2ca02c\",\"#2ca02c\",\"#2ca02c\",\"#2ca02c\",\"#e377c2\",\"#e377c2\",\"#e377c2\",\"#e377c2\",\"#e377c2\",\"#e377c2\",\"#e377c2\",\"#e377c2\",\"#e377c2\",\"#e377c2\",\"#e377c2\",\"#e377c2\",\"#e377c2\",\"#e377c2\",\"#e377c2\",\"#e377c2\",\"#e377c2\",\"#e377c2\",\"#e377c2\",\"#e377c2\",\"#e377c2\",\"#e377c2\",\"#e377c2\",\"#e377c2\",\"#e377c2\",\"#e377c2\",\"#e377c2\",\"#e377c2\",\"#e377c2\",\"#e377c2\",\"#e377c2\",\"#e377c2\",\"#e377c2\",\"#e377c2\",\"#e377c2\",\"#e377c2\",\"#f7b6d2\",\"#f7b6d2\",\"#f7b6d2\",\"#f7b6d2\",\"#f7b6d2\",\"#f7b6d2\",\"#f7b6d2\",\"#f7b6d2\",\"#f7b6d2\",\"#f7b6d2\",\"#f7b6d2\",\"#f7b6d2\",\"#f7b6d2\",\"#f7b6d2\",\"#f7b6d2\",\"#f7b6d2\",\"#f7b6d2\",\"#f7b6d2\",\"#f7b6d2\",\"#f7b6d2\",\"#f7b6d2\",\"#f7b6d2\",\"#f7b6d2\",\"#f7b6d2\",\"#f7b6d2\",\"#f7b6d2\",\"#f7b6d2\",\"#f7b6d2\",\"#f7b6d2\",\"#f7b6d2\",\"#f7b6d2\",\"#f7b6d2\",\"#f7b6d2\",\"#f7b6d2\",\"#f7b6d2\",\"#f7b6d2\",\"#ff7f0e\",\"#ff7f0e\",\"#ff7f0e\",\"#ff7f0e\",\"#ff7f0e\",\"#ff7f0e\",\"#ff7f0e\",\"#ff7f0e\",\"#ff7f0e\",\"#ff7f0e\",\"#ff7f0e\",\"#ff7f0e\",\"#ff7f0e\",\"#ff7f0e\",\"#ff7f0e\",\"#ff7f0e\",\"#ff7f0e\",\"#ff7f0e\",\"#ff7f0e\",\"#ff7f0e\",\"#ff7f0e\",\"#ff7f0e\",\"#ff7f0e\",\"#ff7f0e\",\"#ff7f0e\",\"#ff7f0e\",\"#ff7f0e\",\"#ff7f0e\",\"#ff7f0e\",\"#ff7f0e\",\"#ff7f0e\",\"#ff7f0e\",\"#ff7f0e\",\"#ff7f0e\",\"#ff7f0e\",\"#ff7f0e\",\"#7f7f7f\",\"#7f7f7f\",\"#7f7f7f\",\"#7f7f7f\",\"#7f7f7f\",\"#7f7f7f\",\"#7f7f7f\",\"#7f7f7f\",\"#7f7f7f\",\"#7f7f7f\",\"#7f7f7f\",\"#7f7f7f\",\"#7f7f7f\",\"#7f7f7f\",\"#7f7f7f\",\"#7f7f7f\",\"#7f7f7f\",\"#7f7f7f\",\"#7f7f7f\",\"#7f7f7f\",\"#7f7f7f\",\"#7f7f7f\",\"#7f7f7f\",\"#7f7f7f\",\"#7f7f7f\",\"#7f7f7f\",\"#7f7f7f\",\"#7f7f7f\",\"#7f7f7f\",\"#7f7f7f\",\"#7f7f7f\",\"#7f7f7f\",\"#7f7f7f\",\"#7f7f7f\",\"#7f7f7f\",\"#7f7f7f\",\"#c7c7c7\",\"#c7c7c7\",\"#c7c7c7\",\"#c7c7c7\",\"#c7c7c7\",\"#c7c7c7\",\"#c7c7c7\",\"#c7c7c7\",\"#c7c7c7\",\"#c7c7c7\",\"#c7c7c7\",\"#c7c7c7\",\"#c7c7c7\",\"#c7c7c7\",\"#c7c7c7\",\"#c7c7c7\",\"#c7c7c7\",\"#c7c7c7\",\"#c7c7c7\",\"#c7c7c7\",\"#c7c7c7\",\"#c7c7c7\",\"#c7c7c7\",\"#c7c7c7\",\"#c7c7c7\",\"#c7c7c7\",\"#c7c7c7\",\"#c7c7c7\",\"#c7c7c7\",\"#c7c7c7\",\"#c7c7c7\",\"#c7c7c7\",\"#c7c7c7\",\"#c7c7c7\",\"#c7c7c7\",\"#c7c7c7\",\"#ff9896\",\"#ff9896\",\"#ff9896\",\"#ff9896\",\"#ff9896\",\"#ff9896\",\"#ff9896\",\"#ff9896\",\"#ff9896\",\"#ff9896\",\"#ff9896\",\"#ff9896\",\"#ff9896\",\"#ff9896\",\"#ff9896\",\"#ff9896\",\"#ff9896\",\"#ff9896\",\"#ff9896\",\"#ff9896\",\"#ff9896\",\"#ff9896\",\"#ff9896\",\"#ff9896\",\"#ff9896\",\"#ff9896\",\"#ff9896\",\"#ff9896\",\"#ff9896\",\"#ff9896\",\"#ff9896\",\"#ff9896\",\"#ff9896\",\"#ff9896\",\"#ff9896\",\"#ff9896\",\"#d62728\",\"#d62728\",\"#d62728\",\"#d62728\",\"#d62728\",\"#d62728\",\"#d62728\",\"#d62728\",\"#d62728\",\"#d62728\",\"#d62728\",\"#d62728\",\"#d62728\",\"#d62728\",\"#d62728\",\"#d62728\",\"#d62728\",\"#d62728\",\"#d62728\",\"#d62728\",\"#d62728\",\"#d62728\",\"#d62728\",\"#d62728\",\"#d62728\",\"#d62728\",\"#d62728\",\"#d62728\",\"#d62728\",\"#d62728\",\"#d62728\",\"#d62728\",\"#d62728\",\"#d62728\",\"#d62728\",\"#d62728\",\"#1f77b4\",\"#1f77b4\",\"#1f77b4\",\"#1f77b4\",\"#1f77b4\",\"#1f77b4\",\"#1f77b4\",\"#1f77b4\",\"#1f77b4\",\"#1f77b4\",\"#1f77b4\",\"#1f77b4\",\"#1f77b4\",\"#1f77b4\",\"#1f77b4\",\"#1f77b4\",\"#1f77b4\",\"#1f77b4\",\"#1f77b4\",\"#1f77b4\",\"#1f77b4\",\"#1f77b4\",\"#1f77b4\",\"#1f77b4\",\"#1f77b4\",\"#1f77b4\",\"#1f77b4\",\"#1f77b4\",\"#1f77b4\",\"#1f77b4\",\"#1f77b4\",\"#1f77b4\",\"#1f77b4\",\"#1f77b4\",\"#1f77b4\",\"#1f77b4\",\"#9467bd\",\"#9467bd\",\"#9467bd\",\"#9467bd\",\"#9467bd\",\"#9467bd\",\"#9467bd\",\"#9467bd\",\"#9467bd\",\"#9467bd\",\"#9467bd\",\"#9467bd\",\"#9467bd\",\"#9467bd\",\"#9467bd\",\"#9467bd\",\"#9467bd\",\"#9467bd\",\"#9467bd\",\"#9467bd\",\"#9467bd\",\"#9467bd\",\"#9467bd\",\"#9467bd\",\"#9467bd\",\"#9467bd\",\"#9467bd\",\"#9467bd\",\"#9467bd\",\"#9467bd\",\"#9467bd\",\"#9467bd\",\"#9467bd\",\"#9467bd\",\"#9467bd\",\"#9467bd\"],\"f_interval\":[\"-60 to -55 minutes\",\"-55 to -50 minutes\",\"-50 to -45 minutes\",\"-45 to -40 minutes\",\"-40 to -35 minutes\",\"-35 to -30 minutes\",\"-30 to -25 minutes\",\"-25 to -20 minutes\",\"-20 to -15 minutes\",\"-15 to -10 minutes\",\"-10 to -5 minutes\",\"-5 to 0 minutes\",\"0 to 5 minutes\",\"5 to 10 minutes\",\"10 to 15 minutes\",\"15 to 20 minutes\",\"20 to 25 minutes\",\"25 to 30 minutes\",\"30 to 35 minutes\",\"35 to 40 minutes\",\"40 to 45 minutes\",\"45 to 50 minutes\",\"50 to 55 minutes\",\"55 to 60 minutes\",\"60 to 65 minutes\",\"65 to 70 minutes\",\"70 to 75 minutes\",\"75 to 80 minutes\",\"80 to 85 minutes\",\"85 to 90 minutes\",\"90 to 95 minutes\",\"95 to 100 minutes\",\"100 to 105 minutes\",\"105 to 110 minutes\",\"110 to 115 minutes\",\"115 to 120 minutes\",\"-60 to -55 minutes\",\"-55 to -50 minutes\",\"-50 to -45 minutes\",\"-45 to -40 minutes\",\"-40 to -35 minutes\",\"-35 to -30 minutes\",\"-30 to -25 minutes\",\"-25 to -20 minutes\",\"-20 to -15 minutes\",\"-15 to -10 minutes\",\"-10 to -5 minutes\",\"-5 to 0 minutes\",\"0 to 5 minutes\",\"5 to 10 minutes\",\"10 to 15 minutes\",\"15 to 20 minutes\",\"20 to 25 minutes\",\"25 to 30 minutes\",\"30 to 35 minutes\",\"35 to 40 minutes\",\"40 to 45 minutes\",\"45 to 50 minutes\",\"50 to 55 minutes\",\"55 to 60 minutes\",\"60 to 65 minutes\",\"65 to 70 minutes\",\"70 to 75 minutes\",\"75 to 80 minutes\",\"80 to 85 minutes\",\"85 to 90 minutes\",\"90 to 95 minutes\",\"95 to 100 minutes\",\"100 to 105 minutes\",\"105 to 110 minutes\",\"110 to 115 minutes\",\"115 to 120 minutes\",\"-60 to -55 minutes\",\"-55 to -50 minutes\",\"-50 to -45 minutes\",\"-45 to -40 minutes\",\"-40 to -35 minutes\",\"-35 to -30 minutes\",\"-30 to -25 minutes\",\"-25 to -20 minutes\",\"-20 to -15 minutes\",\"-15 to -10 minutes\",\"-10 to -5 minutes\",\"-5 to 0 minutes\",\"0 to 5 minutes\",\"5 to 10 minutes\",\"10 to 15 minutes\",\"15 to 20 minutes\",\"20 to 25 minutes\",\"25 to 30 minutes\",\"30 to 35 minutes\",\"35 to 40 minutes\",\"40 to 45 minutes\",\"45 to 50 minutes\",\"50 to 55 minutes\",\"55 to 60 minutes\",\"60 to 65 minutes\",\"65 to 70 minutes\",\"70 to 75 minutes\",\"75 to 80 minutes\",\"80 to 85 minutes\",\"85 to 90 minutes\",\"90 to 95 minutes\",\"95 to 100 minutes\",\"100 to 105 minutes\",\"105 to 110 minutes\",\"110 to 115 minutes\",\"115 to 120 minutes\",\"-60 to -55 minutes\",\"-55 to -50 minutes\",\"-50 to -45 minutes\",\"-45 to -40 minutes\",\"-40 to -35 minutes\",\"-35 to -30 minutes\",\"-30 to -25 minutes\",\"-25 to -20 minutes\",\"-20 to -15 minutes\",\"-15 to -10 minutes\",\"-10 to -5 minutes\",\"-5 to 0 minutes\",\"0 to 5 minutes\",\"5 to 10 minutes\",\"10 to 15 minutes\",\"15 to 20 minutes\",\"20 to 25 minutes\",\"25 to 30 minutes\",\"30 to 35 minutes\",\"35 to 40 minutes\",\"40 to 45 minutes\",\"45 to 50 minutes\",\"50 to 55 minutes\",\"55 to 60 minutes\",\"60 to 65 minutes\",\"65 to 70 minutes\",\"70 to 75 minutes\",\"75 to 80 minutes\",\"80 to 85 minutes\",\"85 to 90 minutes\",\"90 to 95 minutes\",\"95 to 100 minutes\",\"100 to 105 minutes\",\"105 to 110 minutes\",\"110 to 115 minutes\",\"115 to 120 minutes\",\"-60 to -55 minutes\",\"-55 to -50 minutes\",\"-50 to -45 minutes\",\"-45 to -40 minutes\",\"-40 to -35 minutes\",\"-35 to -30 minutes\",\"-30 to -25 minutes\",\"-25 to -20 minutes\",\"-20 to -15 minutes\",\"-15 to -10 minutes\",\"-10 to -5 minutes\",\"-5 to 0 minutes\",\"0 to 5 minutes\",\"5 to 10 minutes\",\"10 to 15 minutes\",\"15 to 20 minutes\",\"20 to 25 minutes\",\"25 to 30 minutes\",\"30 to 35 minutes\",\"35 to 40 minutes\",\"40 to 45 minutes\",\"45 to 50 minutes\",\"50 to 55 minutes\",\"55 to 60 minutes\",\"60 to 65 minutes\",\"65 to 70 minutes\",\"70 to 75 minutes\",\"75 to 80 minutes\",\"80 to 85 minutes\",\"85 to 90 minutes\",\"90 to 95 minutes\",\"95 to 100 minutes\",\"100 to 105 minutes\",\"105 to 110 minutes\",\"110 to 115 minutes\",\"115 to 120 minutes\",\"-60 to -55 minutes\",\"-55 to -50 minutes\",\"-50 to -45 minutes\",\"-45 to -40 minutes\",\"-40 to -35 minutes\",\"-35 to -30 minutes\",\"-30 to -25 minutes\",\"-25 to -20 minutes\",\"-20 to -15 minutes\",\"-15 to -10 minutes\",\"-10 to -5 minutes\",\"-5 to 0 minutes\",\"0 to 5 minutes\",\"5 to 10 minutes\",\"10 to 15 minutes\",\"15 to 20 minutes\",\"20 to 25 minutes\",\"25 to 30 minutes\",\"30 to 35 minutes\",\"35 to 40 minutes\",\"40 to 45 minutes\",\"45 to 50 minutes\",\"50 to 55 minutes\",\"55 to 60 minutes\",\"60 to 65 minutes\",\"65 to 70 minutes\",\"70 to 75 minutes\",\"75 to 80 minutes\",\"80 to 85 minutes\",\"85 to 90 minutes\",\"90 to 95 minutes\",\"95 to 100 minutes\",\"100 to 105 minutes\",\"105 to 110 minutes\",\"110 to 115 minutes\",\"115 to 120 minutes\",\"-60 to -55 minutes\",\"-55 to -50 minutes\",\"-50 to -45 minutes\",\"-45 to -40 minutes\",\"-40 to -35 minutes\",\"-35 to -30 minutes\",\"-30 to -25 minutes\",\"-25 to -20 minutes\",\"-20 to -15 minutes\",\"-15 to -10 minutes\",\"-10 to -5 minutes\",\"-5 to 0 minutes\",\"0 to 5 minutes\",\"5 to 10 minutes\",\"10 to 15 minutes\",\"15 to 20 minutes\",\"20 to 25 minutes\",\"25 to 30 minutes\",\"30 to 35 minutes\",\"35 to 40 minutes\",\"40 to 45 minutes\",\"45 to 50 minutes\",\"50 to 55 minutes\",\"55 to 60 minutes\",\"60 to 65 minutes\",\"65 to 70 minutes\",\"70 to 75 minutes\",\"75 to 80 minutes\",\"80 to 85 minutes\",\"85 to 90 minutes\",\"90 to 95 minutes\",\"95 to 100 minutes\",\"100 to 105 minutes\",\"105 to 110 minutes\",\"110 to 115 minutes\",\"115 to 120 minutes\",\"-60 to -55 minutes\",\"-55 to -50 minutes\",\"-50 to -45 minutes\",\"-45 to -40 minutes\",\"-40 to -35 minutes\",\"-35 to -30 minutes\",\"-30 to -25 minutes\",\"-25 to -20 minutes\",\"-20 to -15 minutes\",\"-15 to -10 minutes\",\"-10 to -5 minutes\",\"-5 to 0 minutes\",\"0 to 5 minutes\",\"5 to 10 minutes\",\"10 to 15 minutes\",\"15 to 20 minutes\",\"20 to 25 minutes\",\"25 to 30 minutes\",\"30 to 35 minutes\",\"35 to 40 minutes\",\"40 to 45 minutes\",\"45 to 50 minutes\",\"50 to 55 minutes\",\"55 to 60 minutes\",\"60 to 65 minutes\",\"65 to 70 minutes\",\"70 to 75 minutes\",\"75 to 80 minutes\",\"80 to 85 minutes\",\"85 to 90 minutes\",\"90 to 95 minutes\",\"95 to 100 minutes\",\"100 to 105 minutes\",\"105 to 110 minutes\",\"110 to 115 minutes\",\"115 to 120 minutes\",\"-60 to -55 minutes\",\"-55 to -50 minutes\",\"-50 to -45 minutes\",\"-45 to -40 minutes\",\"-40 to -35 minutes\",\"-35 to -30 minutes\",\"-30 to -25 minutes\",\"-25 to -20 minutes\",\"-20 to -15 minutes\",\"-15 to -10 minutes\",\"-10 to -5 minutes\",\"-5 to 0 minutes\",\"0 to 5 minutes\",\"5 to 10 minutes\",\"10 to 15 minutes\",\"15 to 20 minutes\",\"20 to 25 minutes\",\"25 to 30 minutes\",\"30 to 35 minutes\",\"35 to 40 minutes\",\"40 to 45 minutes\",\"45 to 50 minutes\",\"50 to 55 minutes\",\"55 to 60 minutes\",\"60 to 65 minutes\",\"65 to 70 minutes\",\"70 to 75 minutes\",\"75 to 80 minutes\",\"80 to 85 minutes\",\"85 to 90 minutes\",\"90 to 95 minutes\",\"95 to 100 minutes\",\"100 to 105 minutes\",\"105 to 110 minutes\",\"110 to 115 minutes\",\"115 to 120 minutes\",\"-60 to -55 minutes\",\"-55 to -50 minutes\",\"-50 to -45 minutes\",\"-45 to -40 minutes\",\"-40 to -35 minutes\",\"-35 to -30 minutes\",\"-30 to -25 minutes\",\"-25 to -20 minutes\",\"-20 to -15 minutes\",\"-15 to -10 minutes\",\"-10 to -5 minutes\",\"-5 to 0 minutes\",\"0 to 5 minutes\",\"5 to 10 minutes\",\"10 to 15 minutes\",\"15 to 20 minutes\",\"20 to 25 minutes\",\"25 to 30 minutes\",\"30 to 35 minutes\",\"35 to 40 minutes\",\"40 to 45 minutes\",\"45 to 50 minutes\",\"50 to 55 minutes\",\"55 to 60 minutes\",\"60 to 65 minutes\",\"65 to 70 minutes\",\"70 to 75 minutes\",\"75 to 80 minutes\",\"80 to 85 minutes\",\"85 to 90 minutes\",\"90 to 95 minutes\",\"95 to 100 minutes\",\"100 to 105 minutes\",\"105 to 110 minutes\",\"110 to 115 minutes\",\"115 to 120 minutes\",\"-60 to -55 minutes\",\"-55 to -50 minutes\",\"-50 to -45 minutes\",\"-45 to -40 minutes\",\"-40 to -35 minutes\",\"-35 to -30 minutes\",\"-30 to -25 minutes\",\"-25 to -20 minutes\",\"-20 to -15 minutes\",\"-15 to -10 minutes\",\"-10 to -5 minutes\",\"-5 to 0 minutes\",\"0 to 5 minutes\",\"5 to 10 minutes\",\"10 to 15 minutes\",\"15 to 20 minutes\",\"20 to 25 minutes\",\"25 to 30 minutes\",\"30 to 35 minutes\",\"35 to 40 minutes\",\"40 to 45 minutes\",\"45 to 50 minutes\",\"50 to 55 minutes\",\"55 to 60 minutes\",\"60 to 65 minutes\",\"65 to 70 minutes\",\"70 to 75 minutes\",\"75 to 80 minutes\",\"80 to 85 minutes\",\"85 to 90 minutes\",\"90 to 95 minutes\",\"95 to 100 minutes\",\"100 to 105 minutes\",\"105 to 110 minutes\",\"110 to 115 minutes\",\"115 to 120 minutes\",\"-60 to -55 minutes\",\"-55 to -50 minutes\",\"-50 to -45 minutes\",\"-45 to -40 minutes\",\"-40 to -35 minutes\",\"-35 to -30 minutes\",\"-30 to -25 minutes\",\"-25 to -20 minutes\",\"-20 to -15 minutes\",\"-15 to -10 minutes\",\"-10 to -5 minutes\",\"-5 to 0 minutes\",\"0 to 5 minutes\",\"5 to 10 minutes\",\"10 to 15 minutes\",\"15 to 20 minutes\",\"20 to 25 minutes\",\"25 to 30 minutes\",\"30 to 35 minutes\",\"35 to 40 minutes\",\"40 to 45 minutes\",\"45 to 50 minutes\",\"50 to 55 minutes\",\"55 to 60 minutes\",\"60 to 65 minutes\",\"65 to 70 minutes\",\"70 to 75 minutes\",\"75 to 80 minutes\",\"80 to 85 minutes\",\"85 to 90 minutes\",\"90 to 95 minutes\",\"95 to 100 minutes\",\"100 to 105 minutes\",\"105 to 110 minutes\",\"110 to 115 minutes\",\"115 to 120 minutes\",\"-60 to -55 minutes\",\"-55 to -50 minutes\",\"-50 to -45 minutes\",\"-45 to -40 minutes\",\"-40 to -35 minutes\",\"-35 to -30 minutes\",\"-30 to -25 minutes\",\"-25 to -20 minutes\",\"-20 to -15 minutes\",\"-15 to -10 minutes\",\"-10 to -5 minutes\",\"-5 to 0 minutes\",\"0 to 5 minutes\",\"5 to 10 minutes\",\"10 to 15 minutes\",\"15 to 20 minutes\",\"20 to 25 minutes\",\"25 to 30 minutes\",\"30 to 35 minutes\",\"35 to 40 minutes\",\"40 to 45 minutes\",\"45 to 50 minutes\",\"50 to 55 minutes\",\"55 to 60 minutes\",\"60 to 65 minutes\",\"65 to 70 minutes\",\"70 to 75 minutes\",\"75 to 80 minutes\",\"80 to 85 minutes\",\"85 to 90 minutes\",\"90 to 95 minutes\",\"95 to 100 minutes\",\"100 to 105 minutes\",\"105 to 110 minutes\",\"110 to 115 minutes\",\"115 to 120 minutes\",\"-60 to -55 minutes\",\"-55 to -50 minutes\",\"-50 to -45 minutes\",\"-45 to -40 minutes\",\"-40 to -35 minutes\",\"-35 to -30 minutes\",\"-30 to -25 minutes\",\"-25 to -20 minutes\",\"-20 to -15 minutes\",\"-15 to -10 minutes\",\"-10 to -5 minutes\",\"-5 to 0 minutes\",\"0 to 5 minutes\",\"5 to 10 minutes\",\"10 to 15 minutes\",\"15 to 20 minutes\",\"20 to 25 minutes\",\"25 to 30 minutes\",\"30 to 35 minutes\",\"35 to 40 minutes\",\"40 to 45 minutes\",\"45 to 50 minutes\",\"50 to 55 minutes\",\"55 to 60 minutes\",\"60 to 65 minutes\",\"65 to 70 minutes\",\"70 to 75 minutes\",\"75 to 80 minutes\",\"80 to 85 minutes\",\"85 to 90 minutes\",\"90 to 95 minutes\",\"95 to 100 minutes\",\"100 to 105 minutes\",\"105 to 110 minutes\",\"110 to 115 minutes\",\"115 to 120 minutes\",\"-60 to -55 minutes\",\"-55 to -50 minutes\",\"-50 to -45 minutes\",\"-45 to -40 minutes\",\"-40 to -35 minutes\",\"-35 to -30 minutes\",\"-30 to -25 minutes\",\"-25 to -20 minutes\",\"-20 to -15 minutes\",\"-15 to -10 minutes\",\"-10 to -5 minutes\",\"-5 to 0 minutes\",\"0 to 5 minutes\",\"5 to 10 minutes\",\"10 to 15 minutes\",\"15 to 20 minutes\",\"20 to 25 minutes\",\"25 to 30 minutes\",\"30 to 35 minutes\",\"35 to 40 minutes\",\"40 to 45 minutes\",\"45 to 50 minutes\",\"50 to 55 minutes\",\"55 to 60 minutes\",\"60 to 65 minutes\",\"65 to 70 minutes\",\"70 to 75 minutes\",\"75 to 80 minutes\",\"80 to 85 minutes\",\"85 to 90 minutes\",\"90 to 95 minutes\",\"95 to 100 minutes\",\"100 to 105 minutes\",\"105 to 110 minutes\",\"110 to 115 minutes\",\"115 to 120 minutes\",\"-60 to -55 minutes\",\"-55 to -50 minutes\",\"-50 to -45 minutes\",\"-45 to -40 minutes\",\"-40 to -35 minutes\",\"-35 to -30 minutes\",\"-30 to -25 minutes\",\"-25 to -20 minutes\",\"-20 to -15 minutes\",\"-15 to -10 minutes\",\"-10 to -5 minutes\",\"-5 to 0 minutes\",\"0 to 5 minutes\",\"5 to 10 minutes\",\"10 to 15 minutes\",\"15 to 20 minutes\",\"20 to 25 minutes\",\"25 to 30 minutes\",\"30 to 35 minutes\",\"35 to 40 minutes\",\"40 to 45 minutes\",\"45 to 50 minutes\",\"50 to 55 minutes\",\"55 to 60 minutes\",\"60 to 65 minutes\",\"65 to 70 minutes\",\"70 to 75 minutes\",\"75 to 80 minutes\",\"80 to 85 minutes\",\"85 to 90 minutes\",\"90 to 95 minutes\",\"95 to 100 minutes\",\"100 to 105 minutes\",\"105 to 110 minutes\",\"110 to 115 minutes\",\"115 to 120 minutes\"],\"f_proportion\":[\"0.00000\",\"0.00000\",\"0.00000\",\"0.00166\",\"0.00166\",\"0.00497\",\"0.01589\",\"0.03178\",\"0.05627\",\"0.08375\",\"0.09732\",\"0.10758\",\"0.11255\",\"0.09004\",\"0.08342\",\"0.05727\",\"0.04535\",\"0.03443\",\"0.02582\",\"0.01986\",\"0.01887\",\"0.01423\",\"0.01291\",\"0.01390\",\"0.00828\",\"0.00794\",\"0.00794\",\"0.00761\",\"0.00629\",\"0.00497\",\"0.00761\",\"0.00265\",\"0.00397\",\"0.00331\",\"0.00463\",\"0.00530\",\"0.00581\",\"0.02467\",\"0.03338\",\"0.05806\",\"0.07112\",\"0.07837\",\"0.08563\",\"0.09434\",\"0.08418\",\"0.08128\",\"0.07112\",\"0.04209\",\"0.05515\",\"0.03483\",\"0.04499\",\"0.02612\",\"0.01597\",\"0.01306\",\"0.01161\",\"0.00871\",\"0.01016\",\"0.01016\",\"0.00290\",\"0.00435\",\"0.00290\",\"0.00435\",\"0.00000\",\"0.00145\",\"0.00000\",\"0.00435\",\"0.00581\",\"0.00145\",\"0.00435\",\"0.00145\",\"0.00145\",\"0.00435\",\"0.00167\",\"0.00388\",\"0.00904\",\"0.01859\",\"0.03254\",\"0.04933\",\"0.06741\",\"0.09254\",\"0.10594\",\"0.10738\",\"0.09495\",\"0.08177\",\"0.06590\",\"0.05321\",\"0.04036\",\"0.02898\",\"0.02353\",\"0.02048\",\"0.01458\",\"0.01151\",\"0.00984\",\"0.00801\",\"0.00747\",\"0.00660\",\"0.00609\",\"0.00539\",\"0.00458\",\"0.00452\",\"0.00369\",\"0.00324\",\"0.00282\",\"0.00346\",\"0.00279\",\"0.00301\",\"0.00260\",\"0.00231\",\"0.00138\",\"0.00303\",\"0.00620\",\"0.01203\",\"0.02333\",\"0.04048\",\"0.06312\",\"0.08849\",\"0.10782\",\"0.11221\",\"0.10754\",\"0.08892\",\"0.07504\",\"0.05688\",\"0.04362\",\"0.03245\",\"0.02311\",\"0.01691\",\"0.01448\",\"0.01141\",\"0.00932\",\"0.00884\",\"0.00704\",\"0.00686\",\"0.00495\",\"0.00504\",\"0.00441\",\"0.00377\",\"0.00340\",\"0.00329\",\"0.00321\",\"0.00275\",\"0.00260\",\"0.00230\",\"0.00174\",\"0.00202\",\"0.00072\",\"0.00290\",\"0.00748\",\"0.01520\",\"0.02889\",\"0.04928\",\"0.06919\",\"0.09308\",\"0.09935\",\"0.09778\",\"0.09127\",\"0.07359\",\"0.06298\",\"0.04735\",\"0.03698\",\"0.03064\",\"0.02570\",\"0.01942\",\"0.01882\",\"0.01502\",\"0.01448\",\"0.01194\",\"0.00941\",\"0.00923\",\"0.00814\",\"0.00742\",\"0.00766\",\"0.00651\",\"0.00633\",\"0.00645\",\"0.00591\",\"0.00428\",\"0.00404\",\"0.00416\",\"0.00362\",\"0.00477\",\"0.00000\",\"0.00004\",\"0.00021\",\"0.00123\",\"0.00448\",\"0.01299\",\"0.03165\",\"0.05895\",\"0.08780\",\"0.10955\",\"0.11395\",\"0.10762\",\"0.08678\",\"0.06881\",\"0.05796\",\"0.04263\",\"0.03161\",\"0.02618\",\"0.02096\",\"0.01907\",\"0.01418\",\"0.01307\",\"0.01143\",\"0.01056\",\"0.01032\",\"0.00797\",\"0.00777\",\"0.00633\",\"0.00617\",\"0.00534\",\"0.00534\",\"0.00485\",\"0.00428\",\"0.00288\",\"0.00341\",\"0.00362\",\"0.00008\",\"0.00031\",\"0.00095\",\"0.00251\",\"0.00814\",\"0.01653\",\"0.03713\",\"0.06289\",\"0.09379\",\"0.10641\",\"0.10742\",\"0.09467\",\"0.07582\",\"0.05966\",\"0.04720\",\"0.03625\",\"0.03051\",\"0.02543\",\"0.02292\",\"0.01935\",\"0.01696\",\"0.01581\",\"0.01511\",\"0.01262\",\"0.01190\",\"0.01024\",\"0.00999\",\"0.00909\",\"0.00835\",\"0.00736\",\"0.00654\",\"0.00662\",\"0.00615\",\"0.00495\",\"0.00530\",\"0.00504\",\"0.00000\",\"0.00000\",\"0.00156\",\"0.00000\",\"0.00313\",\"0.00939\",\"0.02660\",\"0.07199\",\"0.05790\",\"0.06886\",\"0.09233\",\"0.09233\",\"0.09233\",\"0.07042\",\"0.06573\",\"0.05790\",\"0.05477\",\"0.02973\",\"0.03599\",\"0.03130\",\"0.02973\",\"0.01252\",\"0.01408\",\"0.01095\",\"0.00626\",\"0.00939\",\"0.00939\",\"0.00782\",\"0.00782\",\"0.00469\",\"0.00469\",\"0.00626\",\"0.00939\",\"0.00156\",\"0.00156\",\"0.00156\",\"0.03012\",\"0.01807\",\"0.00904\",\"0.04518\",\"0.03614\",\"0.06928\",\"0.08133\",\"0.07229\",\"0.09337\",\"0.08133\",\"0.09337\",\"0.08133\",\"0.06928\",\"0.03916\",\"0.06325\",\"0.02711\",\"0.03012\",\"0.01506\",\"0.01205\",\"0.01506\",\"0.00301\",\"0.00000\",\"0.00301\",\"0.00301\",\"0.00000\",\"0.00301\",\"0.00000\",\"0.00000\",\"0.00602\",\"0.00000\",\"0.00000\",\"0.00000\",\"0.00000\",\"0.00000\",\"0.00000\",\"0.00000\",\"0.00061\",\"0.00109\",\"0.00233\",\"0.00484\",\"0.00878\",\"0.01881\",\"0.03574\",\"0.06251\",\"0.09694\",\"0.11728\",\"0.11470\",\"0.10064\",\"0.08024\",\"0.06199\",\"0.04848\",\"0.03895\",\"0.03078\",\"0.02447\",\"0.02062\",\"0.01797\",\"0.01534\",\"0.01328\",\"0.01058\",\"0.00981\",\"0.00888\",\"0.00767\",\"0.00635\",\"0.00633\",\"0.00578\",\"0.00496\",\"0.00442\",\"0.00440\",\"0.00402\",\"0.00339\",\"0.00335\",\"0.00365\",\"0.00000\",\"0.00000\",\"0.00390\",\"0.00585\",\"0.00585\",\"0.03509\",\"0.04094\",\"0.07797\",\"0.11696\",\"0.12281\",\"0.07992\",\"0.05653\",\"0.06238\",\"0.05653\",\"0.04678\",\"0.04483\",\"0.03899\",\"0.01949\",\"0.00975\",\"0.01559\",\"0.01365\",\"0.01754\",\"0.01559\",\"0.02534\",\"0.01559\",\"0.01170\",\"0.00780\",\"0.01170\",\"0.00585\",\"0.00390\",\"0.00585\",\"0.00975\",\"0.00780\",\"0.00585\",\"0.00195\",\"0.00000\",\"0.00000\",\"0.00000\",\"0.00000\",\"0.00000\",\"0.00000\",\"0.00000\",\"0.03704\",\"0.11111\",\"0.14815\",\"0.11111\",\"0.22222\",\"0.07407\",\"0.07407\",\"0.03704\",\"0.00000\",\"0.00000\",\"0.00000\",\"0.03704\",\"0.00000\",\"0.00000\",\"0.00000\",\"0.07407\",\"0.00000\",\"0.00000\",\"0.00000\",\"0.03704\",\"0.00000\",\"0.00000\",\"0.00000\",\"0.00000\",\"0.00000\",\"0.00000\",\"0.00000\",\"0.03704\",\"0.00000\",\"0.00000\",\"0.00035\",\"0.00104\",\"0.00242\",\"0.00570\",\"0.01303\",\"0.02399\",\"0.04384\",\"0.06653\",\"0.09225\",\"0.10459\",\"0.10701\",\"0.10131\",\"0.08612\",\"0.07171\",\"0.05247\",\"0.04211\",\"0.03020\",\"0.02373\",\"0.02011\",\"0.01467\",\"0.01441\",\"0.01001\",\"0.00889\",\"0.00897\",\"0.00725\",\"0.00570\",\"0.00690\",\"0.00492\",\"0.00440\",\"0.00362\",\"0.00440\",\"0.00371\",\"0.00397\",\"0.00414\",\"0.00250\",\"0.00302\",\"0.00031\",\"0.00102\",\"0.00138\",\"0.00302\",\"0.00660\",\"0.01525\",\"0.03643\",\"0.06988\",\"0.11219\",\"0.13378\",\"0.13025\",\"0.10943\",\"0.08866\",\"0.06784\",\"0.04737\",\"0.03489\",\"0.02655\",\"0.02087\",\"0.01647\",\"0.01202\",\"0.01049\",\"0.00834\",\"0.00691\",\"0.00506\",\"0.00593\",\"0.00460\",\"0.00358\",\"0.00307\",\"0.00343\",\"0.00292\",\"0.00230\",\"0.00215\",\"0.00174\",\"0.00164\",\"0.00179\",\"0.00184\",\"0.00124\",\"0.00287\",\"0.00657\",\"0.01256\",\"0.02261\",\"0.03785\",\"0.05610\",\"0.07791\",\"0.09768\",\"0.10618\",\"0.09975\",\"0.09228\",\"0.07452\",\"0.05861\",\"0.04672\",\"0.03568\",\"0.02713\",\"0.02365\",\"0.01836\",\"0.01517\",\"0.01205\",\"0.01086\",\"0.00912\",\"0.00761\",\"0.00609\",\"0.00614\",\"0.00518\",\"0.00497\",\"0.00436\",\"0.00371\",\"0.00355\",\"0.00330\",\"0.00289\",\"0.00248\",\"0.00206\",\"0.00218\",\"0.00366\",\"0.00732\",\"0.01484\",\"0.02602\",\"0.03496\",\"0.05183\",\"0.07500\",\"0.08984\",\"0.09451\",\"0.09024\",\"0.08902\",\"0.08435\",\"0.07846\",\"0.05691\",\"0.04431\",\"0.02581\",\"0.02195\",\"0.01931\",\"0.01159\",\"0.01118\",\"0.00732\",\"0.00610\",\"0.00935\",\"0.00447\",\"0.00488\",\"0.00366\",\"0.00305\",\"0.00447\",\"0.00346\",\"0.00305\",\"0.00346\",\"0.00407\",\"0.00224\",\"0.00386\",\"0.00203\",\"0.00346\"],\"index\":[0,1,2,3,4,5,6,7,8,9,10,11,12,13,14,15,16,17,18,19,20,21,22,23,24,25,26,27,28,29,30,31,32,33,34,35,0,1,2,3,4,5,6,7,8,9,10,11,12,13,14,15,16,17,18,19,20,21,22,23,24,25,26,27,28,29,30,31,32,33,34,35,0,1,2,3,4,5,6,7,8,9,10,11,12,13,14,15,16,17,18,19,20,21,22,23,24,25,26,27,28,29,30,31,32,33,34,35,0,1,2,3,4,5,6,7,8,9,10,11,12,13,14,15,16,17,18,19,20,21,22,23,24,25,26,27,28,29,30,31,32,33,34,35,0,1,2,3,4,5,6,7,8,9,10,11,12,13,14,15,16,17,18,19,20,21,22,23,24,25,26,27,28,29,30,31,32,33,34,35,0,1,2,3,4,5,6,7,8,9,10,11,12,13,14,15,16,17,18,19,20,21,22,23,24,25,26,27,28,29,30,31,32,33,34,35,0,1,2,3,4,5,6,7,8,9,10,11,12,13,14,15,16,17,18,19,20,21,22,23,24,25,26,27,28,29,30,31,32,33,34,35,0,1,2,3,4,5,6,7,8,9,10,11,12,13,14,15,16,17,18,19,20,21,22,23,24,25,26,27,28,29,30,31,32,33,34,35,0,1,2,3,4,5,6,7,8,9,10,11,12,13,14,15,16,17,18,19,20,21,22,23,24,25,26,27,28,29,30,31,32,33,34,35,0,1,2,3,4,5,6,7,8,9,10,11,12,13,14,15,16,17,18,19,20,21,22,23,24,25,26,27,28,29,30,31,32,33,34,35,0,1,2,3,4,5,6,7,8,9,10,11,12,13,14,15,16,17,18,19,20,21,22,23,24,25,26,27,28,29,30,31,32,33,34,35,0,1,2,3,4,5,6,7,8,9,10,11,12,13,14,15,16,17,18,19,20,21,22,23,24,25,26,27,28,29,30,31,32,33,34,35,0,1,2,3,4,5,6,7,8,9,10,11,12,13,14,15,16,17,18,19,20,21,22,23,24,25,26,27,28,29,30,31,32,33,34,35,0,1,2,3,4,5,6,7,8,9,10,11,12,13,14,15,16,17,18,19,20,21,22,23,24,25,26,27,28,29,30,31,32,33,34,35,0,1,2,3,4,5,6,7,8,9,10,11,12,13,14,15,16,17,18,19,20,21,22,23,24,25,26,27,28,29,30,31,32,33,34,35,0,1,2,3,4,5,6,7,8,9,10,11,12,13,14,15,16,17,18,19,20,21,22,23,24,25,26,27,28,29,30,31,32,33,34,35],\"left\":{\"__ndarray__\":\"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\",\"dtype\":\"float64\",\"shape\":[576]},\"name\":[\"AirTran Airways Corporation\",\"AirTran Airways Corporation\",\"AirTran Airways Corporation\",\"AirTran Airways Corporation\",\"AirTran Airways Corporation\",\"AirTran Airways Corporation\",\"AirTran Airways Corporation\",\"AirTran Airways Corporation\",\"AirTran Airways Corporation\",\"AirTran Airways Corporation\",\"AirTran Airways Corporation\",\"AirTran Airways Corporation\",\"AirTran Airways Corporation\",\"AirTran Airways Corporation\",\"AirTran Airways Corporation\",\"AirTran Airways Corporation\",\"AirTran Airways Corporation\",\"AirTran Airways Corporation\",\"AirTran Airways Corporation\",\"AirTran Airways Corporation\",\"AirTran Airways Corporation\",\"AirTran Airways Corporation\",\"AirTran Airways Corporation\",\"AirTran Airways Corporation\",\"AirTran Airways Corporation\",\"AirTran Airways Corporation\",\"AirTran Airways Corporation\",\"AirTran Airways Corporation\",\"AirTran Airways Corporation\",\"AirTran Airways Corporation\",\"AirTran Airways Corporation\",\"AirTran Airways Corporation\",\"AirTran Airways Corporation\",\"AirTran Airways Corporation\",\"AirTran Airways Corporation\",\"AirTran Airways Corporation\",\"Alaska Airlines Inc.\",\"Alaska Airlines Inc.\",\"Alaska Airlines Inc.\",\"Alaska Airlines Inc.\",\"Alaska Airlines Inc.\",\"Alaska Airlines Inc.\",\"Alaska Airlines Inc.\",\"Alaska Airlines Inc.\",\"Alaska Airlines Inc.\",\"Alaska Airlines Inc.\",\"Alaska Airlines Inc.\",\"Alaska Airlines Inc.\",\"Alaska Airlines Inc.\",\"Alaska Airlines Inc.\",\"Alaska Airlines Inc.\",\"Alaska Airlines Inc.\",\"Alaska Airlines Inc.\",\"Alaska Airlines Inc.\",\"Alaska Airlines Inc.\",\"Alaska Airlines Inc.\",\"Alaska Airlines Inc.\",\"Alaska Airlines Inc.\",\"Alaska Airlines Inc.\",\"Alaska Airlines Inc.\",\"Alaska Airlines Inc.\",\"Alaska Airlines Inc.\",\"Alaska Airlines Inc.\",\"Alaska Airlines Inc.\",\"Alaska Airlines Inc.\",\"Alaska Airlines Inc.\",\"Alaska Airlines Inc.\",\"Alaska Airlines Inc.\",\"Alaska Airlines Inc.\",\"Alaska Airlines Inc.\",\"Alaska Airlines Inc.\",\"Alaska Airlines Inc.\",\"American Airlines Inc.\",\"American Airlines Inc.\",\"American Airlines Inc.\",\"American Airlines Inc.\",\"American Airlines Inc.\",\"American Airlines Inc.\",\"American Airlines Inc.\",\"American Airlines Inc.\",\"American Airlines Inc.\",\"American Airlines Inc.\",\"American Airlines Inc.\",\"American Airlines Inc.\",\"American Airlines Inc.\",\"American Airlines Inc.\",\"American Airlines Inc.\",\"American Airlines Inc.\",\"American Airlines Inc.\",\"American Airlines Inc.\",\"American Airlines Inc.\",\"American Airlines Inc.\",\"American Airlines Inc.\",\"American Airlines Inc.\",\"American Airlines Inc.\",\"American Airlines Inc.\",\"American Airlines Inc.\",\"American Airlines Inc.\",\"American Airlines Inc.\",\"American Airlines Inc.\",\"American Airlines Inc.\",\"American Airlines Inc.\",\"American Airlines Inc.\",\"American Airlines Inc.\",\"American Airlines Inc.\",\"American Airlines Inc.\",\"American Airlines Inc.\",\"American Airlines Inc.\",\"Delta Air Lines Inc.\",\"Delta Air Lines Inc.\",\"Delta Air Lines Inc.\",\"Delta Air Lines Inc.\",\"Delta Air Lines Inc.\",\"Delta Air Lines Inc.\",\"Delta Air Lines Inc.\",\"Delta Air Lines Inc.\",\"Delta Air Lines Inc.\",\"Delta Air Lines Inc.\",\"Delta Air Lines Inc.\",\"Delta Air Lines Inc.\",\"Delta Air Lines Inc.\",\"Delta Air Lines Inc.\",\"Delta Air Lines Inc.\",\"Delta Air Lines Inc.\",\"Delta Air Lines Inc.\",\"Delta Air Lines Inc.\",\"Delta Air Lines Inc.\",\"Delta Air Lines Inc.\",\"Delta Air Lines Inc.\",\"Delta Air Lines Inc.\",\"Delta Air Lines Inc.\",\"Delta Air Lines Inc.\",\"Delta Air Lines Inc.\",\"Delta Air Lines Inc.\",\"Delta Air Lines Inc.\",\"Delta Air Lines Inc.\",\"Delta Air Lines Inc.\",\"Delta Air Lines Inc.\",\"Delta Air Lines Inc.\",\"Delta Air Lines Inc.\",\"Delta Air Lines Inc.\",\"Delta Air Lines Inc.\",\"Delta Air Lines Inc.\",\"Delta Air Lines Inc.\",\"Endeavor Air Inc.\",\"Endeavor Air Inc.\",\"Endeavor Air Inc.\",\"Endeavor Air Inc.\",\"Endeavor Air Inc.\",\"Endeavor Air Inc.\",\"Endeavor Air Inc.\",\"Endeavor Air Inc.\",\"Endeavor Air Inc.\",\"Endeavor Air Inc.\",\"Endeavor Air Inc.\",\"Endeavor Air Inc.\",\"Endeavor Air Inc.\",\"Endeavor Air Inc.\",\"Endeavor Air Inc.\",\"Endeavor Air Inc.\",\"Endeavor Air Inc.\",\"Endeavor Air Inc.\",\"Endeavor Air Inc.\",\"Endeavor Air Inc.\",\"Endeavor Air Inc.\",\"Endeavor Air Inc.\",\"Endeavor Air Inc.\",\"Endeavor Air Inc.\",\"Endeavor Air Inc.\",\"Endeavor Air Inc.\",\"Endeavor Air Inc.\",\"Endeavor Air Inc.\",\"Endeavor Air Inc.\",\"Endeavor Air Inc.\",\"Endeavor Air Inc.\",\"Endeavor Air Inc.\",\"Endeavor Air Inc.\",\"Endeavor Air Inc.\",\"Endeavor Air Inc.\",\"Endeavor Air Inc.\",\"Envoy Air\",\"Envoy Air\",\"Envoy Air\",\"Envoy Air\",\"Envoy Air\",\"Envoy Air\",\"Envoy Air\",\"Envoy Air\",\"Envoy Air\",\"Envoy Air\",\"Envoy Air\",\"Envoy Air\",\"Envoy Air\",\"Envoy Air\",\"Envoy Air\",\"Envoy Air\",\"Envoy Air\",\"Envoy Air\",\"Envoy Air\",\"Envoy Air\",\"Envoy Air\",\"Envoy Air\",\"Envoy Air\",\"Envoy Air\",\"Envoy Air\",\"Envoy Air\",\"Envoy Air\",\"Envoy Air\",\"Envoy Air\",\"Envoy Air\",\"Envoy Air\",\"Envoy Air\",\"Envoy Air\",\"Envoy Air\",\"Envoy Air\",\"Envoy Air\",\"ExpressJet Airlines Inc.\",\"ExpressJet Airlines Inc.\",\"ExpressJet Airlines Inc.\",\"ExpressJet Airlines Inc.\",\"ExpressJet Airlines Inc.\",\"ExpressJet Airlines Inc.\",\"ExpressJet Airlines Inc.\",\"ExpressJet Airlines Inc.\",\"ExpressJet Airlines Inc.\",\"ExpressJet Airlines Inc.\",\"ExpressJet Airlines Inc.\",\"ExpressJet Airlines Inc.\",\"ExpressJet Airlines Inc.\",\"ExpressJet Airlines Inc.\",\"ExpressJet Airlines Inc.\",\"ExpressJet Airlines Inc.\",\"ExpressJet Airlines Inc.\",\"ExpressJet Airlines Inc.\",\"ExpressJet Airlines Inc.\",\"ExpressJet Airlines Inc.\",\"ExpressJet Airlines Inc.\",\"ExpressJet Airlines Inc.\",\"ExpressJet Airlines Inc.\",\"ExpressJet Airlines Inc.\",\"ExpressJet Airlines Inc.\",\"ExpressJet Airlines Inc.\",\"ExpressJet Airlines Inc.\",\"ExpressJet Airlines Inc.\",\"ExpressJet Airlines Inc.\",\"ExpressJet Airlines Inc.\",\"ExpressJet Airlines Inc.\",\"ExpressJet Airlines Inc.\",\"ExpressJet Airlines Inc.\",\"ExpressJet Airlines Inc.\",\"ExpressJet Airlines Inc.\",\"ExpressJet Airlines Inc.\",\"Frontier Airlines Inc.\",\"Frontier Airlines Inc.\",\"Frontier Airlines Inc.\",\"Frontier Airlines Inc.\",\"Frontier Airlines Inc.\",\"Frontier Airlines Inc.\",\"Frontier Airlines Inc.\",\"Frontier Airlines Inc.\",\"Frontier Airlines Inc.\",\"Frontier Airlines Inc.\",\"Frontier Airlines Inc.\",\"Frontier Airlines Inc.\",\"Frontier Airlines Inc.\",\"Frontier Airlines Inc.\",\"Frontier Airlines Inc.\",\"Frontier Airlines Inc.\",\"Frontier Airlines Inc.\",\"Frontier Airlines Inc.\",\"Frontier Airlines Inc.\",\"Frontier Airlines Inc.\",\"Frontier Airlines Inc.\",\"Frontier Airlines Inc.\",\"Frontier Airlines Inc.\",\"Frontier Airlines Inc.\",\"Frontier Airlines Inc.\",\"Frontier Airlines Inc.\",\"Frontier Airlines Inc.\",\"Frontier Airlines Inc.\",\"Frontier Airlines Inc.\",\"Frontier Airlines Inc.\",\"Frontier Airlines Inc.\",\"Frontier Airlines Inc.\",\"Frontier Airlines Inc.\",\"Frontier Airlines Inc.\",\"Frontier Airlines Inc.\",\"Frontier Airlines Inc.\",\"Hawaiian Airlines Inc.\",\"Hawaiian Airlines Inc.\",\"Hawaiian Airlines Inc.\",\"Hawaiian Airlines Inc.\",\"Hawaiian Airlines Inc.\",\"Hawaiian Airlines Inc.\",\"Hawaiian Airlines Inc.\",\"Hawaiian Airlines Inc.\",\"Hawaiian Airlines Inc.\",\"Hawaiian Airlines Inc.\",\"Hawaiian Airlines Inc.\",\"Hawaiian Airlines Inc.\",\"Hawaiian Airlines Inc.\",\"Hawaiian Airlines Inc.\",\"Hawaiian Airlines Inc.\",\"Hawaiian Airlines Inc.\",\"Hawaiian Airlines Inc.\",\"Hawaiian Airlines Inc.\",\"Hawaiian Airlines Inc.\",\"Hawaiian Airlines Inc.\",\"Hawaiian Airlines Inc.\",\"Hawaiian Airlines Inc.\",\"Hawaiian Airlines Inc.\",\"Hawaiian Airlines Inc.\",\"Hawaiian Airlines Inc.\",\"Hawaiian Airlines Inc.\",\"Hawaiian Airlines Inc.\",\"Hawaiian Airlines Inc.\",\"Hawaiian Airlines Inc.\",\"Hawaiian Airlines Inc.\",\"Hawaiian Airlines Inc.\",\"Hawaiian Airlines Inc.\",\"Hawaiian Airlines Inc.\",\"Hawaiian Airlines Inc.\",\"Hawaiian Airlines Inc.\",\"Hawaiian Airlines Inc.\",\"JetBlue Airways\",\"JetBlue Airways\",\"JetBlue Airways\",\"JetBlue Airways\",\"JetBlue Airways\",\"JetBlue Airways\",\"JetBlue Airways\",\"JetBlue Airways\",\"JetBlue Airways\",\"JetBlue Airways\",\"JetBlue Airways\",\"JetBlue Airways\",\"JetBlue Airways\",\"JetBlue Airways\",\"JetBlue Airways\",\"JetBlue Airways\",\"JetBlue Airways\",\"JetBlue Airways\",\"JetBlue Airways\",\"JetBlue Airways\",\"JetBlue Airways\",\"JetBlue Airways\",\"JetBlue Airways\",\"JetBlue Airways\",\"JetBlue Airways\",\"JetBlue Airways\",\"JetBlue Airways\",\"JetBlue Airways\",\"JetBlue Airways\",\"JetBlue Airways\",\"JetBlue Airways\",\"JetBlue Airways\",\"JetBlue Airways\",\"JetBlue Airways\",\"JetBlue Airways\",\"JetBlue Airways\",\"Mesa Airlines Inc.\",\"Mesa Airlines Inc.\",\"Mesa Airlines Inc.\",\"Mesa Airlines Inc.\",\"Mesa Airlines Inc.\",\"Mesa Airlines Inc.\",\"Mesa Airlines Inc.\",\"Mesa Airlines Inc.\",\"Mesa Airlines Inc.\",\"Mesa Airlines Inc.\",\"Mesa Airlines Inc.\",\"Mesa Airlines Inc.\",\"Mesa Airlines Inc.\",\"Mesa Airlines Inc.\",\"Mesa Airlines Inc.\",\"Mesa Airlines Inc.\",\"Mesa Airlines Inc.\",\"Mesa Airlines Inc.\",\"Mesa Airlines Inc.\",\"Mesa Airlines Inc.\",\"Mesa Airlines Inc.\",\"Mesa Airlines Inc.\",\"Mesa Airlines Inc.\",\"Mesa Airlines Inc.\",\"Mesa Airlines Inc.\",\"Mesa Airlines Inc.\",\"Mesa Airlines Inc.\",\"Mesa Airlines Inc.\",\"Mesa Airlines Inc.\",\"Mesa Airlines Inc.\",\"Mesa Airlines Inc.\",\"Mesa Airlines Inc.\",\"Mesa Airlines Inc.\",\"Mesa Airlines Inc.\",\"Mesa Airlines Inc.\",\"Mesa Airlines Inc.\",\"SkyWest Airlines Inc.\",\"SkyWest Airlines Inc.\",\"SkyWest Airlines Inc.\",\"SkyWest Airlines Inc.\",\"SkyWest Airlines Inc.\",\"SkyWest Airlines Inc.\",\"SkyWest Airlines Inc.\",\"SkyWest Airlines Inc.\",\"SkyWest Airlines Inc.\",\"SkyWest Airlines Inc.\",\"SkyWest Airlines Inc.\",\"SkyWest Airlines Inc.\",\"SkyWest Airlines Inc.\",\"SkyWest Airlines Inc.\",\"SkyWest Airlines Inc.\",\"SkyWest Airlines Inc.\",\"SkyWest Airlines Inc.\",\"SkyWest Airlines Inc.\",\"SkyWest Airlines Inc.\",\"SkyWest Airlines Inc.\",\"SkyWest Airlines Inc.\",\"SkyWest Airlines Inc.\",\"SkyWest Airlines Inc.\",\"SkyWest Airlines Inc.\",\"SkyWest Airlines Inc.\",\"SkyWest Airlines Inc.\",\"SkyWest Airlines Inc.\",\"SkyWest Airlines Inc.\",\"SkyWest Airlines Inc.\",\"SkyWest Airlines Inc.\",\"SkyWest Airlines Inc.\",\"SkyWest Airlines Inc.\",\"SkyWest Airlines Inc.\",\"SkyWest Airlines Inc.\",\"SkyWest Airlines Inc.\",\"SkyWest Airlines Inc.\",\"Southwest Airlines Co.\",\"Southwest Airlines Co.\",\"Southwest Airlines Co.\",\"Southwest Airlines Co.\",\"Southwest Airlines Co.\",\"Southwest Airlines Co.\",\"Southwest Airlines Co.\",\"Southwest Airlines Co.\",\"Southwest Airlines Co.\",\"Southwest Airlines Co.\",\"Southwest Airlines Co.\",\"Southwest Airlines Co.\",\"Southwest Airlines Co.\",\"Southwest Airlines Co.\",\"Southwest Airlines Co.\",\"Southwest Airlines Co.\",\"Southwest Airlines Co.\",\"Southwest Airlines Co.\",\"Southwest Airlines Co.\",\"Southwest Airlines Co.\",\"Southwest Airlines Co.\",\"Southwest Airlines Co.\",\"Southwest Airlines Co.\",\"Southwest Airlines Co.\",\"Southwest Airlines Co.\",\"Southwest Airlines Co.\",\"Southwest Airlines Co.\",\"Southwest Airlines Co.\",\"Southwest Airlines Co.\",\"Southwest Airlines Co.\",\"Southwest Airlines Co.\",\"Southwest Airlines Co.\",\"Southwest Airlines Co.\",\"Southwest Airlines Co.\",\"Southwest Airlines Co.\",\"Southwest Airlines Co.\",\"US Airways Inc.\",\"US Airways Inc.\",\"US Airways Inc.\",\"US Airways Inc.\",\"US Airways Inc.\",\"US Airways Inc.\",\"US Airways Inc.\",\"US Airways Inc.\",\"US Airways Inc.\",\"US Airways Inc.\",\"US Airways Inc.\",\"US Airways Inc.\",\"US Airways Inc.\",\"US Airways Inc.\",\"US Airways Inc.\",\"US Airways Inc.\",\"US Airways Inc.\",\"US Airways Inc.\",\"US Airways Inc.\",\"US Airways Inc.\",\"US Airways Inc.\",\"US Airways Inc.\",\"US Airways Inc.\",\"US Airways Inc.\",\"US Airways Inc.\",\"US Airways Inc.\",\"US Airways Inc.\",\"US Airways Inc.\",\"US Airways Inc.\",\"US Airways Inc.\",\"US Airways Inc.\",\"US Airways Inc.\",\"US Airways Inc.\",\"US Airways Inc.\",\"US Airways Inc.\",\"US Airways Inc.\",\"United Air Lines Inc.\",\"United Air Lines Inc.\",\"United Air Lines Inc.\",\"United Air Lines Inc.\",\"United Air Lines Inc.\",\"United Air Lines Inc.\",\"United Air Lines Inc.\",\"United Air Lines Inc.\",\"United Air Lines Inc.\",\"United Air Lines Inc.\",\"United Air Lines Inc.\",\"United Air Lines Inc.\",\"United Air Lines Inc.\",\"United Air Lines Inc.\",\"United Air Lines Inc.\",\"United Air Lines Inc.\",\"United Air Lines Inc.\",\"United Air Lines Inc.\",\"United Air Lines Inc.\",\"United Air Lines Inc.\",\"United Air Lines Inc.\",\"United Air Lines Inc.\",\"United Air Lines Inc.\",\"United Air Lines Inc.\",\"United Air Lines Inc.\",\"United Air Lines Inc.\",\"United Air Lines Inc.\",\"United Air Lines Inc.\",\"United Air Lines Inc.\",\"United Air Lines Inc.\",\"United Air Lines Inc.\",\"United Air Lines Inc.\",\"United Air Lines Inc.\",\"United Air Lines Inc.\",\"United Air Lines Inc.\",\"United Air Lines Inc.\",\"Virgin America\",\"Virgin America\",\"Virgin America\",\"Virgin America\",\"Virgin America\",\"Virgin America\",\"Virgin America\",\"Virgin America\",\"Virgin America\",\"Virgin America\",\"Virgin America\",\"Virgin America\",\"Virgin America\",\"Virgin America\",\"Virgin America\",\"Virgin America\",\"Virgin America\",\"Virgin America\",\"Virgin America\",\"Virgin America\",\"Virgin America\",\"Virgin America\",\"Virgin America\",\"Virgin America\",\"Virgin America\",\"Virgin America\",\"Virgin America\",\"Virgin America\",\"Virgin America\",\"Virgin America\",\"Virgin America\",\"Virgin America\",\"Virgin America\",\"Virgin America\",\"Virgin America\",\"Virgin America\"],\"proportion\":{\"__ndarray__\":\"AAAAAAAAAAAAAAAAAAAAAAAAAAAAAAAAU/pOzOkdWz9T+k7M6R1bP747O1lvVnQ/yy/84CVFkD/LL/zgJUWgP/jpE2nIz6w/UKQhP3NwtT8vKYIA4um4Pzw2gHNhirs/+OkTacjPvD9g7g9UoAy3P7v+SrfBWrU/dssbmPFRrT+KOb1jAzinPxyJZl4+oKE/qs2ZjV1wmj++OztZb1aUP8F4K/scUpM/TIBuiI4mjT+qzZmNXXCKP6NTuUkCeYw/dFyxH7LygD/LL/zgJUWAP8sv/OAlRYA/RQaORDMvfz8CoeRO0cJ5P747O1lvVnQ/RQaORDMvfz8PlaXWh7FlP8sv/OAlRXA/U/pOzOkdaz9t4tDbVvtyPw+VpdaHsXU/n5RwIYbHdz/pnYeD/kOZP9LqCGhoF6E/x7nMqWe5rT/KMZqxwjSyP2b9NixZELQ/A8nTpu/rtT/yVvY5pCa4P7AGTo7RjLU/C4JCXZXOtD/KMZqxwjSyP7AGTo7RjKU/fbC1R+88rD93bxSZpNWhP/oPZfBJCac/M6ee5XbAmj8tZv02LFmQPzOnnuV2wIo/n5RwIYbHhz93bxSZpNWBPwuCQl2VzoQ/C4JCXZXOhD+flHAhhsdnP3dvFJmk1XE/n5RwIYbHZz93bxSZpNVxPwAAAAAAAAAAn5RwIYbHVz8AAAAAAAAAAHdvFJmk1XE/n5RwIYbHdz+flHAhhsdXP3dvFJmk1XE/n5RwIYbHVz+flHAhhsdXP3dvFJmk1XE/y+AWzC1PWz9iT66+98VvP+yVCm42g4I/K9+UiqgJkz9GQ0J5c6igP62ymgwAQqk/0f7Poc1BsT8VAG5/w7C3P3gu1cncHrs/+WnmBWV9uz/rDeA4UU64P4r/l2ns7rQ/B3Ha1BHfsD+jl4WIXz6rP8ax4JKZqaQ/ZiqFTC+snT8p4EfdsheYP0PN0lNt+ZQ/3gU5F5rejT/qlr3AQJGHP9G6OgdbJ4Q/8HDh+21pgD+VKnf+dpd+Pyu80b30C3s/MJeoSyzyeD9VBLCuuA52P4y6T3xvxnI/7JUKbjaDcj+lcw9poTJuP+1yR6GChWo/05bE55wbZz9JcysFElxsPzRyf9lj2GY/kHJjPfOuaD93luCDDUVlP9tMcgMM6GI/BCOr6seQVj+ThIA4fNtoP2WHAOjgYnk/u9i1RBKjiD8RKmuhQ+OXP4luaJ25uaQ/g6s5J4wosD8nzpWyWKe2PzST6IbWmbs/M5nYe4y5vD8o6HnkgIe7PxMke6yNw7Y/HxFXMeE1sz9Qm3j/Fx+tP8gh492LVaY/SQNLNJudoD86fqCt2aqXP2FcoHMhUpE/h/P1x06pjT8/J+vx3luHPx279RFxFYM/nGDgejgdgj+6mcBc79J8P6JAax1pHnw/dsHVnBNGdD8CboC8VqB0PwoL6xbwEXI/4PnVUvHZbj85P6vFttprP9uPgPYO+Wo/wzYrt4hEaj8EI6vqx5BmPxrH1fvcVGU/RQ8rHgfdYj9RmAAFPY9cP7etVdBSkmA//V9c8Rm4Rz/9X1zxGbhnP6embIIho34//D3JDKIhjz8S5WdcUJadP3LvF5mDO6k/WNBmX0+2sT8YoaAPxtO3P+2MTdHnbrk/+FHiYB8IuT840+mNLV23P5MJCpvk1rI/PskMoiEfsD/IwF6Egj6oP/Nl+7Sc7qI/p4n3UeJgnz99esLHPFCaPyjLDsG145M//g0bFJVFkz98zAOlwcKOP/x3s20gpo0//ULnwNp1iD/+DRsUlUWDP36cVay05oI/fvO0PXKtgD/8Wj494WN+P6eJ91HiYH8//euHLx2vej/9CP1fXPF5P1KgWercb3o/Uve4e5o2eD9T/NYv04pxP6nNHRvSjXA//mR6pVIMcT/8d7NtIKZtP6hZSVnVhHM/AAAAAAAAAAAZQhGoO40FP5+SFZKK8Co/9y2Q7Wc0VD9Jsh7NRFpyP5dNdaNVmoo/NPrgW7M0oD8QK9wKSC6uP/D/SThNerY/InUTQWgLvD/3W/s+qSu9P74PmILKjLs/Acrc3fM2tj9HGyADsZ2xP4PD66T4rK0/MHrzqUbTpT/j9fYMUC+gP7x4mbg20Jo/1zBpbK53lT/mo08Q/oeTPxNCf2VVC40/G3DFGnDFij/HvYLIXmeHP1tTuePIooU/zuvIfXkhhT8XFF01B1WAP5l7KRaK0n8/hsM0xuvteT91OfTogUF5PyGHsZZw43U/IYexlnDjdT/v6O/+Mt5zP7QFjnjAgnE/S+DSP3mSZz+4YfZdKfNrP+K6Fwcyom0/n97FJLWOFT+1gHnSyTU0PwVw3GQk/U4/MJgMpwSMZD8vCnEaYKyAP8tb3zkM7ZA/EX0tPZgCoz8yhmbogxmwP5PhlICRArg/0gr459U9uz/MqLjy2n+7P1m1ZweBPLg/8iicGf5osz80Ydst94uuP5TUORT9Kqg/hNWHL7mOoj+hwUqE0D2fPy4HrFKkCpo/KHTKvSN5lz/U1Ar2Y8+TP5xq4HA5XpE/b5jdiGswkD8VDUoKXfKOP/lJGTsj2ok/QcMV2eFgiD+JdcQwzveEP1HS5/F1doQ/L9G+YDKcgj+I5yikKRiBP1O1bFGRJX4/isqtA0XHej8E4kDYfx17PwQb85GtLXk/lEaeh1hLdD9cag+P0rl1Pw5eMVyToXQ/AAAAAAAAAAAAAAAAAAAAAJj7dCTbo1k/AAAAAAAAAACY+3Qk26NpP7K8V1vkOoM/UUu81hg+mz/VFDSCxW2yP+hCJ2J1pa0/+GwQqaagsT/w15sFDqO3P/DXmwUOo7c/8NebBQ6jtz/nQKIVNgeyPxzF7M+H07A/6EInYnWlrT8u89+vNwusP8TqSjuUcp4/1RQ0gsVtoj8/Hcn2aAagP8TqSjuUcp4/mPt0JNujiT8LmwOJVtiMPyVc5r9fb4Y/mPt0JNujeT+yvFdb5DqDP7K8V1vkOoM/Px3J9mgGgD8/Hcn2aAaAP7K8V1vkOnM/srxXW+Q6cz+Y+3Qk26N5P7K8V1vkOoM/mPt0JNujWT+Y+3Qk26NZP5j7dCTbo1k/lPBGU+fXnj+/9pDLioGSP7/2kMuKgYI/bzR1fu0hpz+/9pDLioGiPyKXFQMlvLE/lxUDJbzRtD+/9pDLioGyPwyU8EZT57c/lxUDJbzRtD8MlPBGU+e3P5cVAyW80bQ/IpcVAyW8sT/6tYdcVgykP+fXHnJZMbA/H3JZMVDCmz+U8EZT59eeP5TwRlPn144/qvNrD7msiD+U8EZT59eOP6rzaw+5rGg/AAAAAAAAAACq82sPuaxoP6rzaw+5rGg/AAAAAAAAAACq82sPuaxoPwAAAAAAAAAAAAAAAAAAAACq82sPuax4PwAAAAAAAAAAAAAAAAAAAAAAAAAAAAAAAAAAAAAAAAAAAAAAAAAAAAAAAAAAAAAAAAAAAAAAAAAAwsyZhdkPRD9d+vy6Hd5RPymXVlMbH2M/XP8I+anTcz8QYUWBNfyBP09kABA3QpM/Q8hb53RMoj8BnD9PZACwP3yydWZb0bg/kMwRajgGvj/girqu8ly9P7JBUZZaw7k/yBrsmbqKtD/vUFwgE72vPxkMDmSc0qg/D2ZRv8Hxoz/86SyK54WfP3/ZnvDLDpk/Dmklfq8elT+DyEK3iGWSP7zpRbrTbI8/i3gX2Hsxiz+oncxwHquFP6iZXHLhGYQ/kGETIV0ugj+86UW602x/P4x1QxmOBHo/v9u9P37weT+Nb5ubsqp3PyiaKhIJTHQ/w8eNR00acj/2LQhuPQZyP/cpmG8AdXA/JK2+yuq9az/xRahkq21rP4p/W5Wm720/AAAAAAAAAAAAAAAAAAAAAAD/AfwH8G8/QH8B/QX0dz9AfwH9BfR3P3AfwX0E96E/WE9hPYX1pD9gP4H9BPazPxDfQXwH8b0/BPcR3Edwvz9cR3EdxXW0PxjPYTyH8aw/AP8B/Afwrz8Yz2E8h/GsP0B/Af0F9Kc/SG8hvYX0pj9gP4H9BPajP2A/gf0E9pM/YD+B/QT2gz8A/wH8B/CPPyC/gfwG8os/cB/BfQT3kT8A/wH8B/CPPzCfwXwG85k/AP8B/Afwjz9AfwH9BfSHPwD/AfwH8H8/QH8B/QX0hz9AfwH9BfR3PwD/AfwH8G8/QH8B/QX0dz9gP4H9BPaDPwD/AfwH8H8/QH8B/QX0dz8A/wH8B/BfPwAAAAAAAAAAAAAAAAAAAAAAAAAAAAAAAAAAAAAAAAAAAAAAAAAAAAAAAAAAAAAAAAAAAAAAAAAAaC+hvYT2oj8cx3Ecx3G8P2gvob2E9sI/HMdxHMdxvD8cx3Ecx3HMP2gvob2E9rI/aC+hvYT2sj9oL6G9hPaiPwAAAAAAAAAAAAAAAAAAAAAAAAAAAAAAAGgvob2E9qI/AAAAAAAAAAAAAAAAAAAAAAAAAAAAAAAAaC+hvYT2sj8AAAAAAAAAAAAAAAAAAAAAAAAAAAAAAABoL6G9hPaiPwAAAAAAAAAAAAAAAAAAAAAAAAAAAAAAAAAAAAAAAAAAAAAAAAAAAAAAAAAAAAAAAAAAAAAAAAAAaC+hvYT2oj8AAAAAAAAAAAAAAAAAAAAAzd2S4jyfNj9aJu6pbfdQPxSCQEZVy2M/vHSnyTZUdz+oQUnT2a+KP918Cx7skJg/ErjNaP5xpj+AFJgXZQixPw3Sh0+8nbc/htQrEHnGuj+X2F2602S7P0thw02Q77k/LCPS1jEMtj9/r96ouVuyP2RnDk0Y3ao/aPvzB8aPpT8/y8Q9te2eP0TEY2cOTZg/4Ks3au6WlD+VDuvcfAuOP2Kdm2/Bg40/AhlVLU+AhD97LlL+IjSCPzdUF3hhYYI/HcNg6f+wfT+8dKfJNlR3P0GVNxsMR3w/i83KOdIldD/ACI2E5AZyPx3DYOn/sG0/wAiNhOQGcj8MWnXQ+WVuP2yP2cJzQnA/WibuqW33cD8CGVUtT4BkP5mi0Jcqvmg/b9PQ1c4dND+HBS6ygcNQP9ztirCIoVY/ja7Q5vi5aD8dnFDvDQh7P34d3FvuOI8/WZk5Fk2moj+ztiac1+OxP96lRc6OuLw/pQKC+7QfwT/mkTSWCazAP3BOwYiCA7w/4hs9Mkyytj+HRpWOu12xP5nJzQ1GQag/F3HfASPdoT/EPfyMSTCbP6bgLcOrX5U/9htLG1TekD8emLN9Jp+IPxX3Six+eoU/1UiF7fgTgT9Uqa3c6kl8Pwpaf0y9vnQ/0FRcQq9OeD84xnPo8dtyP6yJ0PciVm0/SghFi0IlaT91fHMKRhRsPxP7551l42c/OMZz6PHbYj8BuRb7FJphPzLW566Pf1w/Pm8WHWnSWj+sidD3IlZdPyY9uUC2LF4/G1L8xXtZVD9hUCDaHYxnPzba6Nf143o/wH3Eika6iT+Z0JuXySWXP9DsfzujYKM/Ijymfb65rD/2rSrU/fGzP1Lo2qliAbk/VPExq2Euuz+UhhzIb4m5P4W6P37in7c/+oycCeQTsz/8SaCYqQGuP//11QB466c/r0T5JehEoj8BsfgO4MebP9ZVuTI3OJg/TgeI8x7Okj+BhiPVwxGPP/SJ26x/rIg/XGhXozg9hj8xDRjHj62CPyzvXkSsLX8/Ln67BZ7teD+FTzLkbiV5P3SX1z+/OHU/G1L8xXtZdD+fDQ9C5+BxP5rvVb8DYW4/lQeNiB4SbT/FZY3BKwlrP/DbxMNTsWc/G1L8xXtZZD+4PI/ebdxgP58ND0Ln4GE/+R2I34H4bT/5HYjfgfh9P2MeMeYRY44/pBpAqgGkmj/mEWMeMeahP4nalahdiao/MzMzMzMzsz8AV/lvlf+2PzI4H4PzMbg/GpejcTkatz/K1qRsTcq2P5j1flnvl7U/FlRaQaUVtD8jHTbSYSOtP7CW+mqpr6Y/b5rrprlumj96FqZnYXqWP8aTWzy5xZM/uhehexG6hz/lFk9u8eSGP/kdiN+B+H0/+hicj8H5eD8mE14y4SWDP1ESDCXBUHI/+xOwPwH7cz/5HYjfgfhtP/oYnI/B+Wg/URIMJcFQcj9OHOTEQU5sP/oYnI/B+Wg/ThzkxEFObD+nEGgKgaZwP1ESDCXBUGI/ox8s+sGibz+nEGgKgaZgP04c5MRBTmw/\",\"dtype\":\"float64\",\"shape\":[576]},\"right\":{\"__ndarray__\":\"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\",\"dtype\":\"float64\",\"shape\":[576]}},\"selected\":{\"id\":\"1487\",\"type\":\"Selection\"},\"selection_policy\":{\"id\":\"1488\",\"type\":\"UnionRenderers\"}},\"id\":\"1414\",\"type\":\"ColumnDataSource\"},{\"attributes\":{},\"id\":\"1456\",\"type\":\"BasicTickFormatter\"},{\"attributes\":{\"axis_label\":\"Delay (min)\",\"formatter\":{\"id\":\"1456\",\"type\":\"BasicTickFormatter\"},\"ticker\":{\"id\":\"1427\",\"type\":\"BasicTicker\"}},\"id\":\"1426\",\"type\":\"LinearAxis\"},{\"attributes\":{\"text\":\"Histogram of Arrival Delays by Carrier\"},\"id\":\"1416\",\"type\":\"Title\"},{\"attributes\":{\"bottom\":{\"value\":0},\"fill_alpha\":{\"value\":0.1},\"fill_color\":{\"value\":\"#1f77b4\"},\"left\":{\"field\":\"left\"},\"line_alpha\":{\"value\":0.1},\"line_color\":{\"value\":\"#1f77b4\"},\"right\":{\"field\":\"right\"},\"top\":{\"field\":\"proportion\"}},\"id\":\"1451\",\"type\":\"Quad\"},{\"attributes\":{\"overlay\":{\"id\":\"1460\",\"type\":\"BoxAnnotation\"}},\"id\":\"1438\",\"type\":\"BoxZoomTool\"},{\"attributes\":{\"bottom_units\":\"screen\",\"fill_alpha\":{\"value\":0.5},\"fill_color\":{\"value\":\"lightgrey\"},\"left_units\":\"screen\",\"level\":\"overlay\",\"line_alpha\":{\"value\":1.0},\"line_color\":{\"value\":\"black\"},\"line_dash\":[4,4],\"line_width\":{\"value\":2},\"render_mode\":\"css\",\"right_units\":\"screen\",\"top_units\":\"screen\"},\"id\":\"1460\",\"type\":\"BoxAnnotation\"},{\"attributes\":{\"dimension\":1,\"ticker\":{\"id\":\"1432\",\"type\":\"BasicTicker\"}},\"id\":\"1435\",\"type\":\"Grid\"},{\"attributes\":{\"source\":{\"id\":\"1414\",\"type\":\"ColumnDataSource\"}},\"id\":\"1454\",\"type\":\"CDSView\"},{\"attributes\":{\"items\":[{\"id\":\"1462\",\"type\":\"LegendItem\"}]},\"id\":\"1461\",\"type\":\"Legend\"},{\"attributes\":{},\"id\":\"1432\",\"type\":\"BasicTicker\"},{\"attributes\":{\"axis_label\":\"Proportion\",\"formatter\":{\"id\":\"1458\",\"type\":\"BasicTickFormatter\"},\"ticker\":{\"id\":\"1432\",\"type\":\"BasicTicker\"}},\"id\":\"1431\",\"type\":\"LinearAxis\"},{\"attributes\":{\"bottom\":{\"value\":0},\"fill_alpha\":{\"value\":0.7},\"fill_color\":{\"field\":\"color\"},\"left\":{\"field\":\"left\"},\"right\":{\"field\":\"right\"},\"top\":{\"field\":\"proportion\"}},\"id\":\"1450\",\"type\":\"Quad\"},{\"attributes\":{},\"id\":\"1487\",\"type\":\"Selection\"},{\"attributes\":{},\"id\":\"1439\",\"type\":\"SaveTool\"},{\"attributes\":{\"callback\":null,\"mode\":\"vline\",\"tooltips\":[[\"Carrier\",\"@name\"],[\"Delay\",\"@f_interval\"],[\"Proportion\",\"@f_proportion\"]]},\"id\":\"1463\",\"type\":\"HoverTool\"},{\"attributes\":{\"data_source\":{\"id\":\"1414\",\"type\":\"ColumnDataSource\"},\"glyph\":{\"id\":\"1450\",\"type\":\"Quad\"},\"hover_glyph\":{\"id\":\"1452\",\"type\":\"Quad\"},\"muted_glyph\":null,\"nonselection_glyph\":{\"id\":\"1451\",\"type\":\"Quad\"},\"selection_glyph\":null,\"view\":{\"id\":\"1454\",\"type\":\"CDSView\"}},\"id\":\"1453\",\"type\":\"GlyphRenderer\"},{\"attributes\":{},\"id\":\"1458\",\"type\":\"BasicTickFormatter\"},{\"attributes\":{},\"id\":\"1422\",\"type\":\"LinearScale\"},{\"attributes\":{},\"id\":\"1488\",\"type\":\"UnionRenderers\"},{\"attributes\":{},\"id\":\"1436\",\"type\":\"PanTool\"},{\"attributes\":{\"bottom\":{\"value\":0},\"fill_color\":{\"field\":\"color\"},\"left\":{\"field\":\"left\"},\"line_color\":{\"value\":\"#1f77b4\"},\"right\":{\"field\":\"right\"},\"top\":{\"field\":\"proportion\"}},\"id\":\"1452\",\"type\":\"Quad\"},{\"attributes\":{},\"id\":\"1437\",\"type\":\"WheelZoomTool\"},{\"attributes\":{},\"id\":\"1440\",\"type\":\"ResetTool\"},{\"attributes\":{\"callback\":null},\"id\":\"1420\",\"type\":\"DataRange1d\"},{\"attributes\":{\"label\":{\"field\":\"name\"},\"renderers\":[{\"id\":\"1453\",\"type\":\"GlyphRenderer\"}]},\"id\":\"1462\",\"type\":\"LegendItem\"},{\"attributes\":{\"callback\":null},\"id\":\"1418\",\"type\":\"DataRange1d\"},{\"attributes\":{\"ticker\":{\"id\":\"1427\",\"type\":\"BasicTicker\"}},\"id\":\"1430\",\"type\":\"Grid\"},{\"attributes\":{},\"id\":\"1441\",\"type\":\"HelpTool\"},{\"attributes\":{},\"id\":\"1427\",\"type\":\"BasicTicker\"},{\"attributes\":{\"active_drag\":\"auto\",\"active_inspect\":\"auto\",\"active_multi\":null,\"active_scroll\":\"auto\",\"active_tap\":\"auto\",\"tools\":[{\"id\":\"1436\",\"type\":\"PanTool\"},{\"id\":\"1437\",\"type\":\"WheelZoomTool\"},{\"id\":\"1438\",\"type\":\"BoxZoomTool\"},{\"id\":\"1439\",\"type\":\"SaveTool\"},{\"id\":\"1440\",\"type\":\"ResetTool\"},{\"id\":\"1441\",\"type\":\"HelpTool\"},{\"id\":\"1463\",\"type\":\"HoverTool\"}]},\"id\":\"1442\",\"type\":\"Toolbar\"}],\"root_ids\":[\"1415\"]},\"title\":\"Bokeh Application\",\"version\":\"1.4.0\"}};\n",
       "  var render_items = [{\"docid\":\"b0f5ff56-edd2-4ad4-9c78-197128c745a8\",\"roots\":{\"1415\":\"703da084-dbe5-497b-8315-8f27a9421b8e\"}}];\n",
       "  root.Bokeh.embed.embed_items_notebook(docs_json, render_items);\n",
       "\n",
       "  }\n",
       "  if (root.Bokeh !== undefined) {\n",
       "    embed_document(root);\n",
       "  } else {\n",
       "    var attempts = 0;\n",
       "    var timer = setInterval(function(root) {\n",
       "      if (root.Bokeh !== undefined) {\n",
       "        clearInterval(timer);\n",
       "        embed_document(root);\n",
       "      } else {\n",
       "        attempts++;\n",
       "        if (attempts > 100) {\n",
       "          clearInterval(timer);\n",
       "          console.log(\"Bokeh: ERROR: Unable to run BokehJS code because BokehJS library is missing\");\n",
       "        }\n",
       "      }\n",
       "    }, 10, root)\n",
       "  }\n",
       "})(window);"
      ],
      "application/vnd.bokehjs_exec.v0+json": ""
     },
     "metadata": {
      "application/vnd.bokehjs_exec.v0+json": {
       "id": "1415"
      }
     },
     "output_type": "display_data"
    }
   ],
   "source": [
    "available_carriers=flights['name'].unique()\n",
    "x=make_dataset(available_carriers)\n",
    "p=make_plot(x)\n",
    "show(p)"
   ]
  },
  {
   "cell_type": "code",
   "execution_count": 18,
   "metadata": {},
   "outputs": [],
   "source": [
    "# 制作复选的小部件后，需要将选定的航空公司复选框链接到图表上显示的信息。 \n",
    "# 这是使用 CheckboxGroup 的 .on_change 方法和我们定义的 update 函数完成的。 \n",
    "# update 函数总是有三个参数：attr ，old，new 并根据选择控件更新绘图。 \n",
    "# 我们更改图表上显示的数据的方法是改变我们传递给 make_plot 函数中的 glyph(s) 的数据源。 \n",
    "# 这可能听起来有点抽象，所以这里是有一个 update 函数的例子，它改变了直方图以显示所选的航空公司：\n",
    "def update(attr, old, new):\n",
    "\n",
    "    # Find the selected carriers\n",
    "    carriers_to_plot = [carrier_selection.labels[i] for i in carrier_selection.active]\n",
    "\n",
    "    # Change binwidth to selected value\n",
    "    bin_width = binwidth_select.value\n",
    "\n",
    "    # Value for the range slider is a tuple (start, end)\n",
    "    range_start = range_select.value[0]\n",
    "    range_end = range_select.value[1]\n",
    "\n",
    "    # Create new ColumnDataSource\n",
    "    new_src = make_dataset(carriers_to_plot,\n",
    "                           range_start = range_start,\n",
    "                           range_end = range_end,\n",
    "                           bin_width = bin_width)\n",
    "\n",
    "    # Update the data on the plot\n",
    "    src.data.update(new_src.data)"
   ]
  },
  {
   "cell_type": "code",
   "execution_count": 20,
   "metadata": {},
   "outputs": [],
   "source": [
    "# Create the checkbox selection element, available carriers is a  \n",
    "# list of all airlines in the data\n",
    "carrier_selection = CheckboxGroup(labels=available_carriers.tolist(), active = [0, 1])\n",
    "\n",
    "# Select the airlines names from the selection values\n",
    "[carrier_selection.labels[i] for i in carrier_selection.active]\n",
    "\n",
    "carrier_selection.on_change('active', update)\n",
    "\n",
    "# Slider to select the binwidth, value is selected number\n",
    "binwidth_select = Slider(start = 1, end = 30,\n",
    "                     step = 1, value = 5,\n",
    "                     title = 'Delay Width (min)')\n",
    "# Update the plot when the value is changed\n",
    "binwidth_select.on_change('value', update)\n",
    "\n",
    "# RangeSlider to change the maximum and minimum values on histogram\n",
    "range_select = RangeSlider(start = -60, end = 180, value = (-60, 120),\n",
    "                           step = 5, title = 'Delay Range (min)')\n",
    "\n",
    "# Update the plot when the value is changed\n",
    "range_select.on_change('value', update)"
   ]
  },
  {
   "cell_type": "code",
   "execution_count": 21,
   "metadata": {},
   "outputs": [],
   "source": [
    "# Change plot title to match selection\n",
    "bin_width = binwidth_select.value\n",
    "p.title.text = 'Delays with %d Minute Bin Width' % bin_width"
   ]
  },
  {
   "cell_type": "code",
   "execution_count": 24,
   "metadata": {},
   "outputs": [],
   "source": [
    "# Put controls in a single element\n",
    "controls = WidgetBox(carrier_selection, binwidth_select, range_select)\n",
    "\n",
    "# Create a row layout\n",
    "layout = row(controls, p)\n",
    "\n",
    "# Make a tab with the layout\n",
    "tab = Panel(child=layout, title = 'Delay Histogram')\n",
    "tabs = Tabs(tabs=[tab])"
   ]
  },
  {
   "cell_type": "code",
   "execution_count": 25,
   "metadata": {},
   "outputs": [
    {
     "name": "stderr",
     "output_type": "stream",
     "text": [
      "WARNING:bokeh.embed.util:\n",
      "You are generating standalone HTML/JS output, but trying to use real Python\n",
      "callbacks (i.e. with on_change or on_event). This combination cannot work.\n",
      "\n",
      "Only JavaScript callbacks may be used with standalone output. For more\n",
      "information on JavaScript callbacks with Bokeh, see:\n",
      "\n",
      "    https://docs.bokeh.org/en/latest/docs/user_guide/interaction/callbacks.html\n",
      "\n",
      "Alternatively, to use real Python callbacks, a Bokeh server application may\n",
      "be used. For more information on building and running Bokeh applications, see:\n",
      "\n",
      "    https://docs.bokeh.org/en/latest/docs/user_guide/server.html\n",
      "\n"
     ]
    },
    {
     "data": {
      "text/html": [
       "\n",
       "\n",
       "\n",
       "\n",
       "\n",
       "\n",
       "  <div class=\"bk-root\" id=\"528a6048-70a9-4807-8391-dc559eed12ab\" data-root-id=\"1629\"></div>\n"
      ]
     },
     "metadata": {},
     "output_type": "display_data"
    },
    {
     "data": {
      "application/javascript": [
       "(function(root) {\n",
       "  function embed_document(root) {\n",
       "    \n",
       "  var docs_json = {\"86ac6703-f0f4-46a4-b498-7aaaaaa58688\":{\"roots\":{\"references\":[{\"attributes\":{\"children\":[{\"id\":\"1628\",\"type\":\"WidgetBox\"},{\"id\":\"1415\",\"subtype\":\"Figure\",\"type\":\"Plot\"}]},\"id\":\"1629\",\"type\":\"Row\"},{\"attributes\":{\"callback\":null,\"end\":30,\"start\":1,\"title\":\"Delay Width (min)\",\"value\":5},\"id\":\"1542\",\"type\":\"Slider\"},{\"attributes\":{\"below\":[{\"id\":\"1426\",\"type\":\"LinearAxis\"}],\"center\":[{\"id\":\"1430\",\"type\":\"Grid\"},{\"id\":\"1435\",\"type\":\"Grid\"},{\"id\":\"1461\",\"type\":\"Legend\"}],\"left\":[{\"id\":\"1431\",\"type\":\"LinearAxis\"}],\"plot_height\":700,\"plot_width\":700,\"renderers\":[{\"id\":\"1453\",\"type\":\"GlyphRenderer\"}],\"title\":{\"id\":\"1416\",\"type\":\"Title\"},\"toolbar\":{\"id\":\"1442\",\"type\":\"Toolbar\"},\"x_range\":{\"id\":\"1418\",\"type\":\"DataRange1d\"},\"x_scale\":{\"id\":\"1422\",\"type\":\"LinearScale\"},\"y_range\":{\"id\":\"1420\",\"type\":\"DataRange1d\"},\"y_scale\":{\"id\":\"1424\",\"type\":\"LinearScale\"}},\"id\":\"1415\",\"subtype\":\"Figure\",\"type\":\"Plot\"},{\"attributes\":{},\"id\":\"1424\",\"type\":\"LinearScale\"},{\"attributes\":{\"callback\":null,\"data\":{\"color\":[\"#c5b0d5\",\"#c5b0d5\",\"#c5b0d5\",\"#c5b0d5\",\"#c5b0d5\",\"#c5b0d5\",\"#c5b0d5\",\"#c5b0d5\",\"#c5b0d5\",\"#c5b0d5\",\"#c5b0d5\",\"#c5b0d5\",\"#c5b0d5\",\"#c5b0d5\",\"#c5b0d5\",\"#c5b0d5\",\"#c5b0d5\",\"#c5b0d5\",\"#c5b0d5\",\"#c5b0d5\",\"#c5b0d5\",\"#c5b0d5\",\"#c5b0d5\",\"#c5b0d5\",\"#c5b0d5\",\"#c5b0d5\",\"#c5b0d5\",\"#c5b0d5\",\"#c5b0d5\",\"#c5b0d5\",\"#c5b0d5\",\"#c5b0d5\",\"#c5b0d5\",\"#c5b0d5\",\"#c5b0d5\",\"#c5b0d5\",\"#8c564b\",\"#8c564b\",\"#8c564b\",\"#8c564b\",\"#8c564b\",\"#8c564b\",\"#8c564b\",\"#8c564b\",\"#8c564b\",\"#8c564b\",\"#8c564b\",\"#8c564b\",\"#8c564b\",\"#8c564b\",\"#8c564b\",\"#8c564b\",\"#8c564b\",\"#8c564b\",\"#8c564b\",\"#8c564b\",\"#8c564b\",\"#8c564b\",\"#8c564b\",\"#8c564b\",\"#8c564b\",\"#8c564b\",\"#8c564b\",\"#8c564b\",\"#8c564b\",\"#8c564b\",\"#8c564b\",\"#8c564b\",\"#8c564b\",\"#8c564b\",\"#8c564b\",\"#8c564b\",\"#aec7e8\",\"#aec7e8\",\"#aec7e8\",\"#aec7e8\",\"#aec7e8\",\"#aec7e8\",\"#aec7e8\",\"#aec7e8\",\"#aec7e8\",\"#aec7e8\",\"#aec7e8\",\"#aec7e8\",\"#aec7e8\",\"#aec7e8\",\"#aec7e8\",\"#aec7e8\",\"#aec7e8\",\"#aec7e8\",\"#aec7e8\",\"#aec7e8\",\"#aec7e8\",\"#aec7e8\",\"#aec7e8\",\"#aec7e8\",\"#aec7e8\",\"#aec7e8\",\"#aec7e8\",\"#aec7e8\",\"#aec7e8\",\"#aec7e8\",\"#aec7e8\",\"#aec7e8\",\"#aec7e8\",\"#aec7e8\",\"#aec7e8\",\"#aec7e8\",\"#ffbb78\",\"#ffbb78\",\"#ffbb78\",\"#ffbb78\",\"#ffbb78\",\"#ffbb78\",\"#ffbb78\",\"#ffbb78\",\"#ffbb78\",\"#ffbb78\",\"#ffbb78\",\"#ffbb78\",\"#ffbb78\",\"#ffbb78\",\"#ffbb78\",\"#ffbb78\",\"#ffbb78\",\"#ffbb78\",\"#ffbb78\",\"#ffbb78\",\"#ffbb78\",\"#ffbb78\",\"#ffbb78\",\"#ffbb78\",\"#ffbb78\",\"#ffbb78\",\"#ffbb78\",\"#ffbb78\",\"#ffbb78\",\"#ffbb78\",\"#ffbb78\",\"#ffbb78\",\"#ffbb78\",\"#ffbb78\",\"#ffbb78\",\"#ffbb78\",\"#c49c94\",\"#c49c94\",\"#c49c94\",\"#c49c94\",\"#c49c94\",\"#c49c94\",\"#c49c94\",\"#c49c94\",\"#c49c94\",\"#c49c94\",\"#c49c94\",\"#c49c94\",\"#c49c94\",\"#c49c94\",\"#c49c94\",\"#c49c94\",\"#c49c94\",\"#c49c94\",\"#c49c94\",\"#c49c94\",\"#c49c94\",\"#c49c94\",\"#c49c94\",\"#c49c94\",\"#c49c94\",\"#c49c94\",\"#c49c94\",\"#c49c94\",\"#c49c94\",\"#c49c94\",\"#c49c94\",\"#c49c94\",\"#c49c94\",\"#c49c94\",\"#c49c94\",\"#c49c94\",\"#98df8a\",\"#98df8a\",\"#98df8a\",\"#98df8a\",\"#98df8a\",\"#98df8a\",\"#98df8a\",\"#98df8a\",\"#98df8a\",\"#98df8a\",\"#98df8a\",\"#98df8a\",\"#98df8a\",\"#98df8a\",\"#98df8a\",\"#98df8a\",\"#98df8a\",\"#98df8a\",\"#98df8a\",\"#98df8a\",\"#98df8a\",\"#98df8a\",\"#98df8a\",\"#98df8a\",\"#98df8a\",\"#98df8a\",\"#98df8a\",\"#98df8a\",\"#98df8a\",\"#98df8a\",\"#98df8a\",\"#98df8a\",\"#98df8a\",\"#98df8a\",\"#98df8a\",\"#98df8a\",\"#2ca02c\",\"#2ca02c\",\"#2ca02c\",\"#2ca02c\",\"#2ca02c\",\"#2ca02c\",\"#2ca02c\",\"#2ca02c\",\"#2ca02c\",\"#2ca02c\",\"#2ca02c\",\"#2ca02c\",\"#2ca02c\",\"#2ca02c\",\"#2ca02c\",\"#2ca02c\",\"#2ca02c\",\"#2ca02c\",\"#2ca02c\",\"#2ca02c\",\"#2ca02c\",\"#2ca02c\",\"#2ca02c\",\"#2ca02c\",\"#2ca02c\",\"#2ca02c\",\"#2ca02c\",\"#2ca02c\",\"#2ca02c\",\"#2ca02c\",\"#2ca02c\",\"#2ca02c\",\"#2ca02c\",\"#2ca02c\",\"#2ca02c\",\"#2ca02c\",\"#e377c2\",\"#e377c2\",\"#e377c2\",\"#e377c2\",\"#e377c2\",\"#e377c2\",\"#e377c2\",\"#e377c2\",\"#e377c2\",\"#e377c2\",\"#e377c2\",\"#e377c2\",\"#e377c2\",\"#e377c2\",\"#e377c2\",\"#e377c2\",\"#e377c2\",\"#e377c2\",\"#e377c2\",\"#e377c2\",\"#e377c2\",\"#e377c2\",\"#e377c2\",\"#e377c2\",\"#e377c2\",\"#e377c2\",\"#e377c2\",\"#e377c2\",\"#e377c2\",\"#e377c2\",\"#e377c2\",\"#e377c2\",\"#e377c2\",\"#e377c2\",\"#e377c2\",\"#e377c2\",\"#f7b6d2\",\"#f7b6d2\",\"#f7b6d2\",\"#f7b6d2\",\"#f7b6d2\",\"#f7b6d2\",\"#f7b6d2\",\"#f7b6d2\",\"#f7b6d2\",\"#f7b6d2\",\"#f7b6d2\",\"#f7b6d2\",\"#f7b6d2\",\"#f7b6d2\",\"#f7b6d2\",\"#f7b6d2\",\"#f7b6d2\",\"#f7b6d2\",\"#f7b6d2\",\"#f7b6d2\",\"#f7b6d2\",\"#f7b6d2\",\"#f7b6d2\",\"#f7b6d2\",\"#f7b6d2\",\"#f7b6d2\",\"#f7b6d2\",\"#f7b6d2\",\"#f7b6d2\",\"#f7b6d2\",\"#f7b6d2\",\"#f7b6d2\",\"#f7b6d2\",\"#f7b6d2\",\"#f7b6d2\",\"#f7b6d2\",\"#ff7f0e\",\"#ff7f0e\",\"#ff7f0e\",\"#ff7f0e\",\"#ff7f0e\",\"#ff7f0e\",\"#ff7f0e\",\"#ff7f0e\",\"#ff7f0e\",\"#ff7f0e\",\"#ff7f0e\",\"#ff7f0e\",\"#ff7f0e\",\"#ff7f0e\",\"#ff7f0e\",\"#ff7f0e\",\"#ff7f0e\",\"#ff7f0e\",\"#ff7f0e\",\"#ff7f0e\",\"#ff7f0e\",\"#ff7f0e\",\"#ff7f0e\",\"#ff7f0e\",\"#ff7f0e\",\"#ff7f0e\",\"#ff7f0e\",\"#ff7f0e\",\"#ff7f0e\",\"#ff7f0e\",\"#ff7f0e\",\"#ff7f0e\",\"#ff7f0e\",\"#ff7f0e\",\"#ff7f0e\",\"#ff7f0e\",\"#7f7f7f\",\"#7f7f7f\",\"#7f7f7f\",\"#7f7f7f\",\"#7f7f7f\",\"#7f7f7f\",\"#7f7f7f\",\"#7f7f7f\",\"#7f7f7f\",\"#7f7f7f\",\"#7f7f7f\",\"#7f7f7f\",\"#7f7f7f\",\"#7f7f7f\",\"#7f7f7f\",\"#7f7f7f\",\"#7f7f7f\",\"#7f7f7f\",\"#7f7f7f\",\"#7f7f7f\",\"#7f7f7f\",\"#7f7f7f\",\"#7f7f7f\",\"#7f7f7f\",\"#7f7f7f\",\"#7f7f7f\",\"#7f7f7f\",\"#7f7f7f\",\"#7f7f7f\",\"#7f7f7f\",\"#7f7f7f\",\"#7f7f7f\",\"#7f7f7f\",\"#7f7f7f\",\"#7f7f7f\",\"#7f7f7f\",\"#c7c7c7\",\"#c7c7c7\",\"#c7c7c7\",\"#c7c7c7\",\"#c7c7c7\",\"#c7c7c7\",\"#c7c7c7\",\"#c7c7c7\",\"#c7c7c7\",\"#c7c7c7\",\"#c7c7c7\",\"#c7c7c7\",\"#c7c7c7\",\"#c7c7c7\",\"#c7c7c7\",\"#c7c7c7\",\"#c7c7c7\",\"#c7c7c7\",\"#c7c7c7\",\"#c7c7c7\",\"#c7c7c7\",\"#c7c7c7\",\"#c7c7c7\",\"#c7c7c7\",\"#c7c7c7\",\"#c7c7c7\",\"#c7c7c7\",\"#c7c7c7\",\"#c7c7c7\",\"#c7c7c7\",\"#c7c7c7\",\"#c7c7c7\",\"#c7c7c7\",\"#c7c7c7\",\"#c7c7c7\",\"#c7c7c7\",\"#ff9896\",\"#ff9896\",\"#ff9896\",\"#ff9896\",\"#ff9896\",\"#ff9896\",\"#ff9896\",\"#ff9896\",\"#ff9896\",\"#ff9896\",\"#ff9896\",\"#ff9896\",\"#ff9896\",\"#ff9896\",\"#ff9896\",\"#ff9896\",\"#ff9896\",\"#ff9896\",\"#ff9896\",\"#ff9896\",\"#ff9896\",\"#ff9896\",\"#ff9896\",\"#ff9896\",\"#ff9896\",\"#ff9896\",\"#ff9896\",\"#ff9896\",\"#ff9896\",\"#ff9896\",\"#ff9896\",\"#ff9896\",\"#ff9896\",\"#ff9896\",\"#ff9896\",\"#ff9896\",\"#d62728\",\"#d62728\",\"#d62728\",\"#d62728\",\"#d62728\",\"#d62728\",\"#d62728\",\"#d62728\",\"#d62728\",\"#d62728\",\"#d62728\",\"#d62728\",\"#d62728\",\"#d62728\",\"#d62728\",\"#d62728\",\"#d62728\",\"#d62728\",\"#d62728\",\"#d62728\",\"#d62728\",\"#d62728\",\"#d62728\",\"#d62728\",\"#d62728\",\"#d62728\",\"#d62728\",\"#d62728\",\"#d62728\",\"#d62728\",\"#d62728\",\"#d62728\",\"#d62728\",\"#d62728\",\"#d62728\",\"#d62728\",\"#1f77b4\",\"#1f77b4\",\"#1f77b4\",\"#1f77b4\",\"#1f77b4\",\"#1f77b4\",\"#1f77b4\",\"#1f77b4\",\"#1f77b4\",\"#1f77b4\",\"#1f77b4\",\"#1f77b4\",\"#1f77b4\",\"#1f77b4\",\"#1f77b4\",\"#1f77b4\",\"#1f77b4\",\"#1f77b4\",\"#1f77b4\",\"#1f77b4\",\"#1f77b4\",\"#1f77b4\",\"#1f77b4\",\"#1f77b4\",\"#1f77b4\",\"#1f77b4\",\"#1f77b4\",\"#1f77b4\",\"#1f77b4\",\"#1f77b4\",\"#1f77b4\",\"#1f77b4\",\"#1f77b4\",\"#1f77b4\",\"#1f77b4\",\"#1f77b4\",\"#9467bd\",\"#9467bd\",\"#9467bd\",\"#9467bd\",\"#9467bd\",\"#9467bd\",\"#9467bd\",\"#9467bd\",\"#9467bd\",\"#9467bd\",\"#9467bd\",\"#9467bd\",\"#9467bd\",\"#9467bd\",\"#9467bd\",\"#9467bd\",\"#9467bd\",\"#9467bd\",\"#9467bd\",\"#9467bd\",\"#9467bd\",\"#9467bd\",\"#9467bd\",\"#9467bd\",\"#9467bd\",\"#9467bd\",\"#9467bd\",\"#9467bd\",\"#9467bd\",\"#9467bd\",\"#9467bd\",\"#9467bd\",\"#9467bd\",\"#9467bd\",\"#9467bd\",\"#9467bd\"],\"f_interval\":[\"-60 to -55 minutes\",\"-55 to -50 minutes\",\"-50 to -45 minutes\",\"-45 to -40 minutes\",\"-40 to -35 minutes\",\"-35 to -30 minutes\",\"-30 to -25 minutes\",\"-25 to -20 minutes\",\"-20 to -15 minutes\",\"-15 to -10 minutes\",\"-10 to -5 minutes\",\"-5 to 0 minutes\",\"0 to 5 minutes\",\"5 to 10 minutes\",\"10 to 15 minutes\",\"15 to 20 minutes\",\"20 to 25 minutes\",\"25 to 30 minutes\",\"30 to 35 minutes\",\"35 to 40 minutes\",\"40 to 45 minutes\",\"45 to 50 minutes\",\"50 to 55 minutes\",\"55 to 60 minutes\",\"60 to 65 minutes\",\"65 to 70 minutes\",\"70 to 75 minutes\",\"75 to 80 minutes\",\"80 to 85 minutes\",\"85 to 90 minutes\",\"90 to 95 minutes\",\"95 to 100 minutes\",\"100 to 105 minutes\",\"105 to 110 minutes\",\"110 to 115 minutes\",\"115 to 120 minutes\",\"-60 to -55 minutes\",\"-55 to -50 minutes\",\"-50 to -45 minutes\",\"-45 to -40 minutes\",\"-40 to -35 minutes\",\"-35 to -30 minutes\",\"-30 to -25 minutes\",\"-25 to -20 minutes\",\"-20 to -15 minutes\",\"-15 to -10 minutes\",\"-10 to -5 minutes\",\"-5 to 0 minutes\",\"0 to 5 minutes\",\"5 to 10 minutes\",\"10 to 15 minutes\",\"15 to 20 minutes\",\"20 to 25 minutes\",\"25 to 30 minutes\",\"30 to 35 minutes\",\"35 to 40 minutes\",\"40 to 45 minutes\",\"45 to 50 minutes\",\"50 to 55 minutes\",\"55 to 60 minutes\",\"60 to 65 minutes\",\"65 to 70 minutes\",\"70 to 75 minutes\",\"75 to 80 minutes\",\"80 to 85 minutes\",\"85 to 90 minutes\",\"90 to 95 minutes\",\"95 to 100 minutes\",\"100 to 105 minutes\",\"105 to 110 minutes\",\"110 to 115 minutes\",\"115 to 120 minutes\",\"-60 to -55 minutes\",\"-55 to -50 minutes\",\"-50 to -45 minutes\",\"-45 to -40 minutes\",\"-40 to -35 minutes\",\"-35 to -30 minutes\",\"-30 to -25 minutes\",\"-25 to -20 minutes\",\"-20 to -15 minutes\",\"-15 to -10 minutes\",\"-10 to -5 minutes\",\"-5 to 0 minutes\",\"0 to 5 minutes\",\"5 to 10 minutes\",\"10 to 15 minutes\",\"15 to 20 minutes\",\"20 to 25 minutes\",\"25 to 30 minutes\",\"30 to 35 minutes\",\"35 to 40 minutes\",\"40 to 45 minutes\",\"45 to 50 minutes\",\"50 to 55 minutes\",\"55 to 60 minutes\",\"60 to 65 minutes\",\"65 to 70 minutes\",\"70 to 75 minutes\",\"75 to 80 minutes\",\"80 to 85 minutes\",\"85 to 90 minutes\",\"90 to 95 minutes\",\"95 to 100 minutes\",\"100 to 105 minutes\",\"105 to 110 minutes\",\"110 to 115 minutes\",\"115 to 120 minutes\",\"-60 to -55 minutes\",\"-55 to -50 minutes\",\"-50 to -45 minutes\",\"-45 to -40 minutes\",\"-40 to -35 minutes\",\"-35 to -30 minutes\",\"-30 to -25 minutes\",\"-25 to -20 minutes\",\"-20 to -15 minutes\",\"-15 to -10 minutes\",\"-10 to -5 minutes\",\"-5 to 0 minutes\",\"0 to 5 minutes\",\"5 to 10 minutes\",\"10 to 15 minutes\",\"15 to 20 minutes\",\"20 to 25 minutes\",\"25 to 30 minutes\",\"30 to 35 minutes\",\"35 to 40 minutes\",\"40 to 45 minutes\",\"45 to 50 minutes\",\"50 to 55 minutes\",\"55 to 60 minutes\",\"60 to 65 minutes\",\"65 to 70 minutes\",\"70 to 75 minutes\",\"75 to 80 minutes\",\"80 to 85 minutes\",\"85 to 90 minutes\",\"90 to 95 minutes\",\"95 to 100 minutes\",\"100 to 105 minutes\",\"105 to 110 minutes\",\"110 to 115 minutes\",\"115 to 120 minutes\",\"-60 to -55 minutes\",\"-55 to -50 minutes\",\"-50 to -45 minutes\",\"-45 to -40 minutes\",\"-40 to -35 minutes\",\"-35 to -30 minutes\",\"-30 to -25 minutes\",\"-25 to -20 minutes\",\"-20 to -15 minutes\",\"-15 to -10 minutes\",\"-10 to -5 minutes\",\"-5 to 0 minutes\",\"0 to 5 minutes\",\"5 to 10 minutes\",\"10 to 15 minutes\",\"15 to 20 minutes\",\"20 to 25 minutes\",\"25 to 30 minutes\",\"30 to 35 minutes\",\"35 to 40 minutes\",\"40 to 45 minutes\",\"45 to 50 minutes\",\"50 to 55 minutes\",\"55 to 60 minutes\",\"60 to 65 minutes\",\"65 to 70 minutes\",\"70 to 75 minutes\",\"75 to 80 minutes\",\"80 to 85 minutes\",\"85 to 90 minutes\",\"90 to 95 minutes\",\"95 to 100 minutes\",\"100 to 105 minutes\",\"105 to 110 minutes\",\"110 to 115 minutes\",\"115 to 120 minutes\",\"-60 to -55 minutes\",\"-55 to -50 minutes\",\"-50 to -45 minutes\",\"-45 to -40 minutes\",\"-40 to -35 minutes\",\"-35 to -30 minutes\",\"-30 to -25 minutes\",\"-25 to -20 minutes\",\"-20 to -15 minutes\",\"-15 to -10 minutes\",\"-10 to -5 minutes\",\"-5 to 0 minutes\",\"0 to 5 minutes\",\"5 to 10 minutes\",\"10 to 15 minutes\",\"15 to 20 minutes\",\"20 to 25 minutes\",\"25 to 30 minutes\",\"30 to 35 minutes\",\"35 to 40 minutes\",\"40 to 45 minutes\",\"45 to 50 minutes\",\"50 to 55 minutes\",\"55 to 60 minutes\",\"60 to 65 minutes\",\"65 to 70 minutes\",\"70 to 75 minutes\",\"75 to 80 minutes\",\"80 to 85 minutes\",\"85 to 90 minutes\",\"90 to 95 minutes\",\"95 to 100 minutes\",\"100 to 105 minutes\",\"105 to 110 minutes\",\"110 to 115 minutes\",\"115 to 120 minutes\",\"-60 to -55 minutes\",\"-55 to -50 minutes\",\"-50 to -45 minutes\",\"-45 to -40 minutes\",\"-40 to -35 minutes\",\"-35 to -30 minutes\",\"-30 to -25 minutes\",\"-25 to -20 minutes\",\"-20 to -15 minutes\",\"-15 to -10 minutes\",\"-10 to -5 minutes\",\"-5 to 0 minutes\",\"0 to 5 minutes\",\"5 to 10 minutes\",\"10 to 15 minutes\",\"15 to 20 minutes\",\"20 to 25 minutes\",\"25 to 30 minutes\",\"30 to 35 minutes\",\"35 to 40 minutes\",\"40 to 45 minutes\",\"45 to 50 minutes\",\"50 to 55 minutes\",\"55 to 60 minutes\",\"60 to 65 minutes\",\"65 to 70 minutes\",\"70 to 75 minutes\",\"75 to 80 minutes\",\"80 to 85 minutes\",\"85 to 90 minutes\",\"90 to 95 minutes\",\"95 to 100 minutes\",\"100 to 105 minutes\",\"105 to 110 minutes\",\"110 to 115 minutes\",\"115 to 120 minutes\",\"-60 to -55 minutes\",\"-55 to -50 minutes\",\"-50 to -45 minutes\",\"-45 to -40 minutes\",\"-40 to -35 minutes\",\"-35 to -30 minutes\",\"-30 to -25 minutes\",\"-25 to -20 minutes\",\"-20 to -15 minutes\",\"-15 to -10 minutes\",\"-10 to -5 minutes\",\"-5 to 0 minutes\",\"0 to 5 minutes\",\"5 to 10 minutes\",\"10 to 15 minutes\",\"15 to 20 minutes\",\"20 to 25 minutes\",\"25 to 30 minutes\",\"30 to 35 minutes\",\"35 to 40 minutes\",\"40 to 45 minutes\",\"45 to 50 minutes\",\"50 to 55 minutes\",\"55 to 60 minutes\",\"60 to 65 minutes\",\"65 to 70 minutes\",\"70 to 75 minutes\",\"75 to 80 minutes\",\"80 to 85 minutes\",\"85 to 90 minutes\",\"90 to 95 minutes\",\"95 to 100 minutes\",\"100 to 105 minutes\",\"105 to 110 minutes\",\"110 to 115 minutes\",\"115 to 120 minutes\",\"-60 to -55 minutes\",\"-55 to -50 minutes\",\"-50 to -45 minutes\",\"-45 to -40 minutes\",\"-40 to -35 minutes\",\"-35 to -30 minutes\",\"-30 to -25 minutes\",\"-25 to -20 minutes\",\"-20 to -15 minutes\",\"-15 to -10 minutes\",\"-10 to -5 minutes\",\"-5 to 0 minutes\",\"0 to 5 minutes\",\"5 to 10 minutes\",\"10 to 15 minutes\",\"15 to 20 minutes\",\"20 to 25 minutes\",\"25 to 30 minutes\",\"30 to 35 minutes\",\"35 to 40 minutes\",\"40 to 45 minutes\",\"45 to 50 minutes\",\"50 to 55 minutes\",\"55 to 60 minutes\",\"60 to 65 minutes\",\"65 to 70 minutes\",\"70 to 75 minutes\",\"75 to 80 minutes\",\"80 to 85 minutes\",\"85 to 90 minutes\",\"90 to 95 minutes\",\"95 to 100 minutes\",\"100 to 105 minutes\",\"105 to 110 minutes\",\"110 to 115 minutes\",\"115 to 120 minutes\",\"-60 to -55 minutes\",\"-55 to -50 minutes\",\"-50 to -45 minutes\",\"-45 to -40 minutes\",\"-40 to -35 minutes\",\"-35 to -30 minutes\",\"-30 to -25 minutes\",\"-25 to -20 minutes\",\"-20 to -15 minutes\",\"-15 to -10 minutes\",\"-10 to -5 minutes\",\"-5 to 0 minutes\",\"0 to 5 minutes\",\"5 to 10 minutes\",\"10 to 15 minutes\",\"15 to 20 minutes\",\"20 to 25 minutes\",\"25 to 30 minutes\",\"30 to 35 minutes\",\"35 to 40 minutes\",\"40 to 45 minutes\",\"45 to 50 minutes\",\"50 to 55 minutes\",\"55 to 60 minutes\",\"60 to 65 minutes\",\"65 to 70 minutes\",\"70 to 75 minutes\",\"75 to 80 minutes\",\"80 to 85 minutes\",\"85 to 90 minutes\",\"90 to 95 minutes\",\"95 to 100 minutes\",\"100 to 105 minutes\",\"105 to 110 minutes\",\"110 to 115 minutes\",\"115 to 120 minutes\",\"-60 to -55 minutes\",\"-55 to -50 minutes\",\"-50 to -45 minutes\",\"-45 to -40 minutes\",\"-40 to -35 minutes\",\"-35 to -30 minutes\",\"-30 to -25 minutes\",\"-25 to -20 minutes\",\"-20 to -15 minutes\",\"-15 to -10 minutes\",\"-10 to -5 minutes\",\"-5 to 0 minutes\",\"0 to 5 minutes\",\"5 to 10 minutes\",\"10 to 15 minutes\",\"15 to 20 minutes\",\"20 to 25 minutes\",\"25 to 30 minutes\",\"30 to 35 minutes\",\"35 to 40 minutes\",\"40 to 45 minutes\",\"45 to 50 minutes\",\"50 to 55 minutes\",\"55 to 60 minutes\",\"60 to 65 minutes\",\"65 to 70 minutes\",\"70 to 75 minutes\",\"75 to 80 minutes\",\"80 to 85 minutes\",\"85 to 90 minutes\",\"90 to 95 minutes\",\"95 to 100 minutes\",\"100 to 105 minutes\",\"105 to 110 minutes\",\"110 to 115 minutes\",\"115 to 120 minutes\",\"-60 to -55 minutes\",\"-55 to -50 minutes\",\"-50 to -45 minutes\",\"-45 to -40 minutes\",\"-40 to -35 minutes\",\"-35 to -30 minutes\",\"-30 to -25 minutes\",\"-25 to -20 minutes\",\"-20 to -15 minutes\",\"-15 to -10 minutes\",\"-10 to -5 minutes\",\"-5 to 0 minutes\",\"0 to 5 minutes\",\"5 to 10 minutes\",\"10 to 15 minutes\",\"15 to 20 minutes\",\"20 to 25 minutes\",\"25 to 30 minutes\",\"30 to 35 minutes\",\"35 to 40 minutes\",\"40 to 45 minutes\",\"45 to 50 minutes\",\"50 to 55 minutes\",\"55 to 60 minutes\",\"60 to 65 minutes\",\"65 to 70 minutes\",\"70 to 75 minutes\",\"75 to 80 minutes\",\"80 to 85 minutes\",\"85 to 90 minutes\",\"90 to 95 minutes\",\"95 to 100 minutes\",\"100 to 105 minutes\",\"105 to 110 minutes\",\"110 to 115 minutes\",\"115 to 120 minutes\",\"-60 to -55 minutes\",\"-55 to -50 minutes\",\"-50 to -45 minutes\",\"-45 to -40 minutes\",\"-40 to -35 minutes\",\"-35 to -30 minutes\",\"-30 to -25 minutes\",\"-25 to -20 minutes\",\"-20 to -15 minutes\",\"-15 to -10 minutes\",\"-10 to -5 minutes\",\"-5 to 0 minutes\",\"0 to 5 minutes\",\"5 to 10 minutes\",\"10 to 15 minutes\",\"15 to 20 minutes\",\"20 to 25 minutes\",\"25 to 30 minutes\",\"30 to 35 minutes\",\"35 to 40 minutes\",\"40 to 45 minutes\",\"45 to 50 minutes\",\"50 to 55 minutes\",\"55 to 60 minutes\",\"60 to 65 minutes\",\"65 to 70 minutes\",\"70 to 75 minutes\",\"75 to 80 minutes\",\"80 to 85 minutes\",\"85 to 90 minutes\",\"90 to 95 minutes\",\"95 to 100 minutes\",\"100 to 105 minutes\",\"105 to 110 minutes\",\"110 to 115 minutes\",\"115 to 120 minutes\",\"-60 to -55 minutes\",\"-55 to -50 minutes\",\"-50 to -45 minutes\",\"-45 to -40 minutes\",\"-40 to -35 minutes\",\"-35 to -30 minutes\",\"-30 to -25 minutes\",\"-25 to -20 minutes\",\"-20 to -15 minutes\",\"-15 to -10 minutes\",\"-10 to -5 minutes\",\"-5 to 0 minutes\",\"0 to 5 minutes\",\"5 to 10 minutes\",\"10 to 15 minutes\",\"15 to 20 minutes\",\"20 to 25 minutes\",\"25 to 30 minutes\",\"30 to 35 minutes\",\"35 to 40 minutes\",\"40 to 45 minutes\",\"45 to 50 minutes\",\"50 to 55 minutes\",\"55 to 60 minutes\",\"60 to 65 minutes\",\"65 to 70 minutes\",\"70 to 75 minutes\",\"75 to 80 minutes\",\"80 to 85 minutes\",\"85 to 90 minutes\",\"90 to 95 minutes\",\"95 to 100 minutes\",\"100 to 105 minutes\",\"105 to 110 minutes\",\"110 to 115 minutes\",\"115 to 120 minutes\",\"-60 to -55 minutes\",\"-55 to -50 minutes\",\"-50 to -45 minutes\",\"-45 to -40 minutes\",\"-40 to -35 minutes\",\"-35 to -30 minutes\",\"-30 to -25 minutes\",\"-25 to -20 minutes\",\"-20 to -15 minutes\",\"-15 to -10 minutes\",\"-10 to -5 minutes\",\"-5 to 0 minutes\",\"0 to 5 minutes\",\"5 to 10 minutes\",\"10 to 15 minutes\",\"15 to 20 minutes\",\"20 to 25 minutes\",\"25 to 30 minutes\",\"30 to 35 minutes\",\"35 to 40 minutes\",\"40 to 45 minutes\",\"45 to 50 minutes\",\"50 to 55 minutes\",\"55 to 60 minutes\",\"60 to 65 minutes\",\"65 to 70 minutes\",\"70 to 75 minutes\",\"75 to 80 minutes\",\"80 to 85 minutes\",\"85 to 90 minutes\",\"90 to 95 minutes\",\"95 to 100 minutes\",\"100 to 105 minutes\",\"105 to 110 minutes\",\"110 to 115 minutes\",\"115 to 120 minutes\",\"-60 to -55 minutes\",\"-55 to -50 minutes\",\"-50 to -45 minutes\",\"-45 to -40 minutes\",\"-40 to -35 minutes\",\"-35 to -30 minutes\",\"-30 to -25 minutes\",\"-25 to -20 minutes\",\"-20 to -15 minutes\",\"-15 to -10 minutes\",\"-10 to -5 minutes\",\"-5 to 0 minutes\",\"0 to 5 minutes\",\"5 to 10 minutes\",\"10 to 15 minutes\",\"15 to 20 minutes\",\"20 to 25 minutes\",\"25 to 30 minutes\",\"30 to 35 minutes\",\"35 to 40 minutes\",\"40 to 45 minutes\",\"45 to 50 minutes\",\"50 to 55 minutes\",\"55 to 60 minutes\",\"60 to 65 minutes\",\"65 to 70 minutes\",\"70 to 75 minutes\",\"75 to 80 minutes\",\"80 to 85 minutes\",\"85 to 90 minutes\",\"90 to 95 minutes\",\"95 to 100 minutes\",\"100 to 105 minutes\",\"105 to 110 minutes\",\"110 to 115 minutes\",\"115 to 120 minutes\"],\"f_proportion\":[\"0.00000\",\"0.00000\",\"0.00000\",\"0.00166\",\"0.00166\",\"0.00497\",\"0.01589\",\"0.03178\",\"0.05627\",\"0.08375\",\"0.09732\",\"0.10758\",\"0.11255\",\"0.09004\",\"0.08342\",\"0.05727\",\"0.04535\",\"0.03443\",\"0.02582\",\"0.01986\",\"0.01887\",\"0.01423\",\"0.01291\",\"0.01390\",\"0.00828\",\"0.00794\",\"0.00794\",\"0.00761\",\"0.00629\",\"0.00497\",\"0.00761\",\"0.00265\",\"0.00397\",\"0.00331\",\"0.00463\",\"0.00530\",\"0.00581\",\"0.02467\",\"0.03338\",\"0.05806\",\"0.07112\",\"0.07837\",\"0.08563\",\"0.09434\",\"0.08418\",\"0.08128\",\"0.07112\",\"0.04209\",\"0.05515\",\"0.03483\",\"0.04499\",\"0.02612\",\"0.01597\",\"0.01306\",\"0.01161\",\"0.00871\",\"0.01016\",\"0.01016\",\"0.00290\",\"0.00435\",\"0.00290\",\"0.00435\",\"0.00000\",\"0.00145\",\"0.00000\",\"0.00435\",\"0.00581\",\"0.00145\",\"0.00435\",\"0.00145\",\"0.00145\",\"0.00435\",\"0.00167\",\"0.00388\",\"0.00904\",\"0.01859\",\"0.03254\",\"0.04933\",\"0.06741\",\"0.09254\",\"0.10594\",\"0.10738\",\"0.09495\",\"0.08177\",\"0.06590\",\"0.05321\",\"0.04036\",\"0.02898\",\"0.02353\",\"0.02048\",\"0.01458\",\"0.01151\",\"0.00984\",\"0.00801\",\"0.00747\",\"0.00660\",\"0.00609\",\"0.00539\",\"0.00458\",\"0.00452\",\"0.00369\",\"0.00324\",\"0.00282\",\"0.00346\",\"0.00279\",\"0.00301\",\"0.00260\",\"0.00231\",\"0.00138\",\"0.00303\",\"0.00620\",\"0.01203\",\"0.02333\",\"0.04048\",\"0.06312\",\"0.08849\",\"0.10782\",\"0.11221\",\"0.10754\",\"0.08892\",\"0.07504\",\"0.05688\",\"0.04362\",\"0.03245\",\"0.02311\",\"0.01691\",\"0.01448\",\"0.01141\",\"0.00932\",\"0.00884\",\"0.00704\",\"0.00686\",\"0.00495\",\"0.00504\",\"0.00441\",\"0.00377\",\"0.00340\",\"0.00329\",\"0.00321\",\"0.00275\",\"0.00260\",\"0.00230\",\"0.00174\",\"0.00202\",\"0.00072\",\"0.00290\",\"0.00748\",\"0.01520\",\"0.02889\",\"0.04928\",\"0.06919\",\"0.09308\",\"0.09935\",\"0.09778\",\"0.09127\",\"0.07359\",\"0.06298\",\"0.04735\",\"0.03698\",\"0.03064\",\"0.02570\",\"0.01942\",\"0.01882\",\"0.01502\",\"0.01448\",\"0.01194\",\"0.00941\",\"0.00923\",\"0.00814\",\"0.00742\",\"0.00766\",\"0.00651\",\"0.00633\",\"0.00645\",\"0.00591\",\"0.00428\",\"0.00404\",\"0.00416\",\"0.00362\",\"0.00477\",\"0.00000\",\"0.00004\",\"0.00021\",\"0.00123\",\"0.00448\",\"0.01299\",\"0.03165\",\"0.05895\",\"0.08780\",\"0.10955\",\"0.11395\",\"0.10762\",\"0.08678\",\"0.06881\",\"0.05796\",\"0.04263\",\"0.03161\",\"0.02618\",\"0.02096\",\"0.01907\",\"0.01418\",\"0.01307\",\"0.01143\",\"0.01056\",\"0.01032\",\"0.00797\",\"0.00777\",\"0.00633\",\"0.00617\",\"0.00534\",\"0.00534\",\"0.00485\",\"0.00428\",\"0.00288\",\"0.00341\",\"0.00362\",\"0.00008\",\"0.00031\",\"0.00095\",\"0.00251\",\"0.00814\",\"0.01653\",\"0.03713\",\"0.06289\",\"0.09379\",\"0.10641\",\"0.10742\",\"0.09467\",\"0.07582\",\"0.05966\",\"0.04720\",\"0.03625\",\"0.03051\",\"0.02543\",\"0.02292\",\"0.01935\",\"0.01696\",\"0.01581\",\"0.01511\",\"0.01262\",\"0.01190\",\"0.01024\",\"0.00999\",\"0.00909\",\"0.00835\",\"0.00736\",\"0.00654\",\"0.00662\",\"0.00615\",\"0.00495\",\"0.00530\",\"0.00504\",\"0.00000\",\"0.00000\",\"0.00156\",\"0.00000\",\"0.00313\",\"0.00939\",\"0.02660\",\"0.07199\",\"0.05790\",\"0.06886\",\"0.09233\",\"0.09233\",\"0.09233\",\"0.07042\",\"0.06573\",\"0.05790\",\"0.05477\",\"0.02973\",\"0.03599\",\"0.03130\",\"0.02973\",\"0.01252\",\"0.01408\",\"0.01095\",\"0.00626\",\"0.00939\",\"0.00939\",\"0.00782\",\"0.00782\",\"0.00469\",\"0.00469\",\"0.00626\",\"0.00939\",\"0.00156\",\"0.00156\",\"0.00156\",\"0.03012\",\"0.01807\",\"0.00904\",\"0.04518\",\"0.03614\",\"0.06928\",\"0.08133\",\"0.07229\",\"0.09337\",\"0.08133\",\"0.09337\",\"0.08133\",\"0.06928\",\"0.03916\",\"0.06325\",\"0.02711\",\"0.03012\",\"0.01506\",\"0.01205\",\"0.01506\",\"0.00301\",\"0.00000\",\"0.00301\",\"0.00301\",\"0.00000\",\"0.00301\",\"0.00000\",\"0.00000\",\"0.00602\",\"0.00000\",\"0.00000\",\"0.00000\",\"0.00000\",\"0.00000\",\"0.00000\",\"0.00000\",\"0.00061\",\"0.00109\",\"0.00233\",\"0.00484\",\"0.00878\",\"0.01881\",\"0.03574\",\"0.06251\",\"0.09694\",\"0.11728\",\"0.11470\",\"0.10064\",\"0.08024\",\"0.06199\",\"0.04848\",\"0.03895\",\"0.03078\",\"0.02447\",\"0.02062\",\"0.01797\",\"0.01534\",\"0.01328\",\"0.01058\",\"0.00981\",\"0.00888\",\"0.00767\",\"0.00635\",\"0.00633\",\"0.00578\",\"0.00496\",\"0.00442\",\"0.00440\",\"0.00402\",\"0.00339\",\"0.00335\",\"0.00365\",\"0.00000\",\"0.00000\",\"0.00390\",\"0.00585\",\"0.00585\",\"0.03509\",\"0.04094\",\"0.07797\",\"0.11696\",\"0.12281\",\"0.07992\",\"0.05653\",\"0.06238\",\"0.05653\",\"0.04678\",\"0.04483\",\"0.03899\",\"0.01949\",\"0.00975\",\"0.01559\",\"0.01365\",\"0.01754\",\"0.01559\",\"0.02534\",\"0.01559\",\"0.01170\",\"0.00780\",\"0.01170\",\"0.00585\",\"0.00390\",\"0.00585\",\"0.00975\",\"0.00780\",\"0.00585\",\"0.00195\",\"0.00000\",\"0.00000\",\"0.00000\",\"0.00000\",\"0.00000\",\"0.00000\",\"0.00000\",\"0.03704\",\"0.11111\",\"0.14815\",\"0.11111\",\"0.22222\",\"0.07407\",\"0.07407\",\"0.03704\",\"0.00000\",\"0.00000\",\"0.00000\",\"0.03704\",\"0.00000\",\"0.00000\",\"0.00000\",\"0.07407\",\"0.00000\",\"0.00000\",\"0.00000\",\"0.03704\",\"0.00000\",\"0.00000\",\"0.00000\",\"0.00000\",\"0.00000\",\"0.00000\",\"0.00000\",\"0.03704\",\"0.00000\",\"0.00000\",\"0.00035\",\"0.00104\",\"0.00242\",\"0.00570\",\"0.01303\",\"0.02399\",\"0.04384\",\"0.06653\",\"0.09225\",\"0.10459\",\"0.10701\",\"0.10131\",\"0.08612\",\"0.07171\",\"0.05247\",\"0.04211\",\"0.03020\",\"0.02373\",\"0.02011\",\"0.01467\",\"0.01441\",\"0.01001\",\"0.00889\",\"0.00897\",\"0.00725\",\"0.00570\",\"0.00690\",\"0.00492\",\"0.00440\",\"0.00362\",\"0.00440\",\"0.00371\",\"0.00397\",\"0.00414\",\"0.00250\",\"0.00302\",\"0.00031\",\"0.00102\",\"0.00138\",\"0.00302\",\"0.00660\",\"0.01525\",\"0.03643\",\"0.06988\",\"0.11219\",\"0.13378\",\"0.13025\",\"0.10943\",\"0.08866\",\"0.06784\",\"0.04737\",\"0.03489\",\"0.02655\",\"0.02087\",\"0.01647\",\"0.01202\",\"0.01049\",\"0.00834\",\"0.00691\",\"0.00506\",\"0.00593\",\"0.00460\",\"0.00358\",\"0.00307\",\"0.00343\",\"0.00292\",\"0.00230\",\"0.00215\",\"0.00174\",\"0.00164\",\"0.00179\",\"0.00184\",\"0.00124\",\"0.00287\",\"0.00657\",\"0.01256\",\"0.02261\",\"0.03785\",\"0.05610\",\"0.07791\",\"0.09768\",\"0.10618\",\"0.09975\",\"0.09228\",\"0.07452\",\"0.05861\",\"0.04672\",\"0.03568\",\"0.02713\",\"0.02365\",\"0.01836\",\"0.01517\",\"0.01205\",\"0.01086\",\"0.00912\",\"0.00761\",\"0.00609\",\"0.00614\",\"0.00518\",\"0.00497\",\"0.00436\",\"0.00371\",\"0.00355\",\"0.00330\",\"0.00289\",\"0.00248\",\"0.00206\",\"0.00218\",\"0.00366\",\"0.00732\",\"0.01484\",\"0.02602\",\"0.03496\",\"0.05183\",\"0.07500\",\"0.08984\",\"0.09451\",\"0.09024\",\"0.08902\",\"0.08435\",\"0.07846\",\"0.05691\",\"0.04431\",\"0.02581\",\"0.02195\",\"0.01931\",\"0.01159\",\"0.01118\",\"0.00732\",\"0.00610\",\"0.00935\",\"0.00447\",\"0.00488\",\"0.00366\",\"0.00305\",\"0.00447\",\"0.00346\",\"0.00305\",\"0.00346\",\"0.00407\",\"0.00224\",\"0.00386\",\"0.00203\",\"0.00346\"],\"index\":[0,1,2,3,4,5,6,7,8,9,10,11,12,13,14,15,16,17,18,19,20,21,22,23,24,25,26,27,28,29,30,31,32,33,34,35,0,1,2,3,4,5,6,7,8,9,10,11,12,13,14,15,16,17,18,19,20,21,22,23,24,25,26,27,28,29,30,31,32,33,34,35,0,1,2,3,4,5,6,7,8,9,10,11,12,13,14,15,16,17,18,19,20,21,22,23,24,25,26,27,28,29,30,31,32,33,34,35,0,1,2,3,4,5,6,7,8,9,10,11,12,13,14,15,16,17,18,19,20,21,22,23,24,25,26,27,28,29,30,31,32,33,34,35,0,1,2,3,4,5,6,7,8,9,10,11,12,13,14,15,16,17,18,19,20,21,22,23,24,25,26,27,28,29,30,31,32,33,34,35,0,1,2,3,4,5,6,7,8,9,10,11,12,13,14,15,16,17,18,19,20,21,22,23,24,25,26,27,28,29,30,31,32,33,34,35,0,1,2,3,4,5,6,7,8,9,10,11,12,13,14,15,16,17,18,19,20,21,22,23,24,25,26,27,28,29,30,31,32,33,34,35,0,1,2,3,4,5,6,7,8,9,10,11,12,13,14,15,16,17,18,19,20,21,22,23,24,25,26,27,28,29,30,31,32,33,34,35,0,1,2,3,4,5,6,7,8,9,10,11,12,13,14,15,16,17,18,19,20,21,22,23,24,25,26,27,28,29,30,31,32,33,34,35,0,1,2,3,4,5,6,7,8,9,10,11,12,13,14,15,16,17,18,19,20,21,22,23,24,25,26,27,28,29,30,31,32,33,34,35,0,1,2,3,4,5,6,7,8,9,10,11,12,13,14,15,16,17,18,19,20,21,22,23,24,25,26,27,28,29,30,31,32,33,34,35,0,1,2,3,4,5,6,7,8,9,10,11,12,13,14,15,16,17,18,19,20,21,22,23,24,25,26,27,28,29,30,31,32,33,34,35,0,1,2,3,4,5,6,7,8,9,10,11,12,13,14,15,16,17,18,19,20,21,22,23,24,25,26,27,28,29,30,31,32,33,34,35,0,1,2,3,4,5,6,7,8,9,10,11,12,13,14,15,16,17,18,19,20,21,22,23,24,25,26,27,28,29,30,31,32,33,34,35,0,1,2,3,4,5,6,7,8,9,10,11,12,13,14,15,16,17,18,19,20,21,22,23,24,25,26,27,28,29,30,31,32,33,34,35,0,1,2,3,4,5,6,7,8,9,10,11,12,13,14,15,16,17,18,19,20,21,22,23,24,25,26,27,28,29,30,31,32,33,34,35],\"left\":{\"__ndarray__\":\"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\",\"dtype\":\"float64\",\"shape\":[576]},\"name\":[\"AirTran Airways Corporation\",\"AirTran Airways Corporation\",\"AirTran Airways Corporation\",\"AirTran Airways Corporation\",\"AirTran Airways Corporation\",\"AirTran Airways Corporation\",\"AirTran Airways Corporation\",\"AirTran Airways Corporation\",\"AirTran Airways Corporation\",\"AirTran Airways Corporation\",\"AirTran Airways Corporation\",\"AirTran Airways Corporation\",\"AirTran Airways Corporation\",\"AirTran Airways Corporation\",\"AirTran Airways Corporation\",\"AirTran Airways Corporation\",\"AirTran Airways Corporation\",\"AirTran Airways Corporation\",\"AirTran Airways Corporation\",\"AirTran Airways Corporation\",\"AirTran Airways Corporation\",\"AirTran Airways Corporation\",\"AirTran Airways Corporation\",\"AirTran Airways Corporation\",\"AirTran Airways Corporation\",\"AirTran Airways Corporation\",\"AirTran Airways Corporation\",\"AirTran Airways Corporation\",\"AirTran Airways Corporation\",\"AirTran Airways Corporation\",\"AirTran Airways Corporation\",\"AirTran Airways Corporation\",\"AirTran Airways Corporation\",\"AirTran Airways Corporation\",\"AirTran Airways Corporation\",\"AirTran Airways Corporation\",\"Alaska Airlines Inc.\",\"Alaska Airlines Inc.\",\"Alaska Airlines Inc.\",\"Alaska Airlines Inc.\",\"Alaska Airlines Inc.\",\"Alaska Airlines Inc.\",\"Alaska Airlines Inc.\",\"Alaska Airlines Inc.\",\"Alaska Airlines Inc.\",\"Alaska Airlines Inc.\",\"Alaska Airlines Inc.\",\"Alaska Airlines Inc.\",\"Alaska Airlines Inc.\",\"Alaska Airlines Inc.\",\"Alaska Airlines Inc.\",\"Alaska Airlines Inc.\",\"Alaska Airlines Inc.\",\"Alaska Airlines Inc.\",\"Alaska Airlines Inc.\",\"Alaska Airlines Inc.\",\"Alaska Airlines Inc.\",\"Alaska Airlines Inc.\",\"Alaska Airlines Inc.\",\"Alaska Airlines Inc.\",\"Alaska Airlines Inc.\",\"Alaska Airlines Inc.\",\"Alaska Airlines Inc.\",\"Alaska Airlines Inc.\",\"Alaska Airlines Inc.\",\"Alaska Airlines Inc.\",\"Alaska Airlines Inc.\",\"Alaska Airlines Inc.\",\"Alaska Airlines Inc.\",\"Alaska Airlines Inc.\",\"Alaska Airlines Inc.\",\"Alaska Airlines Inc.\",\"American Airlines Inc.\",\"American Airlines Inc.\",\"American Airlines Inc.\",\"American Airlines Inc.\",\"American Airlines Inc.\",\"American Airlines Inc.\",\"American Airlines Inc.\",\"American Airlines Inc.\",\"American Airlines Inc.\",\"American Airlines Inc.\",\"American Airlines Inc.\",\"American Airlines Inc.\",\"American Airlines Inc.\",\"American Airlines Inc.\",\"American Airlines Inc.\",\"American Airlines Inc.\",\"American Airlines Inc.\",\"American Airlines Inc.\",\"American Airlines Inc.\",\"American Airlines Inc.\",\"American Airlines Inc.\",\"American Airlines Inc.\",\"American Airlines Inc.\",\"American Airlines Inc.\",\"American Airlines Inc.\",\"American Airlines Inc.\",\"American Airlines Inc.\",\"American Airlines Inc.\",\"American Airlines Inc.\",\"American Airlines Inc.\",\"American Airlines Inc.\",\"American Airlines Inc.\",\"American Airlines Inc.\",\"American Airlines Inc.\",\"American Airlines Inc.\",\"American Airlines Inc.\",\"Delta Air Lines Inc.\",\"Delta Air Lines Inc.\",\"Delta Air Lines Inc.\",\"Delta Air Lines Inc.\",\"Delta Air Lines Inc.\",\"Delta Air Lines Inc.\",\"Delta Air Lines Inc.\",\"Delta Air Lines Inc.\",\"Delta Air Lines Inc.\",\"Delta Air Lines Inc.\",\"Delta Air Lines Inc.\",\"Delta Air Lines Inc.\",\"Delta Air Lines Inc.\",\"Delta Air Lines Inc.\",\"Delta Air Lines Inc.\",\"Delta Air Lines Inc.\",\"Delta Air Lines Inc.\",\"Delta Air Lines Inc.\",\"Delta Air Lines Inc.\",\"Delta Air Lines Inc.\",\"Delta Air Lines Inc.\",\"Delta Air Lines Inc.\",\"Delta Air Lines Inc.\",\"Delta Air Lines Inc.\",\"Delta Air Lines Inc.\",\"Delta Air Lines Inc.\",\"Delta Air Lines Inc.\",\"Delta Air Lines Inc.\",\"Delta Air Lines Inc.\",\"Delta Air Lines Inc.\",\"Delta Air Lines Inc.\",\"Delta Air Lines Inc.\",\"Delta Air Lines Inc.\",\"Delta Air Lines Inc.\",\"Delta Air Lines Inc.\",\"Delta Air Lines Inc.\",\"Endeavor Air Inc.\",\"Endeavor Air Inc.\",\"Endeavor Air Inc.\",\"Endeavor Air Inc.\",\"Endeavor Air Inc.\",\"Endeavor Air Inc.\",\"Endeavor Air Inc.\",\"Endeavor Air Inc.\",\"Endeavor Air Inc.\",\"Endeavor Air Inc.\",\"Endeavor Air Inc.\",\"Endeavor Air Inc.\",\"Endeavor Air Inc.\",\"Endeavor Air Inc.\",\"Endeavor Air Inc.\",\"Endeavor Air Inc.\",\"Endeavor Air Inc.\",\"Endeavor Air Inc.\",\"Endeavor Air Inc.\",\"Endeavor Air Inc.\",\"Endeavor Air Inc.\",\"Endeavor Air Inc.\",\"Endeavor Air Inc.\",\"Endeavor Air Inc.\",\"Endeavor Air Inc.\",\"Endeavor Air Inc.\",\"Endeavor Air Inc.\",\"Endeavor Air Inc.\",\"Endeavor Air Inc.\",\"Endeavor Air Inc.\",\"Endeavor Air Inc.\",\"Endeavor Air Inc.\",\"Endeavor Air Inc.\",\"Endeavor Air Inc.\",\"Endeavor Air Inc.\",\"Endeavor Air Inc.\",\"Envoy Air\",\"Envoy Air\",\"Envoy Air\",\"Envoy Air\",\"Envoy Air\",\"Envoy Air\",\"Envoy Air\",\"Envoy Air\",\"Envoy Air\",\"Envoy Air\",\"Envoy Air\",\"Envoy Air\",\"Envoy Air\",\"Envoy Air\",\"Envoy Air\",\"Envoy Air\",\"Envoy Air\",\"Envoy Air\",\"Envoy Air\",\"Envoy Air\",\"Envoy Air\",\"Envoy Air\",\"Envoy Air\",\"Envoy Air\",\"Envoy Air\",\"Envoy Air\",\"Envoy Air\",\"Envoy Air\",\"Envoy Air\",\"Envoy Air\",\"Envoy Air\",\"Envoy Air\",\"Envoy Air\",\"Envoy Air\",\"Envoy Air\",\"Envoy Air\",\"ExpressJet Airlines Inc.\",\"ExpressJet Airlines Inc.\",\"ExpressJet Airlines Inc.\",\"ExpressJet Airlines Inc.\",\"ExpressJet Airlines Inc.\",\"ExpressJet Airlines Inc.\",\"ExpressJet Airlines Inc.\",\"ExpressJet Airlines Inc.\",\"ExpressJet Airlines Inc.\",\"ExpressJet Airlines Inc.\",\"ExpressJet Airlines Inc.\",\"ExpressJet Airlines Inc.\",\"ExpressJet Airlines Inc.\",\"ExpressJet Airlines Inc.\",\"ExpressJet Airlines Inc.\",\"ExpressJet Airlines Inc.\",\"ExpressJet Airlines Inc.\",\"ExpressJet Airlines Inc.\",\"ExpressJet Airlines Inc.\",\"ExpressJet Airlines Inc.\",\"ExpressJet Airlines Inc.\",\"ExpressJet Airlines Inc.\",\"ExpressJet Airlines Inc.\",\"ExpressJet Airlines Inc.\",\"ExpressJet Airlines Inc.\",\"ExpressJet Airlines Inc.\",\"ExpressJet Airlines Inc.\",\"ExpressJet Airlines Inc.\",\"ExpressJet Airlines Inc.\",\"ExpressJet Airlines Inc.\",\"ExpressJet Airlines Inc.\",\"ExpressJet Airlines Inc.\",\"ExpressJet Airlines Inc.\",\"ExpressJet Airlines Inc.\",\"ExpressJet Airlines Inc.\",\"ExpressJet Airlines Inc.\",\"Frontier Airlines Inc.\",\"Frontier Airlines Inc.\",\"Frontier Airlines Inc.\",\"Frontier Airlines Inc.\",\"Frontier Airlines Inc.\",\"Frontier Airlines Inc.\",\"Frontier Airlines Inc.\",\"Frontier Airlines Inc.\",\"Frontier Airlines Inc.\",\"Frontier Airlines Inc.\",\"Frontier Airlines Inc.\",\"Frontier Airlines Inc.\",\"Frontier Airlines Inc.\",\"Frontier Airlines Inc.\",\"Frontier Airlines Inc.\",\"Frontier Airlines Inc.\",\"Frontier Airlines Inc.\",\"Frontier Airlines Inc.\",\"Frontier Airlines Inc.\",\"Frontier Airlines Inc.\",\"Frontier Airlines Inc.\",\"Frontier Airlines Inc.\",\"Frontier Airlines Inc.\",\"Frontier Airlines Inc.\",\"Frontier Airlines Inc.\",\"Frontier Airlines Inc.\",\"Frontier Airlines Inc.\",\"Frontier Airlines Inc.\",\"Frontier Airlines Inc.\",\"Frontier Airlines Inc.\",\"Frontier Airlines Inc.\",\"Frontier Airlines Inc.\",\"Frontier Airlines Inc.\",\"Frontier Airlines Inc.\",\"Frontier Airlines Inc.\",\"Frontier Airlines Inc.\",\"Hawaiian Airlines Inc.\",\"Hawaiian Airlines Inc.\",\"Hawaiian Airlines Inc.\",\"Hawaiian Airlines Inc.\",\"Hawaiian Airlines Inc.\",\"Hawaiian Airlines Inc.\",\"Hawaiian Airlines Inc.\",\"Hawaiian Airlines Inc.\",\"Hawaiian Airlines Inc.\",\"Hawaiian Airlines Inc.\",\"Hawaiian Airlines Inc.\",\"Hawaiian Airlines Inc.\",\"Hawaiian Airlines Inc.\",\"Hawaiian Airlines Inc.\",\"Hawaiian Airlines Inc.\",\"Hawaiian Airlines Inc.\",\"Hawaiian Airlines Inc.\",\"Hawaiian Airlines Inc.\",\"Hawaiian Airlines Inc.\",\"Hawaiian Airlines Inc.\",\"Hawaiian Airlines Inc.\",\"Hawaiian Airlines Inc.\",\"Hawaiian Airlines Inc.\",\"Hawaiian Airlines Inc.\",\"Hawaiian Airlines Inc.\",\"Hawaiian Airlines Inc.\",\"Hawaiian Airlines Inc.\",\"Hawaiian Airlines Inc.\",\"Hawaiian Airlines Inc.\",\"Hawaiian Airlines Inc.\",\"Hawaiian Airlines Inc.\",\"Hawaiian Airlines Inc.\",\"Hawaiian Airlines Inc.\",\"Hawaiian Airlines Inc.\",\"Hawaiian Airlines Inc.\",\"Hawaiian Airlines Inc.\",\"JetBlue Airways\",\"JetBlue Airways\",\"JetBlue Airways\",\"JetBlue Airways\",\"JetBlue Airways\",\"JetBlue Airways\",\"JetBlue Airways\",\"JetBlue Airways\",\"JetBlue Airways\",\"JetBlue Airways\",\"JetBlue Airways\",\"JetBlue Airways\",\"JetBlue Airways\",\"JetBlue Airways\",\"JetBlue Airways\",\"JetBlue Airways\",\"JetBlue Airways\",\"JetBlue Airways\",\"JetBlue Airways\",\"JetBlue Airways\",\"JetBlue Airways\",\"JetBlue Airways\",\"JetBlue Airways\",\"JetBlue Airways\",\"JetBlue Airways\",\"JetBlue Airways\",\"JetBlue Airways\",\"JetBlue Airways\",\"JetBlue Airways\",\"JetBlue Airways\",\"JetBlue Airways\",\"JetBlue Airways\",\"JetBlue Airways\",\"JetBlue Airways\",\"JetBlue Airways\",\"JetBlue Airways\",\"Mesa Airlines Inc.\",\"Mesa Airlines Inc.\",\"Mesa Airlines Inc.\",\"Mesa Airlines Inc.\",\"Mesa Airlines Inc.\",\"Mesa Airlines Inc.\",\"Mesa Airlines Inc.\",\"Mesa Airlines Inc.\",\"Mesa Airlines Inc.\",\"Mesa Airlines Inc.\",\"Mesa Airlines Inc.\",\"Mesa Airlines Inc.\",\"Mesa Airlines Inc.\",\"Mesa Airlines Inc.\",\"Mesa Airlines Inc.\",\"Mesa Airlines Inc.\",\"Mesa Airlines Inc.\",\"Mesa Airlines Inc.\",\"Mesa Airlines Inc.\",\"Mesa Airlines Inc.\",\"Mesa Airlines Inc.\",\"Mesa Airlines Inc.\",\"Mesa Airlines Inc.\",\"Mesa Airlines Inc.\",\"Mesa Airlines Inc.\",\"Mesa Airlines Inc.\",\"Mesa Airlines Inc.\",\"Mesa Airlines Inc.\",\"Mesa Airlines Inc.\",\"Mesa Airlines Inc.\",\"Mesa Airlines Inc.\",\"Mesa Airlines Inc.\",\"Mesa Airlines Inc.\",\"Mesa Airlines Inc.\",\"Mesa Airlines Inc.\",\"Mesa Airlines Inc.\",\"SkyWest Airlines Inc.\",\"SkyWest Airlines Inc.\",\"SkyWest Airlines Inc.\",\"SkyWest Airlines Inc.\",\"SkyWest Airlines Inc.\",\"SkyWest Airlines Inc.\",\"SkyWest Airlines Inc.\",\"SkyWest Airlines Inc.\",\"SkyWest Airlines Inc.\",\"SkyWest Airlines Inc.\",\"SkyWest Airlines Inc.\",\"SkyWest Airlines Inc.\",\"SkyWest Airlines Inc.\",\"SkyWest Airlines Inc.\",\"SkyWest Airlines Inc.\",\"SkyWest Airlines Inc.\",\"SkyWest Airlines Inc.\",\"SkyWest Airlines Inc.\",\"SkyWest Airlines Inc.\",\"SkyWest Airlines Inc.\",\"SkyWest Airlines Inc.\",\"SkyWest Airlines Inc.\",\"SkyWest Airlines Inc.\",\"SkyWest Airlines Inc.\",\"SkyWest Airlines Inc.\",\"SkyWest Airlines Inc.\",\"SkyWest Airlines Inc.\",\"SkyWest Airlines Inc.\",\"SkyWest Airlines Inc.\",\"SkyWest Airlines Inc.\",\"SkyWest Airlines Inc.\",\"SkyWest Airlines Inc.\",\"SkyWest Airlines Inc.\",\"SkyWest Airlines Inc.\",\"SkyWest Airlines Inc.\",\"SkyWest Airlines Inc.\",\"Southwest Airlines Co.\",\"Southwest Airlines Co.\",\"Southwest Airlines Co.\",\"Southwest Airlines Co.\",\"Southwest Airlines Co.\",\"Southwest Airlines Co.\",\"Southwest Airlines Co.\",\"Southwest Airlines Co.\",\"Southwest Airlines Co.\",\"Southwest Airlines Co.\",\"Southwest Airlines Co.\",\"Southwest Airlines Co.\",\"Southwest Airlines Co.\",\"Southwest Airlines Co.\",\"Southwest Airlines Co.\",\"Southwest Airlines Co.\",\"Southwest Airlines Co.\",\"Southwest Airlines Co.\",\"Southwest Airlines Co.\",\"Southwest Airlines Co.\",\"Southwest Airlines Co.\",\"Southwest Airlines Co.\",\"Southwest Airlines Co.\",\"Southwest Airlines Co.\",\"Southwest Airlines Co.\",\"Southwest Airlines Co.\",\"Southwest Airlines Co.\",\"Southwest Airlines Co.\",\"Southwest Airlines Co.\",\"Southwest Airlines Co.\",\"Southwest Airlines Co.\",\"Southwest Airlines Co.\",\"Southwest Airlines Co.\",\"Southwest Airlines Co.\",\"Southwest Airlines Co.\",\"Southwest Airlines Co.\",\"US Airways Inc.\",\"US Airways Inc.\",\"US Airways Inc.\",\"US Airways Inc.\",\"US Airways Inc.\",\"US Airways Inc.\",\"US Airways Inc.\",\"US Airways Inc.\",\"US Airways Inc.\",\"US Airways Inc.\",\"US Airways Inc.\",\"US Airways Inc.\",\"US Airways Inc.\",\"US Airways Inc.\",\"US Airways Inc.\",\"US Airways Inc.\",\"US Airways Inc.\",\"US Airways Inc.\",\"US Airways Inc.\",\"US Airways Inc.\",\"US Airways Inc.\",\"US Airways Inc.\",\"US Airways Inc.\",\"US Airways Inc.\",\"US Airways Inc.\",\"US Airways Inc.\",\"US Airways Inc.\",\"US Airways Inc.\",\"US Airways Inc.\",\"US Airways Inc.\",\"US Airways Inc.\",\"US Airways Inc.\",\"US Airways Inc.\",\"US Airways Inc.\",\"US Airways Inc.\",\"US Airways Inc.\",\"United Air Lines Inc.\",\"United Air Lines Inc.\",\"United Air Lines Inc.\",\"United Air Lines Inc.\",\"United Air Lines Inc.\",\"United Air Lines Inc.\",\"United Air Lines Inc.\",\"United Air Lines Inc.\",\"United Air Lines Inc.\",\"United Air Lines Inc.\",\"United Air Lines Inc.\",\"United Air Lines Inc.\",\"United Air Lines Inc.\",\"United Air Lines Inc.\",\"United Air Lines Inc.\",\"United Air Lines Inc.\",\"United Air Lines Inc.\",\"United Air Lines Inc.\",\"United Air Lines Inc.\",\"United Air Lines Inc.\",\"United Air Lines Inc.\",\"United Air Lines Inc.\",\"United Air Lines Inc.\",\"United Air Lines Inc.\",\"United Air Lines Inc.\",\"United Air Lines Inc.\",\"United Air Lines Inc.\",\"United Air Lines Inc.\",\"United Air Lines Inc.\",\"United Air Lines Inc.\",\"United Air Lines Inc.\",\"United Air Lines Inc.\",\"United Air Lines Inc.\",\"United Air Lines Inc.\",\"United Air Lines Inc.\",\"United Air Lines Inc.\",\"Virgin America\",\"Virgin America\",\"Virgin America\",\"Virgin America\",\"Virgin America\",\"Virgin America\",\"Virgin America\",\"Virgin America\",\"Virgin America\",\"Virgin America\",\"Virgin America\",\"Virgin America\",\"Virgin America\",\"Virgin America\",\"Virgin America\",\"Virgin America\",\"Virgin America\",\"Virgin America\",\"Virgin America\",\"Virgin America\",\"Virgin America\",\"Virgin America\",\"Virgin America\",\"Virgin America\",\"Virgin America\",\"Virgin America\",\"Virgin America\",\"Virgin America\",\"Virgin America\",\"Virgin America\",\"Virgin America\",\"Virgin America\",\"Virgin America\",\"Virgin America\",\"Virgin America\",\"Virgin America\"],\"proportion\":{\"__ndarray__\":\"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\",\"dtype\":\"float64\",\"shape\":[576]},\"right\":{\"__ndarray__\":\"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\",\"dtype\":\"float64\",\"shape\":[576]}},\"selected\":{\"id\":\"1487\",\"type\":\"Selection\"},\"selection_policy\":{\"id\":\"1488\",\"type\":\"UnionRenderers\"}},\"id\":\"1414\",\"type\":\"ColumnDataSource\"},{\"attributes\":{},\"id\":\"1456\",\"type\":\"BasicTickFormatter\"},{\"attributes\":{\"axis_label\":\"Delay (min)\",\"formatter\":{\"id\":\"1456\",\"type\":\"BasicTickFormatter\"},\"ticker\":{\"id\":\"1427\",\"type\":\"BasicTicker\"}},\"id\":\"1426\",\"type\":\"LinearAxis\"},{\"attributes\":{\"text\":\"Delays with 5 Minute Bin Width\"},\"id\":\"1416\",\"type\":\"Title\"},{\"attributes\":{\"bottom\":{\"value\":0},\"fill_alpha\":{\"value\":0.1},\"fill_color\":{\"value\":\"#1f77b4\"},\"left\":{\"field\":\"left\"},\"line_alpha\":{\"value\":0.1},\"line_color\":{\"value\":\"#1f77b4\"},\"right\":{\"field\":\"right\"},\"top\":{\"field\":\"proportion\"}},\"id\":\"1451\",\"type\":\"Quad\"},{\"attributes\":{\"overlay\":{\"id\":\"1460\",\"type\":\"BoxAnnotation\"}},\"id\":\"1438\",\"type\":\"BoxZoomTool\"},{\"attributes\":{\"bottom_units\":\"screen\",\"fill_alpha\":{\"value\":0.5},\"fill_color\":{\"value\":\"lightgrey\"},\"left_units\":\"screen\",\"level\":\"overlay\",\"line_alpha\":{\"value\":1.0},\"line_color\":{\"value\":\"black\"},\"line_dash\":[4,4],\"line_width\":{\"value\":2},\"render_mode\":\"css\",\"right_units\":\"screen\",\"top_units\":\"screen\"},\"id\":\"1460\",\"type\":\"BoxAnnotation\"},{\"attributes\":{\"dimension\":1,\"ticker\":{\"id\":\"1432\",\"type\":\"BasicTicker\"}},\"id\":\"1435\",\"type\":\"Grid\"},{\"attributes\":{\"source\":{\"id\":\"1414\",\"type\":\"ColumnDataSource\"}},\"id\":\"1454\",\"type\":\"CDSView\"},{\"attributes\":{\"items\":[{\"id\":\"1462\",\"type\":\"LegendItem\"}]},\"id\":\"1461\",\"type\":\"Legend\"},{\"attributes\":{},\"id\":\"1432\",\"type\":\"BasicTicker\"},{\"attributes\":{\"axis_label\":\"Proportion\",\"formatter\":{\"id\":\"1458\",\"type\":\"BasicTickFormatter\"},\"ticker\":{\"id\":\"1432\",\"type\":\"BasicTicker\"}},\"id\":\"1431\",\"type\":\"LinearAxis\"},{\"attributes\":{\"bottom\":{\"value\":0},\"fill_alpha\":{\"value\":0.7},\"fill_color\":{\"field\":\"color\"},\"left\":{\"field\":\"left\"},\"right\":{\"field\":\"right\"},\"top\":{\"field\":\"proportion\"}},\"id\":\"1450\",\"type\":\"Quad\"},{\"attributes\":{},\"id\":\"1487\",\"type\":\"Selection\"},{\"attributes\":{},\"id\":\"1439\",\"type\":\"SaveTool\"},{\"attributes\":{\"callback\":null,\"mode\":\"vline\",\"tooltips\":[[\"Carrier\",\"@name\"],[\"Delay\",\"@f_interval\"],[\"Proportion\",\"@f_proportion\"]]},\"id\":\"1463\",\"type\":\"HoverTool\"},{\"attributes\":{\"callback\":null,\"end\":180,\"start\":-60,\"step\":5,\"title\":\"Delay Range (min)\",\"value\":[-60,120]},\"id\":\"1543\",\"type\":\"RangeSlider\"},{\"attributes\":{\"data_source\":{\"id\":\"1414\",\"type\":\"ColumnDataSource\"},\"glyph\":{\"id\":\"1450\",\"type\":\"Quad\"},\"hover_glyph\":{\"id\":\"1452\",\"type\":\"Quad\"},\"muted_glyph\":null,\"nonselection_glyph\":{\"id\":\"1451\",\"type\":\"Quad\"},\"selection_glyph\":null,\"view\":{\"id\":\"1454\",\"type\":\"CDSView\"}},\"id\":\"1453\",\"type\":\"GlyphRenderer\"},{\"attributes\":{},\"id\":\"1458\",\"type\":\"BasicTickFormatter\"},{\"attributes\":{},\"id\":\"1422\",\"type\":\"LinearScale\"},{\"attributes\":{},\"id\":\"1488\",\"type\":\"UnionRenderers\"},{\"attributes\":{},\"id\":\"1436\",\"type\":\"PanTool\"},{\"attributes\":{\"bottom\":{\"value\":0},\"fill_color\":{\"field\":\"color\"},\"left\":{\"field\":\"left\"},\"line_color\":{\"value\":\"#1f77b4\"},\"right\":{\"field\":\"right\"},\"top\":{\"field\":\"proportion\"}},\"id\":\"1452\",\"type\":\"Quad\"},{\"attributes\":{\"callback\":null},\"id\":\"1420\",\"type\":\"DataRange1d\"},{\"attributes\":{},\"id\":\"1437\",\"type\":\"WheelZoomTool\"},{\"attributes\":{},\"id\":\"1440\",\"type\":\"ResetTool\"},{\"attributes\":{\"active\":[0,1],\"callback\":null,\"labels\":[\"United Air Lines Inc.\",\"American Airlines Inc.\",\"JetBlue Airways\",\"Delta Air Lines Inc.\",\"ExpressJet Airlines Inc.\",\"Envoy Air\",\"US Airways Inc.\",\"Southwest Airlines Co.\",\"Virgin America\",\"AirTran Airways Corporation\",\"Alaska Airlines Inc.\",\"Endeavor Air Inc.\",\"Frontier Airlines Inc.\",\"Hawaiian Airlines Inc.\",\"Mesa Airlines Inc.\",\"SkyWest Airlines Inc.\"]},\"id\":\"1541\",\"type\":\"CheckboxGroup\"},{\"attributes\":{\"label\":{\"field\":\"name\"},\"renderers\":[{\"id\":\"1453\",\"type\":\"GlyphRenderer\"}]},\"id\":\"1462\",\"type\":\"LegendItem\"},{\"attributes\":{\"children\":[{\"id\":\"1541\",\"type\":\"CheckboxGroup\"},{\"id\":\"1542\",\"type\":\"Slider\"},{\"id\":\"1543\",\"type\":\"RangeSlider\"}]},\"id\":\"1628\",\"type\":\"WidgetBox\"},{\"attributes\":{\"callback\":null},\"id\":\"1418\",\"type\":\"DataRange1d\"},{\"attributes\":{\"ticker\":{\"id\":\"1427\",\"type\":\"BasicTicker\"}},\"id\":\"1430\",\"type\":\"Grid\"},{\"attributes\":{},\"id\":\"1441\",\"type\":\"HelpTool\"},{\"attributes\":{},\"id\":\"1427\",\"type\":\"BasicTicker\"},{\"attributes\":{\"active_drag\":\"auto\",\"active_inspect\":\"auto\",\"active_multi\":null,\"active_scroll\":\"auto\",\"active_tap\":\"auto\",\"tools\":[{\"id\":\"1436\",\"type\":\"PanTool\"},{\"id\":\"1437\",\"type\":\"WheelZoomTool\"},{\"id\":\"1438\",\"type\":\"BoxZoomTool\"},{\"id\":\"1439\",\"type\":\"SaveTool\"},{\"id\":\"1440\",\"type\":\"ResetTool\"},{\"id\":\"1441\",\"type\":\"HelpTool\"},{\"id\":\"1463\",\"type\":\"HoverTool\"}]},\"id\":\"1442\",\"type\":\"Toolbar\"}],\"root_ids\":[\"1629\"]},\"title\":\"Bokeh Application\",\"version\":\"1.4.0\"}};\n",
       "  var render_items = [{\"docid\":\"86ac6703-f0f4-46a4-b498-7aaaaaa58688\",\"roots\":{\"1629\":\"528a6048-70a9-4807-8391-dc559eed12ab\"}}];\n",
       "  root.Bokeh.embed.embed_items_notebook(docs_json, render_items);\n",
       "\n",
       "  }\n",
       "  if (root.Bokeh !== undefined) {\n",
       "    embed_document(root);\n",
       "  } else {\n",
       "    var attempts = 0;\n",
       "    var timer = setInterval(function(root) {\n",
       "      if (root.Bokeh !== undefined) {\n",
       "        clearInterval(timer);\n",
       "        embed_document(root);\n",
       "      } else {\n",
       "        attempts++;\n",
       "        if (attempts > 100) {\n",
       "          clearInterval(timer);\n",
       "          console.log(\"Bokeh: ERROR: Unable to run BokehJS code because BokehJS library is missing\");\n",
       "        }\n",
       "      }\n",
       "    }, 10, root)\n",
       "  }\n",
       "})(window);"
      ],
      "application/vnd.bokehjs_exec.v0+json": ""
     },
     "metadata": {
      "application/vnd.bokehjs_exec.v0+json": {
       "id": "1629"
      }
     },
     "output_type": "display_data"
    }
   ],
   "source": [
    "# 需要一个独立的 bokeh server 才能实现python callback 的交互。否则只能用 js callback 实现交互\n",
    "show(layout)"
   ]
  },
  {
   "cell_type": "code",
   "execution_count": 27,
   "metadata": {},
   "outputs": [
    {
     "data": {
      "text/plain": [
       "('admit', 'gre', 'gpa', 'rank')"
      ]
     },
     "execution_count": 27,
     "metadata": {},
     "output_type": "execute_result"
    }
   ],
   "source": [
    "tuple(['admit', 'gre', 'gpa', 'rank'])"
   ]
  },
  {
   "cell_type": "code",
   "execution_count": null,
   "metadata": {},
   "outputs": [],
   "source": []
  }
 ],
 "metadata": {
  "kernelspec": {
   "display_name": "Python 3 (ipykernel)",
   "language": "python",
   "name": "python3"
  },
  "language_info": {
   "codemirror_mode": {
    "name": "ipython",
    "version": 3
   },
   "file_extension": ".py",
   "mimetype": "text/x-python",
   "name": "python",
   "nbconvert_exporter": "python",
   "pygments_lexer": "ipython3",
   "version": "3.8.9"
  }
 },
 "nbformat": 4,
 "nbformat_minor": 4
}
